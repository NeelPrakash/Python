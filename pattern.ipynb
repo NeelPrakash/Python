{
 "cells": [
  {
   "cell_type": "raw",
   "metadata": {},
   "source": [
    "pattern to be printed:\n",
    "1        1\n",
    "12      21\n",
    "123    321\n",
    "1234  4321\n",
    "1234554321"
   ]
  },
  {
   "cell_type": "code",
   "execution_count": 2,
   "metadata": {},
   "outputs": [
    {
     "name": "stdout",
     "output_type": "stream",
     "text": [
      "enter the length of your pattern4\n",
      "1      1\n",
      "12    21\n",
      "123  321\n",
      "12344321\n"
     ]
    }
   ],
   "source": [
    "N=int(input(\"enter the length of your pattern\"))\n",
    "rows=1\n",
    "i=2\n",
    "while rows<=N:\n",
    "    j=1\n",
    "    while j<=rows:\n",
    "        print(j,end=\"\")\n",
    "        j=j+1\n",
    "    space=2*N-i\n",
    "    while space!=0:\n",
    "        print(\" \",end=\"\")\n",
    "        space=space-1\n",
    "    j=rows\n",
    "    while j!=0:\n",
    "        print(j,end=\"\")\n",
    "        j=j-1\n",
    "    print()\n",
    "    i=i+2\n",
    "    rows=rows+1"
   ]
  },
  {
   "cell_type": "raw",
   "metadata": {},
   "source": [
    "pattern:\n",
    "(A) if starting point is 1          (b) if startin point is 2\n",
    "        1                                        2\n",
    "       212                                      323\n",
    "      32121                                    43234\n",
    "     4321234                                  5432345\n",
    "    543212345                                654323456 and so on."
   ]
  },
  {
   "cell_type": "raw",
   "metadata": {},
   "source": [
    "pattern:\n",
    "if n=4:     if n=3:        replace * with i and 0 with j and increase their value rowwise and columnwse by 1\n",
    "*000*000*   *00*00*        (i and j could be any integer) i=1,j=3\n",
    "0*00*00*0   0*0*0*0         1342563\n",
    "00*0*0*00   00***00         4253647\n",
    "000***000                   5656767\n"
   ]
  },
  {
   "cell_type": "code",
   "execution_count": 11,
   "metadata": {},
   "outputs": [
    {
     "name": "stdout",
     "output_type": "stream",
     "text": [
      "enter the length of your pattern15\n",
      "*00000000000000*00000000000000*\n",
      "0*0000000000000*0000000000000*0\n",
      "00*000000000000*000000000000*00\n",
      "000*00000000000*00000000000*000\n",
      "0000*0000000000*0000000000*0000\n",
      "00000*000000000*000000000*00000\n",
      "000000*00000000*00000000*000000\n",
      "0000000*0000000*0000000*0000000\n",
      "00000000*000000*000000*00000000\n",
      "000000000*00000*00000*000000000\n",
      "0000000000*0000*0000*0000000000\n",
      "00000000000*000*000*00000000000\n",
      "000000000000*00*00*000000000000\n",
      "0000000000000*0*0*0000000000000\n",
      "00000000000000***00000000000000\n",
      "enter te length of your pattern4\n",
      "i,j1,2\n",
      "123425673\n",
      "324536748\n",
      "453647589\n",
      "5674568910\n"
     ]
    }
   ],
   "source": [
    "# (a)\n",
    "N1=int(input(\"enter the length of your pattern\"))\n",
    "N2=2*N1+1\n",
    "row=1\n",
    "M=N2\n",
    "while row<=N1:\n",
    "    col=1\n",
    "    while col<=N2:\n",
    "        if row==col or col==N1+1 or col==M:\n",
    "            print(\"*\",end=\"\")\n",
    "        else:\n",
    "            print(\"0\",end=\"\")\n",
    "        col=col+1\n",
    "    print()\n",
    "    M=M-1\n",
    "    row=row+1\n",
    "    \n",
    "# printing the pattern in which * is replaced with i and 0 is replaced with j\n",
    "N1=int(input(\"enter te length of your pattern\"))\n",
    "i,j=input(\"i,j\").split(\",\")\n",
    "i,j=int(i),int(j)\n",
    "N2=2*N1+1\n",
    "row=1\n",
    "k,l=i,j\n",
    "p=1\n",
    "M=N2\n",
    "while row<=N1:\n",
    "    col=1\n",
    "    while col<=N2:\n",
    "        if row==col or col==N1+1 or col==M:\n",
    "            print(k,end=\"\")\n",
    "            k=k+1\n",
    "        else:\n",
    "            print(l,end=\"\")\n",
    "            l=l+1\n",
    "        col=col+1\n",
    "    print()\n",
    "    k=i+p\n",
    "    l=j+p\n",
    "    M=M-1\n",
    "    p=p+1\n",
    "    row=row+1\n",
    "        \n",
    "            \n"
   ]
  },
  {
   "cell_type": "raw",
   "metadata": {},
   "source": [
    "pattern:\n",
    "*\n",
    " **\n",
    "  ***\n",
    "   ****\n",
    "  ***\n",
    " **\n",
    "*"
   ]
  },
  {
   "cell_type": "code",
   "execution_count": 15,
   "metadata": {},
   "outputs": [
    {
     "name": "stdout",
     "output_type": "stream",
     "text": [
      "enter the length of your pattern15\n",
      "* \n",
      " * * \n",
      "  * * * \n",
      "   * * * * \n",
      "    * * * * * \n",
      "     * * * * * * \n",
      "      * * * * * * * \n",
      "       * * * * * * * * \n",
      "      * * * * * * * \n",
      "     * * * * * * \n",
      "    * * * * * \n",
      "   * * * * \n",
      "  * * * \n",
      " * * \n",
      "* \n"
     ]
    }
   ],
   "source": [
    "N=int(input(\"enter the length of your pattern\"))\n",
    "n1=(N+1)/2\n",
    "n2=N-n1\n",
    "row=1\n",
    "while row<=n1:\n",
    "    space=row-1\n",
    "    while space!=0:\n",
    "        print(\" \",end=\"\")\n",
    "        space=space-1\n",
    "    star=1\n",
    "    while star<=row:\n",
    "        print(\"*\",end=\" \")\n",
    "        star=star+1\n",
    "    print()\n",
    "    row=row+1\n",
    "rows=1\n",
    "j=0\n",
    "while rows<=n2:\n",
    "    space=n2-rows\n",
    "    while space!=0:\n",
    "        print(\" \",end=\"\")\n",
    "        space=space-1\n",
    "    star=n2-j\n",
    "    while star!=0:\n",
    "        print(\"*\",end=\" \")\n",
    "        star=star-1\n",
    "    print()\n",
    "    j=j+1\n",
    "    rows=rows+1"
   ]
  },
  {
   "cell_type": "code",
   "execution_count": 19,
   "metadata": {},
   "outputs": [
    {
     "name": "stdout",
     "output_type": "stream",
     "text": [
      "4\n",
      "5\n"
     ]
    }
   ],
   "source": [
    "N=int(input())\n",
    "if N==1 or N==2:\n",
    "    print(1)\n",
    "else:\n",
    "    fibo_no=(N-1)+(N-2)\n",
    "    print(fibo_no)"
   ]
  }
 ],
 "metadata": {
  "kernelspec": {
   "display_name": "Python 3",
   "language": "python",
   "name": "python3"
  },
  "language_info": {
   "codemirror_mode": {
    "name": "ipython",
    "version": 3
   },
   "file_extension": ".py",
   "mimetype": "text/x-python",
   "name": "python",
   "nbconvert_exporter": "python",
   "pygments_lexer": "ipython3",
   "version": "3.7.4"
  }
 },
 "nbformat": 4,
 "nbformat_minor": 2
}
