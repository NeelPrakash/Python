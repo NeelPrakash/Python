{
 "cells": [
  {
   "cell_type": "markdown",
   "metadata": {},
   "source": [
    "###### linear and binary search"
   ]
  },
  {
   "cell_type": "code",
   "execution_count": null,
   "metadata": {},
   "outputs": [],
   "source": [
    "# linear search\n",
    "def Linear_Search(li,ele):\n",
    "    indexes=[]\n",
    "    for i in range(len(li)):\n",
    "        if li[i]==ele:\n",
    "            indexes.append(i)\n",
    "    return indexes\n",
    "list=[int(x) for x in input(\"enter a lsit \").split()]\n",
    "ele=int(input())\n",
    "index=Linear_Search(list,ele)\n",
    "for i in index:\n",
    "    print(i,end=\" \")"
   ]
  },
  {
   "cell_type": "code",
   "execution_count": null,
   "metadata": {},
   "outputs": [],
   "source": [
    "# binary search\n",
    "def linear_in_binary_search(li,div,indexes):\n",
    "    #nonlocal indexes\n",
    "    print(indexes.sort())\n",
    "    for i in range(div+1,len(li)-1):\n",
    "        if li[i]==ele:\n",
    "            indexes.append(i)\n",
    "        else:\n",
    "            break\n",
    "    for j in range(div-1,-1,-1):\n",
    "        if li[j]==ele:\n",
    "            indexes.append(i)\n",
    "        else:\n",
    "            break\n",
    "    print(indexes.sort())\n",
    "    return indexes.sort()\n",
    "\n",
    "def Binary_Search(li,ele):\n",
    "    start,end,indexes=0,len(li)-1,[]\n",
    "    li=sorted(li)\n",
    "    while start<=end:\n",
    "        mid=(start+end)//2\n",
    "        if li[mid]==ele:\n",
    "            indexes.append(mid)\n",
    "#             print(indexes)\n",
    "            indexes=linear_in_binary_search(li,mid,indexes)\n",
    "            return indexes,li\n",
    "        elif li[mid]<ele:\n",
    "            start=mid+1\n",
    "        else:\n",
    "            end=mid-1\n",
    "    else:\n",
    "        print(ele,\"is not present in the list\")\n",
    "\n",
    "list=[int(x) for x in input(\"enter a list \").split()]\n",
    "ele=int(input(\"enter the element to be searched in the given list: \"))\n",
    "index,li=Binary_Search(list,ele)\n",
    "#print(index)\n",
    "for i in index:\n",
    "    print(i,end=\" \")\n"
   ]
  },
  {
   "cell_type": "code",
   "execution_count": null,
   "metadata": {},
   "outputs": [],
   "source": [
    "# binary search? doubt\n",
    "def linear_in_binary_search(li,div,indexes):\n",
    "    #nonlocal indexes : here we got an error because the varible x is only present inside the binary search function we can use the nonlocal keyword only when we define lnear search function inside the binarysearch function\n",
    "    print(indexes.sort())\n",
    "    for i in range(div+1,len(li)-1):\n",
    "        if li[i]==ele:\n",
    "            indexes.append(i)\n",
    "        else:\n",
    "            break\n",
    "    for j in range(div-1,-1,-1):\n",
    "        if li[j]==ele:\n",
    "            indexes.append(i)\n",
    "        else:\n",
    "            break\n",
    "   # print(indexes.sort())\n",
    "    return indexes.sort()\n",
    "\n",
    "def Binary_Search(li,ele):\n",
    "    start,end,indexes=0,len(li)-1,[]\n",
    "    li=sorted(li)\n",
    "    while start<=end:\n",
    "        mid=(start+end)//2\n",
    "        if li[mid]==ele:\n",
    "            indexes.append(mid)\n",
    "           # print(indexes)\n",
    "            indexes=linear_in_binary_search(li,mid,indexes)\n",
    "            return indexes,li\n",
    "        elif li[mid]<ele:\n",
    "            start=mid+1\n",
    "        else:\n",
    "            end=mid-1\n",
    "    else:\n",
    "        print(ele,\"is not present in the list\")\n",
    "\n",
    "list=[int(x) for x in input(\"enter a list \").split()]\n",
    "ele=int(input(\"enter the element to be searched in the given list: \"))\n",
    "index,li=Binary_Search(list,ele)\n",
    "print(li)\n",
    "for i in index:\n",
    "    print(i,end=\" \")"
   ]
  },
  {
   "cell_type": "code",
   "execution_count": null,
   "metadata": {},
   "outputs": [],
   "source": []
  },
  {
   "cell_type": "code",
   "execution_count": null,
   "metadata": {},
   "outputs": [],
   "source": [
    "list=[int(x) for x in input(\"enter a list \").split()]\n",
    "list=sorted(list)\n",
    "print(\"sorted list\",list)\n",
    "ele=int(input(\"enter the element to be searched \"))\n",
    "start,end,index=0,len(list)-1,[]\n",
    "while start<=end:\n",
    "    mid=(start+end)//2\n",
    "    if list[mid]==ele:\n",
    "        index.append(mid)\n",
    "        for i in range(mid+1,len(list)):\n",
    "            if list[i]==ele:\n",
    "                index.append(i)\n",
    "            else:\n",
    "                break\n",
    "        for j in range(mid-1,-1,-1):\n",
    "            if list[j]==ele:\n",
    "                index.append(j)\n",
    "            else:\n",
    "                break\n",
    "        break\n",
    "    elif list[mid]<ele:\n",
    "        start=mid+1\n",
    "    else:\n",
    "        end=mid-1\n",
    "else:\n",
    "    print(ele,\"is not found\")\n",
    "index=sorted(index)\n",
    "for k in index:\n",
    "    print(k,end=\" \")"
   ]
  },
  {
   "cell_type": "code",
   "execution_count": null,
   "metadata": {},
   "outputs": [],
   "source": [
    "def sel_sort(li,start_in=0,end_in=len(list),reverse=False):\n",
    "    for i in range(start_in,end_in-1):\n",
    "        for j in range(i+1,end_in):\n",
    "            if reverse==False:\n",
    "                if li[i]>li[j]:\n",
    "                    li[i],li[j]=li[j],li[i]\n",
    "            else:\n",
    "                 if li[i]<li[j]:\n",
    "                    li[i],li[j]=li[j],li[i]\n",
    "    return li\n",
    "list=[int(x) for x in input(\"enter a list \").split()]\n",
    "start_in=int(input(\"enter the start index \"))\n",
    "end_in=int(input(\"enter the end index \"))\n",
    "print(sel_sort(start_in,end_in,list))\n"
   ]
  },
  {
   "cell_type": "code",
   "execution_count": null,
   "metadata": {},
   "outputs": [],
   "source": [
    "def sel_sort(li,x=0):\n",
    "    for i in range(len(li)-1):\n",
    "        for j in range(i+1,len(li)):\n",
    "            if li[i]>li[j]:\n",
    "                li[i],li[j]=li[j],li[i]\n",
    "    return li\n",
    "list=[int(x) for x in input(\"enter a list\").split()]\n",
    "print(sel_sort(list,int(input())))"
   ]
  },
  {
   "cell_type": "code",
   "execution_count": 1,
   "metadata": {},
   "outputs": [
    {
     "ename": "TypeError",
     "evalue": "'NoneType' object cannot be interpreted as an integer",
     "output_type": "error",
     "traceback": [
      "\u001b[1;31m---------------------------------------------------------------------------\u001b[0m",
      "\u001b[1;31mTypeError\u001b[0m                                 Traceback (most recent call last)",
      "\u001b[1;32m<ipython-input-1-462714d34fac>\u001b[0m in \u001b[0;36m<module>\u001b[1;34m\u001b[0m\n\u001b[1;32m----> 1\u001b[1;33m \u001b[1;32mfor\u001b[0m \u001b[0mi\u001b[0m \u001b[1;32min\u001b[0m \u001b[0mrange\u001b[0m\u001b[1;33m(\u001b[0m\u001b[1;32mNone\u001b[0m\u001b[1;33m)\u001b[0m\u001b[1;33m:\u001b[0m\u001b[1;33m\u001b[0m\u001b[1;33m\u001b[0m\u001b[0m\n\u001b[0m\u001b[0;32m      2\u001b[0m     \u001b[0mprint\u001b[0m\u001b[1;33m(\u001b[0m\u001b[1;34m\"hello\"\u001b[0m\u001b[1;33m)\u001b[0m\u001b[1;33m\u001b[0m\u001b[1;33m\u001b[0m\u001b[0m\n",
      "\u001b[1;31mTypeError\u001b[0m: 'NoneType' object cannot be interpreted as an integer"
     ]
    }
   ],
   "source": [
    "for i in range(None):\n",
    "    print(\"hello\")"
   ]
  },
  {
   "cell_type": "markdown",
   "metadata": {},
   "source": [
    "# selection sort"
   ]
  },
  {
   "cell_type": "code",
   "execution_count": null,
   "metadata": {},
   "outputs": [],
   "source": [
    "def sort(li,start_in=0,end_in=len(list),reverse=False): # here we will got an error in first line saying that  object of type 'type' has no len()\n",
    "    # the reason behing this is if we are using a variable as default parameter in a function then its need to be exist before the funnction defination \n",
    "    # we cant here apply the concept that the variable has to be defined before the function call\n",
    "    for i in range(end_in-1):\n",
    "        for j in range(i+1,end_in):\n",
    "            if reverse:\n",
    "                if li[i]<li[j]:\n",
    "                    li[i],li[j]=li[j],li[i]\n",
    "            else:\n",
    "                if li[i]>li[j]:\n",
    "                    li[i],li[j]=li[j],li[i]\n",
    "        \n",
    "    return li\n",
    "list=[int(x) for x in input().split()]\n",
    "start_in=int(input())\n",
    "end_in=int(input())\n",
    "print(sort(list,start_in,end_in))\n",
    "# hence the correct piece of code is:"
   ]
  },
  {
   "cell_type": "code",
   "execution_count": null,
   "metadata": {},
   "outputs": [],
   "source": [
    "list=[int(x) for x in input(\"enter a list\").split()]\n",
    "def sort(li,start_in=0,end_in=len(list),reverse=False):\n",
    "    for i in range(end_in-1):\n",
    "        for j in range(i+1,end_in):\n",
    "            if reverse:\n",
    "                if li[i]<li[j]:\n",
    "                    li[i],li[j]=li[j],li[i]\n",
    "            else:\n",
    "                if li[i]>li[j]:\n",
    "                    li[i],li[j]=li[j],li[i]\n",
    "        \n",
    "    return li\n",
    "start_in=int(input(\"enter the start index \"))\n",
    "end_in=int(input(\"enter the end index \"))\n",
    "print(sort(list,start_in,end_in))"
   ]
  },
  {
   "cell_type": "code",
   "execution_count": null,
   "metadata": {},
   "outputs": [],
   "source": [
    "# selection sort with another approach\n",
    "list=[int(x) for x in input(\"enter a list\").split()]\n",
    "def sel_sort1(li,start_in=0,end_in=len(list),reverse=False):\n",
    "    initial_index=0\n",
    "    for i in range(end_in-1):\n",
    "        for j in range(i+1,end_in):\n",
    "            if li[i]>li[j]:\n",
    "                initial_index=j\n",
    "        li[i],li[initial_index]=li[initial_index],li[i]\n",
    "    return li\n",
    "start_in=int(input(\"enter start index \"))\n",
    "end_in=int(input(\"enter end index i.e end=end+1\"))\n",
    "print(sel_sort1(list,start_in,end_in))\n",
    "                "
   ]
  },
  {
   "cell_type": "markdown",
   "metadata": {},
   "source": [
    "bubble sort"
   ]
  },
  {
   "cell_type": "code",
   "execution_count": 8,
   "metadata": {},
   "outputs": [
    {
     "name": "stdout",
     "output_type": "stream",
     "text": [
      "5 4 3 2 1\n",
      "loop_count 4 [4, 3, 2, 1]\n",
      "[1, 2, 3, 4, 5]\n"
     ]
    }
   ],
   "source": [
    "def bubble_sort(li):\n",
    "    length=len(li)\n",
    "#     loop_count=0\n",
    "#     li1=[]\n",
    "    while length>1:\n",
    "#         loop_count+=1\n",
    "#         inner_loop_count=0\n",
    "        for i in range(length-1):\n",
    "#             inner_loop_count+=1\n",
    "            j=i+1\n",
    "            if li[i]>li[j]:\n",
    "                li[i],li[j]=li[j],li[i]\n",
    "#         li1.append(inner_loop_count)\n",
    "        length=length-1\n",
    "#     print(\"loop_count\",loop_count,li1)\n",
    "    return li\n",
    "list=[int(x) for x in input().split()]\n",
    "print(bubble_sort(list))"
   ]
  },
  {
   "cell_type": "markdown",
   "metadata": {},
   "source": [
    "insertion sort"
   ]
  },
  {
   "cell_type": "code",
   "execution_count": 7,
   "metadata": {},
   "outputs": [
    {
     "name": "stdout",
     "output_type": "stream",
     "text": [
      "enter a list 0 3 2 4 5 1 6 \n",
      "[0, 1, 2, 3, 4, 5, 6]\n"
     ]
    }
   ],
   "source": [
    "def insertion_sort(li):\n",
    "    sorted=[li[0]]\n",
    "    for i in range(1,len(li)):\n",
    "        in_sorted=len(sorted)-1\n",
    "        while in_sorted>=0:\n",
    "            if sorted[in_sorted]<li[i]:\n",
    "                sorted.insert(in_sorted+1,li[i])\n",
    "                in_Sorted=in_sorted-1\n",
    "                break\n",
    "            in_sorted=in_sorted-1\n",
    "        else:\n",
    "            sorted[0]=list[i]\n",
    "    return sorted\n",
    "list=[int(x) for x in input(\"enter a list \").split()]\n",
    "sorted_list=insertion_sort(list)\n",
    "print(sorted_list)"
   ]
  },
  {
   "cell_type": "markdown",
   "metadata": {},
   "source": [
    "correct approach (insertion sort)"
   ]
  },
  {
   "cell_type": "code",
   "execution_count": 13,
   "metadata": {},
   "outputs": [
    {
     "name": "stdout",
     "output_type": "stream",
     "text": [
      "3 2 1\n",
      "[2, 3, 1]\n",
      "[1, 2, 3]\n",
      "[1, 2, 3]\n"
     ]
    }
   ],
   "source": [
    "def insertion_sort1(li):\n",
    "    for i in range(1,len(li)):\n",
    "        ele=li[i]\n",
    "        j=i-1\n",
    "        while j>=0 and li[j]>ele:\n",
    "            li[j+1]=li[j]\n",
    "            j=j-1\n",
    "        else:\n",
    "            li[j+1]=ele\n",
    "    return li\n",
    "list=[int(x) for x in input().split()]\n",
    "sorted_list=insertion_sort1(list)\n",
    "print(sorted_list)"
   ]
  },
  {
   "cell_type": "code",
   "execution_count": null,
   "metadata": {},
   "outputs": [],
   "source": [
    "def func(indexes):\n",
    "    print(indexes)\n",
    "def check():\n",
    "    indexes=[1]\n",
    "    func(indexes)\n",
    "check()"
   ]
  },
  {
   "cell_type": "markdown",
   "metadata": {},
   "source": [
    "Note: in python assingments operators and comparsion operators are of non associative type means smple associatiity rules are not applicable here i.e\n",
    "x<y<z is neither equal to (x<y)<z or x<(y<z). it is equal to x<y and x<z\n",
    "simpilary x=y=z is correct statement but x=y+=z shows an error\n"
   ]
  },
  {
   "cell_type": "markdown",
   "metadata": {},
   "source": [
    "Merging the sorted arrays"
   ]
  },
  {
   "cell_type": "code",
   "execution_count": 41,
   "metadata": {},
   "outputs": [
    {
     "name": "stdout",
     "output_type": "stream",
     "text": [
      "1 3 4 7 11\n",
      "2 4 6 13\n",
      "[1, 2, 3, 4, 4, 6, 7, 11, 13]\n"
     ]
    }
   ],
   "source": [
    "def merge(li1,li2=[]):\n",
    "    i,j,merged_list=0,0,[]\n",
    "    while i<len(li1) and j<len(li2):\n",
    "        if li1[i]<li2[j]:\n",
    "            merged_list.append(li1[i])\n",
    "            i=i+1\n",
    "        else:\n",
    "            merged_list.append(li2[j])\n",
    "            j=j+1\n",
    "    else:\n",
    "        if (i<len(li1))==False:\n",
    "# since comparision operators are of non assocative type hence i<len(li1)==False is note same as i<len(li1)==False\n",
    "            for k in range(j,len(li2)):\n",
    "                merged_list.append(li2[k])\n",
    "        else:\n",
    "            for k in range(i,len(li1)):\n",
    "                merged_list.append(li1[k])\n",
    "    return merged_list\n",
    "list1=[int(x) for x in input().split()]\n",
    "list2=[int(x) for x in input().split()]\n",
    "merged=merge(list1,list2)\n",
    "print(merged)\n",
    "         "
   ]
  },
  {
   "cell_type": "markdown",
   "metadata": {},
   "source": [
    "moving all zeros towards the end, respective order of the elements remains the same"
   ]
  },
  {
   "cell_type": "code",
   "execution_count": 55,
   "metadata": {},
   "outputs": [
    {
     "name": "stdout",
     "output_type": "stream",
     "text": [
      "enter a list0 3 2 1 5 0 4 3 8 2 2 5 1 1 5\n",
      "enter the element5\n",
      "[0, 3, 2, 1, 0, 4, 3, 8, 2, 2, 1, 1, 5, 5, 5]\n"
     ]
    },
    {
     "data": {
      "text/plain": [
       "'0 3 2 1 5 0 4 3 8 2 2 5 1 1 5'"
      ]
     },
     "execution_count": 55,
     "metadata": {},
     "output_type": "execute_result"
    }
   ],
   "source": [
    "def move_towards_end(li,ele):\n",
    "    length=len(li)-1\n",
    "    index=0\n",
    "    while index<=length:\n",
    "        if li[index]==ele:\n",
    "            for j in range(index,length):\n",
    "                li[j]=li[j+1]\n",
    "            index=index-1\n",
    "            li[length]=ele\n",
    "            length=length-1\n",
    "        index=index+1\n",
    "    return li\n",
    "list=[int(x) for x in input(\"enter a list\").split()]\n",
    "ele=int(input(\"enter the element\"))\n",
    "new_list=move_towards_end(list,ele)\n",
    "print(new_list)\n",
    "\"\"\"0 3 2 1 5 0 4 3 8 2 2 5 1 1 5\"\"\""
   ]
  },
  {
   "cell_type": "code",
   "execution_count": 71,
   "metadata": {},
   "outputs": [
    {
     "name": "stdout",
     "output_type": "stream",
     "text": [
      "0 1 2 0 1 0\n",
      "0\n",
      "[1, 2, 1, 0, 0, 0]\n",
      "0 1 2 0 1 0\n",
      "0\n",
      "[1, 2, 1, 0, 0, 0]\n",
      "[1, 2, 1, 0, 0, 0]\n"
     ]
    }
   ],
   "source": [
    "# a simple apporach to achieve the same task\n",
    "def move_towards_end1(li,ele):\n",
    "    temp=[]\n",
    "    for i in range(len(li)):\n",
    "        if li[i]!=ele:\n",
    "            temp.append(li[i])\n",
    "    while len(temp)<len(li):\n",
    "        temp.append(ele)\n",
    "    return temp\n",
    "list=[int(x) for x in input().split()]\n",
    "ele=int(input())\n",
    "new_list=move_towards_end1(list,ele)\n",
    "print(new_list)\n",
    "# we can also do the ssame task without the need of a temporary array temp as:\n",
    "def move_towards_end2(li,ele):\n",
    "    k=0\n",
    "    for i in range(len(li)):\n",
    "        if li[i]!=ele:\n",
    "            li[k],li[i]=li[i],li[k]\n",
    "            k=k+1\n",
    "    return li\n",
    "list1=[int(x) for x in input().split()]\n",
    "ele1=int(input())\n",
    "new_list1=move_towards_end2(list1,ele1)\n",
    "print(new_list1)\n",
    "print(list1)"
   ]
  },
  {
   "cell_type": "code",
   "execution_count": 64,
   "metadata": {},
   "outputs": [
    {
     "name": "stdout",
     "output_type": "stream",
     "text": [
      "0 1 2 0 1\n",
      "0\n",
      "3\n",
      "[1, 2, 1, 0, 0]\n"
     ]
    }
   ],
   "source": [
    "li=[int(x) for x in input().split()]\n",
    "ele=int(input())\n",
    "temp=[]\n",
    "print(k)\n",
    "for i in range(len(li)):\n",
    "    if li[i]!=ele:\n",
    "        temp.append(li[i])\n",
    "        k=k+1\n",
    "while len(temp)<len(li):\n",
    "    temp.append(ele)\n",
    "print(temp)"
   ]
  },
  {
   "cell_type": "code",
   "execution_count": 62,
   "metadata": {},
   "outputs": [
    {
     "ename": "IndexError",
     "evalue": "list assignment index out of range",
     "output_type": "error",
     "traceback": [
      "\u001b[1;31m---------------------------------------------------------------------------\u001b[0m",
      "\u001b[1;31mIndexError\u001b[0m                                Traceback (most recent call last)",
      "\u001b[1;32m<ipython-input-62-54d28f011cc7>\u001b[0m in \u001b[0;36m<module>\u001b[1;34m\u001b[0m\n\u001b[0;32m      1\u001b[0m \u001b[0mtemp\u001b[0m\u001b[1;33m=\u001b[0m\u001b[1;33m[\u001b[0m\u001b[1;33m]\u001b[0m\u001b[1;33m\u001b[0m\u001b[1;33m\u001b[0m\u001b[0m\n\u001b[1;32m----> 2\u001b[1;33m \u001b[0mtemp\u001b[0m\u001b[1;33m[\u001b[0m\u001b[1;36m0\u001b[0m\u001b[1;33m]\u001b[0m\u001b[1;33m=\u001b[0m\u001b[1;36m1\u001b[0m\u001b[1;33m\u001b[0m\u001b[1;33m\u001b[0m\u001b[0m\n\u001b[0m",
      "\u001b[1;31mIndexError\u001b[0m: list assignment index out of range"
     ]
    }
   ],
   "source": [
    "temp=[]\n",
    "temp[0]=1"
   ]
  },
  {
   "cell_type": "markdown",
   "metadata": {},
   "source": [
    "shifting the elements of the list"
   ]
  },
  {
   "cell_type": "code",
   "execution_count": 55,
   "metadata": {},
   "outputs": [
    {
     "name": "stdout",
     "output_type": "stream",
     "text": [
      "1 2 3 4 5\n",
      "1\n",
      "0\n",
      "[2, 3, 4, 5, 0]\n"
     ]
    }
   ],
   "source": [
    "# shift left\n",
    "def shift_left(li,N,ele):\n",
    "    k=0\n",
    "    for i in range(N,len(li)):\n",
    "        li[k]=li[i] \n",
    "        k=k+1\n",
    "    for j in range(k,len(li)):\n",
    "        li[j]=ele\n",
    "        \n",
    "list=[int(x) for x in input().split()]\n",
    "N=int(input())\n",
    "ele=int(input())\n",
    "shift_left(list,N,ele)\n",
    "print(list)"
   ]
  },
  {
   "cell_type": "code",
   "execution_count": 63,
   "metadata": {},
   "outputs": [
    {
     "name": "stdout",
     "output_type": "stream",
     "text": [
      "1 2 3 4 5\n",
      "5\n",
      "0\n",
      "[0, 0, 0, 0, 0]\n"
     ]
    }
   ],
   "source": [
    "def shift_right(li,N,ele):\n",
    "    for i in range(len(li)-1,N-1,-1):\n",
    "        li[i]=li[i-N]\n",
    "    for j in range(N):\n",
    "        li[j]=ele\n",
    "\n",
    "list=[int(x) for x in input().split()]\n",
    "N=int(input())\n",
    "ele=int(input())\n",
    "shift_right(list,N,ele)\n",
    "print(list)"
   ]
  },
  {
   "cell_type": "code",
   "execution_count": 26,
   "metadata": {},
   "outputs": [
    {
     "name": "stdout",
     "output_type": "stream",
     "text": [
      "1 2 3 4 5\n",
      "2\n",
      "0\n",
      "[3, 4, 5, 0, 0]\n",
      "[0, 0, 3, 4, 5]\n"
     ]
    }
   ],
   "source": [
    "# another approach\n",
    "# shift left\n",
    "def shift_left(li,N,ele):\n",
    "    k=0\n",
    "    for i in range(N,len(li)):\n",
    "        li[k]=li[i] \n",
    "        k=k+1\n",
    "    for j in range(k,len(li)):\n",
    "        li[j]=ele\n",
    "        \n",
    "def shift_right(li,N,ele):\n",
    "    for i in range(len(li)-1,N-1,-1):\n",
    "        li[i]=li[i-N]\n",
    "    while i-1>=0:\n",
    "        li[i-1]=ele\n",
    "        i=i-1\n",
    "    return li\n",
    "list=[int(x) for x in input().split()]\n",
    "N=int(input())\n",
    "ele=int(input())\n",
    "left_shift=shift_left(list,N,ele)\n",
    "print(left_shift)\n",
    "# since lists are of mutable type hence the shift_right function is workng over [3,4,5,0,0] not upon [1,2,3,4,5]\n",
    "right_shift=shift_right(list,N,ele)\n",
    "print(right_shift)"
   ]
  },
  {
   "cell_type": "code",
   "execution_count": 29,
   "metadata": {},
   "outputs": [
    {
     "name": "stdout",
     "output_type": "stream",
     "text": [
      "1 2 3 4 5\n",
      "10\n",
      "[1, 2, 3, 4, 5]\n"
     ]
    }
   ],
   "source": [
    "def rotate_left(li,N):\n",
    "    if N>len(li):\n",
    "        N=N-len(li)\n",
    "    M1,N1,temp=0,0,[]\n",
    "    for i in range(N):\n",
    "        temp.append(li[i])\n",
    "    for j in range(N,len(li)):\n",
    "        li[M1]=li[j]\n",
    "        M1=M1+1\n",
    "    for k in range(M1,len(li)):\n",
    "        li[k]=temp[N1]\n",
    "        N1=N1+1\n",
    "list=[int(x) for x in input().split()]\n",
    "N=int(input())\n",
    "rotate_left(list,N)\n",
    "print(list)"
   ]
  },
  {
   "cell_type": "code",
   "execution_count": 68,
   "metadata": {},
   "outputs": [
    {
     "name": "stdout",
     "output_type": "stream",
     "text": [
      "1 2 3 4 5\n",
      "6\n",
      "[5, 1, 2, 3, 4]\n"
     ]
    }
   ],
   "source": [
    "def rotate_right(li,N):\n",
    "    if N>len(li):\n",
    "        N=N-len(li)\n",
    "    p,temp=0,[]\n",
    "    for i in range(len(li)-1,len(li)-N-1,-1):\n",
    "        temp.append(li[i])\n",
    "    for j in range(len(li)-1,N-1,-1):\n",
    "        li[j]=li[j-N]\n",
    "    for k in range(N-1,-1,-1):\n",
    "        li[k]=temp[p]\n",
    "        p=p+1\n",
    "\n",
    "list=[int(x) for x in input().split()]\n",
    "N=int(input())\n",
    "rotate_right(list,N)\n",
    "print(list)"
   ]
  },
  {
   "cell_type": "markdown",
   "metadata": {},
   "source": [
    " nth largest"
   ]
  },
  {
   "cell_type": "code",
   "execution_count": 87,
   "metadata": {},
   "outputs": [
    {
     "name": "stdout",
     "output_type": "stream",
     "text": [
      "1 2 2 3 4 4 5\n",
      "4\n"
     ]
    },
    {
     "ename": "UnboundLocalError",
     "evalue": "local variable 'unique' referenced before assignment",
     "output_type": "error",
     "traceback": [
      "\u001b[1;31m---------------------------------------------------------------------------\u001b[0m",
      "\u001b[1;31mUnboundLocalError\u001b[0m                         Traceback (most recent call last)",
      "\u001b[1;32m<ipython-input-87-766e278f0ebe>\u001b[0m in \u001b[0;36m<module>\u001b[1;34m\u001b[0m\n\u001b[0;32m     20\u001b[0m \u001b[0mlist\u001b[0m\u001b[1;33m=\u001b[0m\u001b[1;33m[\u001b[0m\u001b[0mint\u001b[0m\u001b[1;33m(\u001b[0m\u001b[0mx\u001b[0m\u001b[1;33m)\u001b[0m \u001b[1;32mfor\u001b[0m \u001b[0mx\u001b[0m \u001b[1;32min\u001b[0m \u001b[0minput\u001b[0m\u001b[1;33m(\u001b[0m\u001b[1;33m)\u001b[0m\u001b[1;33m.\u001b[0m\u001b[0msplit\u001b[0m\u001b[1;33m(\u001b[0m\u001b[1;33m)\u001b[0m\u001b[1;33m]\u001b[0m\u001b[1;33m\u001b[0m\u001b[1;33m\u001b[0m\u001b[0m\n\u001b[0;32m     21\u001b[0m \u001b[0mN\u001b[0m\u001b[1;33m=\u001b[0m\u001b[0mint\u001b[0m\u001b[1;33m(\u001b[0m\u001b[0minput\u001b[0m\u001b[1;33m(\u001b[0m\u001b[1;33m)\u001b[0m\u001b[1;33m)\u001b[0m\u001b[1;33m\u001b[0m\u001b[1;33m\u001b[0m\u001b[0m\n\u001b[1;32m---> 22\u001b[1;33m \u001b[0mNth_largest\u001b[0m\u001b[1;33m(\u001b[0m\u001b[0mlist\u001b[0m\u001b[1;33m,\u001b[0m\u001b[0mN\u001b[0m\u001b[1;33m)\u001b[0m\u001b[1;33m\u001b[0m\u001b[1;33m\u001b[0m\u001b[0m\n\u001b[0m",
      "\u001b[1;32m<ipython-input-87-766e278f0ebe>\u001b[0m in \u001b[0;36mNth_largest\u001b[1;34m(li, N)\u001b[0m\n\u001b[0;32m     15\u001b[0m \u001b[1;32mdef\u001b[0m \u001b[0mNth_largest\u001b[0m\u001b[1;33m(\u001b[0m\u001b[0mli\u001b[0m\u001b[1;33m,\u001b[0m\u001b[0mN\u001b[0m\u001b[1;33m)\u001b[0m\u001b[1;33m:\u001b[0m\u001b[1;33m\u001b[0m\u001b[1;33m\u001b[0m\u001b[0m\n\u001b[0;32m     16\u001b[0m     \u001b[0mDesend_bubble_sort\u001b[0m\u001b[1;33m(\u001b[0m\u001b[0mli\u001b[0m\u001b[1;33m)\u001b[0m\u001b[1;33m\u001b[0m\u001b[1;33m\u001b[0m\u001b[0m\n\u001b[1;32m---> 17\u001b[1;33m     \u001b[0munique\u001b[0m\u001b[1;33m=\u001b[0m\u001b[0munique\u001b[0m\u001b[1;33m(\u001b[0m\u001b[0mli\u001b[0m\u001b[1;33m)\u001b[0m\u001b[1;33m\u001b[0m\u001b[1;33m\u001b[0m\u001b[0m\n\u001b[0m\u001b[0;32m     18\u001b[0m     \u001b[1;32mreturn\u001b[0m \u001b[0munique\u001b[0m\u001b[1;33m[\u001b[0m\u001b[0mN\u001b[0m\u001b[1;33m-\u001b[0m\u001b[1;36m1\u001b[0m\u001b[1;33m]\u001b[0m\u001b[1;33m\u001b[0m\u001b[1;33m\u001b[0m\u001b[0m\n\u001b[0;32m     19\u001b[0m \u001b[1;33m\u001b[0m\u001b[0m\n",
      "\u001b[1;31mUnboundLocalError\u001b[0m: local variable 'unique' referenced before assignment"
     ]
    }
   ],
   "source": [
    "def Desend_bubble_sort(li):\n",
    "    length=len(li)\n",
    "    while length>1:\n",
    "        for i in range(length-1):\n",
    "            if li[i]<li[i+1]:\n",
    "                li[i],li[i+1]=li[i+1],li[i]\n",
    "        length=length-1\n",
    "def unique(li):\n",
    "    unique_list=[]\n",
    "    for i in range(len(li)-1):\n",
    "        if li[i]!=li[i+1]:\n",
    "            unique_list.append(li[i])\n",
    "    unique_list.append(li[i+1])\n",
    "    return unique_list\n",
    "def Nth_largest(li,N):\n",
    "    Desend_bubble_sort(li)\n",
    "#     unique=unique(li) here we will got an error because the function and variable name cant be same in python\n",
    "    unique1=unique(li)\n",
    "    return unique1[N-1]\n",
    "\n",
    "list=[int(x) for x in input().split()]\n",
    "N=int(input())\n",
    "Nth_largest(list,N)"
   ]
  },
  {
   "cell_type": "code",
   "execution_count": 89,
   "metadata": {},
   "outputs": [
    {
     "name": "stdout",
     "output_type": "stream",
     "text": [
      "5\n",
      "10\n"
     ]
    }
   ],
   "source": [
    "def func():\n",
    "    a=5     # this a is different from the a which s defined in the check function\n",
    "    print(a)\n",
    "def check():\n",
    "    a=10\n",
    "    print(a)\n",
    "func()\n",
    "check()\n"
   ]
  },
  {
   "cell_type": "raw",
   "metadata": {},
   "source": [
    "def second_largest(li):\n",
    "    for i in range(len(li)-1):\n",
    "        largest=li[i]\n",
    "        if largest>li[i+1]:\n",
    "            largest=li[i]\n",
    "            second_largest=li[i+1]\n",
    "        else:\n",
    "            largest=li[i+1]\n",
    "            second_largest=li[i]\n",
    "    return second_largest\n",
    "\n",
    "list=[int(x) for x in input().split()]\n",
    "second_largest(list)\n",
    "\"\"\"1 3 2 5 4 1 2 0 5 6 3 0 2 1 4 2 3 5\"\"\""
   ]
  },
  {
   "cell_type": "markdown",
   "metadata": {},
   "source": [
    "array rotation"
   ]
  },
  {
   "cell_type": "code",
   "execution_count": null,
   "metadata": {},
   "outputs": [],
   "source": [
    "def sorted(li):\n",
    "    length=len(li)-1\n",
    "    work_list=[]\n",
    "    for i in range(len(li)):\n",
    "        work_list.append(li[i])\n",
    "    while length>0:\n",
    "        for i in range(length):\n",
    "            if work_list[i]>work_list[i+1]:\n",
    "                work_list[i],work_list[i+1]=work_list[i+1],work_list[i]\n",
    "        length=length-1\n",
    "    return work_list\n",
    "\n",
    "def rotate(li):\n",
    "    N1,first_ele=0,li[0]\n",
    "    for i in range(1,len(li)):\n",
    "        li[N1]=li[i]\n",
    "        N1=N1+1\n",
    "    li[N1]=first_ele\n",
    "\n",
    "def rotation_count(li):\n",
    "    count=0\n",
    "    work_list=sorted(li)\n",
    "    while li!=work_list:\n",
    "        rotate(work_list)\n",
    "        count=count+1\n",
    "    return count\n",
    "\n",
    "list=[int(x) for x in input().split()]\n",
    "rotation_count(list)\n",
    "        "
   ]
  },
  {
   "cell_type": "code",
   "execution_count": 9,
   "metadata": {},
   "outputs": [
    {
     "name": "stdout",
     "output_type": "stream",
     "text": [
      "446 107 111 209 383 431 257 313 423 498 415 93 145 457 92 171 300 248 192 6 410 55 356 334 145 307 115 500 254 118 7 32 421 292 410 77 116 498 224 61 239 394 290 189 228 322 475 497 164 300 257 338 449 296 356 195 163 234 496 289 372 408 262 366 384 314 225 7 233 35 28 182 95 85 471 62 240 124 363 453 223 157 370 373 88 206 465 60 69 79 244 283 51 159 375 456 395 120 271 94 151 235 229 159 214 322 267 285 40 1 203 299 209 282 147 304 365 479 62 402 379 243 323 421 484 369 358 208 90 218 370 248 62 405 445 467 363 471 456 195 164 463 92 262 343 339 127 210 115 227 123 41 23 456 182 303 11 291 118 172 416 117 488 486 386 233 336 439 1 106 220 346 177 313 170 48 395 447 118 149 236 60 21 320 311 185 2 452 291 163 157 378 8 388 393 345 342 174 217 257 57 221 209 72 151 190 139 500 362 49 167 393 68 284 445 412 15 166 78 187 89 71 410 294 181 347 436 416 145 466 291 66 331 78 237 183 273 246 404 360 281 412 158 271 407 227 456 247 92 53 318 140 193 428 196 413 48 368 465 12 330 268 18 217 18 172 89 286 70 433 342 172 155 251 35 148 138 195 158 62 15 203 371 375 458 83 300 462 269 317 354 448 199 426 96 131 358 321 468 223 266 430 197 305 14 476 142 23 498 47 496 85 237 79 382 157 470 55 179 234 415 117 163 463 395 361 75 292 418 390 54 145 257 185 97 92 97 67 200 255 459 393 183 334 284 277 368 323 340 389 289 50 468 431 422 249 96 82 92 360 485 124 199 205 220 87 193 111 157 73 402 412 239 427 248 47 464 187 219 294 117 141 48 342 436 474 40 120 344 327 236 413 96 123 239 375 340 260 435 78 394 233 131 247 439 372 210 234 206 267 325 205 333 484 408 364 101 447 338 294 487 326 33 312 191 431 435 391 160 485 457 368 15 228 311 300 298 62 379 355 26 451 334 162 166 443 66 25 387 103 209 310 254 192 56 194 382 253 37 323 68 243 102 163 410 51 374 119 84 142 279 125 113 175 22 119 236 249 295 350 356 426 400 66 454 431 166 85 362 299 475 265 394 389 58 227 466 8 359 113 103 392 196 444 42 39 301 393 17 327 394 63 325 449 421 475 297 87 371 142 425 249 173 160 142 444 134 296 493 342 131 27 331 182 355 442 113 79 343 286 381 401 275 295 114 185 80 262 342 2 312 19 119 349 490 238 345 18 146 107 287 477 231 40 177 49 218 168 318 177 334 348 265 227 166 424 413 192 141 369 70 206 378 356 22 123 284 87 40 352 440 41 306 398 340 492 370 396 409 384 421 86 353 256 461 452 440 29 278 254 105 497 82 431 439 397 142 219 104 348 376 494 30 397 483 145 384 234 463 319 262 500 180 92 370 319 31 95 73 476 249 199 125 265 421 252 211 229 445 376 500 33 343 87 374 286 154 439 250 104 476 60 495 123 181 285 377 112 354 156 222 129 98 327 33 2 22 348 242 150 3 17 468 467 122 298 257 158 117 428 130 23 151 85 13 237 302 471 141 229 287 352 434 183 194 477 3 156 281 394 22 156 272 462 14 360 69 355 318 444 312 62 499 225 339 282 327 7 302 199 78 169 457 467 473 123 2 211 332 333 256 74 223 61 492 275 343 500 316 222 187 330 133 93 207 104 10 290 108 204 33 415 259 337 183 345 280 312 200 125 352 460 487 221 57 233 212 230 171 70 499 397 258 153 354 196 198 191 387 451 359 261 281 242 35 180 10 489 48 194 424 287 459 70 447 78 267 465 444 402 172 93 115 324 76 428 189 219 362 253 211 383 214 452 225 386 291 442 381 300 431 135 139 293 277 221 113 192 236 462 436 386 37 3 500 447 362 485 478 55 1 17 118 189 363 192 31 167 321 42 424 430 374 378 130 458 437 23 163 425 222 457 72 136 166 333 432 376 151 252 485 144 428 24 159 275 101 468 61 168 334 85 375 271 70 131 129 125 488 313 300 93 226 453 400 438 482 41 361 183 60 144 338 91 188 98 427 309 4 390 213 22 80 491 113 56 38 274 50 102 432 433 198 231 473 88 286 498 373 450 263 323 187 88 85 420 402 453 321 292 225 373 384 313 100 253 328 97 328 193 366 221 380 146 79 485 28 127 181 159 255 316 117 179 120 \n",
      "largest and second largest elements are  500 and 500 respectively\n"
     ]
    }
   ],
   "source": [
    "# second largest\n",
    "def Second_largest(li):\n",
    "    largest,s_largest,status=-5,-5,True\n",
    "    for i in range(1,len(li)):\n",
    "        if li[i]>largest:\n",
    "            status=False\n",
    "            s_largest=largest\n",
    "            largest=li[i]\n",
    "        elif li[i]>s_largest:\n",
    "            s_largest=li[i]\n",
    "    if status:\n",
    "        print(\"all elements of the given list are same\")\n",
    "    return largest,s_largest\n",
    "\n",
    "list=[int(x) for x in input().split()]\n",
    "largest,second_largest=Second_largest(list)\n",
    "print(\"largest and second largest elements are \",largest,\"and\",second_largest,\"respectively\")"
   ]
  },
  {
   "cell_type": "markdown",
   "metadata": {},
   "source": [
    "check array rotation"
   ]
  },
  {
   "cell_type": "code",
   "execution_count": 4,
   "metadata": {},
   "outputs": [
    {
     "name": "stdout",
     "output_type": "stream",
     "text": [
      "4 5 1 2 3\n",
      "2\n"
     ]
    }
   ],
   "source": [
    "def c_rotation_count(list):\n",
    "    s_index=0\n",
    "    for i in range(1,len(list)):\n",
    "        if list[s_index]>list[i]:\n",
    "            s_index=i\n",
    "    r_count=s_index\n",
    "    return s_index\n",
    "list=[int(x) for x in input().split()]\n",
    "r_count=c_rotation_count(list)\n",
    "print(r_count)"
   ]
  },
  {
   "cell_type": "code",
   "execution_count": 5,
   "metadata": {},
   "outputs": [
    {
     "name": "stdout",
     "output_type": "stream",
     "text": [
      "4 5 1 2 3\n",
      "3\n"
     ]
    }
   ],
   "source": [
    "def a_rotation_count(list):\n",
    "    s_index=0\n",
    "    for i in range(1,len(list)):\n",
    "        if list[s_index]>list[i]:\n",
    "            s_index=i\n",
    "    r_count=len(list)-s_index\n",
    "    return r_count\n",
    "list=[int(x) for x in input().split()]\n",
    "r_count=a_rotation_count(list)\n",
    "print(r_count)"
   ]
  },
  {
   "cell_type": "markdown",
   "metadata": {},
   "source": [
    "sort 012"
   ]
  },
  {
   "cell_type": "code",
   "execution_count": 9,
   "metadata": {},
   "outputs": [
    {
     "name": "stdout",
     "output_type": "stream",
     "text": [
      "0 1 2 0 2 0 1\n",
      "[0, 0, 0, 1, 1, 2, 2]\n",
      "Wall time: 6.66 s\n"
     ]
    }
   ],
   "source": [
    "%%time\n",
    "def sort012(list):\n",
    "    k=1\n",
    "    for i in range(len(list)-1):\n",
    "        for j in range(len(list)-k):\n",
    "            if list[j]>list[j+1]:\n",
    "                list[j],list[j+1]=list[j+1],list[j]\n",
    "        k=k+1\n",
    "list=[int(x) for x in input().split()]\n",
    "sort012(list)\n",
    "print(list)"
   ]
  },
  {
   "cell_type": "code",
   "execution_count": 11,
   "metadata": {},
   "outputs": [
    {
     "data": {
      "text/plain": [
       "1"
      ]
     },
     "execution_count": 11,
     "metadata": {},
     "output_type": "execute_result"
    }
   ],
   "source": [
    "sum=[]\n",
    "sum.append(12)\n",
    "len(sum)\n"
   ]
  },
  {
   "cell_type": "code",
   "execution_count": 22,
   "metadata": {},
   "outputs": [
    {
     "name": "stdout",
     "output_type": "stream",
     "text": [
      "6 2 4\n",
      "7 5 6\n",
      "[1, 3, 8, 0]\n"
     ]
    }
   ],
   "source": [
    "def E_size_array(list1,list2):\n",
    "    if len(list1)!=len(list2):\n",
    "        if len(list1)>len(list2):\n",
    "            l_list=list1\n",
    "            s_list=list2\n",
    "        else:\n",
    "            l_list=list2\n",
    "            s_list=list1\n",
    "        for i in range(0,len(l_list)-len(s_list)):\n",
    "            s_list.insert(0,0)\n",
    "    else:\n",
    "        pass\n",
    "def i_digit(d_sum):\n",
    "    count,i_digit_array=0,[]\n",
    "    while d_sum!=0:\n",
    "        i_digit_array.append(d_sum%10)\n",
    "        d_sum=d_sum//10\n",
    "        count+=1\n",
    "    if count<=1:\n",
    "        i_digit_array.append(0)\n",
    "    return i_digit_array\n",
    "def s_t_array(list1,list2):\n",
    "    carry,d_sum,f_sum=0,0,[]\n",
    "    for i in range(len(list1)-1,-1,-1):\n",
    "        d_sum=list1[i]+list2[i]+carry\n",
    "        I_digit=i_digit(d_sum)\n",
    "        f_sum.append(I_digit[0])\n",
    "        carry=I_digit[1]\n",
    "    f_sum=f_sum[::-1]\n",
    "    if carry==0:\n",
    "        f_sum.insert(0,0)\n",
    "    else:\n",
    "        f_sum.insert(0,carry)\n",
    "    return f_sum\n",
    "list1=[int(x) for x in input().split()]\n",
    "list2=[int(x) for x in input().split()]\n",
    "E_size_array(list1,list2)\n",
    "f_sum=s_t_array(list1,list2)\n",
    "print(f_sum)\n"
   ]
  },
  {
   "cell_type": "code",
   "execution_count": 12,
   "metadata": {},
   "outputs": [
    {
     "name": "stdout",
     "output_type": "stream",
     "text": [
      "8 5 2\n",
      "1 9\n",
      "[8, 5, 2] [0, 1, 9]\n"
     ]
    }
   ],
   "source": [
    "def E_size_array(list1,list2):\n",
    "    if len(list1)!=len(list2):\n",
    "        if len(list1)>len(list2):\n",
    "            l_list=list1\n",
    "            s_list=list2\n",
    "        else:\n",
    "            l_list=list2\n",
    "            s_list=list1\n",
    "        for i in range(0,len(l_list)-len(s_list)):\n",
    "            s_list.insert(0,0)\n",
    "    else:\n",
    "        pass\n",
    "\n",
    "list1=[int(x) for x in input().split()]\n",
    "list2=[int(x) for x in input().split()]\n",
    "E_size_array(list1,list2)\n",
    "print(list1,list2)"
   ]
  },
  {
   "cell_type": "code",
   "execution_count": 15,
   "metadata": {},
   "outputs": [
    {
     "name": "stdout",
     "output_type": "stream",
     "text": [
      "157\n",
      "[7, 5, 1]\n"
     ]
    }
   ],
   "source": [
    "def i_digit(d_sum):\n",
    "    count,i_digit_array=0,[]\n",
    "    while d_sum!=0:\n",
    "        i_digit_array.append(d_sum%10)\n",
    "        d_sum=d_sum//10\n",
    "        count+=1\n",
    "    if count<=1:\n",
    "        i_digit_array.append(0)\n",
    "    return i_digit_array\n",
    "t_sum=int(input())\n",
    "digit_array=i_digit(t_sum)\n",
    "print(digit_array)"
   ]
  },
  {
   "cell_type": "code",
   "execution_count": 1,
   "metadata": {},
   "outputs": [
    {
     "name": "stdout",
     "output_type": "stream",
     "text": [
      "5\n",
      "1\n",
      "1 2\n",
      "1 2 3\n",
      "1 2\n",
      "1\n",
      "1 3 6 3 1\n"
     ]
    }
   ],
   "source": [
    "def row_wise_sum(t_list):\n",
    "    R_sum=[]\n",
    "    for row in li:\n",
    "        I_R_sum=0\n",
    "        for ele in row:\n",
    "            I_R_sum=I_R_sum+ele\n",
    "        R_sum.append(I_R_sum)\n",
    "    return R_sum\n",
    "n=int(input())\n",
    "li=[[int(j) for j in input().split()] for i in range(n)]\n",
    "row_sum=row_wise_sum(li)\n",
    "print(*row_sum)"
   ]
  }
 ],
 "metadata": {
  "kernelspec": {
   "display_name": "Python 3",
   "language": "python",
   "name": "python3"
  },
  "language_info": {
   "codemirror_mode": {
    "name": "ipython",
    "version": 3
   },
   "file_extension": ".py",
   "mimetype": "text/x-python",
   "name": "python",
   "nbconvert_exporter": "python",
   "pygments_lexer": "ipython3",
   "version": "3.7.4"
  }
 },
 "nbformat": 4,
 "nbformat_minor": 2
}
