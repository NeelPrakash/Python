{
 "cells": [
  {
   "cell_type": "code",
   "execution_count": 2,
   "metadata": {},
   "outputs": [
    {
     "name": "stdout",
     "output_type": "stream",
     "text": [
      "['a', 'a', 'am', 'boy', 'i', 'i', 'the', 'the']\n"
     ]
    }
   ],
   "source": [
    "li=[\"the\",\"i\",\"am\",\"a\",\"the\",\"i\",\"boy\",\"a\"]\n",
    "li.sort()\n",
    "print(li)"
   ]
  },
  {
   "cell_type": "code",
   "execution_count": 2,
   "metadata": {},
   "outputs": [
    {
     "name": "stdout",
     "output_type": "stream",
     "text": [
      "{'i': 1, 'am': 2, 'a': 5, 'boy': 4}\n",
      "1\n",
      "a\n",
      "5\n",
      "i\n",
      "1\n",
      "am\n",
      "2\n",
      "a\n",
      "5\n",
      "boy\n",
      "4\n",
      "saf\n"
     ]
    },
    {
     "ename": "KeyError",
     "evalue": "'saf'",
     "output_type": "error",
     "traceback": [
      "\u001b[1;31m---------------------------------------------------------------------------\u001b[0m",
      "\u001b[1;31mKeyError\u001b[0m                                  Traceback (most recent call last)",
      "\u001b[1;32m<ipython-input-2-aeafb3ca9410>\u001b[0m in \u001b[0;36m<module>\u001b[1;34m\u001b[0m\n\u001b[0;32m      4\u001b[0m \u001b[1;32mwhile\u001b[0m \u001b[0mdic\u001b[0m\u001b[1;33m!=\u001b[0m\u001b[1;36m0\u001b[0m\u001b[1;33m:\u001b[0m\u001b[1;33m\u001b[0m\u001b[1;33m\u001b[0m\u001b[0m\n\u001b[0;32m      5\u001b[0m     \u001b[0mkey\u001b[0m\u001b[1;33m=\u001b[0m\u001b[0minput\u001b[0m\u001b[1;33m(\u001b[0m\u001b[1;33m)\u001b[0m\u001b[1;33m\u001b[0m\u001b[1;33m\u001b[0m\u001b[0m\n\u001b[1;32m----> 6\u001b[1;33m     \u001b[0mprint\u001b[0m\u001b[1;33m(\u001b[0m\u001b[0mdic\u001b[0m\u001b[1;33m[\u001b[0m\u001b[0mkey\u001b[0m\u001b[1;33m]\u001b[0m\u001b[1;33m)\u001b[0m\u001b[1;33m\u001b[0m\u001b[1;33m\u001b[0m\u001b[0m\n\u001b[0m",
      "\u001b[1;31mKeyError\u001b[0m: 'saf'"
     ]
    }
   ],
   "source": [
    "dic={\"i\":1,\"am\":2,\"a\":3,\"boy\":4,\"a\":5}\n",
    "print(dic)\n",
    "print(dic[\"i\"])\n",
    "while dic!=0:\n",
    "    key=input()\n",
    "    print(dic[key])"
   ]
  },
  {
   "cell_type": "code",
   "execution_count": 7,
   "metadata": {},
   "outputs": [
    {
     "name": "stdout",
     "output_type": "stream",
     "text": [
      "2\n"
     ]
    }
   ],
   "source": [
    "dic1={1:2}\n",
    "print(dic1[1])"
   ]
  },
  {
   "cell_type": "code",
   "execution_count": 17,
   "metadata": {},
   "outputs": [
    {
     "ename": "SyntaxError",
     "evalue": "invalid syntax (<ipython-input-17-c192ac8c6fc2>, line 3)",
     "output_type": "error",
     "traceback": [
      "\u001b[1;36m  File \u001b[1;32m\"<ipython-input-17-c192ac8c6fc2>\"\u001b[1;36m, line \u001b[1;32m3\u001b[0m\n\u001b[1;33m    dic3={2+3j:5,6}\u001b[0m\n\u001b[1;37m                  ^\u001b[0m\n\u001b[1;31mSyntaxError\u001b[0m\u001b[1;31m:\u001b[0m invalid syntax\n"
     ]
    }
   ],
   "source": [
    "dic2={True:False}\n",
    "print(dic2[True])\n",
    "dic3={2+3j:5}\n",
    "print(dic3[2+3j])\n",
    "li=[1,2,3,4]\n",
    "dic4={li:5}\n"
   ]
  },
  {
   "cell_type": "code",
   "execution_count": 13,
   "metadata": {},
   "outputs": [
    {
     "name": "stdout",
     "output_type": "stream",
     "text": [
      "{}\n",
      "{1: 'i', 2: 'am', 3: 'a', 4: 'boy'}\n",
      "{'hello': 1, '': 3, 2: 'x', True: False, (2+3j): 'ram'}\n",
      "1 x False ram 3\n"
     ]
    }
   ],
   "source": [
    "# test\n",
    "dic={}\n",
    "print(dic)\n",
    "# dic.append(1)\n",
    "dic1={1:\"i\",2:\"am\",3:\"a\",4:\"boy\"}\n",
    "print(dic1)\n",
    "dic2={\"hello\":1,\"\":3,2:\"x\",True:False,2+3j:\"ram\"}\n",
    "print(dic2)\n",
    "print(dic2[\"hello\"],dic2[2],dic2[True],dic2[2+3j],dic2[\"\"])"
   ]
  },
  {
   "cell_type": "code",
   "execution_count": 30,
   "metadata": {},
   "outputs": [
    {
     "ename": "NameError",
     "evalue": "name 'helo' is not defined",
     "output_type": "error",
     "traceback": [
      "\u001b[1;31m---------------------------------------------------------------------------\u001b[0m",
      "\u001b[1;31mNameError\u001b[0m                                 Traceback (most recent call last)",
      "\u001b[1;32m<ipython-input-30-b733b0f8b7e0>\u001b[0m in \u001b[0;36m<module>\u001b[1;34m\u001b[0m\n\u001b[1;32m----> 1\u001b[1;33m \u001b[0mx\u001b[0m\u001b[1;33m=\u001b[0m\u001b[0mdict\u001b[0m\u001b[1;33m(\u001b[0m\u001b[1;33m{\u001b[0m\u001b[0mhelo\u001b[0m\u001b[1;33m:\u001b[0m\u001b[1;36m2\u001b[0m\u001b[1;33m,\u001b[0m\u001b[1;36m3\u001b[0m\u001b[1;33m:\u001b[0m\u001b[1;36m4\u001b[0m\u001b[1;33m,\u001b[0m\u001b[1;36m5\u001b[0m\u001b[1;33m:\u001b[0m\u001b[1;36m6\u001b[0m\u001b[1;33m}\u001b[0m\u001b[1;33m)\u001b[0m\u001b[1;33m\u001b[0m\u001b[1;33m\u001b[0m\u001b[0m\n\u001b[0m\u001b[0;32m      2\u001b[0m \u001b[1;31m# x=dict({1:2,3,5:6}) # this statement will produce an syntax error\u001b[0m\u001b[1;33m\u001b[0m\u001b[1;33m\u001b[0m\u001b[1;33m\u001b[0m\u001b[0m\n\u001b[0;32m      3\u001b[0m \u001b[0mprint\u001b[0m\u001b[1;33m(\u001b[0m\u001b[0mx\u001b[0m\u001b[1;33m)\u001b[0m\u001b[1;33m\u001b[0m\u001b[1;33m\u001b[0m\u001b[0m\n\u001b[0;32m      4\u001b[0m \u001b[1;31m# y=dict([(1:2),(3:4),(5:6),(7:8)])\u001b[0m\u001b[1;33m\u001b[0m\u001b[1;33m\u001b[0m\u001b[1;33m\u001b[0m\u001b[0m\n\u001b[0;32m      5\u001b[0m \u001b[0mz\u001b[0m\u001b[1;33m=\u001b[0m\u001b[0mdict\u001b[0m\u001b[1;33m(\u001b[0m\u001b[1;33m(\u001b[0m\u001b[1;33m{\u001b[0m\u001b[1;36m1\u001b[0m\u001b[1;33m,\u001b[0m\u001b[1;36m2\u001b[0m\u001b[1;33m}\u001b[0m\u001b[1;33m,\u001b[0m\u001b[1;33m[\u001b[0m\u001b[1;36m3\u001b[0m\u001b[1;33m,\u001b[0m\u001b[1;36m4\u001b[0m\u001b[1;33m]\u001b[0m\u001b[1;33m,\u001b[0m\u001b[1;33m[\u001b[0m\u001b[1;36m4\u001b[0m\u001b[1;33m,\u001b[0m\u001b[1;36m5\u001b[0m\u001b[1;33m]\u001b[0m\u001b[1;33m,\u001b[0m\u001b[1;33m[\u001b[0m\u001b[1;36m6\u001b[0m\u001b[1;33m,\u001b[0m\u001b[1;36m7\u001b[0m\u001b[1;33m]\u001b[0m\u001b[1;33m)\u001b[0m\u001b[1;33m)\u001b[0m\u001b[1;33m\u001b[0m\u001b[1;33m\u001b[0m\u001b[0m\n",
      "\u001b[1;31mNameError\u001b[0m: name 'helo' is not defined"
     ]
    }
   ],
   "source": [
    "x=dict({1:2,3:4,5:6})\n",
    "# x=dict({1:2,3,5:6}) # this statement will produce an syntax error\n",
    "print(x)\n",
    "# y=dict([(1:2),(3:4),(5:6),(7:8)])\n",
    "z=dict(({1,2},[3,4],[4,5],[6,7]))\n",
    "print(z)\n",
    "z[1]=0\n",
    "print(z)\n",
    "# p={[1:2,3:4,5:6,7:8]}\n",
    "# p={(1:2,3:4,5:6,7:8)}\n",
    "print(p)"
   ]
  },
  {
   "cell_type": "code",
   "execution_count": 27,
   "metadata": {},
   "outputs": [
    {
     "name": "stdout",
     "output_type": "stream",
     "text": [
      "{1: 2, 3: 4, 5: 6, 7: 8, 9: 10}\n",
      "{1: 2, 3: 4, 5: 6, 7: 8, 9: 10, 'ram': 'hello'}\n"
     ]
    }
   ],
   "source": [
    "# li=[1,2,3,4]\n",
    "# li[4]=5\n",
    "dic={1:2,3:4,5:6,7:8,9:10}\n",
    "print(dic)\n",
    "# appending elements into a dictionary\n",
    "# elements can be appended into a list directly just by assigning a new value at a new key, which is not possible in case of list\n",
    "dic[\"ram\"]=\"hello\"\n",
    "print(dic)"
   ]
  },
  {
   "cell_type": "code",
   "execution_count": 44,
   "metadata": {},
   "outputs": [
    {
     "name": "stdout",
     "output_type": "stream",
     "text": [
      "{'r': 'x', '_y': 'z'}\n",
      "{1: 2, 3: 4, 5: 6, 7: 8}\n",
      "{1: 2, 3: 4, 5: 6, 7: 8}\n",
      "{1: 2, 3: 4, 5: 6, 7: 8}\n",
      "{1: 2, 3: 4, 5: 6, 7: 8}\n",
      "{1: 2, 3: 4, 5: 6, 8: 7}\n",
      "[{1, 2}, {3, 4}, {5, 6}, {8, 7}]\n"
     ]
    }
   ],
   "source": [
    "dic=dict(r=\"x\",_y=\"z\")\n",
    "print(dic)\n",
    "# note: whenever passing an iterable as the argument to a dict function then only one iterable can be passed to it\n",
    "# dic1=dict({1,2},{4,5},{6,7})\n",
    "# print(dic1)\n",
    "dic2=dict([[1,2],[3,4],[5,6],[7,8]])\n",
    "dic3=dict(((1,2),(3,4),(5,6),(7,8)))\n",
    "dic4=dict(([1,2],[3,4],[5,6],[7,8]))\n",
    "dic5=dict([(1,2),(3,4),(5,6),(7,8)])\n",
    "dic6=dict([{1,2},{3,4},{5,6},{7,8}])\n",
    "# dic7=dict({[1,2],[3,4],[5,6],[7,8]}) # here python interpreter understand that user wants to create a dictionary with the help of mapping hence it produces an error\n",
    "print(dic2)\n",
    "print(dic3)\n",
    "print(dic4)\n",
    "print(dic5)\n",
    "print(dic6)\n",
    "j=[{1,2},{3,4},{5,6},{7,8}]\n",
    "print(j)\n",
    "# print(dic7)"
   ]
  },
  {
   "cell_type": "code",
   "execution_count": 53,
   "metadata": {},
   "outputs": [
    {
     "name": "stdout",
     "output_type": "stream",
     "text": [
      "[1, 2, 3, 4]\n",
      "[]\n",
      "{1: 2, 3: 4, 5: 6, 7: 8}\n",
      "{}\n"
     ]
    },
    {
     "ename": "AttributeError",
     "evalue": "'complex' object has no attribute 'clear'",
     "output_type": "error",
     "traceback": [
      "\u001b[1;31m---------------------------------------------------------------------------\u001b[0m",
      "\u001b[1;31mAttributeError\u001b[0m                            Traceback (most recent call last)",
      "\u001b[1;32m<ipython-input-53-501be999810e>\u001b[0m in \u001b[0;36m<module>\u001b[1;34m\u001b[0m\n\u001b[0;32m      8\u001b[0m \u001b[0mprint\u001b[0m\u001b[1;33m(\u001b[0m\u001b[0my\u001b[0m\u001b[1;33m)\u001b[0m\u001b[1;33m\u001b[0m\u001b[1;33m\u001b[0m\u001b[0m\n\u001b[0;32m      9\u001b[0m \u001b[0mz\u001b[0m\u001b[1;33m=\u001b[0m\u001b[1;36m2\u001b[0m\u001b[1;33m+\u001b[0m\u001b[1;36m3j\u001b[0m\u001b[1;33m\u001b[0m\u001b[1;33m\u001b[0m\u001b[0m\n\u001b[1;32m---> 10\u001b[1;33m \u001b[0mz\u001b[0m\u001b[1;33m.\u001b[0m\u001b[0mclear\u001b[0m\u001b[1;33m(\u001b[0m\u001b[1;33m)\u001b[0m\u001b[1;33m\u001b[0m\u001b[1;33m\u001b[0m\u001b[0m\n\u001b[0m\u001b[0;32m     11\u001b[0m \u001b[0mprint\u001b[0m\u001b[1;33m(\u001b[0m\u001b[0mz\u001b[0m\u001b[1;33m)\u001b[0m\u001b[1;33m\u001b[0m\u001b[1;33m\u001b[0m\u001b[0m\n",
      "\u001b[1;31mAttributeError\u001b[0m: 'complex' object has no attribute 'clear'"
     ]
    }
   ],
   "source": [
    "x=[1,2,3,4]\n",
    "print(x)\n",
    "x.clear()\n",
    "print(x)\n",
    "y={1:2,3:4,5:6,7:8}\n",
    "print(y)\n",
    "y.clear()\n",
    "print(y)\n",
    "z=2+3j\n",
    "z.clear()\n",
    "print(z)"
   ]
  },
  {
   "cell_type": "code",
   "execution_count": 63,
   "metadata": {},
   "outputs": [
    {
     "name": "stdout",
     "output_type": "stream",
     "text": [
      "2\n",
      "{3: 4, 5: 6, 7: 8}\n",
      "['hello', 'sorry']\n",
      "{'hello', 'sorry'}\n",
      "hello\n",
      "('hello', 'sorry') {3: 4, 5: 6, 7: 8}\n"
     ]
    }
   ],
   "source": [
    "x={1:2,3:4,5:6,7:8}\n",
    "z=x.pop(1)\n",
    "print(z)\n",
    "print(x)\n",
    "z1=x.pop(8,[\"hello\",\"sorry\"])\n",
    "print(z1)\n",
    "z1=x.pop(8,{\"hello\",\"sorry\"})\n",
    "print(z1)\n",
    "z1=x.pop(8,\"hello\")\n",
    "print(z1)\n",
    "z1=x.pop(8,(\"hello\",\"sorry\"))\n",
    "print(z1,x)"
   ]
  },
  {
   "cell_type": "code",
   "execution_count": 66,
   "metadata": {},
   "outputs": [],
   "source": [
    "d=dict([(1,[2,2]),(3,(4,5))])"
   ]
  },
  {
   "cell_type": "markdown",
   "metadata": {},
   "source": [
    "dictionaries"
   ]
  },
  {
   "cell_type": "code",
   "execution_count": 72,
   "metadata": {},
   "outputs": [
    {
     "name": "stdout",
     "output_type": "stream",
     "text": [
      "{'key': 1, 'key1': 2, 'key3': 3, 'key4': 4} <class 'dict'>\n",
      "{'key1': 1, 'key2': 2, 'key3': 3, 'key4': 4}\n",
      "{'key1': 1, 'key2': 2, 'key3': 3, 'key4': 4}\n",
      "{'key1': 1, 'key2': 2, 'key3': 3, 'key4': 4}\n",
      "{'key1': 1, 'key2': 2, 'key3': 3, 'key4': 4}\n",
      "{'key1': 1, 'key2': 2, 'key3': 3}\n",
      "{'key1': 1, 'key2': 2}\n"
     ]
    }
   ],
   "source": [
    "# dictionaries are generally defined inside the curly braces containing several key-value pair as the elemnts inside it.\n",
    "\n",
    "# ways of defining a dictionary\n",
    "# mapping\n",
    "\n",
    "dic={\"key\":1,\"key1\":2,\"key3\":3,\"key4\":4}\n",
    "print(dic,type(dic))\n",
    "# by using dict() function\n",
    "\n",
    "# there are two different ways of passing arguments to the dict function\n",
    "# several keword only arguments seprated by comma's (keyword must be formed as per the rules of defining a identifier)\n",
    "dic1=dict(key1=1,key2=2,key3=3,key4=4)\n",
    "print(dic1)\n",
    "\n",
    "# passing a sequence of key value pairs inside an iterable, generally a list of tuples are used for these purposes however\n",
    "# tuples of list, tuples of tuples, list of list,list of dictionary and tuples of dictonary are also allowed. dictionary of list or ictionary of tuples are not allowed\n",
    "dic2=dict([(\"key1\",1),(\"key2\",2),(\"key3\",3),(\"key4\",4)])\n",
    "print(dic2)\n",
    "dic3=dict(((\"key1\",1),[\"key2\",2],(\"key3\",3),[\"key4\",4]))\n",
    "print(dic3)\n",
    "dic4=dict(((\"key1\",1),(\"key2\",2),(\"key3\",3),(\"key4\",4)))\n",
    "print(dic4)\n",
    "dic5=dict([[\"key1\",1],[\"key2\",2],[\"key3\",3]])\n",
    "print(dic5)\n",
    "# dic6=dict([[\"key1\",1],{\"key2\",2},key3=3,key4=4,\"key5\":5])# this is not allowed\n",
    "# print(dic6)\n",
    "dic6=dict([[\"key1\",1],{\"key2\",2}])\n",
    "print(dic6)"
   ]
  },
  {
   "cell_type": "code",
   "execution_count": 73,
   "metadata": {},
   "outputs": [
    {
     "name": "stdout",
     "output_type": "stream",
     "text": [
      "{'key1': 2, 2: 'hello', True: [1, 2, 3], (3+2j): {1: 2, 2: 3, 3: 4}}\n",
      "{'key1': [1, 2, 3, 4], (1, 2): 2}\n"
     ]
    }
   ],
   "source": [
    "# inside a dictionary keys must be of immutable type while the data types of values could be anything\n",
    "dic1={\"key1\":2,2:\"hello\",True:[1,2,3],3+2j:{1:2,2:3,3:4}}\n",
    "print(dic1)\n",
    "dic2=dict([(\"key1\",[1,2,3,4]),((1,2),2)])\n",
    "print(dic2)"
   ]
  },
  {
   "cell_type": "code",
   "execution_count": 79,
   "metadata": {},
   "outputs": [
    {
     "name": "stdout",
     "output_type": "stream",
     "text": [
      "1 hello\n",
      "1\n",
      "3\n",
      "4\n"
     ]
    }
   ],
   "source": [
    "# acessing the elements inside a dictionary\n",
    "# here keys are used as indices\n",
    "dic={\"key1\":1,(1,2):\"hello\"}\n",
    "print(dic[\"key1\"],dic[(1,2)])\n",
    "\n",
    "dic1=dict(key1=1,key2={\"key3\":2,\"key4\":3,\"key5\":[1,2,3,4]})\n",
    "print(dic1[\"key1\"])\n",
    "print(dic1[\"key2\"][\"key4\"])\n",
    "print(dic1[\"key2\"][\"key5\"][-1])"
   ]
  },
  {
   "cell_type": "code",
   "execution_count": 85,
   "metadata": {},
   "outputs": [
    {
     "name": "stdout",
     "output_type": "stream",
     "text": [
      "dic1 {1: 2, 3: 4, 5: 6, 7: 8}\n",
      "dic1 afetr applying dictionary.clear() {}\n",
      "an empty dictionary is assigned to dic1 {}\n",
      "{} {1: 2, 3: 4, 5: 6, 7: 8}\n",
      "{} {}\n",
      "[] []\n"
     ]
    }
   ],
   "source": [
    "# some functions which are applicable on dictionary\n",
    "# .clear() this function will delete all of the key value pairs which are stored in the dictionary. this function will not return anything\n",
    "dic1={1:2,3:4,5:6,7:8}\n",
    "print(\"dic1\",dic1)\n",
    "dic1.clear()\n",
    "print(\"dic1 afetr applying dictionary.clear()\",dic1)\n",
    "\n",
    "# we can also acheive our goal by assigning an empty dictionary to dic1 as:\n",
    "dic1={1:2,3:4,5:6,7:8}\n",
    "dic1={}\n",
    "print(\"an empty dictionary is assigned to dic1\",dic1)\n",
    "\n",
    "# however there is a difference between these two. when we assign an empty dictionary to the dic1 then we are creating a new object\n",
    "# while when we are applying .clear() function then we are simply removing all of the elements present in the dictionary, \n",
    "# this effect become important when an another dictionary is also refering to the dic1\n",
    "\"\"\"difference between assigning a new dictionary and using .clear() function on a dictionary\"\"\"\n",
    "dic1={1:2,3:4,5:6,7:8}\n",
    "dic2=dic1\n",
    "dic1={}\n",
    "print(dic1,dic2)\n",
    "\n",
    "# using .clear() here\n",
    "dic1={1:2,3:4,5:6,7:8}\n",
    "dic2=dic1\n",
    "dic1.clear()\n",
    "print(dic1,dic2) # here a difference between two results are observed because bot dic1 and dic2 are reffering to the same address\n",
    "\n",
    "# .clear() function also works well with list but are not applicable to tuples\n",
    "li=[1,2,3,4]\n",
    "li1=li\n",
    "li.clear()\n",
    "print(li,li1)\n",
    "\n",
    "# tup=(1,2,3,4)\n",
    "# tup.clear()\n",
    "# print(tup)"
   ]
  },
  {
   "cell_type": "code",
   "execution_count": 93,
   "metadata": {},
   "outputs": [
    {
     "name": "stdout",
     "output_type": "stream",
     "text": [
      "dict_keys([1, 3, 5, 7])\n",
      "dict_values([2, 4, 6, 8])\n",
      "dict_items([(1, 2), (3, 4), (5, 6), (7, 8)])\n"
     ]
    }
   ],
   "source": [
    "# .keys() returns a list of all the keys present in the dictionary\n",
    "dic={1:2,3:4,5:6,7:8}\n",
    "print(dic.keys())\n",
    "# .values() returns a list of all the values present in the dictionary\n",
    "print(dic.values())\n",
    "# .items() reeturns a list of tuples containing various key value pairs present inside the dictionary\n",
    "print(dic.items())"
   ]
  },
  {
   "cell_type": "code",
   "execution_count": 2,
   "metadata": {},
   "outputs": [
    {
     "name": "stdout",
     "output_type": "stream",
     "text": [
      "{1: None, 2: None, 3: None}\n",
      "{1: None, 2: None, 3: None}\n"
     ]
    }
   ],
   "source": [
    "x={1:2,3:4}\n",
    "print(x.fromkeys([1,2,3]))\n",
    "z=dict.fromkeys([1,2,3])\n",
    "print(z)\n"
   ]
  },
  {
   "cell_type": "code",
   "execution_count": 8,
   "metadata": {},
   "outputs": [
    {
     "name": "stdout",
     "output_type": "stream",
     "text": [
      "neel nikhil eisha avinash anmol ram archana somya abhindan\n",
      "{'neel': [], 'nikhil': [], 'eisha': [], 'avinash': [], 'anmol': [], 'ram': [], 'archana': [], 'somya': [], 'abhindan': []}\n"
     ]
    }
   ],
   "source": [
    "student_database=dict.fromkeys([key for key in input().split()],[])\n",
    "print(student_database)"
   ]
  },
  {
   "cell_type": "code",
   "execution_count": 15,
   "metadata": {},
   "outputs": [
    {
     "ename": "AttributeError",
     "evalue": "'list' object has no attribute 'fromkeys'",
     "output_type": "error",
     "traceback": [
      "\u001b[1;31m---------------------------------------------------------------------------\u001b[0m",
      "\u001b[1;31mAttributeError\u001b[0m                            Traceback (most recent call last)",
      "\u001b[1;32m<ipython-input-15-cdf36056ad13>\u001b[0m in \u001b[0;36m<module>\u001b[1;34m\u001b[0m\n\u001b[0;32m      1\u001b[0m \u001b[0mx\u001b[0m\u001b[1;33m=\u001b[0m\u001b[1;33m[\u001b[0m\u001b[1;36m1\u001b[0m\u001b[1;33m,\u001b[0m\u001b[1;36m2\u001b[0m\u001b[1;33m,\u001b[0m\u001b[1;36m3\u001b[0m\u001b[1;33m,\u001b[0m\u001b[1;36m4\u001b[0m\u001b[1;33m,\u001b[0m\u001b[1;36m5\u001b[0m\u001b[1;33m]\u001b[0m\u001b[1;33m\u001b[0m\u001b[1;33m\u001b[0m\u001b[0m\n\u001b[1;32m----> 2\u001b[1;33m \u001b[0mx\u001b[0m\u001b[1;33m.\u001b[0m\u001b[0mfromkeys\u001b[0m\u001b[1;33m(\u001b[0m\u001b[0mx\u001b[0m\u001b[1;33m)\u001b[0m\u001b[1;33m\u001b[0m\u001b[1;33m\u001b[0m\u001b[0m\n\u001b[0m",
      "\u001b[1;31mAttributeError\u001b[0m: 'list' object has no attribute 'fromkeys'"
     ]
    }
   ],
   "source": [
    "x=[1,2,3,4,5]\n",
    "x.fromkeys(x)"
   ]
  },
  {
   "cell_type": "code",
   "execution_count": 24,
   "metadata": {},
   "outputs": [
    {
     "name": "stdout",
     "output_type": "stream",
     "text": [
      "<class 'dict_keys'>\n",
      "<class 'dict_keys'>\n",
      "<class 'dict_items'>\n"
     ]
    }
   ],
   "source": [
    "print(type(student_database.keys()))\n",
    "li=student_database.keys()\n",
    "print(type(li))\n",
    "print(type(student_database.items()))"
   ]
  },
  {
   "cell_type": "code",
   "execution_count": 44,
   "metadata": {},
   "outputs": [
    {
     "name": "stdout",
     "output_type": "stream",
     "text": [
      "{1: 'h', 2: 'e', 3: 'l', 4: 'l', 5: 'o'}    {6: 'r', 7: 'a', 8: 'm'}\n",
      "{1: 'h', 2: 'e', 3: 'l', 4: 'l', 5: 'o', 6: 'r', 7: 'a', 8: 'm'}\n",
      "{6: 'r', 7: 'a', 8: 'm', 'x': 1, 'y': 2}\n",
      "{6: 'r', 7: 'a', 8: 'm', 'x': 1, 'y': 2, 'h': 1, 'e': 2, 'r': 3, 'o': 4, 's': 'k'}\n"
     ]
    }
   ],
   "source": [
    "dic={1:\"h\",2:\"e\",3:\"l\",4:\"l\",5:\"o\"}\n",
    "dic1={6:\"r\",7:\"a\",8:\"m\"}\n",
    "print(dic,dic1,sep=\"    \")\n",
    "dic.update(dic1)\n",
    "print(dic)\n",
    "\n",
    "dic2={6:\"r\",7:\"a\",8:\"m\"}\n",
    "dic2.update(x=1,y=2)\n",
    "print(dic2)\n",
    "\n",
    "dic2.update([(\"h\",1),(\"e\",2),(\"r\",3),(\"o\",4),{\"s\":5,\"k\":3}])\n",
    "print(dic2)"
   ]
  },
  {
   "cell_type": "code",
   "execution_count": 28,
   "metadata": {},
   "outputs": [
    {
     "data": {
      "text/plain": [
       "False"
      ]
     },
     "execution_count": 28,
     "metadata": {},
     "output_type": "execute_result"
    }
   ],
   "source": [
    "1 in dic.values()"
   ]
  },
  {
   "cell_type": "markdown",
   "metadata": {},
   "source": [
    "various functions available in dictionaris are:"
   ]
  },
  {
   "cell_type": "code",
   "execution_count": 5,
   "metadata": {},
   "outputs": [
    {
     "name": "stdout",
     "output_type": "stream",
     "text": [
      "r a m\n",
      "None\n",
      "7 is not present as a key\n",
      "{}\n",
      "{}\n",
      "before using clear function {1: 'r', 2: 'a', 3: 'm'} {1: 'r', 2: 'a', 3: 'm'}\n",
      "after using clear function {} {}\n",
      "{} {1: 'r', 2: 'a', 3: 'm'}\n",
      "{1: None, 2: None, 3: None}\n",
      "{1: 'later', 2: 'later', 3: 'later'}\n",
      "{1: None, 3: None, 5: None}\n",
      "{1: 'r', 2: 'a', 3: 'm', 4: 's', 5: 'o', 6: 'r', 7: 'r', 8: 'y'}\n",
      "{1: 'update', 2: 'a', 3: 'm', 4: 's', 5: 'o', 6: 'r', 7: 'r', 8: 'y'}\n",
      "{1: 'update', 2: 'a', 3: 'm', 4: 's', 5: 'o', 6: 'r', 7: 'r', 8: 'y', 'x': 'y', 'z': 'h'}\n",
      "{1: 'r', 2: 'a', 3: 'm', 'x': 'y', 'z': 'p'}\n",
      "{1: 'r', 2: 'a', 3: 'm', 'x': 'y', 'z': 'h'}\n",
      "dict_keys([1, 2, 3, 4, 5]) <class 'dict_keys'>\n",
      "dict_values(['H', 'e', 'l', 'l', 'o']) <class 'dict_values'>\n",
      "dict_items([(1, 'H'), (2, 'e'), (3, 'l'), (4, 'l'), (5, 'o')]) <class 'dict_items'>\n"
     ]
    }
   ],
   "source": [
    "# .get(key,default) this function returns the value of the given key passed to it as an argument, if the key exist\n",
    "# it also accepts a second optional argument which has to be returned if the given key is not present, default value is none\n",
    "dic={1:\"r\",2:\"a\",3:\"m\"}\n",
    "print(dic.get(1),dic.get(2),dic.get(3))\n",
    "print(dic.get(7))\n",
    "print(dic.get(7,\"7 is not present as a key\"))\n",
    "\n",
    "\n",
    "# .clear() this function will simply remove all of the key value pairs present inside the dictionary\n",
    "dic={1:\"r\",2:\"a\",3:\"m\"}\n",
    "dic.clear()\n",
    "print(dic)\n",
    "\n",
    "# we can also acheive the same task by assigning an empty dictionary inside the dic but dic. clear is functionally different from this\n",
    "dic={1:\"r\",2:\"a\",3:\"m\"}\n",
    "dic={}\n",
    "print(dic)\n",
    "\n",
    "# this difference becomes visible when two dictionaries are refering the same dictionary type object\n",
    "dic={1:\"r\",2:\"a\",3:\"m\"}\n",
    "dic1=dic\n",
    "print(\"before using clear function\",dic,dic1)\n",
    "dic.clear()\n",
    "print(\"after using clear function\",dic,dic1)\n",
    "\n",
    "dic={1:\"r\",2:\"a\",3:\"m\"}\n",
    "dic1=dic\n",
    "dic={}\n",
    "print(dic,dic1) # clearly the difference is visible now\n",
    "\n",
    "# .fromkeys(iterable,value) this function is used to create a new dictionary where the elements of the iterable are used as keys inside the dctionary\n",
    "# it also accepts a second optional argument i.e value, this value is assigned to each of the keys inside the dictionary, default value is NONE\n",
    "dic2=dict.fromkeys([1,2,3])\n",
    "print(dic2)\n",
    "dic3=dict.fromkeys((1,2,3),\"later\")\n",
    "print(dic3)\n",
    "dic4=dict.fromkeys({1:2,3:4,5:6})\n",
    "print(dic4)\n",
    "\n",
    "# dic.update(dict/keyword only argument/sequence of key value pair inside an iterable) this function will simply compare the keys of the \n",
    "# dic and dict and appened uncommon keys along with their associated values into the dic and for common keys the values are updated in dic as per the values in dict\n",
    "\n",
    "dic={1:\"r\",2:\"a\",3:\"m\"}\n",
    "dic1={4:\"s\",5:\"o\",6:\"r\",7:\"r\",8:\"y\"}\n",
    "# passing dictionary type object\n",
    "dic.update(dic1)\n",
    "print(dic)\n",
    "dic2={1:\"update\"}\n",
    "dic.update(dic2)\n",
    "print(dic)\n",
    "# passing keyword only arguments\n",
    "dic.update(x=\"y\",z=\"h\")\n",
    "print(dic)\n",
    "# passing sequence of key_value pairs inside an iterable\n",
    "dic={1:\"r\",2:\"a\",3:\"m\"}\n",
    "dic.update([(\"x\",\"y\"),(\"z\",\"p\")])\n",
    "print(dic)\n",
    "dic={1:\"r\",2:\"a\",3:\"m\"}\n",
    "#dic.update([(\"x\",\"y\"),{\"z\":\"y\"}]) # this will produce an error as here only keys are considered\n",
    "dic.update([(\"x\",\"y\"),{\"z\":\"p\",\"h\":\"k\"}])\n",
    "print(dic)\n",
    "\n",
    "\n",
    "# .keys() this function will return a list of all the keys which are present inside the dictionary, however its data type is dic_keys not list\n",
    "dic={1:\"H\",2:\"e\",3:\"l\",4:\"l\",5:\"o\"}\n",
    "print(dic.keys(),type(dic.keys()))\n",
    "\n",
    "#.values() this function will return a list of all of the values which are present inside a dictionary\n",
    "print(dic.values(),type(dic.values()))\n",
    "\n",
    "# .items() this function will return a list of tuples containing several key_value pairs inside them\n",
    "print(dic.items(),type(dic.items()))"
   ]
  },
  {
   "cell_type": "markdown",
   "metadata": {},
   "source": [
    "str_frequency"
   ]
  },
  {
   "cell_type": "code",
   "execution_count": 8,
   "metadata": {},
   "outputs": [
    {
     "name": "stdout",
     "output_type": "stream",
     "text": [
      "hello hey huree neel hello hey found\n",
      "2\n",
      "hello hey "
     ]
    }
   ],
   "source": [
    "# print all the words having the frequency k in the given string\n",
    "def str_freq(str_l):\n",
    "    c_words,freq=[],[]\n",
    "    for i in range(len(str_l)):\n",
    "        if str_l[i] not in c_words:\n",
    "            count=1\n",
    "            for j in range(i+1,len(str_l)):\n",
    "                if str_l[i]==str_l[j]:\n",
    "                    count=count+1\n",
    "            freq.append(count)\n",
    "            c_words.append(str_l[i])\n",
    "    return c_words,freq\n",
    "def w_with_freq_k(c_words,freq,k):\n",
    "    for i in range(len(c_words)):\n",
    "        if freq[i]==k:\n",
    "            print(c_words[i],end=\" \")\n",
    "\n",
    "str_l=input().split()\n",
    "k=int(input())\n",
    "c_words,freq=str_freq(str_l)\n",
    "w_with_freq_k(c_words,freq,k)"
   ]
  },
  {
   "cell_type": "code",
   "execution_count": 11,
   "metadata": {},
   "outputs": [
    {
     "name": "stdout",
     "output_type": "stream",
     "text": [
      "hello huree hey neel found hello\n",
      "{'hello': 2, 'huree': 1, 'hey': 1, 'neel': 1, 'found': 1}\n",
      "hello huree hey neel found hello\n",
      "{'hello': 2, 'huree': 1, 'hey': 1, 'neel': 1, 'found': 1}\n"
     ]
    }
   ],
   "source": [
    "# we can also acheive the same very task just in a few lines of codes with the help of dictionary as:\n",
    "str_l=input().split()\n",
    "dic={}\n",
    "for word in str_l:\n",
    "    if word in dic:\n",
    "        dic[word]=dic[word]+1\n",
    "    else:\n",
    "        dic[word]=1\n",
    "print(dic)\n",
    "# or\n",
    "str_l1=input().split()\n",
    "dic1={}\n",
    "for word in str_l1:\n",
    "    dic1[word]=dic1.get(word,0)+1\n",
    "print(dic1)\n",
    "    "
   ]
  },
  {
   "cell_type": "markdown",
   "metadata": {},
   "source": [
    "sets"
   ]
  },
  {
   "cell_type": "code",
   "execution_count": 14,
   "metadata": {},
   "outputs": [
    {
     "name": "stdout",
     "output_type": "stream",
     "text": [
      "{1, 2, 3, 4, 5} <class 'set'>\n"
     ]
    }
   ],
   "source": [
    "x={1,2,3,4,5,5}\n",
    "print(x,type(x))\n",
    "# x.append(5)\n",
    "# sets do not supports indexing"
   ]
  },
  {
   "cell_type": "code",
   "execution_count": 25,
   "metadata": {},
   "outputs": [
    {
     "name": "stdout",
     "output_type": "stream",
     "text": [
      "{(1, 2), 's', 'o', 'l', 'h', (3, 4), 'added', 'y'}\n",
      "{'s', 'o', 'l', 'h', (3, 4), 'added', 'y'}\n",
      "{'s', 'o', 'l', 'h', (3, 4), 'y'}\n",
      "{'s', 'o', 'l', 'h', (3, 4)}\n",
      "{'s', 'o', 'l', 'h', (3, 4), 'added'}\n"
     ]
    },
    {
     "ename": "TypeError",
     "evalue": "discard() takes exactly one argument (0 given)",
     "output_type": "error",
     "traceback": [
      "\u001b[1;31m---------------------------------------------------------------------------\u001b[0m",
      "\u001b[1;31mTypeError\u001b[0m                                 Traceback (most recent call last)",
      "\u001b[1;32m<ipython-input-25-8f74c82593b3>\u001b[0m in \u001b[0;36m<module>\u001b[1;34m\u001b[0m\n\u001b[0;32m     11\u001b[0m \u001b[0mx\u001b[0m\u001b[1;33m.\u001b[0m\u001b[0madd\u001b[0m\u001b[1;33m(\u001b[0m\u001b[1;34m\"added\"\u001b[0m\u001b[1;33m)\u001b[0m\u001b[1;33m\u001b[0m\u001b[1;33m\u001b[0m\u001b[0m\n\u001b[0;32m     12\u001b[0m \u001b[0mprint\u001b[0m\u001b[1;33m(\u001b[0m\u001b[0mx\u001b[0m\u001b[1;33m)\u001b[0m\u001b[1;33m\u001b[0m\u001b[1;33m\u001b[0m\u001b[0m\n\u001b[1;32m---> 13\u001b[1;33m \u001b[0mx\u001b[0m\u001b[1;33m.\u001b[0m\u001b[0mdiscard\u001b[0m\u001b[1;33m(\u001b[0m\u001b[1;33m)\u001b[0m\u001b[1;33m\u001b[0m\u001b[1;33m\u001b[0m\u001b[0m\n\u001b[0m",
      "\u001b[1;31mTypeError\u001b[0m: discard() takes exactly one argument (0 given)"
     ]
    }
   ],
   "source": [
    "x.update(\"h\",\"s\")\n",
    "x.update()\n",
    "x.update([(1,2),(3,4)])\n",
    "print(x)\n",
    "x.remove((1,2)) # this function removes the gievn element from the set and if that element is not present we will got an key error . thats the basc dfference between remove and dicard\n",
    "print(x)\n",
    "x.pop()\n",
    "print(x)\n",
    "x.pop() # it rmoves one element from the set randomly\n",
    "print(x)\n",
    "x.add(\"added\")\n",
    "print(x)\n",
    "x.discard(\"s\")\n",
    "x.discard(\"hello\") # in discard method no error is raised if the given element is not present in the set\n",
    "del x\n",
    "# print(x) # error x is not defined as x is deleted above"
   ]
  },
  {
   "cell_type": "code",
   "execution_count": 30,
   "metadata": {},
   "outputs": [
    {
     "ename": "TypeError",
     "evalue": "unsupported operand type(s) for *: 'set' and 'int'",
     "output_type": "error",
     "traceback": [
      "\u001b[1;31m---------------------------------------------------------------------------\u001b[0m",
      "\u001b[1;31mTypeError\u001b[0m                                 Traceback (most recent call last)",
      "\u001b[1;32m<ipython-input-30-cacb09637b87>\u001b[0m in \u001b[0;36m<module>\u001b[1;34m\u001b[0m\n\u001b[0;32m      6\u001b[0m \u001b[0mset11\u001b[0m\u001b[1;33m=\u001b[0m\u001b[1;33m{\u001b[0m\u001b[1;36m5\u001b[0m\u001b[1;33m,\u001b[0m\u001b[1;36m6\u001b[0m\u001b[1;33m,\u001b[0m\u001b[1;36m7\u001b[0m\u001b[1;33m,\u001b[0m\u001b[1;36m8\u001b[0m\u001b[1;33m}\u001b[0m\u001b[1;33m\u001b[0m\u001b[1;33m\u001b[0m\u001b[0m\n\u001b[0;32m      7\u001b[0m \u001b[1;31m# set1+set11\u001b[0m\u001b[1;33m\u001b[0m\u001b[1;33m\u001b[0m\u001b[1;33m\u001b[0m\u001b[0m\n\u001b[1;32m----> 8\u001b[1;33m \u001b[0mset1\u001b[0m\u001b[1;33m*\u001b[0m\u001b[1;36m4\u001b[0m\u001b[1;33m\u001b[0m\u001b[1;33m\u001b[0m\u001b[0m\n\u001b[0m",
      "\u001b[1;31mTypeError\u001b[0m: unsupported operand type(s) for *: 'set' and 'int'"
     ]
    }
   ],
   "source": [
    "# sets and dictionary donot supports concatenation\n",
    "di={1:2,3:4,5:6,7:8,9:0}\n",
    "di1={\"h\":\"k\",\"X\":\"Y\"}\n",
    "# di+di1\n",
    "# di*2\n",
    "set1={1,2,3,4}\n",
    "set11={5,6,7,8}\n",
    "# set1+set11\n",
    "# set1*4"
   ]
  },
  {
   "cell_type": "code",
   "execution_count": 31,
   "metadata": {},
   "outputs": [
    {
     "name": "stdout",
     "output_type": "stream",
     "text": [
      "{1: None, 2: None, 3: None} {1: 2, 3: 4}\n"
     ]
    }
   ],
   "source": [
    "x={1:2,3:4}\n",
    "y=x.fromkeys([1,2,3])\n",
    "print(y,x)"
   ]
  },
  {
   "cell_type": "code",
   "execution_count": 38,
   "metadata": {},
   "outputs": [
    {
     "name": "stdout",
     "output_type": "stream",
     "text": [
      "1 2 h 3 l 4 o e 5 \n",
      "9\n",
      "{(1, 2), 2, 3}\n",
      "{(1, 2), 1, 2, 3}\n",
      "set()\n"
     ]
    }
   ],
   "source": [
    "set1={\"1\",\"h\",\"2\",\"e\",\"3\",\"l\",\"4\",\"l\",\"5\",\"o\"}\n",
    "for ele in set1:\n",
    "    print(ele,end=\" \")\n",
    "print()\n",
    "print(len(set1))\n",
    "# set[1]\n",
    "set2={1,2,3}\n",
    "set2.add(4)\n",
    "set2={2,3}\n",
    "set2.add((1,2))\n",
    "print(set2)\n",
    "set2.update({1:2,3:4}) # only keys are considered if not present then they are added\n",
    "print(set2)\n",
    "set2={1,2,3}\n",
    "# set2.update()  # in set .update() function will not accept keyword only argument\n",
    "# set2.add({4,5,6})\n",
    "set2.clear()\n",
    "print(set2)"
   ]
  },
  {
   "cell_type": "code",
   "execution_count": 40,
   "metadata": {},
   "outputs": [
    {
     "name": "stdout",
     "output_type": "stream",
     "text": [
      "{1, 2, 3, 4}\n"
     ]
    }
   ],
   "source": [
    "set1={1,2,3,4}\n",
    "for ele in set1:\n",
    "    del ele\n",
    "print(set1)"
   ]
  },
  {
   "cell_type": "code",
   "execution_count": null,
   "metadata": {},
   "outputs": [],
   "source": [
    "# add unique\n",
    "def sumunique(li):\n",
    "    set1=set()\n",
    "    for ele in li:\n",
    "        set1.add(ele)\n",
    "    sum=0\n",
    "    for ele1 inn "
   ]
  }
 ],
 "metadata": {
  "kernelspec": {
   "display_name": "Python 3",
   "language": "python",
   "name": "python3"
  },
  "language_info": {
   "codemirror_mode": {
    "name": "ipython",
    "version": 3
   },
   "file_extension": ".py",
   "mimetype": "text/x-python",
   "name": "python",
   "nbconvert_exporter": "python",
   "pygments_lexer": "ipython3",
   "version": "3.7.4"
  }
 },
 "nbformat": 4,
 "nbformat_minor": 2
}
