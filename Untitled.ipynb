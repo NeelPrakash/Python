{
 "cells": [
  {
   "cell_type": "code",
   "execution_count": 27,
   "metadata": {},
   "outputs": [
    {
     "name": "stdout",
     "output_type": "stream",
     "text": [
      "@\n",
      "-1\n"
     ]
    }
   ],
   "source": [
    "### Read input as specified in the question.\n",
    "## Print output as specified in the question.\n",
    "N=input()\n",
    "if not(ord(\"a\")<=ord(N)<=ord(\"z\") or ord(\"A\")<=ord(N)<=ord(\"Z\")):\n",
    "    print(-1)\n",
    "elif N==N.upper():\n",
    "    print(1)\n",
    "else:\n",
    "    print(0)"
   ]
  },
  {
   "cell_type": "code",
   "execution_count": 4,
   "metadata": {},
   "outputs": [
    {
     "name": "stdout",
     "output_type": "stream",
     "text": [
      "0\n",
      "100\n",
      "20\n",
      "0   -17\n",
      "20   -6\n",
      "40   4\n",
      "60   15\n",
      "80   26\n",
      "100   37\n"
     ]
    }
   ],
   "source": [
    "start=int(input())\n",
    "stop=int(input())\n",
    "width=int(input())\n",
    "for i in range(start,stop+1,width):\n",
    "    celsius=int((i-32)*5/9)\n",
    "    print(i,\" \",celsius)"
   ]
  },
  {
   "cell_type": "code",
   "execution_count": 6,
   "metadata": {},
   "outputs": [
    {
     "name": "stdout",
     "output_type": "stream",
     "text": [
      "5\n",
      "        1\n",
      "      23\n",
      "    345\n",
      "  4567\n",
      "56789\n"
     ]
    }
   ],
   "source": [
    "N=int(input())\n",
    "s=2\n",
    "for i in range(1,N+1):\n",
    "    p=i\n",
    "    for j in range(2*N-s,0,-1):\n",
    "        print(\" \",end=\"\")\n",
    "    for k in range(1,i+1):\n",
    "        print(p,end=\"\")\n",
    "        p=p+1\n",
    "    s=s+2\n",
    "    print()"
   ]
  },
  {
   "cell_type": "code",
   "execution_count": 7,
   "metadata": {},
   "outputs": [
    {
     "name": "stdout",
     "output_type": "stream",
     "text": [
      "4\n",
      "   *\n",
      "  ***\n",
      " *****\n",
      "*******\n"
     ]
    }
   ],
   "source": [
    "## Read input as specified in the question.\n",
    "## Print output as specified in the question.\n",
    "N=int(input())\n",
    "for i in range(1,N+1):\n",
    "    for j in range(N-i,0,-1):\n",
    "        print(\" \",end=\"\")\n",
    "    for k in range(2*i-1,0,-1):\n",
    "        print(\"*\",end=\"\")\n",
    "    print()\n",
    "        "
   ]
  },
  {
   "cell_type": "code",
   "execution_count": 10,
   "metadata": {},
   "outputs": [
    {
     "name": "stdout",
     "output_type": "stream",
     "text": [
      "5\n",
      "2\n",
      "3\n",
      "5\n"
     ]
    }
   ],
   "source": [
    "N=int(input())\n",
    "for i in range(2,N+1):\n",
    "    for j in range(2,i):\n",
    "        if i%j==0:\n",
    "            break\n",
    "    else:\n",
    "        print(i)"
   ]
  },
  {
   "cell_type": "code",
   "execution_count": 11,
   "metadata": {},
   "outputs": [
    {
     "name": "stdout",
     "output_type": "stream",
     "text": [
      "0   -17\n",
      "20   -6\n",
      "40   4\n",
      "60   15\n",
      "80   26\n",
      "100   37\n"
     ]
    }
   ],
   "source": [
    "def printTable(start,end,step):\n",
    "    for i in range(start,end+1,step):\n",
    "        celsius=int((i-32)*5/9)\n",
    "        print(i,\" \",celsius)\n",
    "printTable(0,100,20)"
   ]
  },
  {
   "cell_type": "code",
   "execution_count": 14,
   "metadata": {},
   "outputs": [
    {
     "data": {
      "text/plain": [
       "False"
      ]
     },
     "execution_count": 14,
     "metadata": {},
     "output_type": "execute_result"
    }
   ],
   "source": [
    "\n",
    "def checkMember(n):\n",
    "    x=(5*n**2+4)**0.5\n",
    "    y=(5*n**2-4)**0.5\n",
    "    if x*x==5*n**2+4 or y*y==5*n**-4:\n",
    "        return True\n",
    "    else:\n",
    "        return False\n",
    "checkMember(7)"
   ]
  },
  {
   "cell_type": "code",
   "execution_count": 20,
   "metadata": {},
   "outputs": [
    {
     "name": "stdout",
     "output_type": "stream",
     "text": [
      "8762\n"
     ]
    },
    {
     "ename": "ValueError",
     "evalue": "not enough values to unpack (expected 2, got 1)",
     "output_type": "error",
     "traceback": [
      "\u001b[1;31m---------------------------------------------------------------------------\u001b[0m",
      "\u001b[1;31mValueError\u001b[0m                                Traceback (most recent call last)",
      "\u001b[1;32m<ipython-input-20-f948314b42e5>\u001b[0m in \u001b[0;36m<module>\u001b[1;34m\u001b[0m\n\u001b[0;32m      1\u001b[0m \u001b[1;31m## Read input as specified in the question.\u001b[0m\u001b[1;33m\u001b[0m\u001b[1;33m\u001b[0m\u001b[1;33m\u001b[0m\u001b[0m\n\u001b[0;32m      2\u001b[0m \u001b[1;31m## Print output as specified in the question.\u001b[0m\u001b[1;33m\u001b[0m\u001b[1;33m\u001b[0m\u001b[1;33m\u001b[0m\u001b[0m\n\u001b[1;32m----> 3\u001b[1;33m \u001b[0mbasic\u001b[0m\u001b[1;33m,\u001b[0m\u001b[0mGrade\u001b[0m\u001b[1;33m=\u001b[0m\u001b[0minput\u001b[0m\u001b[1;33m(\u001b[0m\u001b[1;33m)\u001b[0m\u001b[1;33m.\u001b[0m\u001b[0msplit\u001b[0m\u001b[1;33m(\u001b[0m\u001b[1;34m\" \"\u001b[0m\u001b[1;33m)\u001b[0m\u001b[1;33m\u001b[0m\u001b[1;33m\u001b[0m\u001b[0m\n\u001b[0m\u001b[0;32m      4\u001b[0m \u001b[0mbasic\u001b[0m\u001b[1;33m,\u001b[0m\u001b[0mGrade\u001b[0m\u001b[1;33m=\u001b[0m\u001b[0mint\u001b[0m\u001b[1;33m(\u001b[0m\u001b[0mbasic\u001b[0m\u001b[1;33m)\u001b[0m\u001b[1;33m,\u001b[0m\u001b[0mGrade\u001b[0m\u001b[1;33m.\u001b[0m\u001b[0mupper\u001b[0m\u001b[1;33m(\u001b[0m\u001b[1;33m)\u001b[0m\u001b[1;33m\u001b[0m\u001b[1;33m\u001b[0m\u001b[0m\n\u001b[0;32m      5\u001b[0m \u001b[1;32mif\u001b[0m \u001b[0mGrade\u001b[0m\u001b[1;33m==\u001b[0m\u001b[1;34m\"A\"\u001b[0m\u001b[1;33m:\u001b[0m\u001b[1;33m\u001b[0m\u001b[1;33m\u001b[0m\u001b[0m\n",
      "\u001b[1;31mValueError\u001b[0m: not enough values to unpack (expected 2, got 1)"
     ]
    }
   ],
   "source": [
    "## Read input as specified in the question.\n",
    "## Print output as specified in the question.\n",
    "basic,Grade=input().split(\" \")\n",
    "basic,Grade=int(basic),Grade.upper()\n",
    "if Grade==\"A\":\n",
    "    total=basic + basic*0.2 +basic*0.5 +1700-basic*0.11\n",
    "elif Grade==\"B\":\n",
    "    total=basic + basic*0.2 +basic*0.5 +1500-basic*0.11\n",
    "else:\n",
    "    total=basic + basic*0.2 +basic*0.5 +1300-basic*0.11\n",
    "print(total)b\n"
   ]
  },
  {
   "cell_type": "code",
   "execution_count": 1,
   "metadata": {},
   "outputs": [],
   "source": [
    "def Fibonacci(n): \n",
    "    if n<0: \n",
    "        print(\"Incorrect input\") \n",
    "    # First Fibonacci number is 0 \n",
    "    elif n==0: \n",
    "        return 0\n",
    "    # Second Fibonacci number is 1 \n",
    "    elif n==1: \n",
    "        return 1\n",
    "    else: \n",
    "        return Fibonacci(n-1)+Fibonacci(n-2) \n",
    "    "
   ]
  },
  {
   "cell_type": "code",
   "execution_count": 4,
   "metadata": {},
   "outputs": [
    {
     "name": "stdout",
     "output_type": "stream",
     "text": [
      "hello\n",
      "ram\n"
     ]
    }
   ],
   "source": [
    "print\n",
    "print(\"hello\")\n",
    "print\n",
    "print(\"ram\")\n"
   ]
  },
  {
   "cell_type": "code",
   "execution_count": 11,
   "metadata": {},
   "outputs": [
    {
     "data": {
      "text/plain": [
       "<function __main__.hello()>"
      ]
     },
     "execution_count": 11,
     "metadata": {},
     "output_type": "execute_result"
    }
   ],
   "source": [
    "def hello():\n",
    "    return hello\n",
    "hello()"
   ]
  },
  {
   "cell_type": "code",
   "execution_count": 13,
   "metadata": {},
   "outputs": [
    {
     "name": "stdout",
     "output_type": "stream",
     "text": [
      "(2+3j)\n",
      "2+3j\n"
     ]
    }
   ],
   "source": [
    "a=2+3j\n",
    "print(str(a))\n",
    "a=2+3j\n",
    "print(str(a).strip(\"()\"))"
   ]
  },
  {
   "cell_type": "code",
   "execution_count": 14,
   "metadata": {},
   "outputs": [
    {
     "name": "stdout",
     "output_type": "stream",
     "text": [
      "<class 'str'>\n",
      "0x37\n",
      "0x370x37\n",
      "<class 'str'>\n"
     ]
    }
   ],
   "source": [
    "a=hex(55)\n",
    "print(type(a))\n",
    "print(a)\n",
    "\n",
    "c=a+hex(55)\n",
    "print(c)\n",
    "print(type(c))"
   ]
  },
  {
   "cell_type": "code",
   "execution_count": null,
   "metadata": {},
   "outputs": [],
   "source": [
    "a = input()\n",
    "b = input()\n",
    "\n",
    "a = int(a, 16)\n",
    "b = int(b, 16)\n",
    "sum = a+b\n",
    "\n",
    "\n",
    "\n",
    "print(hex(sum))"
   ]
  },
  {
   "cell_type": "code",
   "execution_count": 2,
   "metadata": {},
   "outputs": [
    {
     "name": "stdout",
     "output_type": "stream",
     "text": [
      "hello\n",
      "hello\n",
      "hello\n",
      "hello\n",
      "4\n"
     ]
    }
   ],
   "source": [
    "for g in range(1,5):\n",
    "    print(\"hello\")\n",
    "print(g)"
   ]
  },
  {
   "cell_type": "code",
   "execution_count": 11,
   "metadata": {},
   "outputs": [
    {
     "name": "stdout",
     "output_type": "stream",
     "text": [
      "i am a boy who would like to code in python\n",
      "<class 'list'>\n"
     ]
    },
    {
     "data": {
      "text/plain": [
       "['i', 'am', 'a', 'boy', 'who', 'would', 'like', 'to', 'code', 'in', 'python']"
      ]
     },
     "execution_count": 11,
     "metadata": {},
     "output_type": "execute_result"
    }
   ],
   "source": [
    "list=input().split()\n",
    "print(type(list))\n",
    "list"
   ]
  },
  {
   "cell_type": "code",
   "execution_count": 18,
   "metadata": {},
   "outputs": [
    {
     "name": "stdout",
     "output_type": "stream",
     "text": [
      "i: 1\n",
      "i: 3\n",
      "i: 5\n",
      "i: 2\n",
      "i: 4\n",
      "[1, 2, 3, 4, 5]\n"
     ]
    }
   ],
   "source": [
    "# note\n",
    "li=[1,2,3,4,5,1,2,3,4,5]\n",
    "for i in li:\n",
    "    print(\"i:\",i)\n",
    "    li.remove(i)\n",
    "#     print(\"list is: \",li)\n",
    "print(li) \n",
    "    "
   ]
  },
  {
   "cell_type": "code",
   "execution_count": 19,
   "metadata": {},
   "outputs": [
    {
     "name": "stdout",
     "output_type": "stream",
     "text": [
      "1 2 3 4 5 1 2 3 4 5 2 5\n",
      "[1, 2, 3, 4, 5]\n",
      "[2, 3, 2, 2, 3]\n"
     ]
    }
   ],
   "source": [
    "# extracting the unique elements from a list and counting how many times that element is present in the list\n",
    "list=[int(x) for x in input().split()]\n",
    "ele,count=[],[]\n",
    "for i in list:\n",
    "    if i not in ele:\n",
    "        ele.append(i)\n",
    "        count.append(list.count(i))\n",
    "print(\"ele\",ele)\n",
    "print(\"count\",count)"
   ]
  },
  {
   "cell_type": "code",
   "execution_count": 23,
   "metadata": {},
   "outputs": [
    {
     "name": "stdout",
     "output_type": "stream",
     "text": [
      "276\n",
      "155 129 172 136 134 184 88 150 43 47 5 44 184 129 39 21 167 32 18 122 184 12 111 138 168 40 112 110 80 82 1 82 171 37 56 97 142 121 15 83 186 35 36 122 1 108 74 151 71 74 113 134 103 108 200 180 82 118 52 193 18 188 140 196 66 120 170 93 92 58 31 101 11 153 144 3 190 130 45 175 120 152 160 180 99 179 34 186 15 46 2 75 54 24 5 65 143 153 197 168 51 96 140 116 90 101 97 159 100 11 111 197 173 46 117 162 10 121 76 155 115 164 118 9 124 63 30 37 72 69 38 22 114 171 193 78 130 54 82 65 167 77 193 78 20 90 46 126 140 63 47 64 80 188 16 137 140 188 186 163 123 159 94 195 2 62 23 69 112 82 102 185 16 183 28 136 28 197 21 62 81 200 95 179 124 54 198 106 125 141 53 116 41 126 199 95 90 52 43 32 85 8 25 17 9 181 75 96 54 135 85 167 166 78 6 18 195 6 123 140 180 18 156 170 182 184 7 80 100 31 83 159 15 130 80 187 45 44 65 84 1 51 61 141 190 123 77 157 46 133 126 151 117 12 134 17 97 11 28 185 38 60 83 128 71 176 1 189 13 37 5 81 22 55 14 150 \n",
      "6\n",
      "167 31 24 98 152 159 \n",
      "152\n",
      "24\n"
     ]
    }
   ],
   "source": [
    "def inter(list1,list2):\n",
    "    for i in list1:\n",
    "        if i in list2 and list1.count(i)==1:\n",
    "            print(i)\n",
    "N1=int(input())\n",
    "li1=[int(x) for x in input().split()]\n",
    "N2=int(input())\n",
    "li2=[int(x) for x in input().split()]\n",
    "inter(li1,li2)"
   ]
  },
  {
   "cell_type": "code",
   "execution_count": 26,
   "metadata": {},
   "outputs": [
    {
     "name": "stdout",
     "output_type": "stream",
     "text": [
      "155 129 172 136 134 184 88 150 43 47 5 44 184 129 39 21 167 32 18 122 184 12 111 138 168 40 112 110 80 82 1 82 171 37 56 97 142 121 15 83 186 35 36 122 1 108 74 151 71 74 113 134 103 108 200 180 82 118 52 193 18 188 140 196 66 120 170 93 92 58 31 101 11 153 144 3 190 130 45 175 120 152 160 180 99 179 34 186 15 46 2 75 54 24 5 65 143 153 197 168 51 96 140 116 90 101 97 159 100 11 111 197 173 46 117 162 10 121 76 155 115 164 118 9 124 63 30 37 72 69 38 22 114 171 193 78 130 54 82 65 167 77 193 78 20 90 46 126 140 63 47 64 80 188 16 137 140 188 186 163 123 159 94 195 2 62 23 69 112 82 102 185 16 183 28 136 28 197 21 62 81 200 95 179 124 54 198 106 125 141 53 116 41 126 199 95 90 52 43 32 85 8 25 17 9 181 75 96 54 135 85 167 166 78 6 18 195 6 123 140 180 18 156 170 182 184 7 80 100 31 83 159 15 130 80 187 45 44 65 84 1 51 61 141 190 123 77 157 46 133 126 151 117 12 134 17 97 11 28 185 38 60 83 128 71 176 1 189 13 37 5 81 22 55 14 150 \n",
      "167\n",
      "3\n"
     ]
    }
   ],
   "source": [
    "li=[int(x) for x in input().split()]\n",
    "i=int(input())\n",
    "print(li.count(i))"
   ]
  },
  {
   "cell_type": "code",
   "execution_count": 34,
   "metadata": {},
   "outputs": [
    {
     "name": "stdout",
     "output_type": "stream",
     "text": [
      "958\n",
      "127 12 175 50 155 152 107 104 181 174 29 190 178 128 32 177 90 134 33 18 176 41 156 23 146 192 154 174 81 85 180 72 109 45 93 77 35 69 165 19 114 42 151 103 2 78 164 10 91 89 120 126 139 164 11 115 71 181 178 115 113 76 92 21 44 174 54 101 46 45 179 80 21 76 158 119 1 146 40 142 70 160 24 135 156 171 19 5 98 85 77 55 105 1 198 12 23 44 159 141 120 132 19 135 17 188 131 22 114 47 98 165 170 76 93 121 50 172 200 54 151 92 17 196 16 19 3 126 117 74 66 105 36 156 131 111 142 197 65 9 110 98 170 3 125 59 117 7 75 70 61 10 143 119 119 118 71 24 77 89 107 106 73 117 101 167 73 41 194 87 58 33 176 90 127 153 5 96 33 110 26 40 156 63 30 95 67 140 182 131 118 141 55 99 45 87 87 144 98 146 18 119 150 183 166 197 179 175 24 55 79 139 197 50 97 149 130 99 183 133 17 15 83 151 135 76 193 136 8 141 191 165 46 183 20 125 91 142 20 39 181 59 195 45 181 42 12 105 85 137 136 178 119 101 152 186 102 116 100 70 154 93 151 136 80 11 121 184 68 12 24 116 168 108 79 120 131 158 54 74 71 179 111 78 73 3 156 130 21 3 3 103 167 69 127 21 136 32 73 82 108 120 96 16 117 144 87 144 67 16 164 159 60 42 23 123 129 14 47 147 39 122 118 32 182 169 1 191 125 82 103 127 164 123 164 88 200 177 189 186 29 38 77 132 139 118 186 94 66 44 18 1 16 200 19 58 200 78 26 154 196 159 138 42 22 183 131 155 79 54 171 49 89 24 182 182 66 165 23 131 116 9 79 26 193 106 67 62 123 70 106 135 120 34 144 60 50 182 69 112 8 76 91 173 200 183 33 126 84 134 38 41 127 74 76 138 122 94 91 129 34 56 135 106 129 110 115 51 186 186 65 166 180 74 177 179 109 5 108 61 188 53 30 57 190 137 165 106 41 100 109 119 132 90 177 64 7 126 118 116 184 161 124 127 133 126 185 72 109 192 19 69 31 161 157 55 98 172 131 68 95 87 115 92 108 115 106 164 21 116 183 19 112 135 108 152 192 128 200 87 48 33 170 172 94 93 51 8 75 15 166 99 17 39 100 182 181 171 85 99 113 21 38 74 88 15 139 139 175 14 93 189 187 29 69 138 92 107 189 105 136 7 84 29 49 10 136 121 177 42 105 125 140 142 110 80 82 48 45 167 144 30 17 19 100 174 85 135 41 175 104 104 114 82 197 109 120 15 100 11 61 159 167 146 156 50 156 110 154 137 53 187 200 49 167 96 39 76 59 36 168 108 53 149 121 104 39 127 68 179 55 150 119 156 117 43 152 145 159 143 151 6 143 169 138 147 182 64 131 140 164 172 77 145 130 28 75 58 132 182 118 133 77 103 189 64 130 51 46 64 69 156 52 13 38 90 144 19 196 192 45 190 13 140 159 185 37 87 62 92 14 91 6 56 135 28 143 168 49 192 117 135 193 53 156 13 58 179 148 52 142 120 89 147 20 59 54 65 95 189 159 199 108 67 155 171 16 48 17 110 163 155 97 91 32 56 135 76 10 9 22 45 108 58 171 159 10 68 166 101 112 125 103 164 45 29 99 96 108 74 193 35 44 21 103 24 180 142 119 49 141 38 30 180 137 39 8 172 75 88 27 63 99 74 6 150 36 171 159 32 24 82 32 197 35 51 30 193 58 124 46 169 131 3 131 40 82 11 175 161 90 23 103 16 35 120 128 135 93 184 167 14 81 33 154 12 179 108 187 86 105 191 54 130 143 161 125 84 109 192 18 6 65 18 65 195 84 6 97 7 102 115 43 2 32 48 170 156 8 142 182 122 24 95 125 195 117 183 59 163 49 64 8 18 161 160 97 145 57 148 172 95 147 92 21 32 40 33 63 118 176 117 65 15 68 183 177 161 122 93 71 93 6 22 148 114 145 36 58 99 133 97 168 168 77 88 119 6 109 149 18 2 143 193 110 177 183 87 12 174 147 67 93 76 3 78 28 49 104 136 99 13 24 50 21 66 135 139 71 141 161 142 107 180 109 155 57 178 198 59 107 193 151 68 1 168 93 200 133 88 198 109 119 49 187 11 9 193  560 22 9 97 64 164 108 18 194 200 93 197 57 65 156 59 103 163 142 18 1 104 121 199 135 79 67 86 109 92 198 21 58 27 112 131 155 111 124 36 102 104 130 111 73 152 76 77 81 22 161 157 155 51 181 20 107 140 142 194 17 139 112 74 60 193 75 95 148 50 118 78 89 152 6 59 121 183 47 129 10 181 15 131 176 183 26 102 165 34 88 74 149 24 42 85 129 143 160 26 169 158 193 169 111 55 103 14 184 29 161 134 139 150 51 93 47 91 160 175 187 26 137 64 123 152 28 87 17 150 127 47 38 75 3 177 200 86 129 153 43 145 160 8 7 197 170 43 110 54 142 141 99 7 103 116 125 105 73 100 34 59 151 196 11 77 174 195 17 119 47 193 38 69 71 153 196 87 169 78 34 53 32 89 46 155 142 159 95 157 2 47 42 60 196 102 178 106 176 169 51 111 51 180 69 154 96 8 153 91 128 88 39 15 95 146 24 37 148 114 163 40 175 129 90 111 25 107 105 52 52 184 73 34 3 126 61 164 144 38 51 21 60 110 164 120 143 185 153 179 16 154 126 161 49 36 102 7 69 40 132 75 188 191 34 65 106 95 69 115 20 178 104 135 197 125 187 155 141 183 6 66 142 22 184 67 184 22 23 105 149 50 120 189 136 192 24 15 37 143 36 164 59 129 132 83 138 114 198 116 49 23 187 8 180 185 125 158 113 22 1 95 38 71 41 85 91 70 64 19 128 107 1 148 14 101 174 100 35 150 16 62 125 156 152 47 45 55 154 59 44 20 32 21 80 155 31 16 11 68 168 67 193 39 157 179 192 9 152 57 41 155 63 18 72 104 92 116 172 47 179 29 26 69 45 155 59 44 79 118 193 126 37 188 12 94 160 83 37 112 187 158 200 96 84 129 36 18 59 51 16 94 144 32 160 161 42 118 114 193 175 194 94 57 13 87 55 73 85 90 171 111 163 84 189 39 114 61 56 83 138 48 10 8 8 50 59 143 90 53 108 52 108 139 10 183 83 30 67 2 37 177 76 94 138 194 111 45 104 58 163 176 78 173 167 92 184 51 160 88 159 44 46 182 105 20 193 11 129 174 96 180 6 55 33 124 13 169 137 122 187 43 124 169 168 124 139 7 18 2 83 114 8 194 140 40 135 4 28 171 29 158 173 55 177 13 107 90 43 109 1 29 199 171 49 92 165 37 119 79 123 137 45 53 129 139 127 195 48 135 59 191 9 133 41 173 87 10 181 196 4 \n",
      "\n"
     ]
    },
    {
     "ename": "ValueError",
     "evalue": "invalid literal for int() with base 10: ''",
     "output_type": "error",
     "traceback": [
      "\u001b[1;31m---------------------------------------------------------------------------\u001b[0m",
      "\u001b[1;31mValueError\u001b[0m                                Traceback (most recent call last)",
      "\u001b[1;32m<ipython-input-34-56b509e315bf>\u001b[0m in \u001b[0;36m<module>\u001b[1;34m\u001b[0m\n\u001b[0;32m      8\u001b[0m \u001b[0mN\u001b[0m\u001b[1;33m=\u001b[0m\u001b[0mint\u001b[0m\u001b[1;33m(\u001b[0m\u001b[0minput\u001b[0m\u001b[1;33m(\u001b[0m\u001b[1;33m)\u001b[0m\u001b[1;33m)\u001b[0m\u001b[1;33m\u001b[0m\u001b[1;33m\u001b[0m\u001b[0m\n\u001b[0;32m      9\u001b[0m \u001b[0mlist1\u001b[0m\u001b[1;33m=\u001b[0m\u001b[1;33m[\u001b[0m\u001b[0mint\u001b[0m\u001b[1;33m(\u001b[0m\u001b[0mx\u001b[0m\u001b[1;33m)\u001b[0m \u001b[1;32mfor\u001b[0m \u001b[0mx\u001b[0m \u001b[1;32min\u001b[0m \u001b[0minput\u001b[0m\u001b[1;33m(\u001b[0m\u001b[1;33m)\u001b[0m\u001b[1;33m.\u001b[0m\u001b[0msplit\u001b[0m\u001b[1;33m(\u001b[0m\u001b[1;33m)\u001b[0m\u001b[1;33m]\u001b[0m\u001b[1;33m\u001b[0m\u001b[1;33m\u001b[0m\u001b[0m\n\u001b[1;32m---> 10\u001b[1;33m \u001b[0mN1\u001b[0m\u001b[1;33m=\u001b[0m\u001b[0mint\u001b[0m\u001b[1;33m(\u001b[0m\u001b[0minput\u001b[0m\u001b[1;33m(\u001b[0m\u001b[1;33m)\u001b[0m\u001b[1;33m)\u001b[0m\u001b[1;33m\u001b[0m\u001b[1;33m\u001b[0m\u001b[0m\n\u001b[0m\u001b[0;32m     11\u001b[0m \u001b[0mlist2\u001b[0m\u001b[1;33m=\u001b[0m\u001b[1;33m[\u001b[0m\u001b[0mint\u001b[0m\u001b[1;33m(\u001b[0m\u001b[0mx\u001b[0m\u001b[1;33m)\u001b[0m \u001b[1;32mfor\u001b[0m \u001b[0mx\u001b[0m \u001b[1;32min\u001b[0m \u001b[0minput\u001b[0m\u001b[1;33m(\u001b[0m\u001b[1;33m)\u001b[0m\u001b[1;33m.\u001b[0m\u001b[0msplit\u001b[0m\u001b[1;33m(\u001b[0m\u001b[1;33m)\u001b[0m\u001b[1;33m]\u001b[0m\u001b[1;33m\u001b[0m\u001b[1;33m\u001b[0m\u001b[0m\n\u001b[0;32m     12\u001b[0m \u001b[0mmatch\u001b[0m\u001b[1;33m(\u001b[0m\u001b[0mlist1\u001b[0m\u001b[1;33m,\u001b[0m\u001b[0mlist2\u001b[0m\u001b[1;33m)\u001b[0m\u001b[1;33m\u001b[0m\u001b[1;33m\u001b[0m\u001b[0m\n",
      "\u001b[1;31mValueError\u001b[0m: invalid literal for int() with base 10: ''"
     ]
    }
   ],
   "source": [
    "def match(li1,li2):\n",
    "    for i in range(len(li1)):\n",
    "        for j in range(len(li2)):\n",
    "            if li1[i]==li2[j]:\n",
    "                print(li1[i])\n",
    "                li2[j]=99999\n",
    "                break\n",
    "N=int(input())\n",
    "list1=[int(x) for x in input().split()]\n",
    "N1=int(input())\n",
    "list2=[int(x) for x in input().split()]\n",
    "match(list1,list2)\n",
    "\"\"\"4\n",
    "2 6 1 2\n",
    "5\n",
    "1 2 3 4 2\"\"\""
   ]
  },
  {
   "cell_type": "code",
   "execution_count": null,
   "metadata": {},
   "outputs": [],
   "source": [
    "def match(li1,li2):\n",
    "    ele=[]\n",
    "    for i in li1:\n",
    "        for j in li2:\n",
    "            if i==j:\n",
    "                #if ele.count(i)==0:\n",
    "                 #   ele.append(i)\n",
    "                print(i)\n",
    "                \n",
    "                break\n",
    "    return ele\n",
    "N=int(input())\n",
    "list1=[int(x) for x in input().split()]\n",
    "N1=int(input())\n",
    "list2=[int(x) for x in input().split()]\n",
    "match(list1,list2)\n",
    "#New_List=match(list1,list2)\n",
    "#for i in New_List:\n",
    "    #print(i)"
   ]
  },
  {
   "cell_type": "code",
   "execution_count": 13,
   "metadata": {},
   "outputs": [
    {
     "name": "stdout",
     "output_type": "stream",
     "text": [
      "2\n",
      "1\n"
     ]
    }
   ],
   "source": [
    "def fibonacci(N):\n",
    "    x,y,z=0,1,0\n",
    "    for i in range(1,N):\n",
    "        z=x+y\n",
    "        x,y=y,z\n",
    "    return z\n",
    "N=int(input())\n",
    "fibo_no=fibonacci(N)\n",
    "print(fibo_no)"
   ]
  },
  {
   "cell_type": "code",
   "execution_count": 3,
   "metadata": {},
   "outputs": [
    {
     "name": "stdout",
     "output_type": "stream",
     "text": [
      "hello\n"
     ]
    }
   ],
   "source": [
    "for i in range(0,0):\n",
    "    print(\"i\",i)\n",
    "else:\n",
    "    print(\"hello\")"
   ]
  },
  {
   "cell_type": "code",
   "execution_count": 4,
   "metadata": {},
   "outputs": [
    {
     "ename": "TypeError",
     "evalue": "'int' object is not iterable",
     "output_type": "error",
     "traceback": [
      "\u001b[1;31m---------------------------------------------------------------------------\u001b[0m",
      "\u001b[1;31mTypeError\u001b[0m                                 Traceback (most recent call last)",
      "\u001b[1;32m<ipython-input-4-7e837969dbf2>\u001b[0m in \u001b[0;36m<module>\u001b[1;34m\u001b[0m\n\u001b[0;32m      1\u001b[0m \u001b[0ms\u001b[0m\u001b[1;33m=\u001b[0m\u001b[1;36m1\u001b[0m\u001b[1;33m\u001b[0m\u001b[1;33m\u001b[0m\u001b[0m\n\u001b[1;32m----> 2\u001b[1;33m \u001b[0mlist\u001b[0m\u001b[1;33m(\u001b[0m\u001b[0ms\u001b[0m\u001b[1;33m)\u001b[0m\u001b[1;33m\u001b[0m\u001b[1;33m\u001b[0m\u001b[0m\n\u001b[0m",
      "\u001b[1;31mTypeError\u001b[0m: 'int' object is not iterable"
     ]
    }
   ],
   "source": [
    "s=1\n",
    "list(s)"
   ]
  },
  {
   "cell_type": "code",
   "execution_count": 9,
   "metadata": {},
   "outputs": [
    {
     "name": "stdout",
     "output_type": "stream",
     "text": [
      "225\n",
      "9 10 12 14 19 19 25 26 31 33 33 34 36 37 40 42 43 43 43 45 45 50 52 53 56 56 57 58 58 59 60 61 62 80 83 83 84 84 99 103 103 105 105 105 108 110 114 116 116 121 124 124 127 129 132 136 136 137 143 150 150 151 152 152 160 161 162 163 164 169 172 172 175 176 177 181 184 187 189 191 192 194 196 196 197 203 209 209 210 212 212 213 213 220 224 231 232 235 241 243 249 249 250 254 257 258 260 261 264 265 265 267 272 275 278 279 280 281 282 285 285 290 291 294 296 299 301 301 302 305 306 308 309 311 311 320 322 325 327 328 330 331 332 333 333 334 336 338 339 343 343 346 348 350 351 353 356 358 361 363 365 366 367 368 369 370 372 373 375 375 375 378 382 384 387 387 389 391 393 396 397 398 401 402 408 409 409 412 419 427 429 429 430 431 432 436 436 436 437 438 439 440 440 445 445 452 454 455 455 460 464 466 479 482 482 483 485 486 489 489 492 494 497 499 500 \n",
      "436\n",
      "0 224\n",
      "113 224\n",
      "169 224\n",
      "196\n"
     ]
    }
   ],
   "source": [
    "def Binary_Search(li,ele):\n",
    "    start,end=0,len(li)-1\n",
    "    while start<=end:\n",
    "            mid=(start+end)//2\n",
    "            print(start,end)\n",
    "            if li[mid]==ele:\n",
    "                print(mid)\n",
    "                break\n",
    "            elif li[mid]<ele:\n",
    "                start=mid+1\n",
    "            else:\n",
    "                end=mid-1\n",
    "    else:\n",
    "        print(-1)\n",
    "N=int(input())\n",
    "list=[int(x) for x in input().split()]\n",
    "ele=int(input())\n",
    "Binary_Search(list,ele)"
   ]
  },
  {
   "cell_type": "code",
   "execution_count": 3,
   "metadata": {},
   "outputs": [],
   "source": [
    "def sel_sort(li,start_in=0,end_in=5,reverse=False):\n",
    "    end_in=len(li)\n",
    "    for i in range(start_in,end_in-1):\n",
    "        for j in range(i+1,end_in):\n",
    "            if reverse==False:\n",
    "                if li[i]>li[j]:\n",
    "                    li[i],li[j]=li[j],li[i]\n",
    "            else:\n",
    "                 if li[i]<li[j]:\n",
    "                    li[i],li[j]=li[j],li[i]\n",
    "    return li"
   ]
  },
  {
   "cell_type": "code",
   "execution_count": 1,
   "metadata": {},
   "outputs": [
    {
     "ename": "TypeError",
     "evalue": "object of type 'type' has no len()",
     "output_type": "error",
     "traceback": [
      "\u001b[1;31m---------------------------------------------------------------------------\u001b[0m",
      "\u001b[1;31mTypeError\u001b[0m                                 Traceback (most recent call last)",
      "\u001b[1;32m<ipython-input-1-69d2edd4ba2c>\u001b[0m in \u001b[0;36m<module>\u001b[1;34m\u001b[0m\n\u001b[1;32m----> 1\u001b[1;33m \u001b[1;32mdef\u001b[0m \u001b[0msel_sort\u001b[0m\u001b[1;33m(\u001b[0m\u001b[0mli\u001b[0m\u001b[1;33m,\u001b[0m\u001b[0mstart_in\u001b[0m\u001b[1;33m=\u001b[0m\u001b[1;36m0\u001b[0m\u001b[1;33m,\u001b[0m\u001b[0mend_in\u001b[0m\u001b[1;33m=\u001b[0m\u001b[0mlen\u001b[0m\u001b[1;33m(\u001b[0m\u001b[0mlist\u001b[0m\u001b[1;33m)\u001b[0m\u001b[1;33m,\u001b[0m\u001b[0mreverse\u001b[0m\u001b[1;33m=\u001b[0m\u001b[1;32mFalse\u001b[0m\u001b[1;33m)\u001b[0m\u001b[1;33m:\u001b[0m\u001b[1;33m\u001b[0m\u001b[1;33m\u001b[0m\u001b[0m\n\u001b[0m\u001b[0;32m      2\u001b[0m     \u001b[1;32mfor\u001b[0m \u001b[0mi\u001b[0m \u001b[1;32min\u001b[0m \u001b[0mrange\u001b[0m\u001b[1;33m(\u001b[0m\u001b[0mstart_in\u001b[0m\u001b[1;33m,\u001b[0m\u001b[0mend_in\u001b[0m\u001b[1;33m-\u001b[0m\u001b[1;36m1\u001b[0m\u001b[1;33m)\u001b[0m\u001b[1;33m:\u001b[0m\u001b[1;33m\u001b[0m\u001b[1;33m\u001b[0m\u001b[0m\n\u001b[0;32m      3\u001b[0m         \u001b[1;32mfor\u001b[0m \u001b[0mj\u001b[0m \u001b[1;32min\u001b[0m \u001b[0mrange\u001b[0m\u001b[1;33m(\u001b[0m\u001b[0mi\u001b[0m\u001b[1;33m+\u001b[0m\u001b[1;36m1\u001b[0m\u001b[1;33m,\u001b[0m\u001b[0mend_in\u001b[0m\u001b[1;33m)\u001b[0m\u001b[1;33m:\u001b[0m\u001b[1;33m\u001b[0m\u001b[1;33m\u001b[0m\u001b[0m\n\u001b[0;32m      4\u001b[0m             \u001b[1;32mif\u001b[0m \u001b[0mreverse\u001b[0m\u001b[1;33m==\u001b[0m\u001b[1;32mFalse\u001b[0m\u001b[1;33m:\u001b[0m\u001b[1;33m\u001b[0m\u001b[1;33m\u001b[0m\u001b[0m\n\u001b[0;32m      5\u001b[0m                 \u001b[1;32mif\u001b[0m \u001b[0mli\u001b[0m\u001b[1;33m[\u001b[0m\u001b[0mi\u001b[0m\u001b[1;33m]\u001b[0m\u001b[1;33m>\u001b[0m\u001b[0mli\u001b[0m\u001b[1;33m[\u001b[0m\u001b[0mj\u001b[0m\u001b[1;33m]\u001b[0m\u001b[1;33m:\u001b[0m\u001b[1;33m\u001b[0m\u001b[1;33m\u001b[0m\u001b[0m\n",
      "\u001b[1;31mTypeError\u001b[0m: object of type 'type' has no len()"
     ]
    }
   ],
   "source": [
    "def sel_sort(li,start_in=0,end_in=len(list),reverse=False):\n",
    "    for i in range(start_in,end_in-1):\n",
    "        for j in range(i+1,end_in):\n",
    "            if reverse==False:\n",
    "                if li[i]>li[j]:\n",
    "                    li[i],li[j]=li[j],li[i]\n",
    "            else:\n",
    "                 if li[i]<li[j]:\n",
    "                    li[i],li[j]=li[j],li[i]\n",
    "    return li\n",
    "list=[int(x) for x in input(\"enter a list \").split()]\n",
    "start_in=int(input(\"enter the start index \"))\n",
    "end_in=int(input(\"enter the end index \"))\n",
    "print(sel_sort(start_in,end_in,list))"
   ]
  },
  {
   "cell_type": "code",
   "execution_count": 2,
   "metadata": {},
   "outputs": [
    {
     "name": "stdout",
     "output_type": "stream",
     "text": [
      "1 3 2 4 3 2 1 5 6 9 5 0\n",
      "[0, 1, 1, 2, 2, 3, 3, 4, 5, 5, 6, 9]\n"
     ]
    }
   ],
   "source": [
    "def bubble_sort(li):\n",
    "    length=len(li)\n",
    "    while length>1:\n",
    "        for i in range(length-1):\n",
    "            j=i+1\n",
    "            if li[i]>li[j]:\n",
    "                li[i],li[j]=li[j],li[i]\n",
    "        length=length-1\n",
    "    return li\n",
    "list=[int(x) for x in input().split()]\n",
    "print(bubble_sort(list))"
   ]
  },
  {
   "cell_type": "code",
   "execution_count": 2,
   "metadata": {},
   "outputs": [
    {
     "ename": "SyntaxError",
     "evalue": "invalid syntax (<ipython-input-2-cae76492ed24>, line 1)",
     "output_type": "error",
     "traceback": [
      "\u001b[1;36m  File \u001b[1;32m\"<ipython-input-2-cae76492ed24>\"\u001b[1;36m, line \u001b[1;32m1\u001b[0m\n\u001b[1;33m    for i in range(5,:):\u001b[0m\n\u001b[1;37m                     ^\u001b[0m\n\u001b[1;31mSyntaxError\u001b[0m\u001b[1;31m:\u001b[0m invalid syntax\n"
     ]
    }
   ],
   "source": [
    "for i in range(5,):\n",
    "    print(i)"
   ]
  },
  {
   "cell_type": "code",
   "execution_count": 6,
   "metadata": {},
   "outputs": [
    {
     "name": "stdout",
     "output_type": "stream",
     "text": [
      "4 3 0 1 5 2\n",
      "[5, 2, 1, 0]\n"
     ]
    }
   ],
   "source": [
    "list=[int(x) for x in input().split()]\n",
    "sorted_list=[list[0]]\n",
    "for i in range(1,len(list)):\n",
    "    in_sort=len(sorted_list)-1\n",
    "    while in_sort>=0:\n",
    "        in_sort=in_sort-1\n",
    "        if sorted_list[in_sort]<list[i]:\n",
    "            sorted_list.insert(in_sort,list[i])\n",
    "            break\n",
    "    else:\n",
    "        sorted_list[0]=list[i]\n",
    "print(sorted_list)"
   ]
  },
  {
   "cell_type": "code",
   "execution_count": 1,
   "metadata": {},
   "outputs": [
    {
     "name": "stdout",
     "output_type": "stream",
     "text": [
      "[1]\n"
     ]
    }
   ],
   "source": [
    "def func(indexes):\n",
    "    print(indexes)\n",
    "def check():\n",
    "    indexes=[1]\n",
    "    func(indexes)\n",
    "check()"
   ]
  },
  {
   "cell_type": "code",
   "execution_count": 4,
   "metadata": {},
   "outputs": [
    {
     "name": "stdout",
     "output_type": "stream",
     "text": [
      "5\n",
      "0 2 0 1 0 5 0\n",
      "0\n",
      "2 1 5 0 0 0 0 "
     ]
    }
   ],
   "source": [
    "def move_towards_end(li,ele):\n",
    "    k=0\n",
    "    for i in range(len(li)):\n",
    "        if li[i]!=ele:\n",
    "            li[k],li[i]=li[i],li[k]\n",
    "            k=k+1\n",
    "    return li\n",
    "N=int(input())\n",
    "list=[int(x) for x in input().split()]\n",
    "ele=int(input())\n",
    "new_list=move_towards_end(list,ele)\n",
    "for x in new_list:\n",
    "    print(x,end=\" \")"
   ]
  },
  {
   "cell_type": "code",
   "execution_count": 1,
   "metadata": {},
   "outputs": [
    {
     "data": {
      "text/plain": [
       "0"
      ]
     },
     "execution_count": 1,
     "metadata": {},
     "output_type": "execute_result"
    }
   ],
   "source": [
    "temp=[]\n",
    "len(temp)"
   ]
  },
  {
   "cell_type": "code",
   "execution_count": 5,
   "metadata": {},
   "outputs": [
    {
     "name": "stdout",
     "output_type": "stream",
     "text": [
      "12341\n"
     ]
    }
   ],
   "source": [
    "y=\"1234\"\n",
    "x=1\n",
    "x=str(x)\n",
    "y+=x\n",
    "print(y)"
   ]
  },
  {
   "cell_type": "code",
   "execution_count": 7,
   "metadata": {},
   "outputs": [
    {
     "name": "stdout",
     "output_type": "stream",
     "text": [
      "aaabbccdsa\n",
      "a3b2c2dsa\n"
     ]
    }
   ],
   "source": [
    "def compress(str1):\n",
    "    c_str,i=\"\",0\n",
    "    while i<len(str1):\n",
    "        count=1\n",
    "        for j in range(i+1,len(str1)):\n",
    "            if str1[i]==str1[j]:\n",
    "                count=count+1\n",
    "                i=j\n",
    "            else:\n",
    "                break\n",
    "        c_str+=str1[i]\n",
    "        if count!=1:\n",
    "            c_str+=str(count)\n",
    "        i=i+1\n",
    "    return c_str\n",
    "\n",
    "string=input()\n",
    "c_string=compress(string)\n",
    "print(c_string)"
   ]
  },
  {
   "cell_type": "code",
   "execution_count": 2,
   "metadata": {},
   "outputs": [
    {
     "name": "stdout",
     "output_type": "stream",
     "text": [
      "1 1 2 2 3 4 "
     ]
    }
   ],
   "source": [
    "li=[1,2,3,4,5,6]\n",
    "li2=[1,2,3,4,1,2,7,8]\n",
    "for ele in li:\n",
    "    for ele1 in li2:\n",
    "        if ele==ele1:\n",
    "            print(ele,end=\" \")\n"
   ]
  },
  {
   "cell_type": "raw",
   "metadata": {},
   "source": [
    "list comprehension"
   ]
  },
  {
   "cell_type": "code",
   "execution_count": 5,
   "metadata": {},
   "outputs": [
    {
     "name": "stdout",
     "output_type": "stream",
     "text": [
      "[1, 4, 9, 16]\n",
      "[1, 4, 9, 16]\n"
     ]
    }
   ],
   "source": [
    "# make a new list which contains the square of the elements present in list li\n",
    "li=[1,2,3,4]\n",
    "new_li=[]\n",
    "for ele in li:\n",
    "    new_li.append(ele**2)\n",
    "print(new_li)\n",
    "# same work can also be done in one line as\n",
    "new_li1=[ele**2 for ele in li]\n",
    "print(new_li)"
   ]
  },
  {
   "cell_type": "code",
   "execution_count": 7,
   "metadata": {},
   "outputs": [
    {
     "name": "stdout",
     "output_type": "stream",
     "text": [
      "[4, 16, 36, 64]\n",
      "[4, 16, 36, 64]\n"
     ]
    }
   ],
   "source": [
    "# make a new list which contains the square of only those elements of li that are even in nature\n",
    "li=[1,2,3,4,5,6,7,8,9]\n",
    "new_li=[]\n",
    "for ele in li:\n",
    "    if ele%2==0:\n",
    "        new_li.append(ele**2)\n",
    "print(new_li)\n",
    "# same work can also be done in one line by using list cmprehension as\n",
    "new_li1=[ele**2 for ele in li if ele%2==0] # here first for exprssion is excecuted and then the conditional that\n",
    "print(new_li1)                             # is written in front of it gets exccuted\n"
   ]
  },
  {
   "cell_type": "code",
   "execution_count": 10,
   "metadata": {},
   "outputs": [
    {
     "name": "stdout",
     "output_type": "stream",
     "text": [
      "[36]\n",
      "[36]\n"
     ]
    }
   ],
   "source": [
    "# make a new list which contains the square of only those elements which are multiple of both 2 and 3\n",
    "li=[1,2,3,4,5,6,7,8,9]\n",
    "new_li=[]\n",
    "for ele in li:\n",
    "    if ele%2==0:\n",
    "        if ele%3==0:\n",
    "            new_li.append(ele**2)\n",
    "print(new_li)\n",
    "# by list comprehension\n",
    "new_li1=[ele**2 for ele in li if ele%2==0 if ele%3==0] # if in a list comprehension statement more then one conditonal\n",
    "print(new_li1)                                         # is present then the conditional which cames first gets exceuted first\n",
    "# and other if conditions are treated as if they are presnt inside the first conditional as hown above."
   ]
  },
  {
   "cell_type": "code",
   "execution_count": 12,
   "metadata": {},
   "outputs": [
    {
     "name": "stdout",
     "output_type": "stream",
     "text": [
      "[4, 9, 16, 36]\n",
      "[4, 9, 16, 36]\n"
     ]
    }
   ],
   "source": [
    "# make a new list which contains the square of only those elements which are common to both of the lists\n",
    "li=[1,2,3,4,5,6,7,8]\n",
    "li1=[2,3,6,4,10,9,0]\n",
    "new_li=[]\n",
    "for ele in li:\n",
    "    for ele1 in li1:\n",
    "        if ele==ele1:\n",
    "            new_li.append(ele**2)\n",
    "print(new_li)\n",
    "# by list comprehension\n",
    "new_li=[ele**2 for ele in li for ele1 in li1 if ele==ele1]\n",
    "print(new_li)"
   ]
  },
  {
   "cell_type": "code",
   "execution_count": 16,
   "metadata": {},
   "outputs": [
    {
     "name": "stdout",
     "output_type": "stream",
     "text": [
      "[144, 36]\n",
      "[144, 36]\n"
     ]
    }
   ],
   "source": [
    "# make a new list which contains the square of only those elements which are common to both list and are multiple of either 2 and 3\n",
    "li=[1,2,3,4,12,6,7,8]\n",
    "li1=[2,3,6,4,10,12,0]\n",
    "new_li=[]\n",
    "for ele in li:\n",
    "    for ele1 in li1:\n",
    "        if ele==ele1:\n",
    "            if ele%2==0 and ele%3==0:\n",
    "                new_li.append(ele**2)\n",
    "print(new_li)\n",
    "# by list comprehension\n",
    "new_li1=[ele**2 for ele in li for ele1 in li1 if ele==ele1 if ele%2==0 and ele%3==0]\n",
    "print(new_li1)"
   ]
  },
  {
   "cell_type": "code",
   "execution_count": 20,
   "metadata": {},
   "outputs": [
    {
     "name": "stdout",
     "output_type": "stream",
     "text": [
      "[0.5, 4, 16, 3.5, 64]\n",
      "[0.5, 4, 16, 3.5, 64]\n"
     ]
    }
   ],
   "source": [
    "# make a list which contains the square of those elements which are not the multiple of 3 but are multiple of 2 else it contains the elements divided by 2\n",
    "li=[1,2,3,4,12,6,7,8,9,0]\n",
    "new_li=[]\n",
    "for ele in li:\n",
    "        if ele%3!=0:\n",
    "            if ele%2==0:\n",
    "                new_li.append(ele**2)\n",
    "            else:\n",
    "                new_li.append(ele/2)\n",
    "print(new_li)\n",
    "# by list comprehension\n",
    "new_li1=[ele**2 if ele%2==0 else ele/2 for ele in li if ele%3!=0]\n",
    "print(new_li1)"
   ]
  },
  {
   "cell_type": "code",
   "execution_count": 24,
   "metadata": {},
   "outputs": [
    {
     "name": "stdout",
     "output_type": "stream",
     "text": [
      "[['p', 'a', 'r', 'i', 'k', 'h'], ['r', 'o', 'h', 'a', 'n'], ['m', 'o', 'h', 'a', 'n']]\n",
      "[['p', 'a', 'r', 'i', 'k', 'h'], ['r', 'o', 'h', 'a', 'n'], ['m', 'o', 'h', 'a', 'n']]\n"
     ]
    }
   ],
   "source": [
    "# construct a 2'd list from the given 1'd list\n",
    "li=[\"parikh\",\"rohan\",\"mohan\"]\n",
    "two_d=[]\n",
    "for ele in li:\n",
    "    temp=[]\n",
    "    for char in ele:\n",
    "        temp.append(char)\n",
    "    two_d.append(temp)\n",
    "print(two_d)\n",
    "# by list comprehension\n",
    "new_li1=[[char for char in ele]for ele in li]\n",
    "print(new_li1)"
   ]
  },
  {
   "cell_type": "code",
   "execution_count": 29,
   "metadata": {},
   "outputs": [
    {
     "name": "stdout",
     "output_type": "stream",
     "text": [
      "[3, 4, 1.5, 16, 6.0, 3.0, 9, 64, 4.5, 0.0]\n",
      "[3, 4, 1.5, 16, 6.0, 3.0, 9, 64, 4.5, 0.0]\n"
     ]
    }
   ],
   "source": [
    "li=[1,2,3,4,12,6,7,8,9,0]\n",
    "new_li=[(ele**2 if ele%2==0 else ele+2) if ele%3!=0 else ele/2 for ele in li]\n",
    "print(new_li)\n",
    "# in this case the style shown below is more preffered\n",
    "new_li1=[]\n",
    "for ele in li:\n",
    "    if ele%3!=0:\n",
    "        if ele%2==0:\n",
    "            new_li1.append(ele**2)\n",
    "        else:\n",
    "            new_li1.append(ele+2)\n",
    "    else:\n",
    "        new_li1.append(ele/2)\n",
    "print(new_li1)"
   ]
  },
  {
   "cell_type": "code",
   "execution_count": 32,
   "metadata": {},
   "outputs": [
    {
     "ename": "SyntaxError",
     "evalue": "invalid syntax (<ipython-input-32-22a6735960d7>, line 10)",
     "output_type": "error",
     "traceback": [
      "\u001b[1;36m  File \u001b[1;32m\"<ipython-input-32-22a6735960d7>\"\u001b[1;36m, line \u001b[1;32m10\u001b[0m\n\u001b[1;33m    new_li1=[ele*2 if ele%3!=0 if ele%2==0 else ele/2 for ele in list]\u001b[0m\n\u001b[1;37m                                ^\u001b[0m\n\u001b[1;31mSyntaxError\u001b[0m\u001b[1;31m:\u001b[0m invalid syntax\n"
     ]
    }
   ],
   "source": [
    "list=[1,2,3,4,5,6,7,8,9,0]\n",
    "new_list=[]\n",
    "for ele in list:\n",
    "    if ele%2==0:\n",
    "        if ele%3!=0:\n",
    "            new_list.append(ele*2)\n",
    "    else:\n",
    "        new_list.append(ele/2)\n",
    "print(new_list)\n",
    "new_li1=[(ele*2 if ele%3!=0) if ele%2==0 else ele/2 for ele in list]"
   ]
  },
  {
   "cell_type": "code",
   "execution_count": 34,
   "metadata": {},
   "outputs": [
    {
     "ename": "SyntaxError",
     "evalue": "invalid syntax (<ipython-input-34-1a79dafc3fd8>, line 1)",
     "output_type": "error",
     "traceback": [
      "\u001b[1;36m  File \u001b[1;32m\"<ipython-input-34-1a79dafc3fd8>\"\u001b[1;36m, line \u001b[1;32m1\u001b[0m\n\u001b[1;33m    list=[int(x)] [for x in input().split()]\u001b[0m\n\u001b[1;37m                     ^\u001b[0m\n\u001b[1;31mSyntaxError\u001b[0m\u001b[1;31m:\u001b[0m invalid syntax\n"
     ]
    }
   ],
   "source": [
    "list=[int(x)] for x in input().split()]\n",
    "print(list)"
   ]
  },
  {
   "cell_type": "code",
   "execution_count": 1,
   "metadata": {},
   "outputs": [
    {
     "name": "stdout",
     "output_type": "stream",
     "text": [
      "1\n",
      "2\n",
      "3\n",
      "4\n",
      "1 2 3 4 \n"
     ]
    }
   ],
   "source": [
    "li=[1,2,3,4,[1,2,3,4]]\n",
    "for ele in li:\n",
    "    if type(ele)==list:\n",
    "        for ele1 in ele:\n",
    "            print(ele1,end=\" \")\n",
    "        print()\n",
    "    else:\n",
    "        print(ele)"
   ]
  },
  {
   "cell_type": "code",
   "execution_count": 8,
   "metadata": {},
   "outputs": [
    {
     "name": "stdout",
     "output_type": "stream",
     "text": [
      "1 2 3 4\n",
      "['1', '2', '3 4']\n"
     ]
    }
   ],
   "source": [
    "# m,n=[int(x) for x in input().split()]\n",
    "# print(m,n)\n",
    "x=input().split(\" \",2)\n",
    "print(x)"
   ]
  },
  {
   "cell_type": "code",
   "execution_count": 11,
   "metadata": {},
   "outputs": [
    {
     "name": "stdout",
     "output_type": "stream",
     "text": [
      "4\n",
      "1 2 3 4 5 6 7 8\n",
      "dfds\n"
     ]
    },
    {
     "ename": "ValueError",
     "evalue": "invalid literal for int() with base 10: 'dfds'",
     "output_type": "error",
     "traceback": [
      "\u001b[1;31m---------------------------------------------------------------------------\u001b[0m",
      "\u001b[1;31mValueError\u001b[0m                                Traceback (most recent call last)",
      "\u001b[1;32m<ipython-input-11-8d6fc4e65d63>\u001b[0m in \u001b[0;36m<module>\u001b[1;34m\u001b[0m\n\u001b[0;32m     10\u001b[0m     \u001b[1;32mreturn\u001b[0m \u001b[0msum_str\u001b[0m\u001b[1;33m\u001b[0m\u001b[1;33m\u001b[0m\u001b[0m\n\u001b[0;32m     11\u001b[0m \u001b[0mn\u001b[0m\u001b[1;33m=\u001b[0m\u001b[0mint\u001b[0m\u001b[1;33m(\u001b[0m\u001b[0minput\u001b[0m\u001b[1;33m(\u001b[0m\u001b[1;33m)\u001b[0m\u001b[1;33m)\u001b[0m\u001b[1;33m\u001b[0m\u001b[1;33m\u001b[0m\u001b[0m\n\u001b[1;32m---> 12\u001b[1;33m \u001b[0mt_d_li\u001b[0m\u001b[1;33m=\u001b[0m\u001b[1;33m[\u001b[0m\u001b[1;33m[\u001b[0m\u001b[0mint\u001b[0m\u001b[1;33m(\u001b[0m\u001b[0mj\u001b[0m\u001b[1;33m)\u001b[0m \u001b[1;32mfor\u001b[0m \u001b[0mj\u001b[0m \u001b[1;32min\u001b[0m \u001b[0minput\u001b[0m\u001b[1;33m(\u001b[0m\u001b[1;33m)\u001b[0m\u001b[1;33m.\u001b[0m\u001b[0msplit\u001b[0m\u001b[1;33m(\u001b[0m\u001b[1;33m)\u001b[0m\u001b[1;33m]\u001b[0m\u001b[1;32mfor\u001b[0m \u001b[0mi\u001b[0m \u001b[1;32min\u001b[0m \u001b[0mrange\u001b[0m\u001b[1;33m(\u001b[0m\u001b[0mn\u001b[0m\u001b[1;33m)\u001b[0m\u001b[1;33m]\u001b[0m\u001b[1;33m\u001b[0m\u001b[1;33m\u001b[0m\u001b[0m\n\u001b[0m\u001b[0;32m     13\u001b[0m \u001b[0msum_str\u001b[0m\u001b[1;33m=\u001b[0m\u001b[0mrow_wise_sum\u001b[0m\u001b[1;33m(\u001b[0m\u001b[0mt_d_li\u001b[0m\u001b[1;33m)\u001b[0m\u001b[1;33m\u001b[0m\u001b[1;33m\u001b[0m\u001b[0m\n\u001b[0;32m     14\u001b[0m \u001b[0mprint\u001b[0m\u001b[1;33m(\u001b[0m\u001b[0msum_str\u001b[0m\u001b[1;33m)\u001b[0m\u001b[1;33m\u001b[0m\u001b[1;33m\u001b[0m\u001b[0m\n",
      "\u001b[1;32m<ipython-input-11-8d6fc4e65d63>\u001b[0m in \u001b[0;36m<listcomp>\u001b[1;34m(.0)\u001b[0m\n\u001b[0;32m     10\u001b[0m     \u001b[1;32mreturn\u001b[0m \u001b[0msum_str\u001b[0m\u001b[1;33m\u001b[0m\u001b[1;33m\u001b[0m\u001b[0m\n\u001b[0;32m     11\u001b[0m \u001b[0mn\u001b[0m\u001b[1;33m=\u001b[0m\u001b[0mint\u001b[0m\u001b[1;33m(\u001b[0m\u001b[0minput\u001b[0m\u001b[1;33m(\u001b[0m\u001b[1;33m)\u001b[0m\u001b[1;33m)\u001b[0m\u001b[1;33m\u001b[0m\u001b[1;33m\u001b[0m\u001b[0m\n\u001b[1;32m---> 12\u001b[1;33m \u001b[0mt_d_li\u001b[0m\u001b[1;33m=\u001b[0m\u001b[1;33m[\u001b[0m\u001b[1;33m[\u001b[0m\u001b[0mint\u001b[0m\u001b[1;33m(\u001b[0m\u001b[0mj\u001b[0m\u001b[1;33m)\u001b[0m \u001b[1;32mfor\u001b[0m \u001b[0mj\u001b[0m \u001b[1;32min\u001b[0m \u001b[0minput\u001b[0m\u001b[1;33m(\u001b[0m\u001b[1;33m)\u001b[0m\u001b[1;33m.\u001b[0m\u001b[0msplit\u001b[0m\u001b[1;33m(\u001b[0m\u001b[1;33m)\u001b[0m\u001b[1;33m]\u001b[0m\u001b[1;32mfor\u001b[0m \u001b[0mi\u001b[0m \u001b[1;32min\u001b[0m \u001b[0mrange\u001b[0m\u001b[1;33m(\u001b[0m\u001b[0mn\u001b[0m\u001b[1;33m)\u001b[0m\u001b[1;33m]\u001b[0m\u001b[1;33m\u001b[0m\u001b[1;33m\u001b[0m\u001b[0m\n\u001b[0m\u001b[0;32m     13\u001b[0m \u001b[0msum_str\u001b[0m\u001b[1;33m=\u001b[0m\u001b[0mrow_wise_sum\u001b[0m\u001b[1;33m(\u001b[0m\u001b[0mt_d_li\u001b[0m\u001b[1;33m)\u001b[0m\u001b[1;33m\u001b[0m\u001b[1;33m\u001b[0m\u001b[0m\n\u001b[0;32m     14\u001b[0m \u001b[0mprint\u001b[0m\u001b[1;33m(\u001b[0m\u001b[0msum_str\u001b[0m\u001b[1;33m)\u001b[0m\u001b[1;33m\u001b[0m\u001b[1;33m\u001b[0m\u001b[0m\n",
      "\u001b[1;32m<ipython-input-11-8d6fc4e65d63>\u001b[0m in \u001b[0;36m<listcomp>\u001b[1;34m(.0)\u001b[0m\n\u001b[0;32m     10\u001b[0m     \u001b[1;32mreturn\u001b[0m \u001b[0msum_str\u001b[0m\u001b[1;33m\u001b[0m\u001b[1;33m\u001b[0m\u001b[0m\n\u001b[0;32m     11\u001b[0m \u001b[0mn\u001b[0m\u001b[1;33m=\u001b[0m\u001b[0mint\u001b[0m\u001b[1;33m(\u001b[0m\u001b[0minput\u001b[0m\u001b[1;33m(\u001b[0m\u001b[1;33m)\u001b[0m\u001b[1;33m)\u001b[0m\u001b[1;33m\u001b[0m\u001b[1;33m\u001b[0m\u001b[0m\n\u001b[1;32m---> 12\u001b[1;33m \u001b[0mt_d_li\u001b[0m\u001b[1;33m=\u001b[0m\u001b[1;33m[\u001b[0m\u001b[1;33m[\u001b[0m\u001b[0mint\u001b[0m\u001b[1;33m(\u001b[0m\u001b[0mj\u001b[0m\u001b[1;33m)\u001b[0m \u001b[1;32mfor\u001b[0m \u001b[0mj\u001b[0m \u001b[1;32min\u001b[0m \u001b[0minput\u001b[0m\u001b[1;33m(\u001b[0m\u001b[1;33m)\u001b[0m\u001b[1;33m.\u001b[0m\u001b[0msplit\u001b[0m\u001b[1;33m(\u001b[0m\u001b[1;33m)\u001b[0m\u001b[1;33m]\u001b[0m\u001b[1;32mfor\u001b[0m \u001b[0mi\u001b[0m \u001b[1;32min\u001b[0m \u001b[0mrange\u001b[0m\u001b[1;33m(\u001b[0m\u001b[0mn\u001b[0m\u001b[1;33m)\u001b[0m\u001b[1;33m]\u001b[0m\u001b[1;33m\u001b[0m\u001b[1;33m\u001b[0m\u001b[0m\n\u001b[0m\u001b[0;32m     13\u001b[0m \u001b[0msum_str\u001b[0m\u001b[1;33m=\u001b[0m\u001b[0mrow_wise_sum\u001b[0m\u001b[1;33m(\u001b[0m\u001b[0mt_d_li\u001b[0m\u001b[1;33m)\u001b[0m\u001b[1;33m\u001b[0m\u001b[1;33m\u001b[0m\u001b[0m\n\u001b[0;32m     14\u001b[0m \u001b[0mprint\u001b[0m\u001b[1;33m(\u001b[0m\u001b[0msum_str\u001b[0m\u001b[1;33m)\u001b[0m\u001b[1;33m\u001b[0m\u001b[1;33m\u001b[0m\u001b[0m\n",
      "\u001b[1;31mValueError\u001b[0m: invalid literal for int() with base 10: 'dfds'"
     ]
    }
   ],
   "source": [
    "# row_wise sum of a t_d_Array\n",
    "def row_wise_sum(T_d_li):\n",
    "    temp_sum=[]\n",
    "    for row in T_d_li:\n",
    "        r_sum=0\n",
    "        for col in row:\n",
    "            r_sum=r_sum+col\n",
    "        temp_sum.append(r_sum)\n",
    "    sum_str=\" \".join([str(x) for x in temp_sum])\n",
    "    return sum_str\n",
    "n=int(input())\n",
    "t_d_li=[[int(j) for j in input().split()]for i in range(n)]\n",
    "sum_str=row_wise_sum(t_d_li)\n",
    "print(sum_str)        \n",
    "        "
   ]
  },
  {
   "cell_type": "code",
   "execution_count": null,
   "metadata": {},
   "outputs": [],
   "source": [
    "m, n=(int(i) for i in input().strip().split(' '))\n",
    "l=[int(i) for i in input().strip().split(' ')]\n",
    "arr = [ [ l[(j*n)+i] for i in range(n)] for j in range(m)]\n",
    "l=rowWiseSum(arr)\n",
    "print(*l)\n"
   ]
  },
  {
   "cell_type": "code",
   "execution_count": null,
   "metadata": {},
   "outputs": [
    {
     "name": "stdout",
     "output_type": "stream",
     "text": [
      "3\n",
      "1 2 3\n",
      "4 5 6\n"
     ]
    }
   ],
   "source": [
    "# row wise sum of a two dimensional list\n",
    "def row_wise_sum(t_list):\n",
    "    R_sum=[]\n",
    "    for row in t_list:\n",
    "        I_R_sum=0\n",
    "        for ele in row:\n",
    "            I_R_sum=I_R_sum+ele\n",
    "        R_sum.append(I_R_sum)\n",
    "    return R_sum\n",
    "n=int(input())\n",
    "li=[[int(j) for j in input().split()] for i in range(n)]\n",
    "row_sum=row_wise_sum(li)\n",
    "print(*row_sum)\n",
    "N1=int(input())\n",
    "li1=[[int(j) for j in input().split()] for i in range(n)]\n",
    "row_sum1=row_wise_sum(li1)\n",
    "print(row_wise_sum)"
   ]
  },
  {
   "cell_type": "code",
   "execution_count": 3,
   "metadata": {},
   "outputs": [
    {
     "ename": "TypeError",
     "evalue": "print() argument after * must be an iterable, not int",
     "output_type": "error",
     "traceback": [
      "\u001b[1;31m---------------------------------------------------------------------------\u001b[0m",
      "\u001b[1;31mTypeError\u001b[0m                                 Traceback (most recent call last)",
      "\u001b[1;32m<ipython-input-3-3d092e5eab22>\u001b[0m in \u001b[0;36m<module>\u001b[1;34m\u001b[0m\n\u001b[0;32m      1\u001b[0m \u001b[0mx\u001b[0m\u001b[1;33m=\u001b[0m\u001b[1;36m1\u001b[0m\u001b[1;33m\u001b[0m\u001b[1;33m\u001b[0m\u001b[0m\n\u001b[1;32m----> 2\u001b[1;33m \u001b[0mprint\u001b[0m\u001b[1;33m(\u001b[0m\u001b[1;33m*\u001b[0m\u001b[0mx\u001b[0m\u001b[1;33m)\u001b[0m\u001b[1;33m\u001b[0m\u001b[1;33m\u001b[0m\u001b[0m\n\u001b[0m\u001b[0;32m      3\u001b[0m \u001b[0mx\u001b[0m\u001b[1;33m=\u001b[0m\u001b[1;34m\"ram\"\u001b[0m\u001b[1;33m\u001b[0m\u001b[1;33m\u001b[0m\u001b[0m\n\u001b[0;32m      4\u001b[0m \u001b[0mprint\u001b[0m\u001b[1;33m(\u001b[0m\u001b[1;33m*\u001b[0m\u001b[0mx\u001b[0m\u001b[1;33m)\u001b[0m\u001b[1;33m\u001b[0m\u001b[1;33m\u001b[0m\u001b[0m\n",
      "\u001b[1;31mTypeError\u001b[0m: print() argument after * must be an iterable, not int"
     ]
    }
   ],
   "source": [
    "x=1\n",
    "print(*x)\n",
    "x=\"ram\"\n",
    "print(*x)"
   ]
  },
  {
   "cell_type": "code",
   "execution_count": 9,
   "metadata": {},
   "outputs": [
    {
     "name": "stdout",
     "output_type": "stream",
     "text": [
      "1 2 3 \n"
     ]
    },
    {
     "data": {
      "text/plain": [
       "<generator object <genexpr> at 0x00000266EEC8B2C8>"
      ]
     },
     "execution_count": 9,
     "metadata": {},
     "output_type": "execute_result"
    }
   ],
   "source": [
    "# *s=1\n",
    "# *a=[\"neel prakash\",1,2,3]\n",
    "# print(a)\n",
    "(int(j) for j in input().split())"
   ]
  },
  {
   "cell_type": "code",
   "execution_count": 8,
   "metadata": {},
   "outputs": [
    {
     "name": "stdout",
     "output_type": "stream",
     "text": [
      "ram is known to me\n",
      "1233432449872\n",
      "1233432449872\n",
      "[1, 2, 3, 4]\n",
      "[1, 2, 3, 4]\n"
     ]
    }
   ],
   "source": [
    "import copy\n",
    "a=\"ram is known to me\"\n",
    "b=copy.deepcopy(a)\n",
    "print(b)\n",
    "print(id(a))\n",
    "print(id(b))\n"
   ]
  },
  {
   "cell_type": "code",
   "execution_count": 8,
   "metadata": {},
   "outputs": [
    {
     "name": "stdout",
     "output_type": "stream",
     "text": [
      "[1, 2, 3, 4] [1, 2, 3, 4]\n",
      "[1, 2, 3, 4] [9, 2, 3, 4]\n",
      "[1, 2, 3, 4] [1, 2, 3, 4]\n",
      "[8, 2, 3, 4] [9, 2, 3, 4] [1, 2, 3, 4]\n"
     ]
    }
   ],
   "source": [
    "list1=[1,2,3,4]\n",
    "list2=copy.copy(list1)\n",
    "print(list1,list2)\n",
    "list2[0]=9\n",
    "print(list1,list2)\n",
    "list3=copy.deepcopy(list1)\n",
    "print(list1,list3)\n",
    "list1[0]=8\n",
    "print(list1,list2,list3)"
   ]
  },
  {
   "cell_type": "code",
   "execution_count": 12,
   "metadata": {},
   "outputs": [
    {
     "name": "stdout",
     "output_type": "stream",
     "text": [
      "[1, 2, 3, 4]\n",
      "[1, 2, 3, 4]\n",
      "[1, 2, 3, 4] [5, 2, 3, 4]\n"
     ]
    }
   ],
   "source": [
    "x=[1,2,3,4]\n",
    "y=x.copy()\n",
    "print(x)\n",
    "print(y)\n",
    "y[0]=5\n",
    "print(x,y)"
   ]
  },
  {
   "cell_type": "code",
   "execution_count": 22,
   "metadata": {},
   "outputs": [
    {
     "name": "stdout",
     "output_type": "stream",
     "text": [
      "[1, 2, 3, 4] [1, 2, 3, 4]\n",
      "[1, 2, 3, 4] [1, 2, 3, 4] [1, 2, 3, 4]\n",
      "1498356577352 1498356577352 1498357919944\n",
      "[1, 2, 3, 4, [4, 5, 6, 7]]:[1, 2, 3, 4, [4, 5, 6, 7]]:[1, 2, 3, 4]\n",
      "\n",
      "[1, 2, 3, 4, [9, 5, 6, 7]]:[1, 2, 3, 4]\n",
      "[1, 2, 7, 4, [9, 5, 6, 7]]:[1, 2, 3, 4]\n"
     ]
    }
   ],
   "source": [
    "li=[1,2,3,4]\n",
    "li1=li\n",
    "print(li,li1)\n",
    "li2=list(li1)\n",
    "print(li,li1,li2)\n",
    "print(id(li),id(li1),id(li2))\n",
    "li1.append([4,5,6,7])\n",
    "print(li,li1,li2,sep=\":\")\n",
    "print()\n",
    "li1[4][0]=9\n",
    "print(li1,li2,sep=\":\")\n",
    "li1[2]=7\n",
    "print(li1,li2,sep=\":\")"
   ]
  },
  {
   "cell_type": "code",
   "execution_count": 24,
   "metadata": {},
   "outputs": [],
   "source": [
    "x=[1,2,3,4]\n",
    "y=x.copy()"
   ]
  },
  {
   "cell_type": "code",
   "execution_count": 32,
   "metadata": {},
   "outputs": [
    {
     "name": "stdout",
     "output_type": "stream",
     "text": [
      "{1: 1, 3: 4} {1: 2, 3: 4}\n"
     ]
    }
   ],
   "source": [
    "x={1:2,3:4}\n",
    "y=x.copy()\n",
    "x[1]=1\n",
    "print(x,y)"
   ]
  },
  {
   "cell_type": "markdown",
   "metadata": {},
   "source": [
    "ITERATOR OBJECT"
   ]
  },
  {
   "cell_type": "code",
   "execution_count": 77,
   "metadata": {},
   "outputs": [
    {
     "name": "stdout",
     "output_type": "stream",
     "text": [
      "a\n",
      "tuple of z1 ()\n"
     ]
    },
    {
     "ename": "ValueError",
     "evalue": "max() arg is an empty sequence",
     "output_type": "error",
     "traceback": [
      "\u001b[1;31m---------------------------------------------------------------------------\u001b[0m",
      "\u001b[1;31mValueError\u001b[0m                                Traceback (most recent call last)",
      "\u001b[1;32m<ipython-input-77-f45c5de3644a>\u001b[0m in \u001b[0;36m<module>\u001b[1;34m\u001b[0m\n\u001b[0;32m     13\u001b[0m \u001b[0mz2\u001b[0m\u001b[1;33m=\u001b[0m\u001b[0mtuple\u001b[0m\u001b[1;33m(\u001b[0m\u001b[0mz1\u001b[0m\u001b[1;33m)\u001b[0m\u001b[1;33m\u001b[0m\u001b[1;33m\u001b[0m\u001b[0m\n\u001b[0;32m     14\u001b[0m \u001b[0mprint\u001b[0m\u001b[1;33m(\u001b[0m\u001b[1;34m\"tuple of z1\"\u001b[0m\u001b[1;33m,\u001b[0m\u001b[0mz2\u001b[0m\u001b[1;33m)\u001b[0m\u001b[1;33m\u001b[0m\u001b[1;33m\u001b[0m\u001b[0m\n\u001b[1;32m---> 15\u001b[1;33m \u001b[0mprint\u001b[0m\u001b[1;33m(\u001b[0m\u001b[0mmax\u001b[0m\u001b[1;33m(\u001b[0m\u001b[0mz1\u001b[0m\u001b[1;33m)\u001b[0m\u001b[1;33m)\u001b[0m\u001b[1;33m\u001b[0m\u001b[1;33m\u001b[0m\u001b[0m\n\u001b[0m\u001b[0;32m     16\u001b[0m \u001b[0mprint\u001b[0m\u001b[1;33m(\u001b[0m\u001b[1;34m\"r\"\u001b[0m \u001b[1;32min\u001b[0m \u001b[0mz1\u001b[0m\u001b[1;33m)\u001b[0m\u001b[1;33m\u001b[0m\u001b[1;33m\u001b[0m\u001b[0m\n\u001b[0;32m     17\u001b[0m \u001b[0mprint\u001b[0m\u001b[1;33m(\u001b[0m\u001b[1;34m\"r\"\u001b[0m \u001b[1;32mnot\u001b[0m \u001b[1;32min\u001b[0m \u001b[0mz1\u001b[0m\u001b[1;33m)\u001b[0m\u001b[1;33m\u001b[0m\u001b[1;33m\u001b[0m\u001b[0m\n",
      "\u001b[1;31mValueError\u001b[0m: max() arg is an empty sequence"
     ]
    }
   ],
   "source": [
    "# x=1,2,3,4\n",
    "# y=iter(x)\n",
    "# print(tuple(y))\n",
    "# (int(j) for j in input().split())\n",
    "\n",
    "z=\"ram\"\n",
    "z1=iter(z)\n",
    "# print(next(z1))\n",
    "# print(z1.__next__())\n",
    "# # print(z1.__next__())\n",
    "# # print(z1.__next__())\n",
    "print(min(z1))\n",
    "z2=tuple(z1)\n",
    "print(\"tuple of z1\",z2)\n",
    "print(max(z1))\n",
    "print(\"r\" in z1)\n",
    "print(\"r\" not in z1)\n",
    "print(\"z\" in z1)"
   ]
  },
  {
   "cell_type": "code",
   "execution_count": 72,
   "metadata": {},
   "outputs": [
    {
     "name": "stdout",
     "output_type": "stream",
     "text": [
      "(1, 2) (3, 4) "
     ]
    }
   ],
   "source": [
    "dic={1:2,3:4}\n",
    "for ele in dic.items():\n",
    "    print(ele,end=\" \")"
   ]
  },
  {
   "cell_type": "code",
   "execution_count": 64,
   "metadata": {},
   "outputs": [],
   "source": [
    "li=[1,2,3,4]\n",
    "iter_li=iter(li)\n"
   ]
  },
  {
   "cell_type": "code",
   "execution_count": 65,
   "metadata": {},
   "outputs": [
    {
     "name": "stdout",
     "output_type": "stream",
     "text": [
      "<list_iterator object at 0x0000015CDD183208>\n"
     ]
    }
   ],
   "source": [
    "print(iter_li)"
   ]
  },
  {
   "cell_type": "code",
   "execution_count": 66,
   "metadata": {},
   "outputs": [
    {
     "data": {
      "text/plain": [
       "1"
      ]
     },
     "execution_count": 66,
     "metadata": {},
     "output_type": "execute_result"
    }
   ],
   "source": [
    "min(iter_li)"
   ]
  },
  {
   "cell_type": "code",
   "execution_count": 67,
   "metadata": {},
   "outputs": [
    {
     "name": "stdout",
     "output_type": "stream",
     "text": [
      "<list_iterator object at 0x0000015CDD183208>\n"
     ]
    }
   ],
   "source": [
    "print(iter_li)"
   ]
  },
  {
   "cell_type": "code",
   "execution_count": 68,
   "metadata": {},
   "outputs": [
    {
     "ename": "ValueError",
     "evalue": "max() arg is an empty sequence",
     "output_type": "error",
     "traceback": [
      "\u001b[1;31m---------------------------------------------------------------------------\u001b[0m",
      "\u001b[1;31mValueError\u001b[0m                                Traceback (most recent call last)",
      "\u001b[1;32m<ipython-input-68-5b336ae297e4>\u001b[0m in \u001b[0;36m<module>\u001b[1;34m\u001b[0m\n\u001b[1;32m----> 1\u001b[1;33m \u001b[0mmax\u001b[0m\u001b[1;33m(\u001b[0m\u001b[0miter_li\u001b[0m\u001b[1;33m)\u001b[0m\u001b[1;33m\u001b[0m\u001b[1;33m\u001b[0m\u001b[0m\n\u001b[0m",
      "\u001b[1;31mValueError\u001b[0m: max() arg is an empty sequence"
     ]
    }
   ],
   "source": [
    "max(iter_li)"
   ]
  },
  {
   "cell_type": "code",
   "execution_count": 69,
   "metadata": {},
   "outputs": [
    {
     "ename": "StopIteration",
     "evalue": "",
     "output_type": "error",
     "traceback": [
      "\u001b[1;31m---------------------------------------------------------------------------\u001b[0m",
      "\u001b[1;31mStopIteration\u001b[0m                             Traceback (most recent call last)",
      "\u001b[1;32m<ipython-input-69-d4e594d5ce84>\u001b[0m in \u001b[0;36m<module>\u001b[1;34m\u001b[0m\n\u001b[1;32m----> 1\u001b[1;33m \u001b[0miter_li\u001b[0m\u001b[1;33m.\u001b[0m\u001b[0m__next__\u001b[0m\u001b[1;33m(\u001b[0m\u001b[1;33m)\u001b[0m\u001b[1;33m\u001b[0m\u001b[1;33m\u001b[0m\u001b[0m\n\u001b[0m",
      "\u001b[1;31mStopIteration\u001b[0m: "
     ]
    }
   ],
   "source": [
    "iter_li.__next__()"
   ]
  },
  {
   "cell_type": "code",
   "execution_count": 81,
   "metadata": {},
   "outputs": [
    {
     "name": "stdout",
     "output_type": "stream",
     "text": [
      "1 2\n",
      "elements from iterators 3\n",
      "elements from iterators 4\n"
     ]
    }
   ],
   "source": [
    "it=iter((1,2,3,4))\n",
    "print(it.__next__(),next(it))\n",
    "for ele in it:\n",
    "    print(\"elements from iterators\",ele)"
   ]
  },
  {
   "cell_type": "code",
   "execution_count": null,
   "metadata": {},
   "outputs": [],
   "source": [
    "a=int(input())\n",
    "b=int(input())\n",
    "c=int(input())\n",
    "if a>=b:\n",
    "    if a>c:\n",
    "        print(f\"{a} is largest\")\n",
    "elif b>c:\n",
    "    print(f\"{b} is largest\")\n",
    "elif "
   ]
  }
 ],
 "metadata": {
  "kernelspec": {
   "display_name": "Python 3",
   "language": "python",
   "name": "python3"
  },
  "language_info": {
   "codemirror_mode": {
    "name": "ipython",
    "version": 3
   },
   "file_extension": ".py",
   "mimetype": "text/x-python",
   "name": "python",
   "nbconvert_exporter": "python",
   "pygments_lexer": "ipython3",
   "version": "3.7.4"
  }
 },
 "nbformat": 4,
 "nbformat_minor": 2
}
