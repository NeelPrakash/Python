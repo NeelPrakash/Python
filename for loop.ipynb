{
 "cells": [
  {
   "cell_type": "code",
   "execution_count": 3,
   "metadata": {},
   "outputs": [
    {
     "name": "stdout",
     "output_type": "stream",
     "text": [
      "a b c d a b c d "
     ]
    }
   ],
   "source": [
    "def recur(a):\n",
    "    if len(a)==0:\n",
    "        return\n",
    "    print(a[0],end=\" \")\n",
    "    recur(a[1:])\n",
    "a=\"abcd\"\n",
    "recur(a)\n",
    "def recur1(a,i):\n",
    "    if i>=len(a):\n",
    "        return\n",
    "    print(a[i],end=\" \")\n",
    "    recur1(a,i+1)\n",
    "a=\"abcd\"\n",
    "recur1(a,0)"
   ]
  },
  {
   "cell_type": "code",
   "execution_count": 10,
   "metadata": {},
   "outputs": [
    {
     "name": "stdout",
     "output_type": "stream",
     "text": [
      "aa\n",
      "bb\n",
      "cc\n",
      "dd\n"
     ]
    }
   ],
   "source": [
    "a=\"abcd\"\n",
    "for i in a:\n",
    "    print(i*2)\n",
    "\n",
    "# for no's.\n",
    "s=\"1234\"\n",
    "for i in s:\n",
    "    print(i)\n",
    "    s=\"1234\"\n",
    "# s=1234\n",
    "# for i in s:\n",
    "#     print(i)\n",
    "# for i in 5:\n",
    "#     print(i)\n"
   ]
  },
  {
   "cell_type": "code",
   "execution_count": 8,
   "metadata": {},
   "outputs": [
    {
     "name": "stdout",
     "output_type": "stream",
     "text": [
      "11\n",
      "22\n",
      "33\n",
      "44\n"
     ]
    },
    {
     "data": {
      "text/plain": [
       "'must notice here although the string contains the numeric value\\nbut untill unless its type conversion is done it is treated as string'"
      ]
     },
     "execution_count": 8,
     "metadata": {},
     "output_type": "execute_result"
    }
   ],
   "source": [
    "# Note\n",
    "b=\"1234\"\n",
    "for k in b:\n",
    "    print(k*2) \n",
    "# must notice here although the string contains the numeric value\n",
    "# but untill unless its type conversion is done it is treated as a string"
   ]
  },
  {
   "cell_type": "code",
   "execution_count": 9,
   "metadata": {},
   "outputs": [
    {
     "name": "stdout",
     "output_type": "stream",
     "text": [
      "a\n",
      "b\n",
      "c\n",
      "\n",
      "\n",
      "d\n",
      "e\n",
      "f\n",
      "\n",
      "\n",
      "g\n",
      "h\n",
      "i\n"
     ]
    },
    {
     "data": {
      "text/plain": [
       "'abc\\ndef\\nghi'"
      ]
     },
     "execution_count": 9,
     "metadata": {},
     "output_type": "execute_result"
    }
   ],
   "source": [
    "def recur(a,i):\n",
    "    if i==len(a):\n",
    "        return\n",
    "    print(a[i])\n",
    "    recur(a,i+1)\n",
    "a=\"\"\"abc\n",
    "def\n",
    "ghi\"\"\"\n",
    "recur(a,0)\n",
    "a"
   ]
  },
  {
   "cell_type": "code",
   "execution_count": 11,
   "metadata": {},
   "outputs": [
    {
     "name": "stdout",
     "output_type": "stream",
     "text": [
      "a\n",
      "b\n",
      "c\n",
      "\n",
      "\n",
      "e\n",
      "f\n",
      "g\n",
      "\n",
      "\n",
      "i\n",
      "j\n",
      "k\n"
     ]
    }
   ],
   "source": [
    "a='''abc\n",
    "efg\n",
    "ijk'''\n",
    "for i in a:\n",
    "    print(i)\n"
   ]
  },
  {
   "cell_type": "code",
   "execution_count": 15,
   "metadata": {},
   "outputs": [
    {
     "name": "stdout",
     "output_type": "stream",
     "text": [
      "0 1 2 3 4 "
     ]
    }
   ],
   "source": [
    "def recur(i):\n",
    "    if i>=len(a):\n",
    "        return\n",
    "    print(a[i],end=\" \")\n",
    "    recur(i+1)\n",
    "a=range(0,5)\n",
    "recur(0)\n",
    "    "
   ]
  },
  {
   "cell_type": "code",
   "execution_count": 13,
   "metadata": {},
   "outputs": [
    {
     "name": "stdout",
     "output_type": "stream",
     "text": [
      "range(0, 5)\n",
      "4\n",
      "3\n",
      "2\n",
      "1\n",
      "0\n"
     ]
    },
    {
     "data": {
      "text/plain": [
       "5"
      ]
     },
     "execution_count": 13,
     "metadata": {},
     "output_type": "execute_result"
    }
   ],
   "source": [
    "a=range(0,5,1)\n",
    "print(a) # what does it mean?\n",
    "# printing the numeric sequence 43210. each element in a new line (printing the nos. ranging from n to 1)\n",
    "n=4\n",
    "for i in range(4,-1,-1):\n",
    "    print(i)"
   ]
  },
  {
   "cell_type": "raw",
   "metadata": {},
   "source": [
    "printing the arrow pattern using for loop:\n",
    "*\n",
    " **\n",
    "  ***\n",
    "   ****\n",
    "  ***\n",
    " **\n",
    "*"
   ]
  },
  {
   "cell_type": "code",
   "execution_count": 3,
   "metadata": {},
   "outputs": [
    {
     "name": "stdout",
     "output_type": "stream",
     "text": [
      "enter the length of your pattern 7\n",
      "* \n",
      " * * \n",
      "  * * * \n",
      "   * * * * \n",
      "  * * * \n",
      " * * \n",
      "* \n"
     ]
    }
   ],
   "source": [
    "N=int(input(\"enter the length of your pattern \"))\n",
    "n1=(N+1)//2\n",
    "n2=N-n1\n",
    "# printing the first half\n",
    "for i in range(1,n1+1):\n",
    "    for j in range (i-1,0,-1):\n",
    "        print(\" \",end=\"\")\n",
    "    for k in range(1,i+1):\n",
    "        print(\"*\",end=\" \")\n",
    "    print()\n",
    "# printing the second half\n",
    "p=n2\n",
    "for l in range(1,n2+1):\n",
    "    for m in range(n2-l,0,-1):\n",
    "        print(\" \",end=\"\")\n",
    "    for n in range(p,0,-1):\n",
    "        print(\"*\",end=\" \")\n",
    "    p=p-1\n",
    "    print()   \n",
    "# the code written above is not an effcient one we can change it as:\n",
    "\n",
    "\n",
    "\n",
    "\n",
    " "
   ]
  },
  {
   "cell_type": "markdown",
   "metadata": {},
   "source": [
    "# printing the multiples of N ranging from a to b\n"
   ]
  },
  {
   "cell_type": "code",
   "execution_count": 23,
   "metadata": {},
   "outputs": [
    {
     "name": "stdout",
     "output_type": "stream",
     "text": [
      "enter the no. of which multiples you want to print of: 3\n",
      "enter the range i.e a-b 1-55\n",
      "3 6 9 12 15 18 21 24 27 30 33 36 39 42 45 48 51 54 "
     ]
    }
   ],
   "source": [
    "N=int(input(\"enter the no. of which multiples you want to print of: \"))\n",
    "a,b=input(\"enter the range i.e a-b \").split(\"-\")\n",
    "a=int(a)\n",
    "b=int(b)\n",
    "\n",
    "r=a%N\n",
    "if r==0:\n",
    "    s=a\n",
    "else:\n",
    "    s=a+(N-r)\n",
    "'''for i in range(s,b+1,N):\n",
    "    print(i,end=\" \")\n",
    "performing te same task with the help of while loop'''\n",
    "while s<=b:\n",
    "    print(s,end=\" \")\n",
    "    s=s+N\n",
    "    "
   ]
  },
  {
   "cell_type": "code",
   "execution_count": 5,
   "metadata": {},
   "outputs": [
    {
     "name": "stdout",
     "output_type": "stream",
     "text": [
      "enter a no.5\n",
      "5 is a prime no.\n"
     ]
    }
   ],
   "source": [
    "# checking whether a no. is prime:\n",
    "N=int(input(\"enter a no.\"))\n",
    "flag=False\n",
    "if N<=1:\n",
    "    print(\"prime no's. are greater then one\")\n",
    "elif N==2:\n",
    "    print(N,\"is a prime no.\")\n",
    "else:\n",
    "    for i in range(2,N):\n",
    "        if N%i==0:\n",
    "            flag=True\n",
    "            break\n",
    "#  performing the same task with the help of while loop\n",
    "#     i=2\n",
    "#     while i<N:\n",
    "#         if N%i==0:\n",
    "#             flag=True\n",
    "#             break\n",
    "#         i=i+1\n",
    "    if flag:\n",
    "        print(N,\"is not a prime no.\")\n",
    "    else:\n",
    "        print(N,\"is a prime no.\")\n",
    "        \n",
    "    "
   ]
  },
  {
   "cell_type": "raw",
   "metadata": {},
   "source": [
    "pattern:\n",
    "    1\n",
    "   232\n",
    "  34543\n",
    " 4567654\n",
    "5678987654"
   ]
  },
  {
   "cell_type": "code",
   "execution_count": 4,
   "metadata": {},
   "outputs": [
    {
     "name": "stdout",
     "output_type": "stream",
     "text": [
      "enter the length of your pattern4\n",
      "   1\n",
      "  232\n",
      " 34543\n",
      "4567654\n",
      "enter the length of your pattern 5\n",
      "    1\n",
      "   232\n",
      "  34543\n",
      " 4567654\n",
      "567898765\n",
      "enter the length of your pattern3\n",
      "  1\n",
      " 232\n",
      "34543\n"
     ]
    }
   ],
   "source": [
    "# using while loop\n",
    "N=int(input(\"enter the length of your pattern\"))\n",
    "row=1\n",
    "while row<=N:\n",
    "    space=N-row\n",
    "    while space!=0:\n",
    "        print(\" \",end=\"\")\n",
    "        space=space-1\n",
    "    j=row\n",
    "    i=1\n",
    "    while i<=row:\n",
    "        print(j,end=\"\")\n",
    "        j=j+1\n",
    "        i=i+1\n",
    "    j=j-2\n",
    "    i=row-1\n",
    "    while i>0:\n",
    "        print(j,end=\"\")\n",
    "        j=j-1\n",
    "        i=i-1\n",
    "    print()\n",
    "    row=row+1\n",
    "    \n",
    "# using for loop\n",
    "N=int(input(\"enter the length of your pattern \"))\n",
    "for i in range(1,N+1):\n",
    "    space=N-i\n",
    "    for j in range(space,0,-1):\n",
    "        print(\" \",end=\"\")\n",
    "    p=i\n",
    "    for k in range(1,i+1):\n",
    "        print(p,end=\"\")\n",
    "        p=p+1\n",
    "    p=p-2\n",
    "    s=i-1\n",
    "    for l in range(s,0,-1):\n",
    "        print(p,end=\"\")\n",
    "        p=p-1\n",
    "    print()\n",
    "    \n",
    "# Another Apporach:\n",
    "N=int(input(\"enter the length of your pattern\"))\n",
    "for i in range(1,N+1):\n",
    "    for j in range(N-i,0,-1):\n",
    "        print(\" \",end=\"\")\n",
    "    for k in range(i,2*i):\n",
    "        print(k,end=\"\")\n",
    "    for l in range(2*i-2,i-1,-1):\n",
    "        print(l,end=\"\")\n",
    "    print()\n",
    " \n"
   ]
  },
  {
   "cell_type": "code",
   "execution_count": 9,
   "metadata": {},
   "outputs": [
    {
     "data": {
      "text/plain": [
       "range"
      ]
     },
     "execution_count": 9,
     "metadata": {},
     "output_type": "execute_result"
    }
   ],
   "source": [
    "# taking the both start and stop values inside a range function same\n",
    "# whatever is inside a for loop doesn't gets executed\n",
    "for i in range(1,1):\n",
    "    print(i)\n",
    "type(range(5))"
   ]
  },
  {
   "cell_type": "raw",
   "metadata": {},
   "source": [
    "printing the followin pattern usnig for loop pattern:\n",
    "*000*000*\n",
    "0*00*00*0\n",
    "00*0*0*00\n",
    "000***000\n"
   ]
  },
  {
   "cell_type": "code",
   "execution_count": 5,
   "metadata": {},
   "outputs": [
    {
     "name": "stdout",
     "output_type": "stream",
     "text": [
      "enter the length of your pattern55\n",
      "*000000000000000000000000000000000000000000000000000000*000000000000000000000000000000000000000000000000000000*\n",
      "0*00000000000000000000000000000000000000000000000000000*00000000000000000000000000000000000000000000000000000*0\n",
      "00*0000000000000000000000000000000000000000000000000000*0000000000000000000000000000000000000000000000000000*00\n",
      "000*000000000000000000000000000000000000000000000000000*000000000000000000000000000000000000000000000000000*000\n",
      "0000*00000000000000000000000000000000000000000000000000*00000000000000000000000000000000000000000000000000*0000\n",
      "00000*0000000000000000000000000000000000000000000000000*0000000000000000000000000000000000000000000000000*00000\n",
      "000000*000000000000000000000000000000000000000000000000*000000000000000000000000000000000000000000000000*000000\n",
      "0000000*00000000000000000000000000000000000000000000000*00000000000000000000000000000000000000000000000*0000000\n",
      "00000000*0000000000000000000000000000000000000000000000*0000000000000000000000000000000000000000000000*00000000\n",
      "000000000*000000000000000000000000000000000000000000000*000000000000000000000000000000000000000000000*000000000\n",
      "0000000000*00000000000000000000000000000000000000000000*00000000000000000000000000000000000000000000*0000000000\n",
      "00000000000*0000000000000000000000000000000000000000000*0000000000000000000000000000000000000000000*00000000000\n",
      "000000000000*000000000000000000000000000000000000000000*000000000000000000000000000000000000000000*000000000000\n",
      "0000000000000*00000000000000000000000000000000000000000*00000000000000000000000000000000000000000*0000000000000\n",
      "00000000000000*0000000000000000000000000000000000000000*0000000000000000000000000000000000000000*00000000000000\n",
      "000000000000000*000000000000000000000000000000000000000*000000000000000000000000000000000000000*000000000000000\n",
      "0000000000000000*00000000000000000000000000000000000000*00000000000000000000000000000000000000*0000000000000000\n",
      "00000000000000000*0000000000000000000000000000000000000*0000000000000000000000000000000000000*00000000000000000\n",
      "000000000000000000*000000000000000000000000000000000000*000000000000000000000000000000000000*000000000000000000\n",
      "0000000000000000000*00000000000000000000000000000000000*00000000000000000000000000000000000*0000000000000000000\n",
      "00000000000000000000*0000000000000000000000000000000000*0000000000000000000000000000000000*00000000000000000000\n",
      "000000000000000000000*000000000000000000000000000000000*000000000000000000000000000000000*000000000000000000000\n",
      "0000000000000000000000*00000000000000000000000000000000*00000000000000000000000000000000*0000000000000000000000\n",
      "00000000000000000000000*0000000000000000000000000000000*0000000000000000000000000000000*00000000000000000000000\n",
      "000000000000000000000000*000000000000000000000000000000*000000000000000000000000000000*000000000000000000000000\n",
      "0000000000000000000000000*00000000000000000000000000000*00000000000000000000000000000*0000000000000000000000000\n",
      "00000000000000000000000000*0000000000000000000000000000*0000000000000000000000000000*00000000000000000000000000\n",
      "000000000000000000000000000*000000000000000000000000000*000000000000000000000000000*000000000000000000000000000\n",
      "0000000000000000000000000000*00000000000000000000000000*00000000000000000000000000*0000000000000000000000000000\n",
      "00000000000000000000000000000*0000000000000000000000000*0000000000000000000000000*00000000000000000000000000000\n",
      "000000000000000000000000000000*000000000000000000000000*000000000000000000000000*000000000000000000000000000000\n",
      "0000000000000000000000000000000*00000000000000000000000*00000000000000000000000*0000000000000000000000000000000\n",
      "00000000000000000000000000000000*0000000000000000000000*0000000000000000000000*00000000000000000000000000000000\n",
      "000000000000000000000000000000000*000000000000000000000*000000000000000000000*000000000000000000000000000000000\n",
      "0000000000000000000000000000000000*00000000000000000000*00000000000000000000*0000000000000000000000000000000000\n",
      "00000000000000000000000000000000000*0000000000000000000*0000000000000000000*00000000000000000000000000000000000\n",
      "000000000000000000000000000000000000*000000000000000000*000000000000000000*000000000000000000000000000000000000\n",
      "0000000000000000000000000000000000000*00000000000000000*00000000000000000*0000000000000000000000000000000000000\n",
      "00000000000000000000000000000000000000*0000000000000000*0000000000000000*00000000000000000000000000000000000000\n",
      "000000000000000000000000000000000000000*000000000000000*000000000000000*000000000000000000000000000000000000000\n",
      "0000000000000000000000000000000000000000*00000000000000*00000000000000*0000000000000000000000000000000000000000\n",
      "00000000000000000000000000000000000000000*0000000000000*0000000000000*00000000000000000000000000000000000000000\n",
      "000000000000000000000000000000000000000000*000000000000*000000000000*000000000000000000000000000000000000000000\n",
      "0000000000000000000000000000000000000000000*00000000000*00000000000*0000000000000000000000000000000000000000000\n",
      "00000000000000000000000000000000000000000000*0000000000*0000000000*00000000000000000000000000000000000000000000\n",
      "000000000000000000000000000000000000000000000*000000000*000000000*000000000000000000000000000000000000000000000\n",
      "0000000000000000000000000000000000000000000000*00000000*00000000*0000000000000000000000000000000000000000000000\n",
      "00000000000000000000000000000000000000000000000*0000000*0000000*00000000000000000000000000000000000000000000000\n",
      "000000000000000000000000000000000000000000000000*000000*000000*000000000000000000000000000000000000000000000000\n",
      "0000000000000000000000000000000000000000000000000*00000*00000*0000000000000000000000000000000000000000000000000\n",
      "00000000000000000000000000000000000000000000000000*0000*0000*00000000000000000000000000000000000000000000000000\n",
      "000000000000000000000000000000000000000000000000000*000*000*000000000000000000000000000000000000000000000000000\n",
      "0000000000000000000000000000000000000000000000000000*00*00*0000000000000000000000000000000000000000000000000000\n",
      "00000000000000000000000000000000000000000000000000000*0*0*00000000000000000000000000000000000000000000000000000\n",
      "000000000000000000000000000000000000000000000000000000***000000000000000000000000000000000000000000000000000000\n"
     ]
    }
   ],
   "source": [
    "N=int(input(\"enter the length of your pattern\"))\n",
    "k=2*N+1\n",
    "for i in range(1,N+1):\n",
    "    for j in range(1,2*N+2):\n",
    "        if i==j or j==N+1 or j==k:\n",
    "            print(\"*\",end=\"\")\n",
    "        else:\n",
    "            print(\"0\",end=\"\")\n",
    "    k=k-1\n",
    "    print()\n",
    "    "
   ]
  },
  {
   "cell_type": "raw",
   "metadata": {},
   "source": [
    "printing the following pattern using for loop:\n",
    "   *\n",
    "  ***\n",
    " *****\n",
    "*******\n",
    " *****\n",
    "  ***\n",
    "   *"
   ]
  },
  {
   "cell_type": "code",
   "execution_count": 2,
   "metadata": {},
   "outputs": [
    {
     "name": "stdout",
     "output_type": "stream",
     "text": [
      "enter the length of your pattern4\n",
      "length could be odd no. only\n",
      "enter the length of your pattern5\n",
      "  *\n",
      " ***\n",
      "*****\n",
      " ***\n",
      "  *\n"
     ]
    }
   ],
   "source": [
    "N=int(input(\"enter the length of your pattern\"))\n",
    "while N%2==0:\n",
    "    print(\"length could be odd no. only\")\n",
    "    N=int(input(\"enter the length of your pattern\"))\n",
    "N1=(N+1)//2\n",
    "N2=N-N1\n",
    "k=N2-1\n",
    "for i in range(1,N1+1):\n",
    "    for j in range(N1-i,0,-1):\n",
    "        print(\" \",end=\"\")\n",
    "    for j in range(1,2*i):\n",
    "        print(\"*\",end=\"\")\n",
    "    print()\n",
    "\n",
    "for i in range(N2,0,-1):\n",
    "    for j in range(1,N2-k+1):\n",
    "        print(\" \",end=\"\")\n",
    "    for j in range(1,2*i):\n",
    "        print(\"*\",end=\"\")\n",
    "    print()\n",
    "    k=k-1"
   ]
  },
  {
   "cell_type": "code",
   "execution_count": 8,
   "metadata": {},
   "outputs": [
    {
     "ename": "SyntaxError",
     "evalue": "'break' outside loop (<ipython-input-8-704d68527639>, line 7)",
     "output_type": "error",
     "traceback": [
      "\u001b[1;36m  File \u001b[1;32m\"<ipython-input-8-704d68527639>\"\u001b[1;36m, line \u001b[1;32m7\u001b[0m\n\u001b[1;31mSyntaxError\u001b[0m\u001b[1;31m:\u001b[0m 'break' outside loop\n"
     ]
    }
   ],
   "source": [
    "# break statement:\n",
    "i=1\n",
    "# while i<10:\n",
    "if i==5:\n",
    "    break\n",
    "    print(i)\n",
    "    i=i+1"
   ]
  },
  {
   "cell_type": "code",
   "execution_count": 13,
   "metadata": {},
   "outputs": [
    {
     "name": "stdout",
     "output_type": "stream",
     "text": [
      "enter a no.55\n",
      "prime no's are: \n",
      "2 3 5 7 11 13 17 19 23 29 31 37 41 43 47 53 \n",
      "enter the no.55\n",
      "2 3 5 7 11 13 17 19 23 29 31 37 41 43 47 53 "
     ]
    }
   ],
   "source": [
    "# printing all the prime no's upto N\n",
    "N=int(input(\"enter a no.\"))\n",
    "i=2\n",
    "print(\"prime no's are: \")\n",
    "while i<=N:\n",
    "    j=2\n",
    "    flag=True\n",
    "    while j<i:\n",
    "        if i%j==0:\n",
    "            flag=False\n",
    "            break\n",
    "        j=j+1\n",
    "    if flag:\n",
    "        print(i,end=\" \")\n",
    "    i=i+1\n",
    "print()\n",
    "# using for loop:\n",
    "N=int(input(\"enter the no.\"))\n",
    "for i in range(2,N+1):\n",
    "    flag=True\n",
    "    for j in range(2,i):\n",
    "        if i%j==0:\n",
    "            flag=False\n",
    "            break\n",
    "    if flag:\n",
    "        print(i,end=\" \")\n"
   ]
  },
  {
   "cell_type": "markdown",
   "metadata": {},
   "source": [
    "# use of else keyword"
   ]
  },
  {
   "cell_type": "code",
   "execution_count": null,
   "metadata": {},
   "outputs": [],
   "source": [
    "# printing all the prime no's upto N\n",
    "# while construct  \n",
    "N=int(input(\"enter a no.\"))\n",
    "i=2\n",
    "print(\"prime no's are: \")\n",
    "while i<=N:\n",
    "    j=2\n",
    "    while j<i:\n",
    "        if i%j==0:\n",
    "            break\n",
    "        j=j+1\n",
    "    else:\n",
    "        print(i,end=\" \")\n",
    "    i=i+1\n",
    "# for construct\n",
    "N=int(input(\"enter a no.\"))\n",
    "print(\"prime no's are:\")\n",
    "for i in range(2,N+1):\n",
    "    for j in range(2,i):\n",
    "        if i%j==0:\n",
    "            break\n",
    "        j=j+1\n",
    "    else:\n",
    "        print(i,end=\" \")"
   ]
  },
  {
   "cell_type": "markdown",
   "metadata": {},
   "source": [
    "# continue keyword"
   ]
  },
  {
   "cell_type": "code",
   "execution_count": 1,
   "metadata": {},
   "outputs": [
    {
     "name": "stdout",
     "output_type": "stream",
     "text": [
      "-22\n",
      "22\n",
      "-22 -20 -18 -16 -12 -10 -8 -6 -4 -2 2 4 6 8 10 12 16 18 20 22 "
     ]
    }
   ],
   "source": [
    "# printing all the even no's in a specified range except those which are multiple of 7\n",
    "# i,j=input(\"enter your range i.e a-b \").split(\"-\")\n",
    "i=int(input())\n",
    "j=int(input())\n",
    "for i in range(i,j+1):\n",
    "    if i%2==0:\n",
    "        if i%7==0:\n",
    "            continue\n",
    "        print(i,end=\" \")\n",
    "    "
   ]
  },
  {
   "cell_type": "code",
   "execution_count": 3,
   "metadata": {},
   "outputs": [
    {
     "name": "stdout",
     "output_type": "stream",
     "text": [
      "1\n",
      "2\n",
      "3\n",
      "4\n",
      "6\n",
      "7\n",
      "8\n",
      "9\n",
      "checking the scope of else in loops along with continue keyword\n"
     ]
    }
   ],
   "source": [
    "for i in range(1,10,1):\n",
    "    if i==5:\n",
    "        continue\n",
    "    print(i)\n",
    "else:\n",
    "    print(\"checking the scope of else in loops along with continue keyword\")"
   ]
  },
  {
   "cell_type": "raw",
   "metadata": {},
   "source": [
    "pattern:\n",
    "1234\n",
    " 234\n",
    "  34\n",
    "   4\n",
    "  34\n",
    " 234\n",
    "1234"
   ]
  },
  {
   "cell_type": "code",
   "execution_count": 4,
   "metadata": {},
   "outputs": [
    {
     "name": "stdout",
     "output_type": "stream",
     "text": [
      "5\n",
      "12345\n",
      " 2345\n",
      "  345\n",
      "   45\n",
      "    5\n",
      "   45\n",
      "  345\n",
      " 2345\n",
      "12345\n"
     ]
    }
   ],
   "source": [
    "N=int(input())\n",
    "N1=N-1\n",
    "p=1\n",
    "for i in range(N,0,-1):\n",
    "    k=p\n",
    "    for j in range(N-i,0,-1):\n",
    "        print(\" \",end=\"\")\n",
    "    for j in range(i,0,-1):\n",
    "        print(k,end=\"\")\n",
    "        k=k+1\n",
    "    p=p+1\n",
    "    print()\n",
    "p=N1\n",
    "for i in range(1,N1+1):\n",
    "    k=p\n",
    "    for j in range(N1-i,0,-1):\n",
    "        print(\" \",end=\"\")\n",
    "    for j in range(i+1,0,-1):\n",
    "        print(k,end=\"\")\n",
    "        k=k+1\n",
    "    p=p-1\n",
    "    print()"
   ]
  },
  {
   "cell_type": "code",
   "execution_count": 5,
   "metadata": {},
   "outputs": [
    {
     "name": "stdout",
     "output_type": "stream",
     "text": [
      "5\n",
      "initial i 5\n",
      "initial i 4 first inner loop 1\n",
      "\n",
      "initial i 3 first inner loop 2\n",
      " first inner loop 1\n",
      "\n",
      "initial i 2 first inner loop 3\n",
      " first inner loop 2\n",
      " first inner loop 1\n",
      "\n",
      "initial i 1 first inner loop 4\n",
      " first inner loop 3\n",
      " first inner loop 2\n",
      " first inner loop 1\n",
      "\n"
     ]
    }
   ],
   "source": [
    "N=int(input()) # doubt\n",
    "N1=N-1\n",
    "p=1\n",
    "for i in range(N,0,-1):\n",
    "    print(\"initial i\",i,end=\"\")\n",
    "    k=p\n",
    "    for i in range(N-i,0,-1):\n",
    "        print(\" \",end=\"\")\n",
    "        print(\"first inner loop\",i)\n",
    "#     for j in range(i,0,-1):\n",
    "#         print(k,end=\"\")\n",
    "#         k=k+1\n",
    "    p=p+1\n",
    "    print()"
   ]
  },
  {
   "cell_type": "code",
   "execution_count": 1,
   "metadata": {},
   "outputs": [
    {
     "data": {
      "text/plain": [
       "0"
      ]
     },
     "execution_count": 1,
     "metadata": {},
     "output_type": "execute_result"
    }
   ],
   "source": [
    "\n"
   ]
  },
  {
   "cell_type": "code",
   "execution_count": 10,
   "metadata": {},
   "outputs": [
    {
     "name": "stdout",
     "output_type": "stream",
     "text": [
      "4\n",
      "5\n"
     ]
    }
   ],
   "source": [
    "N=int(input())\n",
    "fibo_no=(N-1)+(N-2)\n",
    "print(fibo_no)"
   ]
  },
  {
   "cell_type": "markdown",
   "metadata": {},
   "source": [
    "# understanding the scope of target variable in for loops\n",
    "The key point to understand here is whenever we are working with nested for loops (having more then one loop nested inside another) and in a situation where the range of one for loop depands upon the taret variable of another for loop then the target variable names for both of them must be different"
   ]
  },
  {
   "cell_type": "code",
   "execution_count": 5,
   "metadata": {},
   "outputs": [
    {
     "name": "stdout",
     "output_type": "stream",
     "text": [
      "enter the length of your pattern 5\n",
      "* \n",
      " * * \n",
      "  * * * \n",
      "enter the length of your pattern 5\n",
      "* \n",
      " * \n",
      "  * \n",
      "enter the length of your pattern 5\n",
      "* \n",
      " * * \n",
      "  * * * \n",
      "enter the length of your pattern 5\n",
      "* \n",
      " * \n",
      "  * \n",
      "i is 1\n"
     ]
    }
   ],
   "source": [
    "#name of the target variable for outer for loop is differnet from that of the inner for loop\n",
    "# the name of the target variable for all of the inner loop is same\n",
    "N=int(input(\"enter the length of your pattern \"))\n",
    "n1=(N+1)//2\n",
    "for i in range(1,n1+1):\n",
    "    for j in range (i-1,0,-1):\n",
    "        print(\" \",end=\"\")\n",
    "    for j in range(1,i+1):\n",
    "        print(\"*\",end=\" \")\n",
    "    print() \n",
    "    \n",
    "# name of the target variable for all of the inner loops are same as that of the outer loop\n",
    "N=int(input(\"enter the length of your pattern \"))\n",
    "n1=(N+1)//2\n",
    "for i in range(1,n1+1):\n",
    "    for i in range (i-1,0,-1):\n",
    "        print(\" \",end=\"\")\n",
    "    for i in range(1,i+1):\n",
    "        print(\"*\",end=\" \")\n",
    "    print() \n",
    "    \n",
    "# the name of the target variable for the first inner loop is different from the second inner loop\n",
    "# the name of the target variable of the second inner loop is same as that of the name of target variable in outer for loop\n",
    "N=int(input(\"enter the length of your pattern \"))\n",
    "n1=(N+1)//2\n",
    "for i in range(1,n1+1):\n",
    "    for j in range (i-1,0,-1):\n",
    "        print(\" \",end=\"\")\n",
    "    for i in range(1,i+1):\n",
    "        print(\"*\",end=\" \")\n",
    "    print() \n",
    "    \n",
    "# the name of the target variable in second inner loop is different from the first inner loop\n",
    "# name of the target variable in first inner loop is same as that of the outter for loop\n",
    "N=int(input(\"enter the length of your pattern \"))\n",
    "n1=(N+1)//2\n",
    "for i in range(1,n1+1):\n",
    "    for i in range (i-1,0,-1):\n",
    "        print(\" \",end=\"\")\n",
    "    for j in range(1,i+1):\n",
    "        print(\"*\",end=\" \")\n",
    "    print()  \n",
    "print(\"i is\",i)"
   ]
  },
  {
   "cell_type": "code",
   "execution_count": 2,
   "metadata": {},
   "outputs": [
    {
     "name": "stdout",
     "output_type": "stream",
     "text": [
      "(2+3j)\n",
      "0x37\n",
      "0o67\n"
     ]
    },
    {
     "ename": "TypeError",
     "evalue": "can't multiply sequence by non-int of type 'str'",
     "output_type": "error",
     "traceback": [
      "\u001b[1;31m---------------------------------------------------------------------------\u001b[0m",
      "\u001b[1;31mTypeError\u001b[0m                                 Traceback (most recent call last)",
      "\u001b[1;32m<ipython-input-2-4a71ab5e9b97>\u001b[0m in \u001b[0;36m<module>\u001b[1;34m\u001b[0m\n\u001b[0;32m      4\u001b[0m \u001b[0mprint\u001b[0m\u001b[1;33m(\u001b[0m\u001b[0moct\u001b[0m\u001b[1;33m(\u001b[0m\u001b[1;36m55\u001b[0m\u001b[1;33m)\u001b[0m\u001b[1;33m)\u001b[0m\u001b[1;33m\u001b[0m\u001b[1;33m\u001b[0m\u001b[0m\n\u001b[0;32m      5\u001b[0m \u001b[1;31m# print(str(2.0))\u001b[0m\u001b[1;33m\u001b[0m\u001b[1;33m\u001b[0m\u001b[1;33m\u001b[0m\u001b[0m\n\u001b[1;32m----> 6\u001b[1;33m \u001b[0mhex\u001b[0m\u001b[1;33m(\u001b[0m\u001b[1;36m55\u001b[0m\u001b[1;33m)\u001b[0m\u001b[1;33m*\u001b[0m\u001b[0mhex\u001b[0m\u001b[1;33m(\u001b[0m\u001b[1;36m2\u001b[0m\u001b[1;33m)\u001b[0m\u001b[1;33m\u001b[0m\u001b[1;33m\u001b[0m\u001b[0m\n\u001b[0m",
      "\u001b[1;31mTypeError\u001b[0m: can't multiply sequence by non-int of type 'str'"
     ]
    }
   ],
   "source": [
    "# type casting\n",
    "print(str(2+3j)) # explian results?\n",
    "print(hex(55))\n",
    "print(oct(55))\n",
    "# print(str(2.0))\n",
    "hex(55)*hex(2)"
   ]
  }
 ],
 "metadata": {
  "kernelspec": {
   "display_name": "Python 3",
   "language": "python",
   "name": "python3"
  },
  "language_info": {
   "codemirror_mode": {
    "name": "ipython",
    "version": 3
   },
   "file_extension": ".py",
   "mimetype": "text/x-python",
   "name": "python",
   "nbconvert_exporter": "python",
   "pygments_lexer": "ipython3",
   "version": "3.7.4"
  }
 },
 "nbformat": 4,
 "nbformat_minor": 2
}
