{
 "cells": [
  {
   "cell_type": "code",
   "execution_count": 1,
   "metadata": {},
   "outputs": [],
   "source": [
    "li=[[1,2,3,4],[5,6,7,8],[9,10,11,12],[13,14,15,16]]"
   ]
  },
  {
   "cell_type": "code",
   "execution_count": 28,
   "metadata": {},
   "outputs": [
    {
     "name": "stdout",
     "output_type": "stream",
     "text": [
      "[1, 2, 3, 4, [5, 6, 7, 8]]\n",
      "[1, 2, 3, 4, [5, 6, 7, 8], [...]]\n",
      "1 2 3 4 [5, 6, 7, 8] [1, 2, 3, 4, [5, 6, 7, 8], [...]] 6\n"
     ]
    }
   ],
   "source": [
    "len(li)\n",
    "li1=[1,2,3,4]\n",
    "li2=[5,6,7,8]\n",
    "li1.append(li2)\n",
    "print(li1)\n",
    "li1.append(li1)\n",
    "print(li1)\n",
    "count=0\n",
    "for ele in li1:\n",
    "    print(ele,end=\" \")\n",
    "    count=count+1\n",
    "print(count)\n",
    "\n",
    "# [1,2,3,4,[5,6,7,8],[...]] means [1,2,3,4,[5,6,7,8],[1,2,3,4,[5,6,7,8]]]"
   ]
  },
  {
   "cell_type": "code",
   "execution_count": 12,
   "metadata": {},
   "outputs": [
    {
     "name": "stdout",
     "output_type": "stream",
     "text": [
      "[1, 2, 3, 4, [1, 2, 3, 4]]\n",
      "1 2 3 4 [1, 2, 3, 4] "
     ]
    }
   ],
   "source": [
    "li=[1,2,3,4]\n",
    "li1=[1,2,3,4]\n",
    "li.append(li1)\n",
    "print(li)\n",
    "for i in range(len(li)):\n",
    "    print(li[i],end=\" \")"
   ]
  },
  {
   "cell_type": "code",
   "execution_count": 18,
   "metadata": {},
   "outputs": [
    {
     "name": "stdout",
     "output_type": "stream",
     "text": [
      "[1, 2, 3, 4]\n",
      "2\n"
     ]
    }
   ],
   "source": [
    "print(li[4])\n",
    "print(li[4][1])"
   ]
  },
  {
   "cell_type": "code",
   "execution_count": 20,
   "metadata": {},
   "outputs": [
    {
     "name": "stdout",
     "output_type": "stream",
     "text": [
      "[1, 2, 3, 4]\n",
      "1\n"
     ]
    }
   ],
   "source": [
    "li12=[[1,2,3,4]]\n",
    "print(li12[0])\n",
    "print(li12[0][0])"
   ]
  },
  {
   "cell_type": "code",
   "execution_count": 21,
   "metadata": {},
   "outputs": [
    {
     "name": "stdout",
     "output_type": "stream",
     "text": [
      "[1, 2, 3, 4]\n",
      "[5, 6, 7, 8, [9, 10, 11, 12]]\n",
      "1\n",
      "5\n",
      "[9, 10, 11, 12]\n",
      "10\n"
     ]
    }
   ],
   "source": [
    "Li=[[1,2,3,4],[5,6,7,8,[9,10,11,12]]]\n",
    "print(Li[0])\n",
    "print(Li[1])\n",
    "print(Li[0][0])\n",
    "print(Li[1][0])\n",
    "print(Li[1][4])\n",
    "print(Li[1][4][1])"
   ]
  },
  {
   "cell_type": "code",
   "execution_count": 24,
   "metadata": {},
   "outputs": [
    {
     "name": "stdout",
     "output_type": "stream",
     "text": [
      "1\n",
      "[5, 6, 7, 8, [9, 10, 11, 12, [13, 14, 15, 16, [17, 18, 19, 20]]]]\n",
      "5\n",
      "[9, 10, 11, 12, [13, 14, 15, 16, [17, 18, 19, 20]]]\n",
      "9\n",
      "[13, 14, 15, 16, [17, 18, 19, 20]]\n",
      "13\n",
      "[17, 18, 19, 20]\n",
      "17\n",
      "21\n",
      "22\n",
      "23\n",
      "24\n"
     ]
    }
   ],
   "source": [
    "li0=[1,2,3,4,[5,6,7,8,[9,10,11,12,[13,14,15,16,[17,18,19,20]]]],21,22,23,24]\n",
    "print(li0[0])\n",
    "print(li0[4])\n",
    "print(li0[4][0])\n",
    "print(li0[4][4])\n",
    "print(li0[4][4][0])\n",
    "print(li0[4][4][4])\n",
    "print(li0[4][4][4][0])\n",
    "print(li0[4][4][4][4])\n",
    "print(li0[4][4][4][4][0])\n",
    "print(li0[5])\n",
    "print(li0[6])\n",
    "print(li0[7])\n",
    "print(li0[8])\n",
    "     "
   ]
  },
  {
   "cell_type": "code",
   "execution_count": 45,
   "metadata": {},
   "outputs": [
    {
     "name": "stdout",
     "output_type": "stream",
     "text": [
      "[1, 2, 3, 4, [...]]\n",
      "[1, 2, 3, 4, [...], [1, 2, 3, 4]]\n",
      "[1, 2, 3, 4, [5, 6, 7, 8], [1, 2, 3, 4, [5, 6, 7, 8]]]\n",
      "2\n"
     ]
    }
   ],
   "source": [
    "li=[1,2,3,4,[5,6,7,8],[1,2,3,4,[5,6,7,8]]]\n",
    "li1=[1,2,3,4]\n",
    "li1.append(li1)\n",
    "print(li1)\n",
    "li1.append([1,2,3,4])\n",
    "print(li1)\n",
    "print(li)\n",
    "print(li1[4][1])"
   ]
  },
  {
   "cell_type": "code",
   "execution_count": 46,
   "metadata": {},
   "outputs": [
    {
     "name": "stdout",
     "output_type": "stream",
     "text": [
      "[1, 2, 3, 4, [...]]\n",
      "[1, 2, 3, 4, [...], [1, 2, 3, 4]]\n"
     ]
    }
   ],
   "source": [
    "# note:- this three dot representation is only shown if a list is appended to itself like:-\n",
    "# li=[1,2]\n",
    "# li.append(li)\n",
    "# not when li1=[1,2]\n",
    "# li1.append([1,2])\n",
    "li=[1,2,3,4]\n",
    "li.append(li)\n",
    "print(li)\n",
    "li.append([1,2,3,4])\n",
    "print(li)"
   ]
  },
  {
   "cell_type": "code",
   "execution_count": 50,
   "metadata": {},
   "outputs": [
    {
     "name": "stdout",
     "output_type": "stream",
     "text": [
      "2585295629640\n",
      "2585295626376 2585295629960 2585295627464 2585295627976\n",
      "140715911782800 140715911782832 140715911782864 140715911782896\n",
      "140715911782928 140715911782960 140715911782992 140715911783024\n",
      "140715911783056 140715911783088 140715911783120 140715911783152\n",
      "140715911783184 140715911783216 140715911783248 140715911783280\n"
     ]
    }
   ],
   "source": [
    "li1=[[1,2,3,4],[5,6,7,8],[9,10,11,12],[13,14,15,16]]\n",
    "print(id(li1))\n",
    "print(id(li1[0]),id(li1[1]),id(li1[2]),id(li1[3]))\n",
    "print(id(li1[0][0]),id(li1[0][1]),id(li1[0][2]),id(li1[0][3]))\n",
    "print(id(li1[1][0]),id(li1[1][1]),id(li1[1][2]),id(li1[1][3]))\n",
    "print(id(li1[2][0]),id(li1[2][1]),id(li1[2][2]),id(li1[2][3]))\n",
    "print(id(li1[3][0]),id(li1[3][1]),id(li1[3][2]),id(li1[3][3]))"
   ]
  },
  {
   "cell_type": "code",
   "execution_count": 52,
   "metadata": {},
   "outputs": [
    {
     "name": "stdout",
     "output_type": "stream",
     "text": [
      "[13, 14, 15, 16]\n",
      "5\n"
     ]
    }
   ],
   "source": [
    "x=[[1,2,3,4],[5,6,7,8],[9,10,11,12],[13,14,15,16]]\n",
    "print(x[-1])\n",
    "print(x[-3][-4])"
   ]
  },
  {
   "cell_type": "code",
   "execution_count": 13,
   "metadata": {},
   "outputs": [
    {
     "name": "stdout",
     "output_type": "stream",
     "text": [
      "[1, 4, 9, 16]\n"
     ]
    }
   ],
   "source": [
    "li=[1,2,3,4]\n",
    "li1=[1,2,3,4]\n",
    "# now suppose i want to square every element of li, then we can do it as:\n",
    "for i in range(len(li)):\n",
    "    li[i]=li[i]**2\n",
    "print(li)"
   ]
  },
  {
   "cell_type": "markdown",
   "metadata": {},
   "source": [
    " taking the int type inputs inside a list"
   ]
  },
  {
   "cell_type": "code",
   "execution_count": 35,
   "metadata": {},
   "outputs": [
    {
     "name": "stdout",
     "output_type": "stream",
     "text": [
      "1 2 3 4 5\n",
      "['1', '2', '3', '4', '5']\n",
      "[1, 2, 3, 4, 5]\n"
     ]
    }
   ],
   "source": [
    "# note: in both cases exactly the same task is performed but the way 2 is much more optimized way of writting as compared to way 1 1\n",
    "# way 1\n",
    "list1=input().split()\n",
    "print(list1)\n",
    "for i in range(len(list1)):\n",
    "    list1[i]=int(list1[i])\n",
    "print(list1)"
   ]
  },
  {
   "cell_type": "code",
   "execution_count": 36,
   "metadata": {},
   "outputs": [
    {
     "name": "stdout",
     "output_type": "stream",
     "text": [
      "1 2 3 4 5\n",
      "[1, 2, 3, 4, 5]\n"
     ]
    }
   ],
   "source": [
    "# way 2\n",
    "list2=[int(x) for x in input().split()]\n",
    "print(list2)"
   ]
  },
  {
   "cell_type": "markdown",
   "metadata": {},
   "source": [
    "multiplying each of the elements inside the list by 2"
   ]
  },
  {
   "cell_type": "code",
   "execution_count": 38,
   "metadata": {},
   "outputs": [
    {
     "name": "stdout",
     "output_type": "stream",
     "text": [
      "[4, 8, 12, 16, 20]\n",
      "[4, 8, 12, 16, 20]\n"
     ]
    }
   ],
   "source": [
    "# way 1\n",
    "for i in range(len(list1)):\n",
    "    list1[i]*=2\n",
    "# way 2\n",
    "list2=[ele*2 for ele in list2]\n",
    "print(list1)\n",
    "print(list2)"
   ]
  },
  {
   "cell_type": "code",
   "execution_count": 39,
   "metadata": {},
   "outputs": [
    {
     "name": "stdout",
     "output_type": "stream",
     "text": [
      "1 2 3 4 5\n",
      "[2, 4, 6, 8, 10]\n"
     ]
    }
   ],
   "source": [
    "list3=[int(x)*2 for x in input().split()]\n",
    "print(list3)"
   ]
  },
  {
   "cell_type": "code",
   "execution_count": 43,
   "metadata": {},
   "outputs": [
    {
     "name": "stdout",
     "output_type": "stream",
     "text": [
      "1 2 3 4 5\n",
      "1 2 3 4 5\n",
      "1 2 3 4 5\n",
      "1 2 3 4 5\n",
      "[3, 4, 5, 6, 7]\n",
      "[-1, 0, 1, 2, 3]\n",
      "[2, 4, 6, 8, 10]\n",
      "[0.5, 1.0, 1.5, 2.0, 2.5]\n"
     ]
    }
   ],
   "source": [
    "list4=[int(x)+2 for x in input().split()]\n",
    "list5=[int(x)-2 for x in input().split()]\n",
    "list6=[int(x)*2 for x in input().split()]\n",
    "list7=[int(x)/2 for x in input().split()]\n",
    "print(list4)\n",
    "print(list5)\n",
    "print(list6)\n",
    "print(list7)"
   ]
  },
  {
   "cell_type": "markdown",
   "metadata": {},
   "source": [
    "list comprehension\n",
    "syntax: [output for expression conditionals]"
   ]
  },
  {
   "cell_type": "code",
   "execution_count": 56,
   "metadata": {},
   "outputs": [
    {
     "ename": "SyntaxError",
     "evalue": "invalid syntax (<ipython-input-56-ce7cb60608b1>, line 16)",
     "output_type": "error",
     "traceback": [
      "\u001b[1;36m  File \u001b[1;32m\"<ipython-input-56-ce7cb60608b1>\"\u001b[1;36m, line \u001b[1;32m16\u001b[0m\n\u001b[1;33m    list_new4=[ele,ele**2 for ele in list if ele%2==0 if ele%3==0 if ele!=0]\u001b[0m\n\u001b[1;37m                            ^\u001b[0m\n\u001b[1;31mSyntaxError\u001b[0m\u001b[1;31m:\u001b[0m invalid syntax\n"
     ]
    }
   ],
   "source": [
    "list=[1,2,3,4,5,6,7,8,9,0]\n",
    "list1=[ele**2 for ele in list]\n",
    "print(list1)\n",
    "# now suppose if i want to create a new list in which we wll store only those eelements which are multiple of 2\n",
    "list_new=[ele**2 for ele in list if ele%2==0]\n",
    "print(list_new)\n",
    "# multiple of both 2 and 3\n",
    "list_new1=[ele for ele in list if ele%2==0 and ele%3==0]\n",
    "print(list_new1)\n",
    "list_new2=[ele for ele in list if ele%2==0 if ele%3==0]\n",
    "print(list_new2)\n",
    "list_new3=[ele for ele in list if ele%2==0 and ele%3==0 if ele!=0]\n",
    "print(list_new3)\n",
    "# list_new4=[ele ele**2 for ele in list if ele%2==0 if ele%3==0 if ele!=0]\n",
    "# print(list_new4)\n",
    "list_new4=[ele,ele**2 for ele in list if ele%2==0 if ele%3==0 if ele!=0]\n",
    "print(list_new4)"
   ]
  },
  {
   "cell_type": "code",
   "execution_count": 59,
   "metadata": {},
   "outputs": [
    {
     "ename": "SyntaxError",
     "evalue": "invalid syntax (<ipython-input-59-5faf086bb9c4>, line 1)",
     "output_type": "error",
     "traceback": [
      "\u001b[1;36m  File \u001b[1;32m\"<ipython-input-59-5faf086bb9c4>\"\u001b[1;36m, line \u001b[1;32m1\u001b[0m\n\u001b[1;33m    list_new4=[ele while ele!=0 for ele in list if ele%2==0 if ele%3==0 if ele!=0]\u001b[0m\n\u001b[1;37m                       ^\u001b[0m\n\u001b[1;31mSyntaxError\u001b[0m\u001b[1;31m:\u001b[0m invalid syntax\n"
     ]
    }
   ],
   "source": [
    "list_new4=[ele while ele!=0 for ele in list if ele%2==0 if ele%3==0 if ele!=0]\n",
    "print(list_new4)"
   ]
  },
  {
   "cell_type": "code",
   "execution_count": 86,
   "metadata": {},
   "outputs": [
    {
     "name": "stdout",
     "output_type": "stream",
     "text": [
      "[2, 4, 6, 8, 10, 12, 14, 16]\n"
     ]
    }
   ],
   "source": [
    "li=[1,2,3,4,5,6,7,8]\n",
    "li_new=[]\n",
    "for ele in li:\n",
    "    li_new.append(ele*2)\n",
    "print(li_new)"
   ]
  },
  {
   "cell_type": "code",
   "execution_count": 64,
   "metadata": {},
   "outputs": [
    {
     "name": "stdout",
     "output_type": "stream",
     "text": [
      "[2, 4, 6, 8, 10, 12, 14, 16]\n"
     ]
    }
   ],
   "source": [
    "# single line\n",
    "li_new1=[ele*2 for ele in li]\n",
    "print(li_new1)"
   ]
  },
  {
   "cell_type": "code",
   "execution_count": 66,
   "metadata": {},
   "outputs": [
    {
     "name": "stdout",
     "output_type": "stream",
     "text": [
      "[4, 8, 12, 16]\n"
     ]
    }
   ],
   "source": [
    "li=[1,2,3,4,5,6,7,8]\n",
    "li_new2=[]\n",
    "for ele in li:\n",
    "    if ele%2==0:\n",
    "        li_new2.append(ele*2)\n",
    "print(li_new2)"
   ]
  },
  {
   "cell_type": "code",
   "execution_count": 67,
   "metadata": {},
   "outputs": [
    {
     "name": "stdout",
     "output_type": "stream",
     "text": [
      "[4, 8, 12, 16]\n"
     ]
    }
   ],
   "source": [
    "li_new3=[ele*2 for ele in li if ele%2==0]\n",
    "print(li_new3)"
   ]
  },
  {
   "cell_type": "code",
   "execution_count": 68,
   "metadata": {},
   "outputs": [
    {
     "name": "stdout",
     "output_type": "stream",
     "text": [
      "[0.5, 4, 1.5, 8, 2.5, 12, 3.5, 16]\n"
     ]
    }
   ],
   "source": [
    "li=[1,2,3,4,5,6,7,8]\n",
    "li_new4=[]\n",
    "for ele in li:\n",
    "    if ele%2==0:\n",
    "        li_new4.append(ele*2)\n",
    "    else:\n",
    "        li_new4.append(ele/2)\n",
    "print(li_new4)"
   ]
  },
  {
   "cell_type": "code",
   "execution_count": 74,
   "metadata": {},
   "outputs": [
    {
     "name": "stdout",
     "output_type": "stream",
     "text": [
      "[0.5, 4, 1.5, 8, 2.5, 12, 3.5, 16]\n"
     ]
    }
   ],
   "source": [
    "# li_new5=[for ele in li if ele%2==0 ele*2 else ele/2]\n",
    "# li_new5=[ele*2 for ele in li if ele%2==0 else ele/2]\n",
    "li_new5=[ele*2 if ele%2==0 else ele/2 for ele in li ]\n",
    "print(li_new5)"
   ]
  },
  {
   "cell_type": "code",
   "execution_count": 75,
   "metadata": {},
   "outputs": [
    {
     "ename": "SyntaxError",
     "evalue": "invalid syntax (<ipython-input-75-691c69f339d5>, line 1)",
     "output_type": "error",
     "traceback": [
      "\u001b[1;36m  File \u001b[1;32m\"<ipython-input-75-691c69f339d5>\"\u001b[1;36m, line \u001b[1;32m1\u001b[0m\n\u001b[1;33m    li_new3=[ele*2 if ele%2==0 for ele in li ]\u001b[0m\n\u001b[1;37m                                 ^\u001b[0m\n\u001b[1;31mSyntaxError\u001b[0m\u001b[1;31m:\u001b[0m invalid syntax\n"
     ]
    }
   ],
   "source": [
    "li_new3=[ele*2 if ele%2==0 for ele in li ]\n",
    "print(li_new3)"
   ]
  },
  {
   "cell_type": "code",
   "execution_count": 77,
   "metadata": {},
   "outputs": [
    {
     "name": "stdout",
     "output_type": "stream",
     "text": [
      "[1, 2, 4]\n"
     ]
    }
   ],
   "source": [
    "li=[1,2,3,4]\n",
    "li1=[1,6,16,4]\n",
    "li_new6=[]\n",
    "for ele in li:\n",
    "    for ele1 in li1:\n",
    "        if ele**2==ele1:\n",
    "            li_new6.append(ele)\n",
    "print(li_new6)"
   ]
  },
  {
   "cell_type": "code",
   "execution_count": 83,
   "metadata": {},
   "outputs": [
    {
     "name": "stdout",
     "output_type": "stream",
     "text": [
      "[1, 2, 4]\n",
      "[1, 4, 2]\n"
     ]
    }
   ],
   "source": [
    "li_new7=[ele for ele in li for ele1 in li1 if ele**2==ele1]\n",
    "print(li_new7)\n",
    "li_new8=[ele for ele1 in li1 for ele in li if ele**2==ele1]\n",
    "print(li_new8)"
   ]
  },
  {
   "cell_type": "code",
   "execution_count": 81,
   "metadata": {},
   "outputs": [
    {
     "name": "stdout",
     "output_type": "stream",
     "text": [
      "[1]\n"
     ]
    }
   ],
   "source": [
    "li=[1,2,3,4]\n",
    "li1=[1,6,16,4]\n",
    "li_new6=[]\n",
    "for ele1 in li1:\n",
    "    for ele in li:\n",
    "        if ele**2==ele1:\n",
    "            li_new6.append(ele)\n",
    "print(li_new6)"
   ]
  },
  {
   "cell_type": "code",
   "execution_count": 88,
   "metadata": {},
   "outputs": [
    {
     "name": "stdout",
     "output_type": "stream",
     "text": [
      "[1, 0.5, 4, 1.5, 8, 2.5]\n"
     ]
    }
   ],
   "source": [
    "li=[1,2,3,4,5]\n",
    "li1=[1,3,5,7,9]\n",
    "li_new9=[]\n",
    "for ele in li:\n",
    "        if ele==1:\n",
    "            li_new9.append(ele)\n",
    "        if ele%2==0:\n",
    "            li_new9.append(ele*2)\n",
    "        else:\n",
    "            li_new9.append(ele/2)\n",
    "print(li_new9)"
   ]
  },
  {
   "cell_type": "code",
   "execution_count": 92,
   "metadata": {},
   "outputs": [
    {
     "name": "stdout",
     "output_type": "stream",
     "text": [
      "[0.5, 4, 1.5, 8, 2.5]\n"
     ]
    }
   ],
   "source": [
    "li=[1,2,3,4,5]\n",
    "li_new10=[ele*2 if ele%2==0 else ele/2 for ele in li if ele==1]\n",
    "print(li_new10)"
   ]
  },
  {
   "cell_type": "code",
   "execution_count": 97,
   "metadata": {},
   "outputs": [
    {
     "name": "stdout",
     "output_type": "stream",
     "text": [
      "[4, 8, 16]\n",
      "[6, 18]\n"
     ]
    }
   ],
   "source": [
    "list=[1,2,3,4,5,6,7,8,9,0]\n",
    "new_list=[]\n",
    "for ele in list:\n",
    "    if ele%2==0:\n",
    "        if ele%3!=0:\n",
    "            new_list.append(ele*2)\n",
    "#     else:\n",
    "#         new_list.append(ele/2)\n",
    "print(new_list)\n",
    "new=[]\n",
    "for ele in list:\n",
    "    if ele%3==0:\n",
    "        if ele%2!=0:\n",
    "            new.append(ele*2)\n",
    "print(new)"
   ]
  },
  {
   "cell_type": "code",
   "execution_count": 101,
   "metadata": {},
   "outputs": [
    {
     "ename": "SyntaxError",
     "evalue": "invalid syntax (<ipython-input-101-01db1ced20e5>, line 11)",
     "output_type": "error",
     "traceback": [
      "\u001b[1;36m  File \u001b[1;32m\"<ipython-input-101-01db1ced20e5>\"\u001b[1;36m, line \u001b[1;32m11\u001b[0m\n\u001b[1;33m    li=[ele*2 if ele%2==0 if ele%3!=0 else ele/2 for ele in list]\u001b[0m\n\u001b[1;37m                           ^\u001b[0m\n\u001b[1;31mSyntaxError\u001b[0m\u001b[1;31m:\u001b[0m invalid syntax\n"
     ]
    }
   ],
   "source": [
    "list=[1,2,3,4,5,6,7,8,9,0]\n",
    "new_list=[]\n",
    "for ele in list:\n",
    "    if ele%2==0:\n",
    "        if ele%3!=0:\n",
    "            new_list.append(ele*2)\n",
    "    else:\n",
    "        new_list.append(ele/2)\n",
    "print(new_list)\n",
    "# comprehension for the above for loop is \n",
    "li=[ele*2 if ele%2==0 if ele%3!=0 else ele/2 for ele in list]\n",
    "print(li)\n"
   ]
  },
  {
   "cell_type": "code",
   "execution_count": 99,
   "metadata": {},
   "outputs": [
    {
     "name": "stdout",
     "output_type": "stream",
     "text": [
      "[4, 8, 16]\n",
      "[6, 18]\n"
     ]
    }
   ],
   "source": [
    "# list comprehnsion for the example shown above is:\n",
    "new_list1=[ele*2 for ele in list if ele%2==0 if ele%3!=0]\n",
    "print(new_list1)\n",
    "new_list1=[ele*2 for ele in list if ele%3==0 if ele%2!=0]\n",
    "print(new_list1)"
   ]
  },
  {
   "cell_type": "code",
   "execution_count": 108,
   "metadata": {},
   "outputs": [
    {
     "ename": "SyntaxError",
     "evalue": "invalid syntax (<ipython-input-108-dc24c5814328>, line 11)",
     "output_type": "error",
     "traceback": [
      "\u001b[1;36m  File \u001b[1;32m\"<ipython-input-108-dc24c5814328>\"\u001b[1;36m, line \u001b[1;32m11\u001b[0m\n\u001b[1;33m    new_li4=[ele if ele%2==0 else break for ele in list1]\u001b[0m\n\u001b[1;37m                                      ^\u001b[0m\n\u001b[1;31mSyntaxError\u001b[0m\u001b[1;31m:\u001b[0m invalid syntax\n"
     ]
    }
   ],
   "source": [
    "list1=[1,2,3,4]\n",
    "new_li=[ele for ele in list1 if ele%2==0]\n",
    "print(new_li)\n",
    "# new_li1=[ele if ele%2==0 for ele in list1]\n",
    "# print(new_li1)\n",
    "# new_ele2=[ele for ele in list1 if ele%2==0 else ele*2]\n",
    "# print(new_ele2)\n",
    "new_li4=[ele if ele%2==0 else ele/2 for ele in list1]\n",
    "print(new_li4)\n",
    "# new_li4=[ele if ele%2==0 else pass for ele in list1]\n",
    "new_li4=[ele if ele%2==0 else break for ele in list1]"
   ]
  },
  {
   "cell_type": "code",
   "execution_count": 1,
   "metadata": {},
   "outputs": [
    {
     "ename": "SyntaxError",
     "evalue": "invalid syntax (<ipython-input-1-c4b555b7883d>, line 1)",
     "output_type": "error",
     "traceback": [
      "\u001b[1;36m  File \u001b[1;32m\"<ipython-input-1-c4b555b7883d>\"\u001b[1;36m, line \u001b[1;32m1\u001b[0m\n\u001b[1;33m    list=[int(x)] [for x in input().split()]\u001b[0m\n\u001b[1;37m                     ^\u001b[0m\n\u001b[1;31mSyntaxError\u001b[0m\u001b[1;31m:\u001b[0m invalid syntax\n"
     ]
    }
   ],
   "source": [
    "list=[[int(x)]for x in input().split()]\n",
    "print(list)\n",
    "list1=[[int(ele1) for ele1 in ele]for ele in input().split()]\n",
    "print(list1)"
   ]
  },
  {
   "cell_type": "code",
   "execution_count": 4,
   "metadata": {},
   "outputs": [
    {
     "name": "stdout",
     "output_type": "stream",
     "text": [
      "4\n",
      "1 2 3\n",
      "1 2 3 4\n",
      " 1 2 3 4 5\n",
      "1 2 \n",
      "[[1, 2, 3], [1, 2, 3, 4], [1, 2, 3, 4, 5], [1, 2]]\n"
     ]
    }
   ],
   "source": [
    "n=int(input())\n",
    "li=[[int(j) for j in input().split()] for i in range(n)]\n",
    "print(li)"
   ]
  },
  {
   "cell_type": "markdown",
   "metadata": {},
   "source": [
    "input in two dimensional list"
   ]
  },
  {
   "cell_type": "code",
   "execution_count": 3,
   "metadata": {},
   "outputs": [
    {
     "name": "stdout",
     "output_type": "stream",
     "text": [
      "3\n",
      "1 2 3\n",
      "4 5\n",
      "6\n",
      "[[1, 2, 3], [4, 5], [6]]\n",
      "3\n",
      "1 2 3\n",
      "4 5\n",
      "6\n",
      "[[1, 2, 3], [4, 5], [6]]\n"
     ]
    }
   ],
   "source": [
    "# conventional approach \n",
    "t_d_list=[]\n",
    "n=int(input())\n",
    "for i in range(n):\n",
    "    list=[int(x) for x in input().split()]\n",
    "    t_d_list.append(list)\n",
    "print(t_d_list)\n",
    "# by list comprehension\n",
    "n=int(input())\n",
    "t_d_li=[[int(j) for j in input().split()] for i in range(n)]\n",
    "print(t_d_li)"
   ]
  },
  {
   "cell_type": "code",
   "execution_count": 4,
   "metadata": {},
   "outputs": [
    {
     "ename": "SyntaxError",
     "evalue": "invalid syntax (<ipython-input-4-9cfb5d405dc5>, line 1)",
     "output_type": "error",
     "traceback": [
      "\u001b[1;36m  File \u001b[1;32m\"<ipython-input-4-9cfb5d405dc5>\"\u001b[1;36m, line \u001b[1;32m1\u001b[0m\n\u001b[1;33m    t_d_li=[[int(j) for j in input().split()] while i<n]\u001b[0m\n\u001b[1;37m                                                  ^\u001b[0m\n\u001b[1;31mSyntaxError\u001b[0m\u001b[1;31m:\u001b[0m invalid syntax\n"
     ]
    }
   ],
   "source": [
    "t_d_li=[[int(j) for j in input().split()] while i<n] # not construct is not allowed in list coprehension statements\n",
    "print(t_d_li)"
   ]
  },
  {
   "cell_type": "code",
   "execution_count": 9,
   "metadata": {},
   "outputs": [
    {
     "name": "stdout",
     "output_type": "stream",
     "text": [
      "2\n",
      "1 2 3\n",
      "1 2\n",
      "[[1, 2, 3], [1, 2]]\n",
      "2\n",
      "3\n",
      "1 2 3 4 5 6\n",
      "[[1, 2, 3], [4, 5, 6]]\n"
     ]
    }
   ],
   "source": [
    "N=int(input())\n",
    "li=[[int(j) for j in input().split()] for i in range(N)]\n",
    "print(li)\n",
    "N1=int(input())\n",
    "M1=int(input())\n",
    "str=input().split()\n",
    "li1=[[int(str[M1*i+j]) for j in range(M1)] for i in range(N1)]\n",
    "print(li1)"
   ]
  },
  {
   "cell_type": "code",
   "execution_count": 13,
   "metadata": {},
   "outputs": [
    {
     "name": "stdout",
     "output_type": "stream",
     "text": [
      "3 4 1 2 3 4 5 6 7 8 9 10 11 12\n",
      "['1', '2', '3', '4', '5', '6', '7', '8', '9', '10', '11', '12']\n",
      "[[1, 2, 3, 4], [5, 6, 7, 8], [9, 10, 11, 12]]\n"
     ]
    }
   ],
   "source": [
    "str=input().split()\n",
    "n,m=int(str[0]),int(str[1])\n",
    "str=str[2:len(str)]\n",
    "print(str)\n",
    "li=[[int(str[m*i+j]) for j in range(m)] for i in range(n)]\n",
    "print(li)"
   ]
  },
  {
   "cell_type": "code",
   "execution_count": 15,
   "metadata": {},
   "outputs": [
    {
     "name": "stdout",
     "output_type": "stream",
     "text": [
      "3\n",
      "1 2 3\n",
      "1 2\n",
      "1\n",
      "[[1, 2, 3], [1, 2], [1]]\n"
     ]
    }
   ],
   "source": [
    "# taking input() in a two d list\n",
    "n=int(input())\n",
    "li=[[int(x) for x in input().split()] for i in range(n)]\n",
    "print(li)"
   ]
  },
  {
   "cell_type": "code",
   "execution_count": 23,
   "metadata": {},
   "outputs": [
    {
     "name": "stdout",
     "output_type": "stream",
     "text": [
      "3\n",
      "4\n",
      "123456789012\n",
      "1 2 3 4 \n",
      "5 6 7 8 \n",
      "9 0 1 2 \n",
      "1 2 3 4 \n",
      "5 6 7 8 \n",
      "9 0 1 2 \n"
     ]
    }
   ],
   "source": [
    "# printing a two dimensional list\n",
    "n=int(input())\n",
    "m=int(input())\n",
    "str=input()\n",
    "li=[[int(str[m*i+j]) for j in range(m)] for i in range(n)]\n",
    "for i in range(n):\n",
    "    for j in range(m):\n",
    "        print(li[i][j],end=\" \")\n",
    "    print()\n",
    "# another way\n",
    "for row in li:\n",
    "    for col in row:\n",
    "        print(col,end=\" \")\n",
    "    print()"
   ]
  },
  {
   "cell_type": "code",
   "execution_count": 44,
   "metadata": {},
   "outputs": [
    {
     "name": "stdout",
     "output_type": "stream",
     "text": [
      "1\n",
      "2\n",
      "3\n",
      "4\n",
      "[1, 2, 3, 4]\n"
     ]
    }
   ],
   "source": [
    "li=[1,2,3,4,[1,2,3,4]]\n",
    "for ele in li:\n",
    "    if type(ele)==list:\n",
    "        for ele1 in ele:\n",
    "            print(ele1,end=\" \")\n",
    "        print()\n",
    "    else: \n",
    "        print(ele) # same code works as expected in untiled notebook not able to evaluate the cause of error"
   ]
  },
  {
   "cell_type": "code",
   "execution_count": 27,
   "metadata": {},
   "outputs": [
    {
     "name": "stdout",
     "output_type": "stream",
     "text": [
      "hello\n",
      "hello\n",
      "hello\n",
      "hello\n",
      "hello\n",
      "sorry\n"
     ]
    }
   ],
   "source": [
    "x=[12,12,12,12,12,\"parikh\"]\n",
    "for ele in x:\n",
    "    if type(ele)==int:\n",
    "        print(\"hello\")\n",
    "    else:\n",
    "        print(\"sorry\")"
   ]
  },
  {
   "cell_type": "markdown",
   "metadata": {},
   "source": [
    ".join function"
   ]
  },
  {
   "cell_type": "code",
   "execution_count": 1,
   "metadata": {},
   "outputs": [
    {
     "name": "stdout",
     "output_type": "stream",
     "text": [
      "ram shyam mohan\n",
      "h e l l o\n",
      "1 2 3 4\n"
     ]
    }
   ],
   "source": [
    "# syntax string.join(iterable)\n",
    "li=[\"ram\",\"shyam\",\"mohan\"]\n",
    "new_str=\" \".join(li)\n",
    "print(new_str)\n",
    "str1=\"hello\"\n",
    "new_str1=\" \".join(str1)\n",
    "print(new_str1)\n",
    "li1=[1,2,3,4]\n",
    "# new_str2=\" \".join(li1) # here we will got an type error because it is not possible to concatenate a int type object with str type\n",
    "new_str2=\" \".join([str(x) for x in li1])\n",
    "print(new_str2)"
   ]
  },
  {
   "cell_type": "markdown",
   "metadata": {},
   "source": [
    "printing the 2'd list li"
   ]
  },
  {
   "cell_type": "code",
   "execution_count": 6,
   "metadata": {},
   "outputs": [
    {
     "name": "stdout",
     "output_type": "stream",
     "text": [
      "5\n",
      "5\n",
      "1 2 3 4 5\n",
      "6 7 8 9 0\n",
      "1 2 3 4 5\n",
      "6 7 8 9 0\n",
      "1 2 3 4 5\n"
     ]
    }
   ],
   "source": [
    "n=int(input())\n",
    "m=int(input())\n",
    "li=[[j for j in input().split(\" \",m)] for i in range(n)]"
   ]
  },
  {
   "cell_type": "code",
   "execution_count": 11,
   "metadata": {},
   "outputs": [
    {
     "name": "stdout",
     "output_type": "stream",
     "text": [
      "1 2 3 4 5 \n",
      "6 7 8 9 0 \n",
      "1 2 3 4 5 \n",
      "6 7 8 9 0 \n",
      "1 2 3 4 5 \n",
      "\n",
      "1 2 3 4 5 \n",
      "6 7 8 9 0 \n",
      "1 2 3 4 5 \n",
      "6 7 8 9 0 \n",
      "1 2 3 4 5 \n",
      "\n",
      "1 2 3 4 5\n",
      "6 7 8 9 0\n",
      "1 2 3 4 5\n",
      "6 7 8 9 0\n",
      "1 2 3 4 5\n",
      "\n"
     ]
    }
   ],
   "source": [
    "# way 1 \n",
    "for i in range(n):\n",
    "    for j in range(m):\n",
    "        print(li[i][j],end=\" \")\n",
    "    print()\n",
    "print()\n",
    "# way 2\n",
    "for row in li:\n",
    "    for col in row:\n",
    "        print(col,end=\" \")\n",
    "    print()\n",
    "print()\n",
    "# way 3\n",
    "for row in li:\n",
    "    new_str=\" \".join([str(x) for x in row])\n",
    "    print(new_str)\n",
    "print()\n",
    "\n",
    "# clearly way 1 cant be used for a jagged list because in case of a jagged list column size is not fixed"
   ]
  },
  {
   "cell_type": "code",
   "execution_count": 14,
   "metadata": {},
   "outputs": [
    {
     "name": "stdout",
     "output_type": "stream",
     "text": [
      "4 2\n",
      "1 2 3 4 5 6 7 8\n",
      "3 7 11 15\n"
     ]
    }
   ],
   "source": [
    "# row_wise sum of a t_d_Array\n",
    "def row_wise_sum(T_d_li):\n",
    "    temp_sum=[]\n",
    "    for row in T_d_li:\n",
    "        r_sum=0\n",
    "        for col in row:\n",
    "            r_sum=r_sum+col\n",
    "        temp_sum.append(r_sum)\n",
    "    sum_str=\" \".join([str(x) for x in temp_sum])\n",
    "    return sum_str\n",
    "n,m=[int(x) for x in input().split(\" \",1)]\n",
    "li=[int(x) for x in  input().split()]\n",
    "t_d_li=[[li[m*i+j] for j in range(m)]for i in range(n)]\n",
    "sum_str=row_wise_sum(t_d_li)\n",
    "print(sum_str)        \n",
    "        "
   ]
  },
  {
   "cell_type": "code",
   "execution_count": 25,
   "metadata": {},
   "outputs": [
    {
     "name": "stdout",
     "output_type": "stream",
     "text": [
      "4 2\n",
      "1 2 3 4 5 6 7 8\n",
      "3 7 11 15\n"
     ]
    }
   ],
   "source": [
    "def row_wise_sum(arr):\n",
    "    f_r_sum=[]\n",
    "    for row in arr:\n",
    "        t_r_sum=0\n",
    "        for col in row:\n",
    "            t_r_sum=t_r_sum+col\n",
    "        f_r_sum.append(t_r_sum)\n",
    "#     sum_str=\" \".join([str(x) for x in f_r_sum])\n",
    "    return f_r_sum\n",
    "n,m=[int(x) for x in input().split(\" \",1)]\n",
    "li=[int(x) for x in  input().split()]\n",
    "t_d_li=[[li[m*i+j] for j in range(m)]for i in range(n)]\n",
    "sum_str=row_wise_sum(t_d_li)\n",
    "print(*sum_str) "
   ]
  },
  {
   "cell_type": "code",
   "execution_count": 21,
   "metadata": {},
   "outputs": [
    {
     "name": "stdout",
     "output_type": "stream",
     "text": [
      "[1, 2, 3, 4]\n"
     ]
    }
   ],
   "source": [
    "l=[1,2,3,4]\n",
    "print(l)"
   ]
  },
  {
   "cell_type": "markdown",
   "metadata": {},
   "source": [
    "two_dimensional_list_info"
   ]
  },
  {
   "cell_type": "code",
   "execution_count": 1,
   "metadata": {},
   "outputs": [
    {
     "name": "stdout",
     "output_type": "stream",
     "text": [
      "4\n",
      "1\n",
      "1 2\n",
      "1 2 3\n",
      "1 2 3 4\n",
      "[1, 2, 3, 4] [4, 3, 2, 1]\n",
      "1 1\n",
      "2 3\n"
     ]
    }
   ],
   "source": [
    "# this function will return the length of the two d row and the no. of elements present in each row\n",
    "def row_spec(t_list):\n",
    "    r_no,r_len=0,[]\n",
    "    for ele in t_list:\n",
    "        r_no=r_no+1\n",
    "        r_len.append(len(ele))\n",
    "    return r_no,r_len\n",
    "# this function will return the max of r_len (a list which contains the information about the no. of elements in each row)\n",
    "def largest(r_len):\n",
    "    large=r_len[0]\n",
    "    for i in range(1,len(r_len)):\n",
    "        if r_len[i]>large:\n",
    "            large=r_len[i]\n",
    "    return large\n",
    "# this function will return the no. of elements present in each coloumn\n",
    "def col_spec(r_len):\n",
    "    col_len=[]\n",
    "    for i in range(largest(r_len)):\n",
    "        e_col_len=0\n",
    "        for ele in r_len:\n",
    "            if ele>=i+1:\n",
    "                e_col_len=e_col_len+1\n",
    "        col_len.append(e_col_len)\n",
    "    return col_len\n",
    "n=int(input())\n",
    "t_d_list=[[int(x) for x in input().split()] for i in range(n)]\n",
    "r_no,r_len=row_spec(t_d_list)\n",
    "col_len=col_spec(r_len)\n",
    "print(r_len,col_len)\n",
    "i,j=[int(x) for x in input().split()]\n",
    "print(r_len[i],col_len[j])"
   ]
  },
  {
   "cell_type": "code",
   "execution_count": 10,
   "metadata": {},
   "outputs": [
    {
     "name": "stdout",
     "output_type": "stream",
     "text": [
      "4\n",
      "1 \n",
      "1 2 \n",
      "1 2 3\n",
      "1 2 3 4\n",
      "4 [1, 2, 3, 4]\n"
     ]
    }
   ],
   "source": [
    "def row_spec(t_list):\n",
    "    r_no,r_len=0,[]\n",
    "    for ele in t_list:\n",
    "        r_no=r_no+1\n",
    "        r_len.append(len(ele))\n",
    "    return r_no,r_len\n",
    "n=int(input())\n",
    "t_d_list=[[int(x) for x in input().split()] for i in range(n)]\n",
    "r_no,r_len=row_spec(t_d_list)\n",
    "print(r_no,r_len)"
   ]
  },
  {
   "cell_type": "code",
   "execution_count": 11,
   "metadata": {},
   "outputs": [
    {
     "name": "stdout",
     "output_type": "stream",
     "text": [
      "4\n"
     ]
    }
   ],
   "source": [
    "def largest(r_len):\n",
    "    large=r_len[0]\n",
    "    for i in range(1,len(r_len)):\n",
    "        if r_len[i]>large:\n",
    "            large=r_len[i]\n",
    "    return large\n",
    "print(largest(r_len))"
   ]
  },
  {
   "cell_type": "code",
   "execution_count": 12,
   "metadata": {},
   "outputs": [
    {
     "name": "stdout",
     "output_type": "stream",
     "text": [
      "[4, 3, 2, 1]\n"
     ]
    }
   ],
   "source": [
    "def col_spec(r_len):\n",
    "    col_len=[]\n",
    "    for i in range(largest(r_len)):\n",
    "        e_col_len=0\n",
    "        for ele in r_len:\n",
    "            if ele>=i+1:\n",
    "                e_col_len=e_col_len+1\n",
    "        col_len.append(e_col_len)\n",
    "    return col_len\n",
    "print(col_spec(r_len))"
   ]
  },
  {
   "cell_type": "markdown",
   "metadata": {},
   "source": [
    "column wise sum"
   ]
  },
  {
   "cell_type": "code",
   "execution_count": 3,
   "metadata": {},
   "outputs": [
    {
     "name": "stdout",
     "output_type": "stream",
     "text": [
      "4 4\n",
      "1 2 3 4\n",
      "5 6 7 8\n",
      "1 2 3 4\n",
      "5 6 7 8\n",
      "12 16 20 24\n"
     ]
    }
   ],
   "source": [
    "def col_wise_sum(t_d_li):\n",
    "    col_sum=[]\n",
    "    for i in range(m):\n",
    "        ele_col_sum=0\n",
    "        for j in range(n):\n",
    "            ele_col_sum+=t_d_li[j][i]\n",
    "        col_sum.append(ele_col_sum)\n",
    "    return col_sum\n",
    "n,m=[int(x) for x in input().split(\" \",1)]\n",
    "t_d_list=[[int(x) for x in input().split()] for i in range(n)]\n",
    "col_sum=col_wise_sum(t_d_list)\n",
    "print(*col_sum)"
   ]
  },
  {
   "cell_type": "code",
   "execution_count": 2,
   "metadata": {},
   "outputs": [
    {
     "name": "stdout",
     "output_type": "stream",
     "text": [
      "3\n",
      "1 2 3\n",
      "4 5 6\n",
      "7 8 9\n",
      "6 15 24\n",
      "5\n",
      "1\n",
      "1 2\n",
      "1 2 3\n",
      "1 2\n",
      "1\n",
      "1 3 6 3 1\n"
     ]
    }
   ],
   "source": [
    "# row wise sum of a two dimensional list\n",
    "def row_wise_sum(t_list):\n",
    "    R_sum=[]\n",
    "    for row in t_list:\n",
    "        I_R_sum=0\n",
    "        for ele in row:\n",
    "            I_R_sum=I_R_sum+ele\n",
    "        R_sum.append(I_R_sum)\n",
    "    return R_sum\n",
    "\n",
    "n=int(input())\n",
    "li=[[int(j) for j in input().split()] for i in range(n)]\n",
    "row_sum=row_wise_sum(li)\n",
    "print(*row_sum)\n",
    "\n",
    "n=int(input())\n",
    "li1=[[int(j) for j in input().split()] for i in range(n)]\n",
    "Row_Sum1=row_wise_sum(li1)\n",
    "print(*Row_Sum1)"
   ]
  },
  {
   "cell_type": "code",
   "execution_count": 2,
   "metadata": {},
   "outputs": [
    {
     "name": "stdout",
     "output_type": "stream",
     "text": [
      "3 4\n",
      "1 2 3 4\n",
      "5 6 7 8\n",
      "9 10 11 12\n",
      "[15, 18, 21, 24]\n"
     ]
    }
   ],
   "source": [
    "#coloumn wise sum\n",
    "def col_wise_sum(t_li):\n",
    "    col_sum=[]\n",
    "    for i in range(m):\n",
    "        I_col_sum=0\n",
    "        for j in range(n):\n",
    "            I_col_sum=I_col_sum+t_li[j][i]\n",
    "        col_sum.append(I_col_sum)\n",
    "    return col_sum\n",
    "n,m=[int(x) for x in input().split()]\n",
    "li=[[int(j) for j in input().split()] for i in range(n)]\n",
    "col_sum=col_wise_sum(li)\n",
    "print(col_sum)"
   ]
  },
  {
   "cell_type": "code",
   "execution_count": 13,
   "metadata": {},
   "outputs": [
    {
     "name": "stdout",
     "output_type": "stream",
     "text": [
      "5\n",
      "1\n",
      "1 2\n",
      "1 2 3\n",
      "1 2\n",
      "1\n",
      "5 6 3\n"
     ]
    }
   ],
   "source": [
    "# column wise sum of jagged list\n",
    "def max_col(t_li):\n",
    "    max_c=len(t_li[0])\n",
    "    for i in range(1,len(t_li)):\n",
    "        if max_c<len(t_li[i]):\n",
    "            max_c=len(t_li[i])\n",
    "    return max_c\n",
    "def j_col_wise_sum(t_li,max_c):\n",
    "    col_sum=[]\n",
    "    for i in range(max_c):\n",
    "        i_col_sum=0\n",
    "        for j in range(n):\n",
    "            if i<len(t_li[j]):\n",
    "                i_col_sum=i_col_sum+li[j][i]\n",
    "        col_sum.append(i_col_sum)\n",
    "    return col_sum\n",
    "n=int(input())\n",
    "li=[[int(j) for j in input().split()] for i in range(n)]\n",
    "max_c=max_col(li)\n",
    "col_sum=j_col_wise_sum(li,max_c)\n",
    "print(*col_sum)\n",
    "            "
   ]
  },
  {
   "cell_type": "code",
   "execution_count": 25,
   "metadata": {},
   "outputs": [
    {
     "name": "stdout",
     "output_type": "stream",
     "text": [
      "5\n",
      "1\n",
      "1 2\n",
      "1 2 3\n",
      "1 2\n",
      "1\n",
      "6\n",
      "5\n",
      "1 2 3 4 5\n",
      "6 7 8 9 10\n",
      "1 2 3 4 5\n",
      "6 7 8 9 10\n",
      "1 2 3 4 5\n",
      "35\n"
     ]
    }
   ],
   "source": [
    "# largest coloumn sum\n",
    "def max_col(t_li):\n",
    "    max_c=len(li[0])\n",
    "    for i in range(1,len(t_li)):\n",
    "        if len(t_li[i])>max_c:\n",
    "            max_c=len(t_li[i])\n",
    "    return max_c\n",
    "\n",
    "def largest_col_sum(t_li,max_c):\n",
    "    l_col_sum=-9999\n",
    "    for i in range(max_c):\n",
    "        e_col_sum=0\n",
    "        for j in range(n):\n",
    "            if i<len(t_li[j]):\n",
    "                e_col_sum=e_col_sum+t_li[j][i]\n",
    "        if l_col_sum<e_col_sum:\n",
    "            l_col_sum=e_col_sum\n",
    "    return l_col_sum\n",
    "n=int(input())\n",
    "li=[[int(j) for j in input().split()] for i in range(n)]\n",
    "max_c=max_col(li)\n",
    "l_col_sum=largest_col_sum(li,max_c)\n",
    "print(l_col_sum)\n",
    "N1=int(input())\n",
    "li1=[[int(j) for j in input().split()] for i in range(N1)]\n",
    "max_c1=max_col(li1)\n",
    "l_col_sum1=largest_col_sum(li1,max_c1)\n",
    "print(l_col_sum1)"
   ]
  },
  {
   "cell_type": "code",
   "execution_count": 33,
   "metadata": {},
   "outputs": [
    {
     "name": "stdout",
     "output_type": "stream",
     "text": [
      "5\n",
      "1\n",
      "1 2\n",
      "1 2 3\n",
      "1 2\n",
      "1\n",
      "6 1\n",
      "5\n",
      "1 2 3 4 5\n",
      "6 7 8 9 10\n",
      "1 2 3 4 5 \n",
      "6 7 8 9 10\n",
      "1 2 3 4 5\n",
      "35 4\n"
     ]
    }
   ],
   "source": [
    "# another apporach\n",
    "def max_col(t_li):\n",
    "    max_c=len(t_li[0])\n",
    "    for i in range(1,len(t_li)):\n",
    "        if len(t_li)>max_c:\n",
    "            max_c=len(t_li)\n",
    "    return max_c\n",
    "def l_col_index(t_li,max_c):\n",
    "    largest_sum,index=0,0\n",
    "    for i in range(max_c):\n",
    "        sum1=0\n",
    "        for ele in t_li:\n",
    "            if i<len(ele):\n",
    "                sum1=sum1+ele[i]\n",
    "        if largest_sum<sum1:\n",
    "            index=i\n",
    "            largest_sum=sum1\n",
    "    return largest_sum,index\n",
    "n=int(input())\n",
    "li=[[int(j) for j in input().split()] for i in range(n)]\n",
    "max_c=max_col(li)\n",
    "largest_sum,index=l_col_index(li,max_c)\n",
    "print(largest_sum,index)\n",
    "N1=int(input())\n",
    "li1=[[int(j) for j in input().split()] for i in range(N1)]\n",
    "max_c1=max_col(li1)\n",
    "largest_sum1,index1=l_col_index(li1,max_c1)\n",
    "print(largest_sum1,index1)"
   ]
  },
  {
   "cell_type": "code",
   "execution_count": 9,
   "metadata": {},
   "outputs": [
    {
     "name": "stdout",
     "output_type": "stream",
     "text": [
      "3\n",
      "3 6 9\n",
      "1 4 7\n",
      "2 8 9\n",
      "2 25\n"
     ]
    }
   ],
   "source": [
    "# largest row or column\n",
    "def max_col(t_d_li):\n",
    "    max_c=len(t_d_li[0])\n",
    "    for i in range(1,len(t_d_li)):\n",
    "        if len(t_d_li[i])>max_c:\n",
    "            max_c=len(t_d_li[i])\n",
    "    return max_c\n",
    "\n",
    "def largest_row(t_d_li):\n",
    "    l_row_index,l_row_sum=-1,-9999\n",
    "    for i in range(len(t_d_li)):\n",
    "        i_r_sum=0\n",
    "        for ele in t_d_li[i]:\n",
    "            i_r_sum+=ele\n",
    "        if i_r_sum>l_row_sum:\n",
    "            l_row_sum=i_r_sum\n",
    "            l_row_index=i\n",
    "    return l_row_sum,l_row_index\n",
    "def largest_col(t_d_li,max_c):\n",
    "    l_col_sum,l_col_index=-9999,-1\n",
    "    for j in range(max_c):\n",
    "        i_col_sum=0\n",
    "        for i in range(len(t_d_li)):\n",
    "            if j<len(t_d_li[i]):\n",
    "                i_col_sum+=t_d_li[i][j]\n",
    "        if i_col_sum>l_col_sum:\n",
    "            l_col_sum=i_col_sum\n",
    "            l_col_index=j\n",
    "    return l_col_sum,l_col_index\n",
    "def max_row_or_col(l_row,l_row_index,l_col,l_col_index):\n",
    "    if l_row>l_col or l_row==l_col:\n",
    "        print(l_row_index,l_row)\n",
    "    else:\n",
    "        print(l_col_index,l_col)\n",
    "\n",
    "n=int(input())\n",
    "li=[[int(j) for j in input().split()] for i in range(n)]\n",
    "max_c=max_col(li)\n",
    "l_row,l_row_index=largest_row(li)\n",
    "l_col,l_col_index=largest_col(li,max_c)\n",
    "max_row_or_col(l_row,l_row_index,l_col,l_col_index)"
   ]
  },
  {
   "cell_type": "code",
   "execution_count": 12,
   "metadata": {},
   "outputs": [
    {
     "name": "stdout",
     "output_type": "stream",
     "text": [
      "3\n",
      "3 6 9\n",
      "1 4 -7\n",
      "2 8 9\n",
      "18 1 19 2\n",
      "2 19\n"
     ]
    }
   ],
   "source": [
    "# largest row or column\n",
    "def max_col(t_d_li):\n",
    "    max_c=len(t_d_li[0])\n",
    "    for i in range(1,len(t_d_li)):\n",
    "        if len(t_d_li[i])>max_c:\n",
    "            max_c=len(t_d_li[i])\n",
    "    return max_c\n",
    "\n",
    "def largest_row(t_d_li):\n",
    "    l_row_index,l_row_sum=-1,-9999\n",
    "    for i in range(len(t_d_li)):\n",
    "        i_r_sum=0\n",
    "        for ele in t_d_li[i]:\n",
    "            i_r_sum+=ele\n",
    "        if i_r_sum>l_row_sum:\n",
    "            l_row_sum=i_r_sum\n",
    "            l_row_index=i\n",
    "    return l_row_sum,l_row_index\n",
    "def largest_col(t_d_li,max_c):\n",
    "    l_col_sum,l_col_index=-9999,-1\n",
    "    for j in range(max_c):\n",
    "        i_col_sum=0\n",
    "        for i in range(len(t_d_li)):\n",
    "            if j<len(t_d_li[i]):\n",
    "                i_col_sum+=t_d_li[i][j]\n",
    "        if i_col_sum>l_col_sum:\n",
    "            l_col_sum=i_col_sum\n",
    "            l_col_index=j\n",
    "    return l_col_sum,l_col_index\n",
    "def max_row_or_col(l_row,l_row_index,l_col,l_col_index):\n",
    "    if l_row>l_col or l_row==l_col:\n",
    "        print(l_row_index,l_row)\n",
    "    else:\n",
    "        print(l_col_index,l_col)\n",
    "\n",
    "n=int(input())\n",
    "li=[[int(j) for j in input().split()] for i in range(n)]\n",
    "max_c=max_col(li)\n",
    "l_row,l_row_index=largest_row(li)\n",
    "l_col,l_col_index=largest_col(li,max_c)\n",
    "print(l_col,l_col_index,l_row,l_row_index)\n",
    "max_row_or_col(l_row,l_row_index,l_col,l_col_index)"
   ]
  },
  {
   "cell_type": "code",
   "execution_count": 15,
   "metadata": {},
   "outputs": [
    {
     "name": "stdout",
     "output_type": "stream",
     "text": [
      "3\n",
      "1 4 7\n",
      "2 5 8\n",
      "3 6 9\n",
      "1 2 3 6 5 4 7 8 9 "
     ]
    }
   ],
   "source": [
    "# sine wave print\n",
    "def sine_wave(t_d_li):\n",
    "    for i in range(len(t_d_li[0])):\n",
    "        if i%2==0:\n",
    "            for j in range(len(t_d_li)):\n",
    "                print(t_d_li[j][i],end=\" \")\n",
    "        else:\n",
    "            for k in range(len(t_d_li)-1,-1,-1):\n",
    "                print(t_d_li[k][i],end=\" \")\n",
    "n=int(input())\n",
    "li=[[int(j) for j in input().split()] for i in range(n)]\n",
    "sine_wave(li)"
   ]
  },
  {
   "cell_type": "code",
   "execution_count": 16,
   "metadata": {},
   "outputs": [
    {
     "name": "stdout",
     "output_type": "stream",
     "text": [
      "3 4 1  2  3  4 5  6  7  8 9 10 11 12\n"
     ]
    },
    {
     "ename": "ValueError",
     "evalue": "invalid literal for int() with base 10: ''",
     "output_type": "error",
     "traceback": [
      "\u001b[1;31m---------------------------------------------------------------------------\u001b[0m",
      "\u001b[1;31mValueError\u001b[0m                                Traceback (most recent call last)",
      "\u001b[1;32m<ipython-input-16-fae0735fa701>\u001b[0m in \u001b[0;36m<module>\u001b[1;34m\u001b[0m\n\u001b[0;32m      8\u001b[0m                 \u001b[0mprint\u001b[0m\u001b[1;33m(\u001b[0m\u001b[0mt_d_li\u001b[0m\u001b[1;33m[\u001b[0m\u001b[0mk\u001b[0m\u001b[1;33m]\u001b[0m\u001b[1;33m[\u001b[0m\u001b[0mi\u001b[0m\u001b[1;33m]\u001b[0m\u001b[1;33m,\u001b[0m\u001b[0mend\u001b[0m\u001b[1;33m=\u001b[0m\u001b[1;34m\" \"\u001b[0m\u001b[1;33m)\u001b[0m\u001b[1;33m\u001b[0m\u001b[1;33m\u001b[0m\u001b[0m\n\u001b[0;32m      9\u001b[0m \u001b[1;31m#Main\u001b[0m\u001b[1;33m\u001b[0m\u001b[1;33m\u001b[0m\u001b[1;33m\u001b[0m\u001b[0m\n\u001b[1;32m---> 10\u001b[1;33m \u001b[0ml\u001b[0m\u001b[1;33m=\u001b[0m\u001b[1;33m[\u001b[0m\u001b[0mint\u001b[0m\u001b[1;33m(\u001b[0m\u001b[0mi\u001b[0m\u001b[1;33m)\u001b[0m \u001b[1;32mfor\u001b[0m \u001b[0mi\u001b[0m \u001b[1;32min\u001b[0m \u001b[0minput\u001b[0m\u001b[1;33m(\u001b[0m\u001b[1;33m)\u001b[0m\u001b[1;33m.\u001b[0m\u001b[0mstrip\u001b[0m\u001b[1;33m(\u001b[0m\u001b[1;33m)\u001b[0m\u001b[1;33m.\u001b[0m\u001b[0msplit\u001b[0m\u001b[1;33m(\u001b[0m\u001b[1;34m' '\u001b[0m\u001b[1;33m)\u001b[0m\u001b[1;33m]\u001b[0m\u001b[1;33m\u001b[0m\u001b[1;33m\u001b[0m\u001b[0m\n\u001b[0m\u001b[0;32m     11\u001b[0m \u001b[0mm\u001b[0m\u001b[1;33m,\u001b[0m \u001b[0mn\u001b[0m\u001b[1;33m=\u001b[0m\u001b[0ml\u001b[0m\u001b[1;33m[\u001b[0m\u001b[1;36m0\u001b[0m\u001b[1;33m]\u001b[0m\u001b[1;33m,\u001b[0m \u001b[0ml\u001b[0m\u001b[1;33m[\u001b[0m\u001b[1;36m1\u001b[0m\u001b[1;33m]\u001b[0m\u001b[1;33m\u001b[0m\u001b[1;33m\u001b[0m\u001b[0m\n\u001b[0;32m     12\u001b[0m \u001b[0marr\u001b[0m \u001b[1;33m=\u001b[0m \u001b[1;33m[\u001b[0m \u001b[1;33m[\u001b[0m \u001b[0ml\u001b[0m\u001b[1;33m[\u001b[0m\u001b[1;33m(\u001b[0m\u001b[0mj\u001b[0m\u001b[1;33m*\u001b[0m\u001b[0mn\u001b[0m\u001b[1;33m)\u001b[0m\u001b[1;33m+\u001b[0m\u001b[0mi\u001b[0m\u001b[1;33m+\u001b[0m\u001b[1;36m2\u001b[0m\u001b[1;33m]\u001b[0m \u001b[1;32mfor\u001b[0m \u001b[0mi\u001b[0m \u001b[1;32min\u001b[0m \u001b[0mrange\u001b[0m\u001b[1;33m(\u001b[0m\u001b[0mn\u001b[0m\u001b[1;33m)\u001b[0m\u001b[1;33m]\u001b[0m \u001b[1;32mfor\u001b[0m \u001b[0mj\u001b[0m \u001b[1;32min\u001b[0m \u001b[0mrange\u001b[0m\u001b[1;33m(\u001b[0m\u001b[0mm\u001b[0m\u001b[1;33m)\u001b[0m\u001b[1;33m]\u001b[0m\u001b[1;33m\u001b[0m\u001b[1;33m\u001b[0m\u001b[0m\n",
      "\u001b[1;32m<ipython-input-16-fae0735fa701>\u001b[0m in \u001b[0;36m<listcomp>\u001b[1;34m(.0)\u001b[0m\n\u001b[0;32m      8\u001b[0m                 \u001b[0mprint\u001b[0m\u001b[1;33m(\u001b[0m\u001b[0mt_d_li\u001b[0m\u001b[1;33m[\u001b[0m\u001b[0mk\u001b[0m\u001b[1;33m]\u001b[0m\u001b[1;33m[\u001b[0m\u001b[0mi\u001b[0m\u001b[1;33m]\u001b[0m\u001b[1;33m,\u001b[0m\u001b[0mend\u001b[0m\u001b[1;33m=\u001b[0m\u001b[1;34m\" \"\u001b[0m\u001b[1;33m)\u001b[0m\u001b[1;33m\u001b[0m\u001b[1;33m\u001b[0m\u001b[0m\n\u001b[0;32m      9\u001b[0m \u001b[1;31m#Main\u001b[0m\u001b[1;33m\u001b[0m\u001b[1;33m\u001b[0m\u001b[1;33m\u001b[0m\u001b[0m\n\u001b[1;32m---> 10\u001b[1;33m \u001b[0ml\u001b[0m\u001b[1;33m=\u001b[0m\u001b[1;33m[\u001b[0m\u001b[0mint\u001b[0m\u001b[1;33m(\u001b[0m\u001b[0mi\u001b[0m\u001b[1;33m)\u001b[0m \u001b[1;32mfor\u001b[0m \u001b[0mi\u001b[0m \u001b[1;32min\u001b[0m \u001b[0minput\u001b[0m\u001b[1;33m(\u001b[0m\u001b[1;33m)\u001b[0m\u001b[1;33m.\u001b[0m\u001b[0mstrip\u001b[0m\u001b[1;33m(\u001b[0m\u001b[1;33m)\u001b[0m\u001b[1;33m.\u001b[0m\u001b[0msplit\u001b[0m\u001b[1;33m(\u001b[0m\u001b[1;34m' '\u001b[0m\u001b[1;33m)\u001b[0m\u001b[1;33m]\u001b[0m\u001b[1;33m\u001b[0m\u001b[1;33m\u001b[0m\u001b[0m\n\u001b[0m\u001b[0;32m     11\u001b[0m \u001b[0mm\u001b[0m\u001b[1;33m,\u001b[0m \u001b[0mn\u001b[0m\u001b[1;33m=\u001b[0m\u001b[0ml\u001b[0m\u001b[1;33m[\u001b[0m\u001b[1;36m0\u001b[0m\u001b[1;33m]\u001b[0m\u001b[1;33m,\u001b[0m \u001b[0ml\u001b[0m\u001b[1;33m[\u001b[0m\u001b[1;36m1\u001b[0m\u001b[1;33m]\u001b[0m\u001b[1;33m\u001b[0m\u001b[1;33m\u001b[0m\u001b[0m\n\u001b[0;32m     12\u001b[0m \u001b[0marr\u001b[0m \u001b[1;33m=\u001b[0m \u001b[1;33m[\u001b[0m \u001b[1;33m[\u001b[0m \u001b[0ml\u001b[0m\u001b[1;33m[\u001b[0m\u001b[1;33m(\u001b[0m\u001b[0mj\u001b[0m\u001b[1;33m*\u001b[0m\u001b[0mn\u001b[0m\u001b[1;33m)\u001b[0m\u001b[1;33m+\u001b[0m\u001b[0mi\u001b[0m\u001b[1;33m+\u001b[0m\u001b[1;36m2\u001b[0m\u001b[1;33m]\u001b[0m \u001b[1;32mfor\u001b[0m \u001b[0mi\u001b[0m \u001b[1;32min\u001b[0m \u001b[0mrange\u001b[0m\u001b[1;33m(\u001b[0m\u001b[0mn\u001b[0m\u001b[1;33m)\u001b[0m\u001b[1;33m]\u001b[0m \u001b[1;32mfor\u001b[0m \u001b[0mj\u001b[0m \u001b[1;32min\u001b[0m \u001b[0mrange\u001b[0m\u001b[1;33m(\u001b[0m\u001b[0mm\u001b[0m\u001b[1;33m)\u001b[0m\u001b[1;33m]\u001b[0m\u001b[1;33m\u001b[0m\u001b[1;33m\u001b[0m\u001b[0m\n",
      "\u001b[1;31mValueError\u001b[0m: invalid literal for int() with base 10: ''"
     ]
    }
   ],
   "source": [
    "def sine_wave(t_d_li):\n",
    "    for i in range(len(t_d_li[0])):\n",
    "        if i%2==0:\n",
    "            for j in range(len(t_d_li)):\n",
    "                print(t_d_li[j][i],end=\" \")\n",
    "        else:\n",
    "            for k in range(len(t_d_li)-1,-1,-1):\n",
    "                print(t_d_li[k][i],end=\" \")\n",
    "#Main\n",
    "l=[int(i) for i in input().strip().split(' ')]\n",
    "m, n=l[0], l[1]\n",
    "arr = [ [ l[(j*n)+i+2] for i in range(n)] for j in range(m)]\n",
    "sine_wave(arr)\n"
   ]
  },
  {
   "cell_type": "code",
   "execution_count": 20,
   "metadata": {},
   "outputs": [
    {
     "name": "stdout",
     "output_type": "stream",
     "text": [
      "4 4 1 2 3 4 5 6 7 8 9 10 11 12 13 14 15 16\n",
      "[[1, 2, 3, 4], [5, 6, 7, 8], [9, 10, 11, 12], [13, 14, 15, 16]]\n"
     ]
    }
   ],
   "source": [
    "#Main\n",
    "l=[int(i) for i in input().strip().split(' ')]\n",
    "m, n=l[0], l[1]\n",
    "arr = [ [ l[(j*n)+i+2] for i in range(n)] for j in range(m)]\n",
    "print(arr)\n",
    "# 1 2 3 4 8 12 16 15 14 13 9 5 6 7 11 10 "
   ]
  },
  {
   "cell_type": "code",
   "execution_count": 36,
   "metadata": {},
   "outputs": [
    {
     "name": "stdout",
     "output_type": "stream",
     "text": [
      "1 1 39 \n",
      "39 "
     ]
    },
    {
     "ename": "UnboundLocalError",
     "evalue": "local variable 'i' referenced before assignment",
     "output_type": "error",
     "traceback": [
      "\u001b[1;31m---------------------------------------------------------------------------\u001b[0m",
      "\u001b[1;31mUnboundLocalError\u001b[0m                         Traceback (most recent call last)",
      "\u001b[1;32m<ipython-input-36-3e5bbbbf1c20>\u001b[0m in \u001b[0;36m<module>\u001b[1;34m\u001b[0m\n\u001b[0;32m     16\u001b[0m \u001b[0mn\u001b[0m\u001b[1;33m,\u001b[0m\u001b[0mm\u001b[0m\u001b[1;33m=\u001b[0m\u001b[0mli\u001b[0m\u001b[1;33m[\u001b[0m\u001b[1;36m0\u001b[0m\u001b[1;33m]\u001b[0m\u001b[1;33m,\u001b[0m\u001b[0mli\u001b[0m\u001b[1;33m[\u001b[0m\u001b[1;36m1\u001b[0m\u001b[1;33m]\u001b[0m\u001b[1;33m\u001b[0m\u001b[1;33m\u001b[0m\u001b[0m\n\u001b[0;32m     17\u001b[0m \u001b[0marr\u001b[0m\u001b[1;33m=\u001b[0m\u001b[1;33m[\u001b[0m\u001b[1;33m[\u001b[0m\u001b[0mli\u001b[0m\u001b[1;33m[\u001b[0m\u001b[0mi\u001b[0m\u001b[1;33m*\u001b[0m\u001b[0mm\u001b[0m\u001b[1;33m+\u001b[0m\u001b[0mj\u001b[0m\u001b[1;33m+\u001b[0m\u001b[1;36m2\u001b[0m\u001b[1;33m]\u001b[0m \u001b[1;32mfor\u001b[0m \u001b[0mj\u001b[0m \u001b[1;32min\u001b[0m \u001b[0mrange\u001b[0m\u001b[1;33m(\u001b[0m\u001b[0mm\u001b[0m\u001b[1;33m)\u001b[0m\u001b[1;33m]\u001b[0m \u001b[1;32mfor\u001b[0m \u001b[0mi\u001b[0m \u001b[1;32min\u001b[0m \u001b[0mrange\u001b[0m\u001b[1;33m(\u001b[0m\u001b[0mn\u001b[0m\u001b[1;33m)\u001b[0m\u001b[1;33m]\u001b[0m\u001b[1;33m\u001b[0m\u001b[1;33m\u001b[0m\u001b[0m\n\u001b[1;32m---> 18\u001b[1;33m \u001b[0mspiral\u001b[0m\u001b[1;33m(\u001b[0m\u001b[0marr\u001b[0m\u001b[1;33m)\u001b[0m\u001b[1;33m\u001b[0m\u001b[1;33m\u001b[0m\u001b[0m\n\u001b[0m",
      "\u001b[1;32m<ipython-input-36-3e5bbbbf1c20>\u001b[0m in \u001b[0;36mspiral\u001b[1;34m(li)\u001b[0m\n\u001b[0;32m      9\u001b[0m         \u001b[1;32mfor\u001b[0m \u001b[0mk\u001b[0m \u001b[1;32min\u001b[0m \u001b[0mrange\u001b[0m\u001b[1;33m(\u001b[0m\u001b[0mj\u001b[0m\u001b[1;33m-\u001b[0m\u001b[1;36m1\u001b[0m\u001b[1;33m,\u001b[0m\u001b[0mrow\u001b[0m\u001b[1;33m-\u001b[0m\u001b[1;36m1\u001b[0m\u001b[1;33m,\u001b[0m\u001b[1;33m-\u001b[0m\u001b[1;36m1\u001b[0m\u001b[1;33m)\u001b[0m\u001b[1;33m:\u001b[0m\u001b[1;33m\u001b[0m\u001b[1;33m\u001b[0m\u001b[0m\n\u001b[0;32m     10\u001b[0m             \u001b[0mprint\u001b[0m\u001b[1;33m(\u001b[0m\u001b[0mli\u001b[0m\u001b[1;33m[\u001b[0m\u001b[0mi\u001b[0m\u001b[1;33m]\u001b[0m\u001b[1;33m[\u001b[0m\u001b[0mk\u001b[0m\u001b[1;33m]\u001b[0m\u001b[1;33m,\u001b[0m\u001b[0mend\u001b[0m\u001b[1;33m=\u001b[0m\u001b[1;34m\" \"\u001b[0m\u001b[1;33m)\u001b[0m\u001b[1;33m\u001b[0m\u001b[1;33m\u001b[0m\u001b[0m\n\u001b[1;32m---> 11\u001b[1;33m         \u001b[1;32mfor\u001b[0m \u001b[0ml\u001b[0m \u001b[1;32min\u001b[0m \u001b[0mrange\u001b[0m\u001b[1;33m(\u001b[0m\u001b[0mi\u001b[0m\u001b[1;33m-\u001b[0m\u001b[1;36m1\u001b[0m\u001b[1;33m,\u001b[0m\u001b[0mrow\u001b[0m\u001b[1;33m,\u001b[0m\u001b[1;33m-\u001b[0m\u001b[1;36m1\u001b[0m\u001b[1;33m)\u001b[0m\u001b[1;33m:\u001b[0m\u001b[1;33m\u001b[0m\u001b[1;33m\u001b[0m\u001b[0m\n\u001b[0m\u001b[0;32m     12\u001b[0m             \u001b[0mprint\u001b[0m\u001b[1;33m(\u001b[0m\u001b[0mli\u001b[0m\u001b[1;33m[\u001b[0m\u001b[0ml\u001b[0m\u001b[1;33m]\u001b[0m\u001b[1;33m[\u001b[0m\u001b[0mk\u001b[0m\u001b[1;33m]\u001b[0m\u001b[1;33m,\u001b[0m\u001b[0mend\u001b[0m\u001b[1;33m=\u001b[0m\u001b[1;34m\" \"\u001b[0m\u001b[1;33m)\u001b[0m\u001b[1;33m\u001b[0m\u001b[1;33m\u001b[0m\u001b[0m\n\u001b[0;32m     13\u001b[0m         \u001b[0mrow\u001b[0m\u001b[1;33m=\u001b[0m\u001b[0mrow\u001b[0m\u001b[1;33m+\u001b[0m\u001b[1;36m1\u001b[0m\u001b[1;33m\u001b[0m\u001b[1;33m\u001b[0m\u001b[0m\n",
      "\u001b[1;31mUnboundLocalError\u001b[0m: local variable 'i' referenced before assignment"
     ]
    }
   ],
   "source": [
    "# spiral print\n",
    "def spiral(li):\n",
    "    row=0\n",
    "    while row<len(li[0])-row:\n",
    "        for j in range(row,len(li[0])-row):\n",
    "            print(li[row][j],end=\" \")\n",
    "        for i in range(row+1,len(li)-row):\n",
    "            print(li[i][j],end=\" \")\n",
    "        for k in range(j-1,row-1,-1):\n",
    "            print(li[i][k],end=\" \")\n",
    "        for l in range(i-1,row,-1):\n",
    "            print(li[l][k],end=\" \")\n",
    "        row=row+1\n",
    "        \n",
    "li=[int(x) for x in input().split()]\n",
    "n,m=li[0],li[1]\n",
    "arr=[[li[i*m+j+2] for j in range(m)] for i in range(n)]\n",
    "spiral(arr)"
   ]
  },
  {
   "cell_type": "code",
   "execution_count": 7,
   "metadata": {},
   "outputs": [
    {
     "name": "stdout",
     "output_type": "stream",
     "text": [
      "4 4 1 2 3 4 5 6 7 8 9 10 11 12 13 14 15 16\n",
      "1 2 3 4 8 12 16 15 14 13 9 5 6 7 11 10 "
     ]
    }
   ],
   "source": [
    "# spiral print\n",
    "def spiral(li):\n",
    "    r_s_index,r_e_index,c_s_index,c_e_index=0,len(li)-1,0,len(li[0])-1\n",
    "    ele_count=0\n",
    "    while ele_count<n*m:\n",
    "        for i in range(c_s_index,c_e_index):\n",
    "            print(li[r_s_index][i],end=\" \")\n",
    "            ele_count+=1\n",
    "        for j in range(r_s_index,r_e_index+1):\n",
    "            print(li[j][c_e_index],end=\" \")\n",
    "            ele_count+=1\n",
    "        for k in range(c_e_index-1,c_s_index-1,-1):\n",
    "            print(li[r_e_index][k],end=\" \")\n",
    "            ele_count+=1\n",
    "        for l in range(r_e_index-1,r_s_index,-1):\n",
    "            print(li[l][c_s_index],end=\" \")\n",
    "            ele_count+=1\n",
    "        r_s_index+=1\n",
    "        c_s_index+=1\n",
    "        r_e_index-=1\n",
    "        c_e_index-=1\n",
    "        \n",
    "li=[int(x) for x in input().split()]\n",
    "n,m=li[0],li[1]\n",
    "arr=[[li[i*m+j+2] for j in range(m)] for i in range(n)]\n",
    "spiral(arr)\n",
    "# 1 2 3 4 8 12 16 15 14 13 9 5 6 7 11 10 "
   ]
  },
  {
   "cell_type": "code",
   "execution_count": 13,
   "metadata": {},
   "outputs": [],
   "source": [
    "h=[1,2,3,4]\n",
    "x=\"k\""
   ]
  },
  {
   "cell_type": "code",
   "execution_count": 15,
   "metadata": {},
   "outputs": [
    {
     "name": "stdout",
     "output_type": "stream",
     "text": [
      "[1, 2, 3, 4]\n",
      "k\n"
     ]
    }
   ],
   "source": [
    "print(h)\n",
    "print(x)"
   ]
  },
  {
   "cell_type": "code",
   "execution_count": 16,
   "metadata": {},
   "outputs": [],
   "source": [
    "del h,x\n"
   ]
  },
  {
   "cell_type": "code",
   "execution_count": 18,
   "metadata": {},
   "outputs": [
    {
     "ename": "NameError",
     "evalue": "name 'x' is not defined",
     "output_type": "error",
     "traceback": [
      "\u001b[1;31m---------------------------------------------------------------------------\u001b[0m",
      "\u001b[1;31mNameError\u001b[0m                                 Traceback (most recent call last)",
      "\u001b[1;32m<ipython-input-18-ff4d117df6f0>\u001b[0m in \u001b[0;36m<module>\u001b[1;34m\u001b[0m\n\u001b[0;32m      1\u001b[0m \u001b[1;31m# print(h)\u001b[0m\u001b[1;33m\u001b[0m\u001b[1;33m\u001b[0m\u001b[1;33m\u001b[0m\u001b[0m\n\u001b[1;32m----> 2\u001b[1;33m \u001b[0mprint\u001b[0m\u001b[1;33m(\u001b[0m\u001b[0mx\u001b[0m\u001b[1;33m)\u001b[0m\u001b[1;33m\u001b[0m\u001b[1;33m\u001b[0m\u001b[0m\n\u001b[0m",
      "\u001b[1;31mNameError\u001b[0m: name 'x' is not defined"
     ]
    }
   ],
   "source": [
    "print(h)\n",
    "print(x)"
   ]
  }
 ],
 "metadata": {
  "kernelspec": {
   "display_name": "Python 3",
   "language": "python",
   "name": "python3"
  },
  "language_info": {
   "codemirror_mode": {
    "name": "ipython",
    "version": 3
   },
   "file_extension": ".py",
   "mimetype": "text/x-python",
   "name": "python",
   "nbconvert_exporter": "python",
   "pygments_lexer": "ipython3",
   "version": "3.7.4"
  }
 },
 "nbformat": 4,
 "nbformat_minor": 2
}
