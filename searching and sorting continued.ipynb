{
 "cells": [
  {
   "cell_type": "code",
   "execution_count": 3,
   "metadata": {},
   "outputs": [
    {
     "name": "stdout",
     "output_type": "stream",
     "text": [
      "1 2 2 3\n",
      "2\n",
      "[1]\n",
      "[1]\n"
     ]
    },
    {
     "ename": "TypeError",
     "evalue": "'NoneType' object is not iterable",
     "output_type": "error",
     "traceback": [
      "\u001b[1;31m---------------------------------------------------------------------------\u001b[0m",
      "\u001b[1;31mTypeError\u001b[0m                                 Traceback (most recent call last)",
      "\u001b[1;32m<ipython-input-3-1dc1bd93c3f9>\u001b[0m in \u001b[0;36m<module>\u001b[1;34m\u001b[0m\n\u001b[0;32m     17\u001b[0m \u001b[0mele\u001b[0m\u001b[1;33m=\u001b[0m\u001b[0mint\u001b[0m\u001b[1;33m(\u001b[0m\u001b[0minput\u001b[0m\u001b[1;33m(\u001b[0m\u001b[1;33m)\u001b[0m\u001b[1;33m)\u001b[0m\u001b[1;33m\u001b[0m\u001b[1;33m\u001b[0m\u001b[0m\n\u001b[0;32m     18\u001b[0m \u001b[0mindex\u001b[0m\u001b[1;33m=\u001b[0m\u001b[0mBinary_Search\u001b[0m\u001b[1;33m(\u001b[0m\u001b[0mlist\u001b[0m\u001b[1;33m,\u001b[0m\u001b[0mele\u001b[0m\u001b[1;33m)\u001b[0m\u001b[1;33m\u001b[0m\u001b[1;33m\u001b[0m\u001b[0m\n\u001b[1;32m---> 19\u001b[1;33m \u001b[1;32mfor\u001b[0m \u001b[0mi\u001b[0m \u001b[1;32min\u001b[0m \u001b[0mindex\u001b[0m\u001b[1;33m:\u001b[0m\u001b[1;33m\u001b[0m\u001b[1;33m\u001b[0m\u001b[0m\n\u001b[0m\u001b[0;32m     20\u001b[0m     \u001b[0mprint\u001b[0m\u001b[1;33m(\u001b[0m\u001b[0mi\u001b[0m\u001b[1;33m,\u001b[0m\u001b[0mend\u001b[0m\u001b[1;33m=\u001b[0m\u001b[1;34m\" \"\u001b[0m\u001b[1;33m)\u001b[0m\u001b[1;33m\u001b[0m\u001b[1;33m\u001b[0m\u001b[0m\n",
      "\u001b[1;31mTypeError\u001b[0m: 'NoneType' object is not iterable"
     ]
    }
   ],
   "source": [
    "# binary search? doubt\n",
    "def linear(indexes):\n",
    "    print(indexes)\n",
    "\n",
    "def Binary_Search(li,ele):\n",
    "    start,end,indexes=0,len(li)-1,[]\n",
    "    li=sorted(li)\n",
    "    while start<=end:\n",
    "        mid=(start+end)//2\n",
    "        if li[mid]==ele:\n",
    "            indexes.append(mid)\n",
    "            print(indexes)\n",
    "            indexes=linear(indexes)\n",
    "            return indexes\n",
    "\n",
    "list=[int(x) for x in input().split()]\n",
    "ele=int(input())\n",
    "index=Binary_Search(list,ele)\n",
    "for i in index:\n",
    "    print(i,end=\" \")"
   ]
  },
  {
   "cell_type": "code",
   "execution_count": 4,
   "metadata": {
    "scrolled": true
   },
   "outputs": [
    {
     "name": "stdout",
     "output_type": "stream",
     "text": [
      "enter a list 1 2 2 3\n",
      "enter the element to be searched in the given list: 2\n",
      "[1]\n",
      "[1]\n",
      "None\n",
      "[1, 2, 2, 3]\n"
     ]
    },
    {
     "ename": "TypeError",
     "evalue": "'NoneType' object is not iterable",
     "output_type": "error",
     "traceback": [
      "\u001b[1;31m---------------------------------------------------------------------------\u001b[0m",
      "\u001b[1;31mTypeError\u001b[0m                                 Traceback (most recent call last)",
      "\u001b[1;32m<ipython-input-4-b3a467654241>\u001b[0m in \u001b[0;36m<module>\u001b[1;34m\u001b[0m\n\u001b[0;32m     37\u001b[0m \u001b[0mindex\u001b[0m\u001b[1;33m,\u001b[0m\u001b[0mli\u001b[0m\u001b[1;33m=\u001b[0m\u001b[0mBinary_Search\u001b[0m\u001b[1;33m(\u001b[0m\u001b[0mlist\u001b[0m\u001b[1;33m,\u001b[0m\u001b[0mele\u001b[0m\u001b[1;33m)\u001b[0m\u001b[1;33m\u001b[0m\u001b[1;33m\u001b[0m\u001b[0m\n\u001b[0;32m     38\u001b[0m \u001b[0mprint\u001b[0m\u001b[1;33m(\u001b[0m\u001b[0mli\u001b[0m\u001b[1;33m)\u001b[0m\u001b[1;33m\u001b[0m\u001b[1;33m\u001b[0m\u001b[0m\n\u001b[1;32m---> 39\u001b[1;33m \u001b[1;32mfor\u001b[0m \u001b[0mi\u001b[0m \u001b[1;32min\u001b[0m \u001b[0mindex\u001b[0m\u001b[1;33m:\u001b[0m\u001b[1;33m\u001b[0m\u001b[1;33m\u001b[0m\u001b[0m\n\u001b[0m\u001b[0;32m     40\u001b[0m     \u001b[0mprint\u001b[0m\u001b[1;33m(\u001b[0m\u001b[0mi\u001b[0m\u001b[1;33m,\u001b[0m\u001b[0mend\u001b[0m\u001b[1;33m=\u001b[0m\u001b[1;34m\" \"\u001b[0m\u001b[1;33m)\u001b[0m\u001b[1;33m\u001b[0m\u001b[1;33m\u001b[0m\u001b[0m\n",
      "\u001b[1;31mTypeError\u001b[0m: 'NoneType' object is not iterable"
     ]
    }
   ],
   "source": [
    "# binary search? doubt\n",
    "def linear_in_binary_search(li,div,indexes):\n",
    "    #nonlocal indexes : here we got an error because the varible x is only present inside the binary search function we can use the nonlocal keyword only when we define lnear search function inside the binarysearch function\n",
    "    print(indexes)\n",
    "    for i in range(div+1,len(li)-1):\n",
    "        if li[i]==ele:\n",
    "            indexes.append(i)\n",
    "        else:\n",
    "            break\n",
    "    for j in range(div-1,-1,-1):\n",
    "        if li[j]==ele:\n",
    "            indexes.append(i)\n",
    "        else:\n",
    "            break\n",
    "    print(indexes.sort())\n",
    "    return indexes.sort()\n",
    "\n",
    "def Binary_Search(li,ele):\n",
    "    start,end,indexes=0,len(li)-1,[]\n",
    "    li=sorted(li)\n",
    "    while start<=end:\n",
    "        mid=(start+end)//2\n",
    "        if li[mid]==ele:\n",
    "            indexes.append(mid)\n",
    "            print(indexes)\n",
    "            indexes=linear_in_binary_search(li,mid,indexes)\n",
    "            return indexes,li\n",
    "        elif li[mid]<ele:\n",
    "            start=mid+1\n",
    "        else:\n",
    "            end=mid-1\n",
    "    else:\n",
    "        print(ele,\"is not present in the list\")\n",
    "\n",
    "list=[int(x) for x in input(\"enter a list \").split()]\n",
    "ele=int(input(\"enter the element to be searched in the given list: \"))\n",
    "index,li=Binary_Search(list,ele)\n",
    "print(li)\n",
    "for i in index:\n",
    "    print(i,end=\" \")"
   ]
  },
  {
   "cell_type": "code",
   "execution_count": 6,
   "metadata": {},
   "outputs": [
    {
     "name": "stdout",
     "output_type": "stream",
     "text": [
      "1 2 2 3\n",
      "2\n",
      "[1]\n"
     ]
    },
    {
     "ename": "TypeError",
     "evalue": "'NoneType' object is not iterable",
     "output_type": "error",
     "traceback": [
      "\u001b[1;31m---------------------------------------------------------------------------\u001b[0m",
      "\u001b[1;31mTypeError\u001b[0m                                 Traceback (most recent call last)",
      "\u001b[1;32m<ipython-input-6-c0a09dd64305>\u001b[0m in \u001b[0;36m<module>\u001b[1;34m\u001b[0m\n\u001b[0;32m     22\u001b[0m \u001b[0mele\u001b[0m\u001b[1;33m=\u001b[0m\u001b[0mint\u001b[0m\u001b[1;33m(\u001b[0m\u001b[0minput\u001b[0m\u001b[1;33m(\u001b[0m\u001b[1;33m)\u001b[0m\u001b[1;33m)\u001b[0m\u001b[1;33m\u001b[0m\u001b[1;33m\u001b[0m\u001b[0m\n\u001b[0;32m     23\u001b[0m \u001b[0mindex\u001b[0m\u001b[1;33m=\u001b[0m\u001b[0mBinary_Search\u001b[0m\u001b[1;33m(\u001b[0m\u001b[0mlist\u001b[0m\u001b[1;33m,\u001b[0m\u001b[0mele\u001b[0m\u001b[1;33m)\u001b[0m\u001b[1;33m\u001b[0m\u001b[1;33m\u001b[0m\u001b[0m\n\u001b[1;32m---> 24\u001b[1;33m \u001b[1;32mfor\u001b[0m \u001b[0mi\u001b[0m \u001b[1;32min\u001b[0m \u001b[0mindex\u001b[0m\u001b[1;33m:\u001b[0m\u001b[1;33m\u001b[0m\u001b[1;33m\u001b[0m\u001b[0m\n\u001b[0m\u001b[0;32m     25\u001b[0m     \u001b[0mprint\u001b[0m\u001b[1;33m(\u001b[0m\u001b[0mi\u001b[0m\u001b[1;33m,\u001b[0m\u001b[0mend\u001b[0m\u001b[1;33m=\u001b[0m\u001b[1;34m\" \"\u001b[0m\u001b[1;33m)\u001b[0m\u001b[1;33m\u001b[0m\u001b[1;33m\u001b[0m\u001b[0m\n",
      "\u001b[1;31mTypeError\u001b[0m: 'NoneType' object is not iterable"
     ]
    }
   ],
   "source": [
    "# binary search? doubt\n",
    "def linear(li,div,indexes):\n",
    "    print(indexes)\n",
    "\n",
    "def Binary_Search(li,ele):\n",
    "    start,end=0,len(li)-1\n",
    "    indexes=[]\n",
    "    li=sorted(li)\n",
    "    while start<=end:\n",
    "        mid=(start+end)//2\n",
    "        if li[mid]==ele:\n",
    "            indexes.append(mid)\n",
    "            #print(indexes)\n",
    "            indexes=linear(li,mid,indexes)\n",
    "            return indexes\n",
    "        elif li[mid]<ele:\n",
    "            start=mid+1\n",
    "        else:\n",
    "            end=mid-1\n",
    "\n",
    "list=[int(x) for x in input().split()]\n",
    "ele=int(input())\n",
    "index=Binary_Search(list,ele)\n",
    "for i in index:\n",
    "    print(i,end=\" \")"
   ]
  },
  {
   "cell_type": "code",
   "execution_count": null,
   "metadata": {},
   "outputs": [],
   "source": [
    "def func(a):\n",
    "    print(a)\n",
    "def check(b):\n",
    "    "
   ]
  },
  {
   "cell_type": "code",
   "execution_count": 2,
   "metadata": {},
   "outputs": [
    {
     "name": "stdout",
     "output_type": "stream",
     "text": [
      "enter a list 0 2 1\n",
      "[0, 1, 2]\n"
     ]
    }
   ],
   "source": [
    "list=[int(x) for x in input(\"enter a list \").split()]\n",
    "sorted=[list[0]]\n",
    "for i in range(1,len(list)):\n",
    "    in_sorted=len(sorted)-1\n",
    "    while in_sorted>=0:\n",
    "        if sorted[in_sorted]<list[i]:\n",
    "            sorted.insert(in_sorted+1,list[i])\n",
    "            break\n",
    "        in_sorted=in_sorted-1        \n",
    "    else:\n",
    "        sorted.insert(0,list[i])\n",
    "print(sorted)\n"
   ]
  },
  {
   "cell_type": "code",
   "execution_count": 4,
   "metadata": {},
   "outputs": [
    {
     "name": "stdout",
     "output_type": "stream",
     "text": [
      "6 6 6 8 10 10 11 11 12 12 13 13 15 17 19 19 20 23 23 25 27 27 28 29 30 30 31 32 32 32 32 32 33 33 33 34 35 37 38 39 40 41 41 42 43 44 44 44 45 49 51 51 51 51 51 53 53 54 55 55 55 58 59 59 60 60 61 63 63 64 66 67 68 69 71 71 71 72 72 75 76 76 77 77 78 78 79 80 80 80 81 83 84 84 84 85 86 86 86 87 89 89 89 90 91 93 93 94 96 98 98 99 99 100 100 101 101 103 104 104 105 105 106 106 106 106 110 110 110 111 112 113 113 114 116 118 118 118 120 120 122 123 123 124 124 125 126 128 128 129 129 130 131 132 132 133 133 134 134 136 136 137 138 138 138 141 142 142 142 143 145 145 145 146 147 147 149 151 151 151 154 154 155 156 158 158 158 160 161 161 161 163 164 165 166 167 168 168 168 168 169 171 172 173 174 174 174 174 174 176 176 177 177 178 180 181 182 183 183 185 185 186 187 188 189 189 189 190 192 193 196 197 197 200 201 203 203 204 205 206 207 209 209 209 210 212 212 216 216 217 219 220 220 221 222 224 225 226 226 228 228 228 228 229 230 230 230 231 231 232 232 232 234 234 234 234 235 236 238 238 238 240 241 242 243 243 244 244 245 245 245 246 249 251 251 252 253 253 255 256 256 257 258 258 258 259 260 260 260 263 263 263 264 264 264 267 267 267 268 268 268 270 271 271 272 273 273 273 274 275 277 278 278 280 281 283 284 285 285 285 287 287 288 289 291 292 292 294 295 297 300 300 300 302 302 302 302 304 304 307 308 309 311 311 314 315 315 315 315 316 316 317 318 318 319 319 319 319 321 322 322 325 327 328 329 329 329 329 329 330 331 333 337 338 338 338 339 340 340 340 343 343 343 344 344 344 344 344 344 345 346 346 346 346 347 347 348 349 349 350 351 353 354 356 356 357 357 358 358 360 361 362 364 364 364 366 369 369 370 370 370 370 371 372 373 373 373 373 374 374 374 374 375 378 378 379 380 380 380 380 381 382 382 383 386 386 386 386 387 387 387 387 387 387 388 388 389 392 392 392 392 393 393 393 393 398 399 399 400 401 401 401 402 402 403 405 406 406 407 408 409 413 414 414 415 415 417 418 421 421 421 421 422 423 423 423 425 426 427 427 428 430 430 431 431 432 432 433 433 435 435 435 437 438 439 439 441 442 442 442 443 443 443 443 445 447 447 448 448 449 449 450 452 452 453 453 453 454 454 454 455 455 455 457 459 459 459 460 460 460 463 464 465 468 468 469 470 470 471 472 472 472 472 473 474 474 474 475 475 476 476 478 478 479 479 481 484 486 487 487 489 490 490 490 491 491 491 493 496 496 497 498 498 498 499 499 499 500 500 1 4 5 \n",
      "3\n"
     ]
    }
   ],
   "source": [
    "def sorted(li):\n",
    "    length=len(li)-1\n",
    "    work_list=[]\n",
    "    for i in range(len(li)):\n",
    "        work_list.append(li[i])\n",
    "    while length>0:\n",
    "        for i in range(length):\n",
    "            if work_list[i]>work_list[i+1]:\n",
    "                work_list[i],work_list[i+1]=work_list[i+1],work_list[i]\n",
    "        length=length-1\n",
    "    return work_list\n",
    "\n",
    "def rotate(li):\n",
    "    N1,first_ele=0,li[0]\n",
    "    for i in range(1,len(li)):\n",
    "        li[N1]=li[i]\n",
    "        N1=N1+1\n",
    "    li[N1]=first_ele\n",
    "\n",
    "def rotation_count(li):\n",
    "    count=0\n",
    "    work_list=sorted(li)\n",
    "    while li!=work_list:\n",
    "        rotate(work_list)\n",
    "        count=count+1\n",
    "    return count\n",
    "\n",
    "list=[int(x) for x in input().split()]\n",
    "count=rotation_count(list)\n",
    "print(count)\n",
    "        "
   ]
  }
 ],
 "metadata": {
  "kernelspec": {
   "display_name": "Python 3",
   "language": "python",
   "name": "python3"
  },
  "language_info": {
   "codemirror_mode": {
    "name": "ipython",
    "version": 3
   },
   "file_extension": ".py",
   "mimetype": "text/x-python",
   "name": "python",
   "nbconvert_exporter": "python",
   "pygments_lexer": "ipython3",
   "version": "3.7.4"
  }
 },
 "nbformat": 4,
 "nbformat_minor": 2
}
