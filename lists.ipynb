{
 "cells": [
  {
   "cell_type": "markdown",
   "metadata": {},
   "source": [
    "# PERFORMING OPERATIONS ON THE LIST"
   ]
  },
  {
   "cell_type": "raw",
   "metadata": {},
   "source": [
    " CREATING A LIST "
   ]
  },
  {
   "cell_type": "code",
   "execution_count": 19,
   "metadata": {},
   "outputs": [
    {
     "name": "stdout",
     "output_type": "stream",
     "text": [
      "[1]\n",
      "[]\n",
      "[1, 2, 3]\n"
     ]
    }
   ],
   "source": [
    "# a list can be formed by assigining elements which are written within the square braces to a variable_name\n",
    "li=[1]\n",
    "print(li)\n",
    "li1=[] # it will create an empty list\n",
    "print(li1)\n",
    "# if more then one elements are present in a list then they has to be seprated by comma \",\"\n",
    "li2=[1,2,3]\n",
    "print(li2)"
   ]
  },
  {
   "cell_type": "raw",
   "metadata": {},
   "source": [
    "acessing and manipulating elements within a list"
   ]
  },
  {
   "cell_type": "code",
   "execution_count": 144,
   "metadata": {},
   "outputs": [
    {
     "name": "stdout",
     "output_type": "stream",
     "text": [
      "element at 0th index 10\n",
      "element at 4th index 40\n",
      "element at -1th index True\n",
      "element at -7th index 10\n",
      "list after manpulating 2nd element \n",
      " [10, 20, 'hello', 'ram', 40, 50, True]\n",
      "list after manpulating -3rd element \n",
      " [10, 20, 'hello', 'ram', ['shyam'], 50, True]\n",
      "acessing the elements of the list ranging from 1 to 4 at a step of 2 \n",
      " [10, 20, 'hello', 'ram', ['shyam'], 50, True]\n",
      "acessing the elements of the list ranging from 2 to -2 at a step of 2 \n",
      " [10, 20, 'hello', 'ram', ['shyam'], 50, True]\n",
      "reversing the list  [10, 20, 'hello', 'ram', ['shyam'], 50, True]\n",
      "list after manpulating the elements ranging from 1 to 4 \n",
      " [10, 1, 2, 3, ['shyam'], 50, True]\n",
      "list after manpulating the elements ranging from -4 to -7 at a step of -2 element \n",
      " [10, 'y', 2, 'x', ['shyam'], 50, True]\n",
      "using the slice function to create a new list having the elements ranging from 2 to 6 at a step of 2 in list \n",
      " [2, ['shyam']]\n",
      "inreasing the size of the list \n",
      " [10, 20, 40, 60, 80, 100, 120, ['shyam'], 50, True]\n",
      "decreasing the size of the list \n",
      " [10, 1, 80, 100, 120, ['shyam'], 50, True]\n"
     ]
    }
   ],
   "source": [
    "list=[10,20,30,\"ram\",40,50,True]\n",
    "# positive and negative indexing\n",
    "list[0]\n",
    "print(\"element at 0th index\",list[0])\n",
    "list[4]\n",
    "print(\"element at 4th index\",list[4])\n",
    "list[-1]\n",
    "print(\"element at -1th index\",list[-1])\n",
    "list[-7]\n",
    "print(\"element at -7th index\",list[-7])\n",
    "# manipulating values in the list\n",
    "list[2]=\"hello\"\n",
    "print(\"list after manpulating 2nd element \\n\",list)\n",
    "x=\"shyam\"\n",
    "list[-3]=[x]\n",
    "print(\"list after manpulating -3rd element \\n\",list)\n",
    "# slicing operation\n",
    "# syntax: start:stop:step\n",
    "list[1:4:2]\n",
    "print(\"acessing the elements of the list ranging from 1 to 4 at a step of 2 \\n\",list)\n",
    "list[2:-2]\n",
    "print(\"acessing the elements of the list ranging from 2 to -2 at a step of 2 \\n\",list)\n",
    "list[::-1]\n",
    "print(\"reversing the list \",list)\n",
    "# manipulating a bunch of cells in a list\n",
    "list[1:4]=[1,2,3]\n",
    "print(\"list after manpulating the elements ranging from 1 to 4 \\n\",list)\n",
    "list[-4:-7:-2]=[\"x\",\"y\",]\n",
    "print(\"list after manpulating the elements ranging from -4 to -7 at a step of -2 element \\n\",list)\n",
    "# slice function\n",
    "# syntax: slice[start:stop:step]\n",
    "x=slice(2,6,2)\n",
    "new_list=list[x]\n",
    "print(\"using the slice function to create a new list having the elements ranging from 2 to 6 at a step of 2 in list \\n\",new_list)\n",
    "# resizing a list\n",
    "# increasing the size of a list\n",
    "list[1:4]=20,40,60,80,100,120\n",
    "print(\"inreasing the size of the list \\n\",list)\n",
    "# decreasing the size of a list\n",
    "list[1:4]=[1]\n",
    "print(\"decreasing the size of the list \\n\",list)\n",
    "\n"
   ]
  },
  {
   "cell_type": "markdown",
   "metadata": {},
   "source": [
    "using the various inbuilt functions for manipulating the list"
   ]
  },
  {
   "cell_type": "code",
   "execution_count": 146,
   "metadata": {},
   "outputs": [
    {
     "name": "stdout",
     "output_type": "stream",
     "text": [
      "[10, 20, 30, 40, 50, 60]\n",
      "adding hello in the list at last \n",
      " [10, 20, 30, 40, 50, 60, 'hello']\n",
      "adding one list to another \n",
      " [10, 20, 30, 40, 50, 60, 'hello', ['ram', 'shyam', 'great']]\n",
      "adding check at first index in the given list \n",
      " [10, 'check', 20, 30, 40, 50, 60, 'hello', ['ram', 'shyam', 'great']]\n",
      "adding 90 at the 15th index in the given list \n",
      " [10, 'check', 20, 30, 40, 50, 60, 'hello', ['ram', 'shyam', 'great'], 90]\n",
      "iterating over the lsit [70,80] using extend function \n",
      " [10, 'check', 20, 30, 40, 50, 60, 'hello', ['ram', 'shyam', 'great'], 90, 70, 80]\n",
      "iterating over the string well using extend function \n",
      " [10, 'check', 20, 30, 40, 50, 60, 'hello', ['ram', 'shyam', 'great'], 90, 70, 80, 'w', 'e', 'l', 'l']\n",
      "removing 10 from the list \n",
      " ['check', 20, 30, 40, 50, 60, 'hello', ['ram', 'shyam', 'great'], 90, 70, 80, 'w', 'e', 'l', 'l', 10]\n",
      "removing last element from the list using pop() \n",
      " ['check', 20, 30, 40, 50, 60, 'hello', ['ram', 'shyam', 'great'], 90, 70, 80, 'w', 'e', 'l', 'l']\n",
      "removing 4th element from the list using pop() \n",
      " ['check', 20, 30, 40, 60, 'hello', ['ram', 'shyam', 'great'], 90, 70, 80, 'w', 'e', 'l', 'l']\n"
     ]
    }
   ],
   "source": [
    "list=[10,20,30,40,50,60]\n",
    "print(list)\n",
    "# append() function\n",
    "list.append(\"hello\")\n",
    "print(\"adding hello in the list at last \\n\",list)\n",
    "list.append([\"ram\",\"shyam\",\"great\"])\n",
    "print(\"adding one list to another \\n\",list)\n",
    "# insert function\n",
    "list.insert(1,\"check\")\n",
    "print(\"adding check at first index in the given list \\n\",list)\n",
    "list.insert(15,90)\n",
    "print(\"adding 90 at the 15th index in the given list \\n\",list)\n",
    "# extend() function\n",
    "list.extend([70,80])\n",
    "print(\"iterating over the lsit [70,80] using extend function \\n\",list)\n",
    "list.extend(\"well\")\n",
    "print(\"iterating over the string well using extend function \\n\",list)\n",
    "# remove() function\n",
    "list.append(10)\n",
    "list.remove(10)\n",
    "print(\"removing 10 from the list \\n\",list)\n",
    "# pop() function\n",
    "list.pop()\n",
    "print(\"removing last element from the list using pop() \\n\",list)\n",
    "list.pop(4)\n",
    "print(\"removing 4th element from the list using pop() \\n\",list)"
   ]
  },
  {
   "cell_type": "markdown",
   "metadata": {},
   "source": [
    "# looping through the list"
   ]
  },
  {
   "cell_type": "code",
   "execution_count": 25,
   "metadata": {},
   "outputs": [
    {
     "name": "stdout",
     "output_type": "stream",
     "text": [
      "10 20 30 40 50 \n",
      "10 20 30 40 50 \n",
      "30 40 50 \n",
      "30 40 50 "
     ]
    }
   ],
   "source": [
    "# there are two ways of looping through the list\n",
    "# using teh range function\n",
    "list=[10,20,30,40,50]\n",
    "for i in range(len(list)):\n",
    "    print(list[i],end=\" \")\n",
    "print()\n",
    "\n",
    "# using the list name itself\n",
    "for ele in list:\n",
    "    print(ele,end=\" \")\n",
    "print()\n",
    "\n",
    "# we can also acess a part of the list as:\n",
    "for i in range(2,len(list)):\n",
    "    print(list[i],end=\" \")\n",
    "print()\n",
    "\n",
    "for ele in list[2:]:\n",
    "    print(ele,end=\" \")\n"
   ]
  },
  {
   "cell_type": "markdown",
   "metadata": {},
   "source": [
    "# doing the summition / substraction of all the elements in the list"
   ]
  },
  {
   "cell_type": "code",
   "execution_count": 31,
   "metadata": {},
   "outputs": [
    {
     "ename": "SyntaxError",
     "evalue": "invalid character in identifier (<ipython-input-31-872daa4428fc>, line 18)",
     "output_type": "error",
     "traceback": [
      "\u001b[1;36m  File \u001b[1;32m\"<ipython-input-31-872daa4428fc>\"\u001b[1;36m, line \u001b[1;32m18\u001b[0m\n\u001b[1;33m    print(i,end= “ “)\u001b[0m\n\u001b[1;37m                 ^\u001b[0m\n\u001b[1;31mSyntaxError\u001b[0m\u001b[1;31m:\u001b[0m invalid character in identifier\n"
     ]
    }
   ],
   "source": [
    "# summition\n",
    "list=[10,20,30,40,50]\n",
    "sum=0\n",
    "for i in range(len(list)):\n",
    "    sum=sum+list[i]\n",
    "print(sum)\n",
    "\n",
    "# substraction\n",
    "a=list[0]\n",
    "for i in range(1,len(list)):\n",
    "    b=list[i]\n",
    "    sub=a-b\n",
    "    a=sub\n",
    "print(a)\n"
   ]
  },
  {
   "cell_type": "markdown",
   "metadata": {},
   "source": [
    "# taking input() inside a list\n",
    "in python whenever we try to store more then one element inside a variable using input().split() functionallity then in order \n",
    "to avoid data loss python will automatically do a type conversion of that variable into the list type hence by exploiting this functionality we can eaisly store elements inside a list"
   ]
  },
  {
   "cell_type": "code",
   "execution_count": 2,
   "metadata": {},
   "outputs": [
    {
     "name": "stdout",
     "output_type": "stream",
     "text": [
      "10 20 30 40 50 great\n",
      "['10', '20', '30', '40', '50', 'great']\n",
      "<class 'list'>\n"
     ]
    }
   ],
   "source": [
    "list=input().split()\n",
    "print(list)\n",
    "print(type(list))"
   ]
  },
  {
   "cell_type": "markdown",
   "metadata": {},
   "source": [
    "# storing a list inside a list"
   ]
  },
  {
   "cell_type": "code",
   "execution_count": 9,
   "metadata": {},
   "outputs": [
    {
     "name": "stdout",
     "output_type": "stream",
     "text": [
      "enter no. of elements to be stored 3\n",
      "1 2 3\n",
      "1 2 3\n",
      "1 2 3\n",
      "['1', '2', '3']\n"
     ]
    }
   ],
   "source": [
    "list=[]\n",
    "total_elements=int(input(\"enter no. of elements to be stored \"))\n",
    "for i in range(total_elements):\n",
    "    list.append(input().split())\n",
    "print(list)\n"
   ]
  },
  {
   "cell_type": "markdown",
   "metadata": {},
   "source": [
    "# a programme to store and add only n no. of elements inside a lsit"
   ]
  },
  {
   "cell_type": "code",
   "execution_count": 2,
   "metadata": {},
   "outputs": [
    {
     "name": "stdout",
     "output_type": "stream",
     "text": [
      "enter the no. of elements to be stored in the list5\n",
      "1 2 3 4\n",
      "size of the list is not equal to N\n",
      "1 2 3 4 5 6\n",
      "size of the list is not equal to N\n",
      "1 2 3 4 5\n",
      "15\n"
     ]
    }
   ],
   "source": [
    "N=int(input(\"enter the no. of elements to be stored in the list\"))\n",
    "sum=0\n",
    "list=[]\n",
    "run=1\n",
    "while len(list)<N or len(list)>N:\n",
    "    if run>1:\n",
    "        print(\"size of the list is not equal to N\")\n",
    "    list=input().split()\n",
    "    run=run+1\n",
    "for i in range(N):\n",
    "    list[i]=int(list[i])\n",
    "    sum=sum+list[i]\n",
    "print(sum)"
   ]
  },
  {
   "cell_type": "code",
   "execution_count": 10,
   "metadata": {
    "scrolled": true
   },
   "outputs": [
    {
     "name": "stdout",
     "output_type": "stream",
     "text": [
      "5\n",
      "1 2 3 4 5\n",
      "15\n"
     ]
    }
   ],
   "source": [
    "# constraints\n",
    "# size of the list must be equal to N\n",
    "# every element inside the list must lies in the range of 1 to 1000000\n",
    "N=int(input())\n",
    "sum=0\n",
    "def input_list():\n",
    "    list=[]\n",
    "    while len(list)!=N:\n",
    "        list=input().split()\n",
    "    # type conversion\n",
    "    for i in range(N):\n",
    "        list[i]=int(list[i])\n",
    "input_list()\n",
    "# summition\n",
    "for i in range(N):\n",
    "    if 1<=list[i]<=10**6:\n",
    "        sum=sum+list[i]\n",
    "    else:\n",
    "        input_list()\n",
    "print(sum)"
   ]
  },
  {
   "cell_type": "code",
   "execution_count": 1,
   "metadata": {},
   "outputs": [
    {
     "name": "stdout",
     "output_type": "stream",
     "text": [
      "5\n",
      "1 2 3 4 5\n",
      "15\n"
     ]
    }
   ],
   "source": [
    "N=int(input())\n",
    "sum=0\n",
    "def input_list():\n",
    "    list=[]\n",
    "    while len(list)<N or len(list)>N:\n",
    "        list=input().split()\n",
    "    return list\n",
    "list=input_list()\n",
    "# performing type conversion\n",
    "for i in range(N):\n",
    "    list[i]=int(list[i])\n",
    "\n",
    "for i in range(N):\n",
    "        sum=sum+list[i]\n",
    "print(sum)\n",
    "\n",
    "# N=int(input())\n",
    "# sum=0\n",
    "# def input_list():\n",
    "#     list=[]\n",
    "#     while len(list)<N:\n",
    "#         list=input().split()\n",
    "#     return list\n",
    "        \n",
    "# list=input_list()\n",
    "# # performing type conversion\n",
    "# for i in range(N):\n",
    "#     list[i]=int(list[i])\n",
    "\n",
    "# for i in range(N):\n",
    "  \n",
    "#     sum=sum+list[i]\n",
    "    \n",
    "# print(sum)\n",
    "    \n",
    "    "
   ]
  },
  {
   "cell_type": "code",
   "execution_count": 17,
   "metadata": {},
   "outputs": [
    {
     "name": "stdout",
     "output_type": "stream",
     "text": [
      "enter the no. of elements to be present in your list5\n",
      "1\n",
      "2\n",
      "3\n",
      "4\n",
      "5\n",
      "[1, 2, 3, 4, 5]\n"
     ]
    }
   ],
   "source": [
    "lst=[]\n",
    "N=int(input(\"enter the no. of elements to be present in your list\"))\n",
    "for i in range(N):\n",
    "    lst.append(int(input()))\n",
    "print(lst)"
   ]
  },
  {
   "cell_type": "code",
   "execution_count": 2,
   "metadata": {},
   "outputs": [
    {
     "name": "stdout",
     "output_type": "stream",
     "text": [
      "1 2 3 4 5\n"
     ]
    }
   ],
   "source": [
    "lst1=[complex(i) for i in input().split()]"
   ]
  },
  {
   "cell_type": "code",
   "execution_count": 3,
   "metadata": {},
   "outputs": [
    {
     "data": {
      "text/plain": [
       "(1+0j)"
      ]
     },
     "execution_count": 3,
     "metadata": {},
     "output_type": "execute_result"
    }
   ],
   "source": [
    "lst1[0]"
   ]
  },
  {
   "cell_type": "code",
   "execution_count": 3,
   "metadata": {},
   "outputs": [
    {
     "name": "stdout",
     "output_type": "stream",
     "text": [
      "1 2 3 4 5\n"
     ]
    },
    {
     "data": {
      "text/plain": [
       "[1, 2, 3, 4, 5]"
      ]
     },
     "execution_count": 3,
     "metadata": {},
     "output_type": "execute_result"
    }
   ],
   "source": [
    "lst12=[int(i) for i in input().split()]\n",
    "lst12"
   ]
  },
  {
   "cell_type": "code",
   "execution_count": 4,
   "metadata": {},
   "outputs": [
    {
     "name": "stdout",
     "output_type": "stream",
     "text": [
      "1 2 3 4 5\n"
     ]
    },
    {
     "data": {
      "text/plain": [
       "[1.0, 2.0, 3.0, 4.0, 5.0]"
      ]
     },
     "execution_count": 4,
     "metadata": {},
     "output_type": "execute_result"
    }
   ],
   "source": [
    "lst123=[float(i) for i in input().split()]\n",
    "lst123"
   ]
  },
  {
   "cell_type": "code",
   "execution_count": 5,
   "metadata": {},
   "outputs": [
    {
     "name": "stdout",
     "output_type": "stream",
     "text": [
      "1 2 3 4 5\n"
     ]
    },
    {
     "data": {
      "text/plain": [
       "['1', '2', '3', '4', '5']"
      ]
     },
     "execution_count": 5,
     "metadata": {},
     "output_type": "execute_result"
    }
   ],
   "source": [
    "lst1234=[str(i) for i in input().split()]\n",
    "lst1234"
   ]
  },
  {
   "cell_type": "code",
   "execution_count": 15,
   "metadata": {},
   "outputs": [
    {
     "name": "stdout",
     "output_type": "stream",
     "text": [
      "enter the no. of no's to be added5\n",
      "1 2 3 4 5\n",
      "15\n"
     ]
    }
   ],
   "source": [
    "N=int(input(\"enter the no. of no's to be added \"))\n",
    "sum=0\n",
    "li=[int(i) for i in input().split(\" \",N)]\n",
    "for x in range(len(li)):\n",
    "    sum=sum+li[x]\n",
    "print(sum)"
   ]
  },
  {
   "cell_type": "markdown",
   "metadata": {},
   "source": [
    "LinearSearch"
   ]
  },
  {
   "cell_type": "code",
   "execution_count": 22,
   "metadata": {},
   "outputs": [
    {
     "name": "stdout",
     "output_type": "stream",
     "text": [
      "enter the list1 2 3 4 5 1 2 3 4 5\n",
      "enter the elements to be searched in the list\n",
      "1\n",
      "2\n",
      "indexes where 1 is present \n",
      " [0, 5]\n",
      "indexes where 2 is present \n",
      " [1, 6]\n"
     ]
    }
   ],
   "source": [
    "li=[int(x) for x in input(\"enter the list\").split()]\n",
    "print(\"enter the elements to be searched in the list\")\n",
    "s1=int(input())\n",
    "s2=int(input())\n",
    "r1,r2=[],[]\n",
    "for i in range(len(li)):\n",
    "    if s1==li[i]:\n",
    "        r1.append(i)\n",
    "    if s2==li[i]:\n",
    "        r2.append(i)\n",
    "if (len(r1) or len(r2))>0:\n",
    "    print(\"indexes where\",s1,\"is present \\n\",r1)\n",
    "    print(\"indexes where\",s2,\"is present \\n\",r2)\n",
    "else:\n",
    "    print(s1,\"and\",s2,\"is not present anywhere in the list\")"
   ]
  },
  {
   "cell_type": "markdown",
   "metadata": {},
   "source": [
    "linear search through function"
   ]
  },
  {
   "cell_type": "code",
   "execution_count": 19,
   "metadata": {},
   "outputs": [],
   "source": [
    "def linear_Search(li,ele1=\" \",ele2=\" \"):\n",
    "    r1,r2=[],[]\n",
    "    for i in range(len(li)):\n",
    "        if ele1==li[i]:\n",
    "            r1.append(i)\n",
    "        if ele2==li[i]:\n",
    "            r2.append(i)\n",
    "    if (len(r1) or len(r2))>0:\n",
    "        print(\"indexes where\",ele1,\"is found in the given list are:\\n\",r1)\n",
    "        if ele2!=\" \":\n",
    "            if ele1!=ele2:\n",
    "                print(\"indexes where\",ele2,\"is found in the given list are:\\n\",r2)\n",
    "    else:\n",
    "        print(ele1,\"and\",ele2,\"is not found anywhere in the list\")"
   ]
  },
  {
   "cell_type": "code",
   "execution_count": 22,
   "metadata": {},
   "outputs": [
    {
     "name": "stdout",
     "output_type": "stream",
     "text": [
      "enter a list \n",
      "1 2 3 4 5 1 2 3 4 5\n",
      "enter the elements to be searched in the given list \t\n",
      "1\n",
      "2\n",
      "indexes where 1 is found in the given list are:\n",
      " [0, 5]\n"
     ]
    }
   ],
   "source": [
    "list=[int(x) for x in input(\"enter a list \\n\").split()]\n",
    "print(\"enter the elements to be searched in the given list \\t\")\n",
    "ele1=int(input())\n",
    "ele2=int(input())\n",
    "linear_Search(list,ele1)"
   ]
  },
  {
   "cell_type": "code",
   "execution_count": 23,
   "metadata": {},
   "outputs": [
    {
     "name": "stdout",
     "output_type": "stream",
     "text": [
      "indexes where 1 is found in the given list are:\n",
      " [0, 5]\n",
      "indexes where 2 is found in the given list are:\n",
      " [1, 6]\n"
     ]
    }
   ],
   "source": [
    "linear_Search(list,ele1,ele2)"
   ]
  },
  {
   "cell_type": "markdown",
   "metadata": {},
   "source": [
    "concept of mutable and immutable\n"
   ]
  },
  {
   "cell_type": "code",
   "execution_count": 2,
   "metadata": {},
   "outputs": [
    {
     "name": "stdout",
     "output_type": "stream",
     "text": [
      "140734845854384\n",
      "140734845854384\n",
      "140734845854544\n",
      "140734845854384\n"
     ]
    }
   ],
   "source": [
    "x=10\n",
    "y=10\n",
    "print(id(x))\n",
    "print(id(y))\n",
    "y=15\n",
    "print(id(y))\n",
    "print(id(x))"
   ]
  },
  {
   "cell_type": "code",
   "execution_count": 7,
   "metadata": {},
   "outputs": [
    {
     "name": "stdout",
     "output_type": "stream",
     "text": [
      "[1, 2, 3, 4]\n",
      "[1, 2, 3, 4]\n",
      "[1, 2, 55, 4]\n",
      "[1, 2, 55, 4]\n"
     ]
    }
   ],
   "source": [
    "li=[1,2,3,4]\n",
    "li2=li\n",
    "print(li)\n",
    "print(li2)\n",
    "li2[2]=55\n",
    "print(li2)\n",
    "print(li)"
   ]
  },
  {
   "cell_type": "code",
   "execution_count": 11,
   "metadata": {},
   "outputs": [
    {
     "name": "stdout",
     "output_type": "stream",
     "text": [
      "2937147407880\n",
      "2937147444744\n",
      "2937147407880\n"
     ]
    }
   ],
   "source": [
    "list=[1,2,3,4]\n",
    "print(id(list))\n",
    "list=[1,2,3,4]\n",
    "print(id(list))\n",
    "list=[2,3,4,5]\n",
    "print(id(list))"
   ]
  },
  {
   "cell_type": "code",
   "execution_count": 38,
   "metadata": {},
   "outputs": [
    {
     "name": "stdout",
     "output_type": "stream",
     "text": [
      "2937148361168\n",
      "2937148360784\n"
     ]
    }
   ],
   "source": [
    "# a=257\n",
    "# print(id(a))\n",
    "# a=257\n",
    "# print(id(a))\n",
    "# # def func(x):\n",
    "# #     print(id(x))\n",
    "# # func(a)\n",
    "b=257\n",
    "print(id(b))\n",
    "b=257\n",
    "print(id(b))"
   ]
  },
  {
   "cell_type": "code",
   "execution_count": null,
   "metadata": {},
   "outputs": [],
   "source": [
    "a=5\n",
    "def check(a):\n",
    "    print(id(a))\n",
    "    a=a+2\n",
    "    print(a)\n",
    "    print(id(a))\n",
    "print(a)\n",
    "print(id(a))"
   ]
  },
  {
   "cell_type": "code",
   "execution_count": 46,
   "metadata": {},
   "outputs": [
    {
     "name": "stdout",
     "output_type": "stream",
     "text": [
      "2937148991816\n",
      "2937148982280\n",
      "[1, 2, 5, 4]\n",
      "[1, 2, 3, 4]\n"
     ]
    }
   ],
   "source": [
    "li=[1,2,3,4]\n",
    "def check(li):\n",
    "    print(id(li))\n",
    "    li=[1,2,3,4]\n",
    "    li[2]=5\n",
    "    print(id(li))\n",
    "    print(li)\n",
    "check(li)\n",
    "print(li)"
   ]
  },
  {
   "cell_type": "code",
   "execution_count": 55,
   "metadata": {},
   "outputs": [
    {
     "name": "stdout",
     "output_type": "stream",
     "text": [
      "inner [2, 3, 4, 5]\n",
      "outer [2, 3, 4, 5]\n"
     ]
    }
   ],
   "source": [
    "li=[1,2,3,4]\n",
    "def func(list):\n",
    "    global li\n",
    "    li=[2,3,4,5]\n",
    "    print(\"inner\",li)\n",
    "func(li)\n",
    "print(\"outer\",li)\n",
    "# a=5\n",
    "# def func(x):\n",
    "#     global a\n",
    "#     a=a+2\n",
    "#     print(\"inner\",a)\n",
    "# func(a)\n",
    "# print(\"outer\",a)"
   ]
  },
  {
   "cell_type": "code",
   "execution_count": 60,
   "metadata": {},
   "outputs": [
    {
     "name": "stdout",
     "output_type": "stream",
     "text": [
      "2937148360784\n",
      "2937148362000\n",
      "2937148360784\n"
     ]
    }
   ],
   "source": [
    "a=257\n",
    "print(id(a))\n",
    "b=257\n",
    "print(id(b))\n",
    "def func(a):\n",
    "    print(id(a))\n",
    "    return\n",
    "func(a)"
   ]
  },
  {
   "cell_type": "code",
   "execution_count": 61,
   "metadata": {},
   "outputs": [
    {
     "name": "stdout",
     "output_type": "stream",
     "text": [
      "[1, 4, 3, 4, 5]\n"
     ]
    }
   ],
   "source": [
    "def change(li):\n",
    "    li[1] = li[1] + 2\n",
    "    li = [3,3,3,4,5]\n",
    "li = [1,2,3,4,5]\n",
    "change(li)\n",
    "print(li)"
   ]
  },
  {
   "cell_type": "markdown",
   "metadata": {},
   "source": [
    "reversing a list"
   ]
  },
  {
   "cell_type": "code",
   "execution_count": 66,
   "metadata": {},
   "outputs": [
    {
     "name": "stdout",
     "output_type": "stream",
     "text": [
      "enter a list 1 2 3 4 5\n",
      "reversed list is: [5, 4, 3, 2, 1]\n",
      "[5, 4, 3, 2, 1]\n"
     ]
    }
   ],
   "source": [
    "list=[int(x) for x in input(\"enter a list \").split()]\n",
    "rev_list=[]\n",
    "for i in range(-1,-len(list)-1,-1):\n",
    "    rev_list.append(list[i])\n",
    "list=rev_list\n",
    "print(\"reversed list is:\",list)\n",
    "print(list)\n"
   ]
  },
  {
   "cell_type": "markdown",
   "metadata": {},
   "source": [
    "another aproach"
   ]
  },
  {
   "cell_type": "code",
   "execution_count": 74,
   "metadata": {},
   "outputs": [
    {
     "name": "stdout",
     "output_type": "stream",
     "text": [
      "enter a list to be reversed \n",
      "hello it_works i_have_to_learn_python thanks\n"
     ]
    },
    {
     "data": {
      "text/plain": [
       "['thanks', 'i_have_to_learn_python', 'it_works', 'hello']"
      ]
     },
     "execution_count": 74,
     "metadata": {},
     "output_type": "execute_result"
    }
   ],
   "source": [
    "li=input(\"enter a list to be reversed \\n\").split()\n",
    "rev_list=li[::-1]\n",
    "rev_list"
   ]
  },
  {
   "cell_type": "code",
   "execution_count": 109,
   "metadata": {},
   "outputs": [
    {
     "name": "stdout",
     "output_type": "stream",
     "text": [
      "6\n",
      "1 2 3 4 5 6\n",
      "[1, 2, 3, 4, 5, 6]\n",
      "[2, 1, 4, 3, 6, 5]\n"
     ]
    }
   ],
   "source": [
    "N=int(input())\n",
    "li=[int(x) for x in input().split(\" \",N)]\n",
    "print(li)\n",
    "# if len(li)%2!=0:\n",
    "#     end=len(li)-1\n",
    "# else:\n",
    "#     end=len(li)\n",
    "for i in range(0,len(li)-1,2):\n",
    "    li[i],li[i+1]=li[i+1],li[i]\n",
    "print(li)"
   ]
  },
  {
   "cell_type": "code",
   "execution_count": 97,
   "metadata": {},
   "outputs": [
    {
     "name": "stdout",
     "output_type": "stream",
     "text": [
      "5\n",
      "1 2 3 4 5\n"
     ]
    }
   ],
   "source": [
    "N=int(input())\n",
    "p=[int(x) for x in input().split(\" \",N)]\n",
    "if len(p)%2!=0:\n",
    "    end=len(p)-1\n",
    "else:\n",
    "    end=len(p)\n",
    "# for i in range(0,end,2):\n",
    "#     p[i],p[i+1]=p[i+1],p[i]\n",
    "# print(p)"
   ]
  },
  {
   "cell_type": "code",
   "execution_count": 87,
   "metadata": {},
   "outputs": [
    {
     "name": "stdout",
     "output_type": "stream",
     "text": [
      "[2, 1, 4, 3, 6, 5]\n"
     ]
    }
   ],
   "source": [
    "print(li)"
   ]
  },
  {
   "cell_type": "code",
   "execution_count": 104,
   "metadata": {},
   "outputs": [
    {
     "name": "stdout",
     "output_type": "stream",
     "text": [
      "1 2 3 4 5\n",
      "1\n",
      "2\n",
      "3\n",
      "4\n",
      "5\n"
     ]
    }
   ],
   "source": [
    "for i in [int(x) for x in input().split()]:\n",
    "    print(i)"
   ]
  },
  {
   "cell_type": "markdown",
   "metadata": {},
   "source": [
    "# the concept of global and local works in the same manner for  a list as they works for variables"
   ]
  },
  {
   "cell_type": "code",
   "execution_count": 1,
   "metadata": {},
   "outputs": [
    {
     "ename": "NameError",
     "evalue": "name 'O' is not defined",
     "output_type": "error",
     "traceback": [
      "\u001b[1;31m---------------------------------------------------------------------------\u001b[0m",
      "\u001b[1;31mNameError\u001b[0m                                 Traceback (most recent call last)",
      "\u001b[1;32m<ipython-input-1-c7628cc32bde>\u001b[0m in \u001b[0;36m<module>\u001b[1;34m\u001b[0m\n\u001b[0;32m      2\u001b[0m     \u001b[0mo\u001b[0m\u001b[1;33m=\u001b[0m\u001b[1;33m[\u001b[0m\u001b[1;36m1\u001b[0m\u001b[1;33m,\u001b[0m\u001b[1;36m2\u001b[0m\u001b[1;33m,\u001b[0m\u001b[1;36m3\u001b[0m\u001b[1;33m,\u001b[0m\u001b[1;36m4\u001b[0m\u001b[1;33m]\u001b[0m\u001b[1;33m\u001b[0m\u001b[1;33m\u001b[0m\u001b[0m\n\u001b[0;32m      3\u001b[0m \u001b[0mfunc\u001b[0m\u001b[1;33m(\u001b[0m\u001b[1;33m)\u001b[0m\u001b[1;33m\u001b[0m\u001b[1;33m\u001b[0m\u001b[0m\n\u001b[1;32m----> 4\u001b[1;33m \u001b[0mprint\u001b[0m\u001b[1;33m(\u001b[0m\u001b[0mO\u001b[0m\u001b[1;33m)\u001b[0m\u001b[1;33m\u001b[0m\u001b[1;33m\u001b[0m\u001b[0m\n\u001b[0m",
      "\u001b[1;31mNameError\u001b[0m: name 'O' is not defined"
     ]
    }
   ],
   "source": [
    "def func():\n",
    "    o=[1,2,3,4]\n",
    "func()\n",
    "print(O) # here we got an error saying that name 'O' is not defined because here o is delared as a local list and it can only \n",
    "         # be acessed nside the fnction\n"
   ]
  },
  {
   "cell_type": "code",
   "execution_count": 11,
   "metadata": {},
   "outputs": [
    {
     "name": "stdout",
     "output_type": "stream",
     "text": [
      "958\n",
      "127 12 175 50 155 152 107 104 181 174 29 190 178 128 32 177 90 134 33 18 176 41 156 23 146 192 154 174 81 85 180 72 109 45 93 77 35 69 165 19 114 42 151 103 2 78 164 10 91 89 120 126 139 164 11 115 71 181 178 115 113 76 92 21 44 174 54 101 46 45 179 80 21 76 158 119 1 146 40 142 70 160 24 135 156 171 19 5 98 85 77 55 105 1 198 12 23 44 159 141 120 132 19 135 17 188 131 22 114 47 98 165 170 76 93 121 50 172 200 54 151 92 17 196 16 19 3 126 117 74 66 105 36 156 131 111 142 197 65 9 110 98 170 3 125 59 117 7 75 70 61 10 143 119 119 118 71 24 77 89 107 106 73 117 101 167 73 41 194 87 58 33 176 90 127 153 5 96 33 110 26 40 156 63 30 95 67 140 182 131 118 141 55 99 45 87 87 144 98 146 18 119 150 183 166 197 179 175 24 55 79 139 197 50 97 149 130 99 183 133 17 15 83 151 135 76 193 136 8 141 191 165 46 183 20 125 91 142 20 39 181 59 195 45 181 42 12 105 85 137 136 178 119 101 152 186 102 116 100 70 154 93 151 136 80 11 121 184 68 12 24 116 168 108 79 120 131 158 54 74 71 179 111 78 73 3 156 130 21 3 3 103 167 69 127 21 136 32 73 82 108 120 96 16 117 144 87 144 67 16 164 159 60 42 23 123 129 14 47 147 39 122 118 32 182 169 1 191 125 82 103 127 164 123 164 88 200 177 189 186 29 38 77 132 139 118 186 94 66 44 18 1 16 200 19 58 200 78 26 154 196 159 138 42 22 183 131 155 79 54 171 49 89 24 182 182 66 165 23 131 116 9 79 26 193 106 67 62 123 70 106 135 120 34 144 60 50 182 69 112 8 76 91 173 200 183 33 126 84 134 38 41 127 74 76 138 122 94 91 129 34 56 135 106 129 110 115 51 186 186 65 166 180 74 177 179 109 5 108 61 188 53 30 57 190 137 165 106 41 100 109 119 132 90 177 64 7 126 118 116 184 161 124 127 133 126 185 72 109 192 19 69 31 161 157 55 98 172 131 68 95 87 115 92 108 115 106 164 21 116 183 19 112 135 108 152 192 128 200 87 48 33 170 172 94 93 51 8 75 15 166 99 17 39 100 182 181 171 85 99 113 21 38 74 88 15 139 139 175 14 93 189 187 29 69 138 92 107 189 105 136 7 84 29 49 10 136 121 177 42 105 125 140 142 110 80 82 48 45 167 144 30 17 19 100 174 85 135 41 175 104 104 114 82 197 109 120 15 100 11 61 159 167 146 156 50 156 110 154 137 53 187 200 49 167 96 39 76 59 36 168 108 53 149 121 104 39 127 68 179 55 150 119 156 117 43 152 145 159 143 151 6 143 169 138 147 182 64 131 140 164 172 77 145 130 28 75 58 132 182 118 133 77 103 189 64 130 51 46 64 69 156 52 13 38 90 144 19 196 192 45 190 13 140 159 185 37 87 62 92 14 91 6 56 135 28 143 168 49 192 117 135 193 53 156 13 58 179 148 52 142 120 89 147 20 59 54 65 95 189 159 199 108 67 155 171 16 48 17 110 163 155 97 91 32 56 135 76 10 9 22 45 108 58 171 159 10 68 166 101 112 125 103 164 45 29 99 96 108 74 193 35 44 21 103 24 180 142 119 49 141 38 30 180 137 39 8 172 75 88 27 63 99 74 6 150 36 171 159 32 24 82 32 197 35 51 30 193 58 124 46 169 131 3 131 40 82 11 175 161 90 23 103 16 35 120 128 135 93 184 167 14 81 33 154 12 179 108 187 86 105 191 54 130 143 161 125 84 109 192 18 6 65 18 65 195 84 6 97 7 102 115 43 2 32 48 170 156 8 142 182 122 24 95 125 195 117 183 59 163 49 64 8 18 161 160 97 145 57 148 172 95 147 92 21 32 40 33 63 118 176 117 65 15 68 183 177 161 122 93 71 93 6 22 148 114 145 36 58 99 133 97 168 168 77 88 119 6 109 149 18 2 143 193 110 177 183 87 12 174 147 67 93 76 3 78 28 49 104 136 99 13 24 50 21 66 135 139 71 141 161 142 107 180 109 155 57 178 198 59 107 193 151 68 1 168 93 200 133 88 198 109 119 49 187 11 9 193  560 22 9 97 64 164 108 18 194 200 93 197 57 65 156 59 103 163 142 18 1 104 121 199 135 79 67 86 109 92 198 21 58 27 112 131 155 111 124 36 102 104 130 111 73 152 76 77 81 22 161 157 155 51 181 20 107 140 142 194 17 139 112 74 60 193 75 95 148 50 118 78 89 152 6 59 121 183 47 129 10 181 15 131 176 183 26 102 165 34 88 74 149 24 42 85 129 143 160 26 169 158 193 169 111 55 103 14 184 29 161 134 139 150 51 93 47 91 160 175 187 26 137 64 123 152 28 87 17 150 127 47 38 75 3 177 200 86 129 153 43 145 160 8 7 197 170 43 110 54 142 141 99 7 103 116 125 105 73 100 34 59 151 196 11 77 174 195 17 119 47 193 38 69 71 153 196 87 169 78 34 53 32 89 46 155 142 159 95 157 2 47 42 60 196 102 178 106 176 169 51 111 51 180 69 154 96 8 153 91 128 88 39 15 95 146 24 37 148 114 163 40 175 129 90 111 25 107 105 52 52 184 73 34 3 126 61 164 144 38 51 21 60 110 164 120 143 185 153 179 16 154 126 161 49 36 102 7 69 40 132 75 188 191 34 65 106 95 69 115 20 178 104 135 197 125 187 155 141 183 6 66 142 22 184 67 184 22 23 105 149 50 120 189 136 192 24 15 37 143 36 164 59 129 132 83 138 114 198 116 49 23 187 8 180 185 125 158 113 22 1 95 38 71 41 85 91 70 64 19 128 107 1 148 14 101 174 100 35 150 16 62 125 156 152 47 45 55 154 59 44 20 32 21 80 155 31 16 11 68 168 67 193 39 157 179 192 9 152 57 41 155 63 18 72 104 92 116 172 47 179 29 26 69 45 155 59 44 79 118 193 126 37 188 12 94 160 83 37 112 187 158 200 96 84 129 36 18 59 51 16 94 144 32 160 161 42 118 114 193 175 194 94 57 13 87 55 73 85 90 171 111 163 84 189 39 114 61 56 83 138 48 10 8 8 50 59 143 90 53 108 52 108 139 10 183 83 30 67 2 37 177 76 94 138 194 111 45 104 58 163 176 78 173 167 92 184 51 160 88 159 44 46 182 105 20 193 11 129 174 96 180 6 55 33 124 13 169 137 122 187 43 124 169 168 124 139 7 18 2 83 114 8 194 140 40 135 4 28 171 29 158 173 55 177 13 107 90 43 109 1 29 199 171 49 92 165 37 119 79 123 137 45 53 129 139 127 195 48 135 59 191 9 133 41 173 87 10 181 196 4 \n",
      "fdz\n"
     ]
    },
    {
     "ename": "ValueError",
     "evalue": "invalid literal for int() with base 10: 'fdz'",
     "output_type": "error",
     "traceback": [
      "\u001b[1;31m---------------------------------------------------------------------------\u001b[0m",
      "\u001b[1;31mValueError\u001b[0m                                Traceback (most recent call last)",
      "\u001b[1;32m<ipython-input-11-a27f14982102>\u001b[0m in \u001b[0;36m<module>\u001b[1;34m\u001b[0m\n\u001b[0;32m      9\u001b[0m \u001b[0mN1\u001b[0m\u001b[1;33m=\u001b[0m\u001b[0mint\u001b[0m\u001b[1;33m(\u001b[0m\u001b[0minput\u001b[0m\u001b[1;33m(\u001b[0m\u001b[1;33m)\u001b[0m\u001b[1;33m)\u001b[0m\u001b[1;33m\u001b[0m\u001b[1;33m\u001b[0m\u001b[0m\n\u001b[0;32m     10\u001b[0m \u001b[0mlist1\u001b[0m\u001b[1;33m=\u001b[0m\u001b[1;33m[\u001b[0m\u001b[0mint\u001b[0m\u001b[1;33m(\u001b[0m\u001b[0mx\u001b[0m\u001b[1;33m)\u001b[0m \u001b[1;32mfor\u001b[0m \u001b[0mx\u001b[0m \u001b[1;32min\u001b[0m \u001b[0minput\u001b[0m\u001b[1;33m(\u001b[0m\u001b[1;33m)\u001b[0m\u001b[1;33m.\u001b[0m\u001b[0msplit\u001b[0m\u001b[1;33m(\u001b[0m\u001b[1;33m)\u001b[0m\u001b[1;33m]\u001b[0m\u001b[1;33m\u001b[0m\u001b[1;33m\u001b[0m\u001b[0m\n\u001b[1;32m---> 11\u001b[1;33m \u001b[0mN2\u001b[0m\u001b[1;33m=\u001b[0m\u001b[0mint\u001b[0m\u001b[1;33m(\u001b[0m\u001b[0minput\u001b[0m\u001b[1;33m(\u001b[0m\u001b[1;33m)\u001b[0m\u001b[1;33m)\u001b[0m\u001b[1;33m\u001b[0m\u001b[1;33m\u001b[0m\u001b[0m\n\u001b[0m\u001b[0;32m     12\u001b[0m \u001b[0mlist2\u001b[0m\u001b[1;33m=\u001b[0m\u001b[1;33m[\u001b[0m\u001b[0mint\u001b[0m\u001b[1;33m(\u001b[0m\u001b[0mx\u001b[0m\u001b[1;33m)\u001b[0m \u001b[1;32mfor\u001b[0m \u001b[0mx\u001b[0m \u001b[1;32min\u001b[0m \u001b[0minput\u001b[0m\u001b[1;33m(\u001b[0m\u001b[1;33m)\u001b[0m\u001b[1;33m.\u001b[0m\u001b[0msplit\u001b[0m\u001b[1;33m(\u001b[0m\u001b[1;33m)\u001b[0m\u001b[1;33m]\u001b[0m\u001b[1;33m\u001b[0m\u001b[1;33m\u001b[0m\u001b[0m\n\u001b[0;32m     13\u001b[0m \u001b[0mmatch\u001b[0m\u001b[1;33m=\u001b[0m\u001b[0mintersect\u001b[0m\u001b[1;33m(\u001b[0m\u001b[0mlist1\u001b[0m\u001b[1;33m,\u001b[0m\u001b[0mlist2\u001b[0m\u001b[1;33m)\u001b[0m\u001b[1;33m\u001b[0m\u001b[1;33m\u001b[0m\u001b[0m\n",
      "\u001b[1;31mValueError\u001b[0m: invalid literal for int() with base 10: 'fdz'"
     ]
    }
   ],
   "source": [
    "def intersect(li1,li2=[]):\n",
    "    ele=[]\n",
    "    for i in li1:\n",
    "        if i in li2:\n",
    "            if ele.count(i)==0:\n",
    "                ele.append(i)\n",
    "    return ele\n",
    "\n",
    "N1=int(input())\n",
    "list1=[int(x) for x in input().split()]\n",
    "N2=int(input())\n",
    "list2=[int(x) for x in input().split()]\n",
    "match=intersect(list1,list2)\n",
    "for i in match:\n",
    "    print(i)\n"
   ]
  },
  {
   "cell_type": "code",
   "execution_count": 23,
   "metadata": {},
   "outputs": [
    {
     "name": "stdout",
     "output_type": "stream",
     "text": [
      "[5, 4, 3, 2, 1]\n",
      "[1, 2, 3, 4, 5]\n",
      "[5, 4, 3, 2, 1]\n"
     ]
    }
   ],
   "source": [
    "li=[1,2,3,4,5]\n",
    "x=sorted(li,reverse=True)\n",
    "print(x)\n",
    "print(li)\n",
    "li.sort(reverse=True)\n",
    "print(li)"
   ]
  },
  {
   "cell_type": "code",
   "execution_count": 28,
   "metadata": {},
   "outputs": [
    {
     "name": "stdout",
     "output_type": "stream",
     "text": [
      "7\n",
      "1 2 3 4 5 6 7\n",
      "12\n",
      "<class 'list'>\n",
      "1 4 7 <class 'list'>\n",
      "1 5 6 <class 'list'>\n",
      "2 3 7 <class 'list'>\n",
      "2 4 6 <class 'list'>\n",
      "3 4 5 "
     ]
    }
   ],
   "source": [
    "def triplet_sum(li,x):\n",
    "    for i in range(len(li)):\n",
    "        for j in range(i+1,len(li)):\n",
    "            for k in range(j+1,len(li)):\n",
    "                if li[i]+li[j]+li[k]==x:\n",
    "                    pair=[li[i]]+[li[j]]+[li[k]]\n",
    "                    print(type(pair))\n",
    "                    pair.sort()\n",
    "                    for ele in pair:\n",
    "                        print(ele,end=\" \")\n",
    "N=int(input())\n",
    "list=[int(x) for x in input().split()]\n",
    "x=int(input())\n",
    "triplet_sum(list,x)"
   ]
  },
  {
   "cell_type": "markdown",
   "metadata": {},
   "source": [
    "# sorted and .sort functions\n",
    "both sorted and .sort functions are used to sort a comparable data into assending or dessending order"
   ]
  },
  {
   "cell_type": "code",
   "execution_count": 4,
   "metadata": {},
   "outputs": [
    {
     "name": "stdout",
     "output_type": "stream",
     "text": [
      "original list ['Ram', 'sohan', 'Mohan', 'Sunil', 'neel']\n",
      "list after sorting in dessending order based upon the length of each element present in the list \n",
      " ['sohan', 'Mohan', 'Sunil', 'neel', 'Ram']\n",
      "list after sorting in assending order by considering all of the elements of the lst in lower case \n",
      " ['Mohan', 'neel', 'Ram', 'sohan', 'Sunil']\n",
      "sorting with .sort function ['sohan', 'Mohan', 'Sunil', 'neel', 'Ram']\n"
     ]
    }
   ],
   "source": [
    "# sorted() : it is applicable for any comparable data type and it returns a sorted list type\n",
    "# syntax sorted(iterable,reverse=...,key=...)\n",
    "list=[\"Ram\",\"sohan\",\"Mohan\",\"Sunil\",\"neel\"]\n",
    "x=sorted(list,reverse=True,key=len)\n",
    "y=sorted(list,reverse=False,key=str.lower)\n",
    "print(\"original list\",list)\n",
    "print(\"list after sorting in dessending order based upon the length of each element present in the list \\n\",x)\n",
    "print(\"list after sorting in assending order by considering all of the elements of the lst in lower case \\n\",y)\n",
    "# .sort() function: it is only applicable for list type and it perform sorting operations in the orginal list\n",
    "list.sort(reverse=True,key=len)\n",
    "print(\"sorting with .sort function\",list)"
   ]
  },
  {
   "cell_type": "markdown",
   "metadata": {},
   "source": [
    "# membership operator"
   ]
  },
  {
   "cell_type": "code",
   "execution_count": 10,
   "metadata": {},
   "outputs": [
    {
     "name": "stdout",
     "output_type": "stream",
     "text": [
      "enter a list1 2 3 5 2 4 0 6 3 2 5 6 3 2 5 6 5 6 5 2 3 2\n",
      "2\n",
      "7\n",
      "2 is present 6 times in the list\n",
      "7 is not present in the list\n"
     ]
    }
   ],
   "source": [
    "# in and not in operators are used to check whether a variable or a particular data is present in a sequence or not\n",
    "list=[int(x) for x in input(\"enter a list\").split()]\n",
    "x =int(input())\n",
    "i=int(input())\n",
    "if x in list:\n",
    "    print(x,\"is present\",list.count(x),\"times in the list\")\n",
    "else:\n",
    "    print(x,\"is not present in the list\")\n",
    "if i not in list:\n",
    "    print(i,\"is not present in the list\")\n",
    "else:\n",
    "    print(i,\"is present in the list\")"
   ]
  }
 ],
 "metadata": {
  "kernelspec": {
   "display_name": "Python 3",
   "language": "python",
   "name": "python3"
  },
  "language_info": {
   "codemirror_mode": {
    "name": "ipython",
    "version": 3
   },
   "file_extension": ".py",
   "mimetype": "text/x-python",
   "name": "python",
   "nbconvert_exporter": "python",
   "pygments_lexer": "ipython3",
   "version": "3.7.4"
  }
 },
 "nbformat": 4,
 "nbformat_minor": 2
}
