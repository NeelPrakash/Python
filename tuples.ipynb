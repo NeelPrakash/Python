{
 "cells": [
  {
   "cell_type": "markdown",
   "metadata": {},
   "source": [
    "tuples are used to store multiple entiries within a single variable and they are quite similar to lists"
   ]
  },
  {
   "cell_type": "code",
   "execution_count": 8,
   "metadata": {},
   "outputs": [],
   "source": [
    "x=(1,2,3,4)"
   ]
  },
  {
   "cell_type": "code",
   "execution_count": 12,
   "metadata": {},
   "outputs": [
    {
     "name": "stdout",
     "output_type": "stream",
     "text": [
      "(1, 2, 3, 4)\n",
      "1 2 3 4\n"
     ]
    },
    {
     "ename": "TypeError",
     "evalue": "'tuple' object does not support item assignment",
     "output_type": "error",
     "traceback": [
      "\u001b[1;31m---------------------------------------------------------------------------\u001b[0m",
      "\u001b[1;31mTypeError\u001b[0m                                 Traceback (most recent call last)",
      "\u001b[1;32m<ipython-input-12-69adb5c8a920>\u001b[0m in \u001b[0;36m<module>\u001b[1;34m\u001b[0m\n\u001b[0;32m      2\u001b[0m \u001b[0mprint\u001b[0m\u001b[1;33m(\u001b[0m\u001b[1;33m*\u001b[0m\u001b[0mx\u001b[0m\u001b[1;33m)\u001b[0m\u001b[1;33m\u001b[0m\u001b[1;33m\u001b[0m\u001b[0m\n\u001b[0;32m      3\u001b[0m \u001b[0mt\u001b[0m\u001b[1;33m=\u001b[0m\u001b[1;34m\"test\"\u001b[0m\u001b[1;33m\u001b[0m\u001b[1;33m\u001b[0m\u001b[0m\n\u001b[1;32m----> 4\u001b[1;33m \u001b[0mx\u001b[0m\u001b[1;33m[\u001b[0m\u001b[1;36m0\u001b[0m\u001b[1;33m]\u001b[0m\u001b[1;33m=\u001b[0m\u001b[1;36m1\u001b[0m\u001b[1;33m\u001b[0m\u001b[1;33m\u001b[0m\u001b[0m\n\u001b[0m",
      "\u001b[1;31mTypeError\u001b[0m: 'tuple' object does not support item assignment"
     ]
    }
   ],
   "source": [
    "print(x)\n",
    "print(*x)\n",
    "t=\"test\"\n",
    "x[0]=1"
   ]
  },
  {
   "cell_type": "code",
   "execution_count": 18,
   "metadata": {},
   "outputs": [
    {
     "name": "stdout",
     "output_type": "stream",
     "text": [
      "1 a (2+3j) 5.0 ('a', 'b', ('c', 'd'))\n",
      "5.0 ('a', 'b', ('c', 'd'))\n"
     ]
    },
    {
     "data": {
      "text/plain": [
       "'d'"
      ]
     },
     "execution_count": 18,
     "metadata": {},
     "output_type": "execute_result"
    }
   ],
   "source": [
    "tup=(1,\"a\",2+3j,5.0,(\"a\",\"b\",(\"c\",\"d\")))\n",
    "print(*tup)\n",
    "print(*tup[3:])\n",
    "tup[4][2][1]"
   ]
  },
  {
   "cell_type": "code",
   "execution_count": 20,
   "metadata": {},
   "outputs": [
    {
     "ename": "SyntaxError",
     "evalue": "invalid syntax (<ipython-input-20-07706fbd81d2>, line 4)",
     "output_type": "error",
     "traceback": [
      "\u001b[1;36m  File \u001b[1;32m\"<ipython-input-20-07706fbd81d2>\"\u001b[1;36m, line \u001b[1;32m4\u001b[0m\n\u001b[1;33m    print(tup(2:))\u001b[0m\n\u001b[1;37m               ^\u001b[0m\n\u001b[1;31mSyntaxError\u001b[0m\u001b[1;31m:\u001b[0m invalid syntax\n"
     ]
    }
   ],
   "source": [
    "a,b=tup[0],tup[1]\n",
    "print(a,b)\n",
    "print(tup[2:])\n",
    "print(tup(2:)) # we can only use square braces for indexing, slicing and sequencing purposes\n"
   ]
  },
  {
   "cell_type": "code",
   "execution_count": 24,
   "metadata": {},
   "outputs": [
    {
     "name": "stdout",
     "output_type": "stream",
     "text": [
      "5\n",
      "1 2 3 4 5\n",
      "6 7 8 9 10\n",
      "1 2 3 4 5\n",
      "6 7 8 9 10\n",
      "1 2 3 4 5\n"
     ]
    }
   ],
   "source": [
    "n=int(input())\n",
    "tup1=([[int(j) for j in input().split()] for i in range(n)]) # here python will understand that these parantheses are just used for defining the precedence not to create a tuple"
   ]
  },
  {
   "cell_type": "code",
   "execution_count": 25,
   "metadata": {},
   "outputs": [
    {
     "name": "stdout",
     "output_type": "stream",
     "text": [
      "[[1, 2, 3, 4, 5], [6, 7, 8, 9, 10], [1, 2, 3, 4, 5], [6, 7, 8, 9, 10], [1, 2, 3, 4, 5]]\n"
     ]
    }
   ],
   "source": [
    "print(tup1)"
   ]
  },
  {
   "cell_type": "code",
   "execution_count": 27,
   "metadata": {},
   "outputs": [
    {
     "name": "stdout",
     "output_type": "stream",
     "text": [
      "[1, 2, 3, 4, (1, 'a', (2+3j), 5.0, ('a', 'b', ('c', 'd')))]\n"
     ]
    }
   ],
   "source": [
    "li=[1,2,3,4,tup]\n",
    "print(li)"
   ]
  },
  {
   "cell_type": "code",
   "execution_count": 32,
   "metadata": {},
   "outputs": [
    {
     "name": "stdout",
     "output_type": "stream",
     "text": [
      "(1,)\n",
      "<class 'complex'>\n"
     ]
    }
   ],
   "source": [
    "h=(1,)\n",
    "print(h)\n",
    "print(type(tup[2]))"
   ]
  },
  {
   "cell_type": "code",
   "execution_count": 35,
   "metadata": {},
   "outputs": [
    {
     "name": "stdout",
     "output_type": "stream",
     "text": [
      "1 2 [1, 2, 3] abc\n",
      "1 2 [1, 7, 3] abc\n"
     ]
    },
    {
     "ename": "TypeError",
     "evalue": "'tuple' object does not support item assignment",
     "output_type": "error",
     "traceback": [
      "\u001b[1;31m---------------------------------------------------------------------------\u001b[0m",
      "\u001b[1;31mTypeError\u001b[0m                                 Traceback (most recent call last)",
      "\u001b[1;32m<ipython-input-35-e7541e0c48be>\u001b[0m in \u001b[0;36m<module>\u001b[1;34m\u001b[0m\n\u001b[0;32m      3\u001b[0m \u001b[0mtup\u001b[0m\u001b[1;33m[\u001b[0m\u001b[1;36m2\u001b[0m\u001b[1;33m]\u001b[0m\u001b[1;33m[\u001b[0m\u001b[1;36m1\u001b[0m\u001b[1;33m]\u001b[0m\u001b[1;33m=\u001b[0m\u001b[1;36m7\u001b[0m\u001b[1;33m\u001b[0m\u001b[1;33m\u001b[0m\u001b[0m\n\u001b[0;32m      4\u001b[0m \u001b[0mprint\u001b[0m\u001b[1;33m(\u001b[0m\u001b[1;33m*\u001b[0m\u001b[0mtup\u001b[0m\u001b[1;33m)\u001b[0m\u001b[1;33m\u001b[0m\u001b[1;33m\u001b[0m\u001b[0m\n\u001b[1;32m----> 5\u001b[1;33m \u001b[0mtup\u001b[0m\u001b[1;33m[\u001b[0m\u001b[1;36m2\u001b[0m\u001b[1;33m]\u001b[0m\u001b[1;33m=\u001b[0m\u001b[1;33m[\u001b[0m\u001b[1;36m4\u001b[0m\u001b[1;33m,\u001b[0m\u001b[1;36m5\u001b[0m\u001b[1;33m,\u001b[0m\u001b[1;36m6\u001b[0m\u001b[1;33m]\u001b[0m\u001b[1;33m\u001b[0m\u001b[1;33m\u001b[0m\u001b[0m\n\u001b[0m",
      "\u001b[1;31mTypeError\u001b[0m: 'tuple' object does not support item assignment"
     ]
    }
   ],
   "source": [
    "tup=(1,2,[1,2,3],\"abc\")\n",
    "print(tup[0],tup[1],tup[2],tup[3])\n",
    "tup[2][1]=7\n",
    "print(*tup)\n",
    "tup[2]=[4,5,6] # invalid syntax since it is not possible to alter the elements of a tuple"
   ]
  },
  {
   "cell_type": "code",
   "execution_count": 48,
   "metadata": {},
   "outputs": [
    {
     "name": "stdout",
     "output_type": "stream",
     "text": [
      "3\n",
      "1 2 3\n",
      "4 5 6\n",
      "7 8 9\n"
     ]
    }
   ],
   "source": [
    "n=int(input())\n",
    "li=[[int(j) for j in input().split()] for i in range(n)]\n",
    "x=tuple(tuple(ele) for ele in li)"
   ]
  },
  {
   "cell_type": "code",
   "execution_count": 49,
   "metadata": {},
   "outputs": [
    {
     "name": "stdout",
     "output_type": "stream",
     "text": [
      "[[1, 2, 3], [4, 5, 6], [7, 8, 9]]\n",
      "((1, 2, 3), (4, 5, 6), (7, 8, 9))\n"
     ]
    }
   ],
   "source": [
    "print(li)\n",
    "print(x)"
   ]
  },
  {
   "cell_type": "code",
   "execution_count": 2,
   "metadata": {},
   "outputs": [
    {
     "name": "stdout",
     "output_type": "stream",
     "text": [
      "5\n",
      "<generator object <genexpr> at 0x0000023C1FD8E148>\n"
     ]
    }
   ],
   "source": [
    "n=int(input())\n",
    "tup1=((int(j) for j in input().split()) for i in range(n))\n",
    "print(tup1)"
   ]
  },
  {
   "cell_type": "code",
   "execution_count": 3,
   "metadata": {},
   "outputs": [
    {
     "name": "stdout",
     "output_type": "stream",
     "text": [
      "(1, 2, [5])\n"
     ]
    }
   ],
   "source": [
    "tup=(1,2,[3])\n",
    "tup[2][0]=5\n",
    "print(tup)"
   ]
  },
  {
   "cell_type": "code",
   "execution_count": 5,
   "metadata": {},
   "outputs": [
    {
     "name": "stdout",
     "output_type": "stream",
     "text": [
      "((1, 2, 3), (4, 5, 6))\n"
     ]
    }
   ],
   "source": [
    "tup1=(1,2,3),(4,5,6)\n",
    "print(tup1)"
   ]
  },
  {
   "cell_type": "code",
   "execution_count": 7,
   "metadata": {},
   "outputs": [
    {
     "data": {
      "text/plain": [
       "True"
      ]
     },
     "execution_count": 7,
     "metadata": {},
     "output_type": "execute_result"
    }
   ],
   "source": [
    "x=\"neel prakash\"\n",
    "\"p\" in x"
   ]
  },
  {
   "cell_type": "code",
   "execution_count": 40,
   "metadata": {},
   "outputs": [
    {
     "ename": "SyntaxError",
     "evalue": "invalid syntax (<ipython-input-40-0905101afcf9>, line 1)",
     "output_type": "error",
     "traceback": [
      "\u001b[1;36m  File \u001b[1;32m\"<ipython-input-40-0905101afcf9>\"\u001b[1;36m, line \u001b[1;32m1\u001b[0m\n\u001b[1;33m    def hello(a,(b)):\u001b[0m\n\u001b[1;37m                ^\u001b[0m\n\u001b[1;31mSyntaxError\u001b[0m\u001b[1;31m:\u001b[0m invalid syntax\n"
     ]
    }
   ],
   "source": [
    "def hello(a,(b)):\n",
    "    return a+b\n",
    "    return a-b # this return statement never gets exceuted\n",
    "a=int(input())\n",
    "b=int(input())\n",
    "print(hello((a,b))"
   ]
  },
  {
   "cell_type": "code",
   "execution_count": 18,
   "metadata": {},
   "outputs": [
    {
     "name": "stdout",
     "output_type": "stream",
     "text": [
      "(1, 2)\n"
     ]
    },
    {
     "ename": "TypeError",
     "evalue": "type() takes 1 or 3 arguments",
     "output_type": "error",
     "traceback": [
      "\u001b[1;31m---------------------------------------------------------------------------\u001b[0m",
      "\u001b[1;31mTypeError\u001b[0m                                 Traceback (most recent call last)",
      "\u001b[1;32m<ipython-input-18-e70a1d863ac3>\u001b[0m in \u001b[0;36m<module>\u001b[1;34m\u001b[0m\n\u001b[0;32m      3\u001b[0m \u001b[0mz\u001b[0m\u001b[1;33m=\u001b[0m\u001b[0mx\u001b[0m\u001b[1;33m,\u001b[0m\u001b[0my\u001b[0m\u001b[1;33m\u001b[0m\u001b[1;33m\u001b[0m\u001b[0m\n\u001b[0;32m      4\u001b[0m \u001b[0mprint\u001b[0m\u001b[1;33m(\u001b[0m\u001b[0mz\u001b[0m\u001b[1;33m)\u001b[0m\u001b[1;33m\u001b[0m\u001b[1;33m\u001b[0m\u001b[0m\n\u001b[1;32m----> 5\u001b[1;33m \u001b[0mtype\u001b[0m\u001b[1;33m(\u001b[0m\u001b[0mx\u001b[0m\u001b[1;33m,\u001b[0m\u001b[0my\u001b[0m\u001b[1;33m)\u001b[0m \u001b[1;31m# here the result is printed as (1,2) the reason bhind this is here python compiler will understand that you want to create a tuple\u001b[0m\u001b[1;33m\u001b[0m\u001b[1;33m\u001b[0m\u001b[0m\n\u001b[0m\u001b[0;32m      6\u001b[0m      \u001b[1;31m# but you haven't assigned it anywhere yet\u001b[0m\u001b[1;33m\u001b[0m\u001b[1;33m\u001b[0m\u001b[1;33m\u001b[0m\u001b[0m\n",
      "\u001b[1;31mTypeError\u001b[0m: type() takes 1 or 3 arguments"
     ]
    }
   ],
   "source": [
    "x=1\n",
    "y=2\n",
    "z=x,y\n",
    "print(z)\n",
    "x,y # here the result is printed as (1,2) the reason bhind this is here python compiler will understand that you want to create a tuple \n",
    "     # but you haven't assigned it anywhere yet"
   ]
  },
  {
   "cell_type": "code",
   "execution_count": 15,
   "metadata": {},
   "outputs": [
    {
     "ename": "SyntaxError",
     "evalue": "can't use starred expression here (<ipython-input-15-de1b7c4804d6>, line 5)",
     "output_type": "error",
     "traceback": [
      "\u001b[1;36m  File \u001b[1;32m\"<ipython-input-15-de1b7c4804d6>\"\u001b[1;36m, line \u001b[1;32m5\u001b[0m\n\u001b[1;31mSyntaxError\u001b[0m\u001b[1;31m:\u001b[0m can't use starred expression here\n"
     ]
    }
   ],
   "source": [
    "y=1,2,3\n",
    "x=(*y)\n",
    "print(x)"
   ]
  },
  {
   "cell_type": "code",
   "execution_count": 28,
   "metadata": {},
   "outputs": [
    {
     "name": "stdout",
     "output_type": "stream",
     "text": [
      "13\n"
     ]
    }
   ],
   "source": [
    "# varible length input() and output() to a function\n",
    "# def x(*y,a,b,c=0): it will produce an error\n",
    "def x(*y,c=0):\n",
    "    z= a+b+c\n",
    "    for ele in y:\n",
    "        z=z+ele\n",
    "    return z\n",
    "a=1\n",
    "b=2\n",
    "c=x(a,b,3,4)\n",
    "print(c)"
   ]
  },
  {
   "cell_type": "code",
   "execution_count": 42,
   "metadata": {},
   "outputs": [
    {
     "name": "stdout",
     "output_type": "stream",
     "text": [
      "1\n",
      "2\n",
      "3\n",
      "4\n",
      "10\n"
     ]
    }
   ],
   "source": [
    "# varible length input() and output() to a function\n",
    "# def x(*y,a,b,c=0): it will produce an error\n",
    "def x(*y,d,c=0):\n",
    "    z=c\n",
    "    for ele in y:\n",
    "        z=z+ele\n",
    "        print(ele)\n",
    "    return z\n",
    "a=1\n",
    "b=2\n",
    "c=x(a,b,3,4,d=5)\n",
    "print(c)"
   ]
  },
  {
   "cell_type": "code",
   "execution_count": 135,
   "metadata": {},
   "outputs": [
    {
     "ename": "TypeError",
     "evalue": "to_print() takes 0 positional arguments but 3 were given",
     "output_type": "error",
     "traceback": [
      "\u001b[1;31m---------------------------------------------------------------------------\u001b[0m",
      "\u001b[1;31mTypeError\u001b[0m                                 Traceback (most recent call last)",
      "\u001b[1;32m<ipython-input-135-ffbd847aee08>\u001b[0m in \u001b[0;36m<module>\u001b[1;34m\u001b[0m\n\u001b[0;32m      2\u001b[0m     \u001b[1;32mfor\u001b[0m \u001b[0mi\u001b[0m\u001b[1;33m,\u001b[0m\u001b[0mj\u001b[0m\u001b[1;33m,\u001b[0m\u001b[0mk\u001b[0m \u001b[1;32min\u001b[0m \u001b[0marg\u001b[0m\u001b[1;33m:\u001b[0m\u001b[1;33m\u001b[0m\u001b[1;33m\u001b[0m\u001b[0m\n\u001b[0;32m      3\u001b[0m         \u001b[0mprint\u001b[0m\u001b[1;33m(\u001b[0m\u001b[0mi\u001b[0m\u001b[1;33m,\u001b[0m\u001b[0mj\u001b[0m\u001b[1;33m,\u001b[0m\u001b[0mk\u001b[0m\u001b[1;33m)\u001b[0m\u001b[1;33m\u001b[0m\u001b[1;33m\u001b[0m\u001b[0m\n\u001b[1;32m----> 4\u001b[1;33m \u001b[0mto_print\u001b[0m\u001b[1;33m(\u001b[0m\u001b[1;34m\"navin\"\u001b[0m\u001b[1;33m,\u001b[0m\u001b[1;34m\"28\"\u001b[0m\u001b[1;33m,\u001b[0m\u001b[1;34m\"mumbai\"\u001b[0m\u001b[1;33m)\u001b[0m\u001b[1;33m\u001b[0m\u001b[1;33m\u001b[0m\u001b[0m\n\u001b[0m",
      "\u001b[1;31mTypeError\u001b[0m: to_print() takes 0 positional arguments but 3 were given"
     ]
    }
   ],
   "source": [
    "def to_print(**arg):\n",
    "    for i,j,k in arg:\n",
    "        print(i,j,k)\n",
    "to_print(\"navin\",\"28\",\"mumbai\")"
   ]
  },
  {
   "cell_type": "markdown",
   "metadata": {},
   "source": [
    " tuples"
   ]
  },
  {
   "cell_type": "code",
   "execution_count": 43,
   "metadata": {},
   "outputs": [],
   "source": [
    "# tuples are quite smilar to lists\n",
    "\n",
    "# various ways of creating tuple\n",
    "x=(1,2,3,4)\n",
    "y=1,2"
   ]
  },
  {
   "cell_type": "code",
   "execution_count": 45,
   "metadata": {},
   "outputs": [
    {
     "name": "stdout",
     "output_type": "stream",
     "text": [
      "<class 'tuple'> <class 'tuple'>\n"
     ]
    }
   ],
   "source": [
    "print(type(x),type(y))"
   ]
  },
  {
   "cell_type": "code",
   "execution_count": 66,
   "metadata": {},
   "outputs": [
    {
     "name": "stdout",
     "output_type": "stream",
     "text": [
      "(1, 2, 'ram', [4, 5, 6], True)\n",
      "type: <class 'tuple'>\n",
      "((1, 2, 3), (4, 5, 6))\n",
      "<class 'tuple'>\n",
      "((1, 2, 3), (4, 5, 6))\n",
      "<class 'tuple'>\n"
     ]
    }
   ],
   "source": [
    "# a tuple can also have multiple data types as well as a tuple in it\n",
    "z=(1,2,\"ram\",[4,5,6],True)\n",
    "print(z)\n",
    "print(\"type:\",type(z))\n",
    "\n",
    "# here w and v are exacty same, because whenever we try to assign more then one entry in python, python interpreter will automatically\n",
    "# understand that the user wants to create a tuple here. tuple is alo the default data type in python to store multiple values/enteries\n",
    "\n",
    "w=((1,2,3),(4,5,6))\n",
    "print(w)\n",
    "print(type(w))\n",
    "\n",
    "v=(1,2,3),(4,5,6)\n",
    "print(v)\n",
    "print(type(v))"
   ]
  },
  {
   "cell_type": "code",
   "execution_count": 62,
   "metadata": {},
   "outputs": [
    {
     "name": "stdout",
     "output_type": "stream",
     "text": [
      "[1, 2, 3, 4] [5, 6, 7, 8] [9, 0]\n",
      "1,2,3,4,[5, 6, 7, 8],[9, 0]\n",
      "[1, 2, 3, 4],[5, 6, 7, 8],[9, 0]ram"
     ]
    }
   ],
   "source": [
    "# sep parameter in print() function\n",
    "x=[1,2,3,4]\n",
    "y=[5,6,7,8]\n",
    "z=[9,0]\n",
    "print(x,y,z)\n",
    "print(*x,y,z,sep=\",\")\n",
    "print(x,y,z,sep=\",\",end=\"ram\")"
   ]
  },
  {
   "cell_type": "code",
   "execution_count": 63,
   "metadata": {},
   "outputs": [
    {
     "name": "stdout",
     "output_type": "stream",
     "text": [
      "3 1 2 3\n"
     ]
    }
   ],
   "source": [
    "x=3\n",
    "y=[1,2,3]\n",
    "print(x,*y)"
   ]
  },
  {
   "cell_type": "code",
   "execution_count": 76,
   "metadata": {},
   "outputs": [
    {
     "name": "stdout",
     "output_type": "stream",
     "text": [
      "positive indexing 1 2 3 4 5\n",
      "negative indexing 5 4 3 2 1\n",
      "y (2, 3, 4, 5) z (5, 4, 3, 2, 1)\n",
      "<class 'int'>\n",
      "<class 'tuple'>\n",
      "<class 'tuple'>\n",
      "(1, 2, 3) (4, 5, 6, (7, 8, 9)) (0,)\n",
      "index w[1][0] \t\t 4\n",
      "index w[1][3][1] \t 8\n"
     ]
    }
   ],
   "source": [
    "# indexing and slicing in tuples\n",
    "# for both indexing and sequencing we use square braces insted of paranthesis\n",
    "x=(1,2,3,4,5)\n",
    "\n",
    "# indexing and slicing works exactly same with tuples also as they works in case of lists or stings, \n",
    "# as tuples are also the example of ordered sequence\n",
    "print(\"positive indexing\", x[0],x[1],x[2],x[3],x[4])\n",
    "print(\"negative indexing\",x[-1],x[-2],x[-3],x[-4],x[-5])\n",
    "\n",
    "# if an index is not present in the tuple then we got tuple index out of range error\n",
    "#print(x[-6],x[7]) # it wll give us a syntax error\n",
    "\n",
    "y=x[1:]\n",
    "z=x[::-1]\n",
    "print(\"y\",y,\"z\",z)\n",
    "\n",
    "w=(1,2,3),(4,5,6,(7,8,9)),(0,) # here must note that in order to create a tuple with sigle element we must have to puts a comma after that\n",
    "                               # otherwise python will not treat it as a tuple. it is also possible to crate an empty tuple. the reason behind ths is\n",
    "             # as we already know that pranthesis are also usd to define the operator precedence hence if we create a tuple like x=(1) then here python will simply understand that,\n",
    "             # here paranthesis are use for precedence determination purposes hence it will create an int type object.\n",
    "p=(1)\n",
    "print(type(p))\n",
    "q=(1,)\n",
    "print(type(q))\n",
    "r=()\n",
    "print(type(r))\n",
    "\n",
    "print(w[0],w[1],w[2])\n",
    "print(\"index w[1][0] \\t\\t\",w[1][0])\n",
    "print(\"index w[1][3][1] \\t\",w[1][3][1])"
   ]
  },
  {
   "cell_type": "code",
   "execution_count": 124,
   "metadata": {},
   "outputs": [
    {
     "name": "stdout",
     "output_type": "stream",
     "text": [
      "[1, 2, 3, 4]\n",
      "[1, 2, 5, 4]\n",
      "[1, 5, 4]\n",
      "[1, 5, 4, 7]\n",
      "[1, 5, 4]\n",
      "(1, 2, 3, 4)\n",
      "(1, 2, 'ram', 4, [5, 6, 7])\n",
      "(1, 2, 'ram', 4, [9, 6, 7])\n"
     ]
    }
   ],
   "source": [
    "# the major difference between a tuple and the list is that tuples are of immutable type where lists are mutable\n",
    "# hence we cannot append delete remove or modify any particular entry of a tuple\n",
    "li=[1,2,3,4]\n",
    "print(li)\n",
    "li[2]=5\n",
    "print(li)\n",
    "del li[1]\n",
    "print(li)\n",
    "li.append(7)\n",
    "print(li)\n",
    "li.remove(7)\n",
    "print(li)\n",
    "\n",
    "# all of the opration perfromed above are invalid in case of a tuple or any other immutable datatype\n",
    "tup=(1,2,3,4)\n",
    "print(tup)\n",
    "# tup[2]=5\n",
    "# del tup[1]\n",
    "# tup.append(7)\n",
    "# tup.remove(7)  # all of these operations will produce an error \n",
    "\n",
    "# must note that however it is not possible to delete a particular entery of any immutable object by del keyword but we can delete the entire immutable object\n",
    "del tup \n",
    "# print(tup) # here we will got an error tup is not defined, same happens for int, float, complex or any other mmutable object also\n",
    "x=2\n",
    "y=2.0\n",
    "z=\"xyz\"\n",
    "del x,y,z\n",
    "# print(x)\n",
    "# print(y)\n",
    "# print(z)\n",
    "\n",
    "# must note that although the tuple is of immutable type but if any of its entry contains a mutable data type, then we can make alteration in taht particular entry i.e\n",
    "x=(1,2,\"ram\",4,[5,6,7])\n",
    "print(x)\n",
    "x[4][0]=9  # correct as we are making alteration into a list type object\n",
    "print(x)\n",
    "# x[4]=[1,2,3]  # this line will produce a syntax error since here we are trying to alter an entry of a tuple which is not allowed we can alter only the entries of mutable typr of object not the object itsef.\n"
   ]
  },
  {
   "cell_type": "code",
   "execution_count": 101,
   "metadata": {},
   "outputs": [
    {
     "name": "stdout",
     "output_type": "stream",
     "text": [
      "1 2 3 4 \n",
      "1 in x True\n",
      "5 not in x True\n",
      "1 in y False\n",
      "1 not in y True\n",
      "length 4\n",
      "(1, 2, 3, 4, 5, 6, 7, 8)\n",
      "(1, 2, 3, 4, 1, 2, 3, 4)\n",
      "1\n",
      "8\n",
      "(1, 2, 3, 4)\n"
     ]
    }
   ],
   "source": [
    "# functionalities with tupples\n",
    "# like any other iterable object we can run a for loop over a tuple as well\n",
    "x=(1,2,3,4)\n",
    "y=(5,6,7,8)\n",
    "for ele in x:\n",
    "    print(ele,end=\" \")\n",
    "print()\n",
    "# membership operator can also be used with tuples\n",
    "print(\"1 in x\",1 in x)\n",
    "print(\"5 not in x\",5 not in x)\n",
    "print(\"1 in y\",1 in y)\n",
    "print(\"1 not in y\",1 not in y)\n",
    "\n",
    "# len and concatenation function works exactly similar for tuples also as they works with lists and strings\n",
    "print(\"length\",len(x))\n",
    "print(x+y)\n",
    "print(x*2)\n",
    "\n",
    "# min max functions with tuples\n",
    "print(min(x))\n",
    "print(max(y))\n",
    "\n",
    "# type conversion\n",
    "# we can use the tuple() function to convert any interable object into tuple type.\n",
    "li=[1,2,3,4]\n",
    "tup1=tuple(li)\n",
    "print(tup1)\n",
    "x=1 \n",
    "# tup2=tuple(x) # here we will got an error since int objects are not iterable\n",
    "# print(tup2)\n",
    "\n",
    "# note: there is no such thing as tuple comprehension exist"
   ]
  },
  {
   "cell_type": "markdown",
   "metadata": {},
   "source": [
    "variable length input() and output to and from a function in python"
   ]
  },
  {
   "cell_type": "code",
   "execution_count": 116,
   "metadata": {},
   "outputs": [
    {
     "name": "stdout",
     "output_type": "stream",
     "text": [
      "6\n",
      "15\n",
      "10\n",
      "21\n"
     ]
    }
   ],
   "source": [
    "# variable length input()\n",
    "\n",
    "# we already know how to create a function in python which accepts a fixed set of argumets in it.but what if we need to create a\n",
    "# function that can accept an arbitary no. of elements in it.\n",
    "# let us consider the example given below.\n",
    "def adder(a,b,c):\n",
    "    return a+b+c\n",
    "sum1=adder(1,2,3)\n",
    "print(sum1) # here above we defined a function which can take three no.s and then return as their sum. lets suppose we require \n",
    "# the sum of 5 no.'s, so one way to that is\n",
    "def adder1(a,b,c,d,e):\n",
    "    return a+b+c+d+e\n",
    "print(adder1(1,2,3,4,5)) # but what if we required to create a function which can add n no's. we cant accomplish that task in this way\n",
    "# here python provides us an special syntax to do that i.e *variable_name whenever we have to deal with the situations where a function has to accept  \n",
    "# n inputs then simply we use aistric synmbol followed by a variable name as the argument variable during the function decleration as:\n",
    "\"\"\" def adder2(*arg):\n",
    "        sum=0\n",
    "        for ele in arg:\n",
    "            sum=sum+ele\n",
    "        return sum     \"\"\" # here once the python interpreter reads the line def adder2(*arg) it will understand that here user wants to create a tuple, and\n",
    "# whatever is passed to this function gets stored in it, the name of this function becomes whatever follows the aistric symbol that is in our case arg\n",
    "# now suppose user had passed (1,2,3,4) to this function, here all of these values gets stored in argument tuple named arg and as we already know\n",
    "# that we can iterate over a tuple hence we iterate over arg and each of its element gets added with sum. at last this function wll return us sum as output\n",
    "def adder2(*arg):\n",
    "    sum=0\n",
    "    for ele in arg:\n",
    "        sum+=ele\n",
    "    return sum\n",
    "add=adder2(1,2,3,4)\n",
    "print(add)\n",
    "\n",
    "def adder3(*arg,m,n,o):\n",
    "    sum=0\n",
    "    for ele in arg:\n",
    "        sum+=ele\n",
    "    sum+=m+n+o\n",
    "    return sum\n",
    "#add1=adder3(1,2,2,3,3,4)  # here we will got an error: missing three keyword only arguments. the reason behind this is all of the aruments 1,2,2,3,3,4 \n",
    "# gets stored in the tuple arg and nothing is left for m,n,o we can solve this problem as:\n",
    "add2=adder3(1,2,3,m=4,n=5,o=6)\n",
    "print(add2)"
   ]
  },
  {
   "cell_type": "code",
   "execution_count": 122,
   "metadata": {},
   "outputs": [
    {
     "name": "stdout",
     "output_type": "stream",
     "text": [
      "15 -15 120\n",
      "(15, -15, 120)\n"
     ]
    }
   ],
   "source": [
    "# variable length output\n",
    "# just similar to that what we have seen above it is also possible to store more then one returning results in a single variable as:\n",
    "def sum_diff_mul(*a):\n",
    "    sum1,diff,mul=0,0,1\n",
    "    for ele in a:\n",
    "        sum1+=ele\n",
    "        diff-=ele\n",
    "        mul*=ele\n",
    "    return sum1,diff,mul\n",
    "x,y,z=sum_diff_mul(1,2,3,4,5)\n",
    "print(x,y,z)\n",
    "# now if we try to store the result in two variables then we will got an error: too many values to unpack\n",
    "# sum1,diff=sum_diff_mul(1,2,3,4,5)\n",
    "# but we can save the result in one variable only since by default python will understand that the user wants to create a tupple heree\n",
    "x=sum_diff_mul(1,2,3,4,5)\n",
    "print(x)\n"
   ]
  },
  {
   "cell_type": "code",
   "execution_count": 137,
   "metadata": {},
   "outputs": [
    {
     "name": "stdout",
     "output_type": "stream",
     "text": [
      "<class 'tuple'>\n"
     ]
    }
   ],
   "source": [
    "def x(*arg):\n",
    "    print(type(arg))\n",
    "x()"
   ]
  },
  {
   "cell_type": "code",
   "execution_count": 13,
   "metadata": {},
   "outputs": [
    {
     "name": "stdout",
     "output_type": "stream",
     "text": [
      "1 2 3\n",
      "(1, 2, 3)\n"
     ]
    }
   ],
   "source": [
    "li=tuple((int(j) for j in input().split()))\n",
    "print(li)"
   ]
  },
  {
   "cell_type": "code",
   "execution_count": 18,
   "metadata": {},
   "outputs": [
    {
     "name": "stdout",
     "output_type": "stream",
     "text": [
      "1 2 3\n"
     ]
    },
    {
     "data": {
      "text/plain": [
       "(1, 2, 3)"
      ]
     },
     "execution_count": 18,
     "metadata": {},
     "output_type": "execute_result"
    }
   ],
   "source": [
    "tuple(int(j) for j in input().split())\n",
    "# print(li[0])\n",
    "# li[0]=1"
   ]
  },
  {
   "cell_type": "code",
   "execution_count": 6,
   "metadata": {},
   "outputs": [
    {
     "name": "stdout",
     "output_type": "stream",
     "text": [
      "1 2 3 4 5\n"
     ]
    },
    {
     "ename": "ValueError",
     "evalue": "invalid literal for int() with base 10: '1 2 3 4 5'",
     "output_type": "error",
     "traceback": [
      "\u001b[1;31m---------------------------------------------------------------------------\u001b[0m",
      "\u001b[1;31mValueError\u001b[0m                                Traceback (most recent call last)",
      "\u001b[1;32m<ipython-input-6-ea4f90b0ca24>\u001b[0m in \u001b[0;36m<module>\u001b[1;34m\u001b[0m\n\u001b[1;32m----> 1\u001b[1;33m \u001b[0mn\u001b[0m\u001b[1;33m=\u001b[0m\u001b[0mint\u001b[0m\u001b[1;33m(\u001b[0m\u001b[0minput\u001b[0m\u001b[1;33m(\u001b[0m\u001b[1;33m)\u001b[0m\u001b[1;33m)\u001b[0m\u001b[1;33m\u001b[0m\u001b[1;33m\u001b[0m\u001b[0m\n\u001b[0m\u001b[0;32m      2\u001b[0m \u001b[0mtup1\u001b[0m\u001b[1;33m=\u001b[0m\u001b[1;33m(\u001b[0m\u001b[1;33m(\u001b[0m\u001b[0mint\u001b[0m\u001b[1;33m(\u001b[0m\u001b[0mj\u001b[0m\u001b[1;33m)\u001b[0m \u001b[1;32mfor\u001b[0m \u001b[0mj\u001b[0m \u001b[1;32min\u001b[0m \u001b[0minput\u001b[0m\u001b[1;33m(\u001b[0m\u001b[1;33m)\u001b[0m\u001b[1;33m.\u001b[0m\u001b[0msplit\u001b[0m\u001b[1;33m(\u001b[0m\u001b[1;33m)\u001b[0m\u001b[1;33m)\u001b[0m \u001b[1;32mfor\u001b[0m \u001b[0mi\u001b[0m \u001b[1;32min\u001b[0m \u001b[0mrange\u001b[0m\u001b[1;33m(\u001b[0m\u001b[0mn\u001b[0m\u001b[1;33m)\u001b[0m\u001b[1;33m)\u001b[0m\u001b[1;33m\u001b[0m\u001b[1;33m\u001b[0m\u001b[0m\n\u001b[0;32m      3\u001b[0m \u001b[0mprint\u001b[0m\u001b[1;33m(\u001b[0m\u001b[0mtup1\u001b[0m\u001b[1;33m)\u001b[0m\u001b[1;33m\u001b[0m\u001b[1;33m\u001b[0m\u001b[0m\n",
      "\u001b[1;31mValueError\u001b[0m: invalid literal for int() with base 10: '1 2 3 4 5'"
     ]
    }
   ],
   "source": [
    "n=int(input()) \n",
    "tup1=tuple(tuple(int(j) for j in input().split()) for i in range(n))\n",
    "print(tup1) # doubt what is actually happening here"
   ]
  },
  {
   "cell_type": "code",
   "execution_count": 12,
   "metadata": {},
   "outputs": [],
   "source": [
    "*a,=(1,2,3,4)"
   ]
  }
 ],
 "metadata": {
  "kernelspec": {
   "display_name": "Python 3",
   "language": "python",
   "name": "python3"
  },
  "language_info": {
   "codemirror_mode": {
    "name": "ipython",
    "version": 3
   },
   "file_extension": ".py",
   "mimetype": "text/x-python",
   "name": "python",
   "nbconvert_exporter": "python",
   "pygments_lexer": "ipython3",
   "version": "3.7.4"
  }
 },
 "nbformat": 4,
 "nbformat_minor": 2
}
