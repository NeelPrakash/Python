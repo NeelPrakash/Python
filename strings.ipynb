{
 "cells": [
  {
   "cell_type": "code",
   "execution_count": 17,
   "metadata": {},
   "outputs": [
    {
     "name": "stdout",
     "output_type": "stream",
     "text": [
      "initiallized using double quote: hello\n",
      "initiallized using single quote: hello\n",
      "initiallizd using triple quote: hello\n",
      "hello hello\n",
      "a multiline string initiallized with triple quote:\n",
      " hello,\n",
      "am good\n",
      "a multiline string initiallized with triple quote:\n",
      " hello\n",
      " am good\n"
     ]
    },
    {
     "data": {
      "text/plain": [
       "'hello\\n am good'"
      ]
     },
     "execution_count": 17,
     "metadata": {},
     "output_type": "execute_result"
    }
   ],
   "source": [
    "x=\"hello\"\n",
    "print(\"initiallized using double quote:\",x)\n",
    "y='hello'\n",
    "print(\"initiallized using single quote:\",y)\n",
    "z=\"\"\"hello\"\"\"\n",
    "print(\"initiallizd using triple quote:\",z)\n",
    "z1=\"\"\"\"\"\"\"\"\"hello\"\"\"\n",
    "z2=\"\"\"\"\"\"\"\"\"hello\"\"\"\"\"\"\"\"\"\n",
    "print(z1,z2)\n",
    "# p=\"\"\"\"h\"\"\"\" it is not allowed to intiallize a string with more then three quotes and also the no. of quotes at the starting and at the ending must be same\n",
    "# p=\"hello\"\",p=\"\"h\",p=\"\"h\"\"\",p=\"\"\"h\",p=\"\"\"h\"\" are wrong ways to initiallize a string, there is only one exception i.e p=\"h\"\"\" is correct\n",
    "p=\"\"\"hello,\n",
    "am good\"\"\"\n",
    "q=\"\"\"hello\n",
    " am good\"\"\"\n",
    "print(\"a multiline string initiallized with triple quote:\\n\",p)\n",
    "print(\"a multiline string initiallized with triple quote:\\n\",q)\n",
    "# a multine line string cant be initiallized with the help of single and double quotes as \n",
    "# x='hello      or x=\"hello,\n",
    "#   am good'          am good\"\n",
    "q"
   ]
  },
  {
   "cell_type": "code",
   "execution_count": 7,
   "metadata": {},
   "outputs": [
    {
     "ename": "SyntaxError",
     "evalue": "EOL while scanning string literal (<ipython-input-7-5aaa62c4303a>, line 7)",
     "output_type": "error",
     "traceback": [
      "\u001b[1;36m  File \u001b[1;32m\"<ipython-input-7-5aaa62c4303a>\"\u001b[1;36m, line \u001b[1;32m7\u001b[0m\n\u001b[1;33m    p=\"\"\"\"h\"\"\"\"\u001b[0m\n\u001b[1;37m               ^\u001b[0m\n\u001b[1;31mSyntaxError\u001b[0m\u001b[1;31m:\u001b[0m EOL while scanning string literal\n"
     ]
    }
   ],
   "source": [
    "# indexing and sequencing works also in strings exactly in the same manner as they works in list\n",
    "x=\"i am neel\"\n",
    "y=x[2:-3:2]"
   ]
  },
  {
   "cell_type": "code",
   "execution_count": 21,
   "metadata": {},
   "outputs": [
    {
     "name": "stdout",
     "output_type": "stream",
     "text": [
      "hello\n"
     ]
    }
   ],
   "source": [
    "z1=\"\"\"hello\"\"\"\"\"\"\"\"\"\n",
    "print(z1)"
   ]
  },
  {
   "cell_type": "markdown",
   "metadata": {},
   "source": [
    "concatenation of strings"
   ]
  },
  {
   "cell_type": "code",
   "execution_count": 28,
   "metadata": {},
   "outputs": [
    {
     "data": {
      "text/plain": [
       "['lets check', 'lets check', 'lets check']"
      ]
     },
     "execution_count": 28,
     "metadata": {},
     "output_type": "execute_result"
    }
   ],
   "source": [
    "a=\"str\"\n",
    "b=[\"hello\",\"great\"]\n",
    "# a+b\n",
    "c=[\"lets check\"]\n",
    "b+c\n",
    "c*3"
   ]
  },
  {
   "cell_type": "code",
   "execution_count": 27,
   "metadata": {},
   "outputs": [
    {
     "name": "stdout",
     "output_type": "stream",
     "text": [
      "hellohellohellohello\n"
     ]
    }
   ],
   "source": [
    "x=\"hello\"\n",
    "x+=x*3\n",
    "print(x)"
   ]
  },
  {
   "cell_type": "code",
   "execution_count": 29,
   "metadata": {},
   "outputs": [
    {
     "name": "stdout",
     "output_type": "stream",
     "text": [
      "hki\n",
      "hki\n"
     ]
    }
   ],
   "source": [
    "s=\"parikh\"\n",
    "print(s[:2:-1])\n",
    "print(s[-1:2:-1])"
   ]
  },
  {
   "cell_type": "markdown",
   "metadata": {},
   "source": [
    "concept of slicing in python"
   ]
  },
  {
   "cell_type": "code",
   "execution_count": 30,
   "metadata": {},
   "outputs": [
    {
     "name": "stdout",
     "output_type": "stream",
     "text": [
      "hell\n",
      "llo w\n"
     ]
    }
   ],
   "source": [
    "# during sequencing in both positive and negative indexing we always go till end-1\n",
    "#  0   1  2  3  4  5  6  7  8  9 10  positive indexing\n",
    "#  h   e  l  l  o     w  o  r  l  d\n",
    "#-11 -10 -9 -8 -7 -6 -5 -4 -3 -2 -1  negative indexing\n",
    "# as in our first case we want to acess the string till fourth index and start index is not mentioned hence by default its value is taken as 0\n",
    "# therefore here our output is 0 to 4-1 i.e 0 to 3 \"hell\"\n",
    "# similarly in second case we want to acess the character which lies in the index range of 2 to -4 i.e 2 to -4-1, 2 to -5 \n",
    "# and here our output is llo w\n",
    "\n",
    "x=\"hello world\"\n",
    "print(x[:4])\n",
    "print(x[2:-4])"
   ]
  },
  {
   "cell_type": "code",
   "execution_count": 33,
   "metadata": {},
   "outputs": [
    {
     "name": "stdout",
     "output_type": "stream",
     "text": [
      "hello world\n",
      "n\n",
      "n does not appears in the string\n"
     ]
    }
   ],
   "source": [
    "# how many times a particular character appears in a string\n",
    "def character_count(str,char):\n",
    "    count=0\n",
    "    for i in str:\n",
    "        if i==char:\n",
    "            count=count+1\n",
    "    if count==0:\n",
    "        print(char,\"does not appears in the string\")\n",
    "    else:\n",
    "        print(char,\"appears\",count,\"times in the string\")\n",
    "string=input()\n",
    "char=input()\n",
    "character_count(string,char)"
   ]
  },
  {
   "cell_type": "code",
   "execution_count": 41,
   "metadata": {
    "scrolled": true
   },
   "outputs": [
    {
     "name": "stdout",
     "output_type": "stream",
     "text": [
      "ywhellofxhellohex\n",
      "hello\n",
      "z\n",
      "hello is present 2 times and z is not present in the string\n"
     ]
    }
   ],
   "source": [
    "# how many times a word and a character appears in the string\n",
    "def word_count(str,word,char):\n",
    "    count,char_count,i,length=0,0,0,len(str)\n",
    "    while i<length:\n",
    "        if str[i]==char:\n",
    "            char_count=char_count+1\n",
    "        if str[i]==word[0]:\n",
    "            k=1\n",
    "            for j in range(i+1,i+len(word)):\n",
    "                if str[j]==word[k]:\n",
    "                    status=True\n",
    "                else:\n",
    "                    status=False\n",
    "                    i=j\n",
    "                    break\n",
    "                k=k+1\n",
    "            if status:\n",
    "                count=count+1\n",
    "                i=j\n",
    "        i=i+1\n",
    "    if count==0 and char_count==0:\n",
    "        print(char,\"and\",word,\"both are not present in the string\")\n",
    "    elif count==0 and char_count>0:\n",
    "        print(char,\"is present\",char_count,\"times and\",word,\"is not present in the string\")\n",
    "    elif count>0 and char_count==0:\n",
    "        print(word,\"is present\",count,\"times and\",char,\"is not present in the string\")\n",
    "    else:\n",
    "        print(char,\"is present\",char_count,\"times and\",word,\"is present\",count,\"times in the string\")\n",
    "string=input()\n",
    "word=input()\n",
    "char=input()\n",
    "word_count(string,word,char)\n"
   ]
  },
  {
   "cell_type": "code",
   "execution_count": 44,
   "metadata": {},
   "outputs": [
    {
     "name": "stdout",
     "output_type": "stream",
     "text": [
      "h h h h h h h h h h h h h h "
     ]
    },
    {
     "data": {
      "text/plain": [
       "'hello,\\nam good'"
      ]
     },
     "execution_count": 44,
     "metadata": {},
     "output_type": "execute_result"
    }
   ],
   "source": [
    "x=\"\"\"hello,\n",
    "am good\"\"\"\n",
    "for i in x:\n",
    "    print(\"h\",end=\" \")\n",
    "x"
   ]
  },
  {
   "cell_type": "code",
   "execution_count": 2,
   "metadata": {},
   "outputs": [
    {
     "name": "stdout",
     "output_type": "stream",
     "text": [
      "hevdsfhsdagfhedVGHFshjdhe\n",
      "he\n",
      "he is present 3 times in the string\n"
     ]
    }
   ],
   "source": [
    "def count(str,word):\n",
    "    W_count,i=0,0\n",
    "    while i<len(str):\n",
    "        if str[i]==word[0]:\n",
    "            k=1\n",
    "            for j in range(i+1,i+len(word)):\n",
    "                i=j\n",
    "                if str[j]==word[k]:\n",
    "                    k=k+1\n",
    "                else:\n",
    "                    i=i-1\n",
    "                    break\n",
    "            else:\n",
    "                W_count=W_count+1\n",
    "        i=i+1\n",
    "    return W_count\n",
    "string=input()\n",
    "word=input()\n",
    "count=count(string,word)\n",
    "print(word,\"is present\",count,\"times in the string\")\n"
   ]
  },
  {
   "cell_type": "code",
   "execution_count": 9,
   "metadata": {},
   "outputs": [
    {
     "name": "stdout",
     "output_type": "stream",
     "text": [
      "2\n",
      "2\n",
      "2\n"
     ]
    }
   ],
   "source": [
    "k=2\n",
    "for i in range(k,5):\n",
    "    i=k\n",
    "    print(i)"
   ]
  },
  {
   "cell_type": "code",
   "execution_count": 14,
   "metadata": {},
   "outputs": [
    {
     "data": {
      "text/plain": [
       "False"
      ]
     },
     "execution_count": 14,
     "metadata": {},
     "output_type": "execute_result"
    }
   ],
   "source": [
    "\"parikh\">\"z\""
   ]
  },
  {
   "cell_type": "code",
   "execution_count": 16,
   "metadata": {},
   "outputs": [
    {
     "name": "stdout",
     "output_type": "stream",
     "text": [
      "ab\n",
      "False\n"
     ]
    }
   ],
   "source": [
    "# palindrome string\n",
    "def palindrome(str):\n",
    "    reverse_str=str[::-1]\n",
    "    if str==reverse_str:\n",
    "        print(True)\n",
    "    else:\n",
    "        print(False)\n",
    "string=input()\n",
    "palindrome(string)"
   ]
  },
  {
   "cell_type": "markdown",
   "metadata": {},
   "source": [
    "functions on string"
   ]
  },
  {
   "cell_type": "code",
   "execution_count": 29,
   "metadata": {
    "scrolled": true
   },
   "outputs": [
    {
     "name": "stdout",
     "output_type": "stream",
     "text": [
      "my name is neel\n",
      "6\n",
      "['my', 'name', 'is', 'neel']\n"
     ]
    },
    {
     "data": {
      "text/plain": [
       "'my name is neel'"
      ]
     },
     "execution_count": 29,
     "metadata": {},
     "output_type": "execute_result"
    }
   ],
   "source": [
    "# . split() functionallity is used to split a string based upon a particular delimeter, it takes two arguments inside it: first is delimeter and another is an integer value\n",
    "# here the integer value determines the max no. of times the string has to be splitted(string is generally splitted integer+1 times) if the value of the integer is greater then the no. of times delimeter is present in the string\n",
    "# then simply the whole string is splitted from the positions wherever the delimeter is present (no syntax error is shown)\n",
    "string=input()\n",
    "N=int(input())\n",
    "new_string=string.split(\" \",N)\n",
    "print(new_string)\n",
    "string"
   ]
  },
  {
   "cell_type": "code",
   "execution_count": 28,
   "metadata": {},
   "outputs": [
    {
     "ename": "AttributeError",
     "evalue": "'list' object has no attribute 'replace'",
     "output_type": "error",
     "traceback": [
      "\u001b[1;31m---------------------------------------------------------------------------\u001b[0m",
      "\u001b[1;31mAttributeError\u001b[0m                            Traceback (most recent call last)",
      "\u001b[1;32m<ipython-input-28-0f9ee5f04485>\u001b[0m in \u001b[0;36m<module>\u001b[1;34m\u001b[0m\n\u001b[0;32m      2\u001b[0m \u001b[0mstr\u001b[0m\u001b[1;33m.\u001b[0m\u001b[0mreplace\u001b[0m\u001b[1;33m(\u001b[0m\u001b[1;34m\"h\"\u001b[0m\u001b[1;33m,\u001b[0m\u001b[1;34m\"kell\"\u001b[0m\u001b[1;33m)\u001b[0m\u001b[1;33m\u001b[0m\u001b[1;33m\u001b[0m\u001b[0m\n\u001b[0;32m      3\u001b[0m \u001b[0mli\u001b[0m\u001b[1;33m=\u001b[0m\u001b[1;33m[\u001b[0m\u001b[1;34m\"hello\"\u001b[0m\u001b[1;33m,\u001b[0m\u001b[1;34m\"am\"\u001b[0m\u001b[1;33m,\u001b[0m\u001b[1;34m\"neel\"\u001b[0m\u001b[1;33m]\u001b[0m\u001b[1;33m\u001b[0m\u001b[1;33m\u001b[0m\u001b[0m\n\u001b[1;32m----> 4\u001b[1;33m \u001b[0mli\u001b[0m\u001b[1;33m.\u001b[0m\u001b[0mreplace\u001b[0m\u001b[1;33m(\u001b[0m\u001b[1;34m\"hello\"\u001b[0m\u001b[1;33m,\u001b[0m\u001b[1;34m\"neel\"\u001b[0m\u001b[1;33m)\u001b[0m\u001b[1;33m\u001b[0m\u001b[1;33m\u001b[0m\u001b[0m\n\u001b[0m",
      "\u001b[1;31mAttributeError\u001b[0m: 'list' object has no attribute 'replace'"
     ]
    }
   ],
   "source": [
    "str=\"hello, my name is neel prakash\"\n",
    "str.replace(\"h\",\"kell\")\n",
    "li=[\"hello\",\"am\",\"neel\"]\n",
    "li.replace(\"hello\",\"neel\")"
   ]
  },
  {
   "cell_type": "code",
   "execution_count": 3,
   "metadata": {},
   "outputs": [
    {
     "name": "stdout",
     "output_type": "stream",
     "text": [
      "['my', 'name is neel']\n"
     ]
    }
   ],
   "source": [
    "str=\"my name is neel\"\n",
    "print(str.split(\" \",1))"
   ]
  },
  {
   "cell_type": "code",
   "execution_count": 8,
   "metadata": {},
   "outputs": [
    {
     "data": {
      "text/plain": [
       "'N1f234'"
      ]
     },
     "execution_count": 8,
     "metadata": {},
     "output_type": "execute_result"
    }
   ],
   "source": [
    "x=\"x1f234\"\n",
    "x.capitalize()"
   ]
  },
  {
   "cell_type": "code",
   "execution_count": 12,
   "metadata": {},
   "outputs": [
    {
     "name": "stdout",
     "output_type": "stream",
     "text": [
      "My name is neel, i am 20 years old\n",
      "MY NAME IS NEEL, I AM 20 YEARS OLD\n",
      "my name is neel, i am 20 years old\n",
      "mY nAME iS nEEL, i AM 20 YEARS OLD\n",
      "My Name Is Neel, I am 20 years old\n",
      "My Name Is Neel, I Am 20 Years Old\n"
     ]
    }
   ],
   "source": [
    "string=\"My Name Is Neel, I am 20 years old\"\n",
    "print(string.capitalize()) # capatilizes only first character of the string, all other characters are converted into lower case\n",
    "print(string.upper())      # capitalizes each characters of the string\n",
    "print(string.lower())      # convert all of the characters of the string into lowercase\n",
    "print(string.swapcase())   # converts each of the lowercase character of an string to uppercase and uppercase to lower case\n",
    "print(string)"
   ]
  },
  {
   "cell_type": "code",
   "execution_count": 18,
   "metadata": {},
   "outputs": [
    {
     "name": "stdout",
     "output_type": "stream",
     "text": [
      "2+3Ji\n",
      "2+3ji\n"
     ]
    }
   ],
   "source": [
    "str=\"2+3jI\"\n",
    "print(str.swapcase())\n",
    "print(str.capitalize())"
   ]
  },
  {
   "cell_type": "code",
   "execution_count": 21,
   "metadata": {},
   "outputs": [
    {
     "name": "stdout",
     "output_type": "stream",
     "text": [
      "My Name Is Neel\n",
      "My<Name.Is.Neel\n",
      "Mynameisneel\n"
     ]
    }
   ],
   "source": [
    "string=\"My naMe IS neeL\"\n",
    "string1=\"My<naMe.IS.neeL\"\n",
    "string2=\"MynameISneeL\"\n",
    "print(string.title())\n",
    "print(string1.title())\n",
    "print(string2.title())"
   ]
  },
  {
   "cell_type": "code",
   "execution_count": 20,
   "metadata": {},
   "outputs": [
    {
     "data": {
      "text/plain": [
       "4"
      ]
     },
     "execution_count": 20,
     "metadata": {},
     "output_type": "execute_result"
    }
   ],
   "source": [
    "str=\"oofoooooo\"   # .count() function smply counts the no. of occurance of the substring within a string\n",
    "str.count(\"oo\")   # as here oo  occurs 4 times in the given string"
   ]
  },
  {
   "cell_type": "code",
   "execution_count": 26,
   "metadata": {},
   "outputs": [
    {
     "data": {
      "text/plain": [
       "'€'"
      ]
     },
     "execution_count": 26,
     "metadata": {},
     "output_type": "execute_result"
    }
   ],
   "source": [
    "string=\"hello\"\n",
    "string*-1\n",
    "chr(8364)"
   ]
  },
  {
   "cell_type": "code",
   "execution_count": 35,
   "metadata": {},
   "outputs": [
    {
     "name": "stdout",
     "output_type": "stream",
     "text": [
      "0\n",
      "-1\n"
     ]
    },
    {
     "ename": "TypeError",
     "evalue": "integer argument expected, got float",
     "output_type": "error",
     "traceback": [
      "\u001b[1;31m---------------------------------------------------------------------------\u001b[0m",
      "\u001b[1;31mTypeError\u001b[0m                                 Traceback (most recent call last)",
      "\u001b[1;32m<ipython-input-35-9615f54e24c8>\u001b[0m in \u001b[0;36m<module>\u001b[1;34m\u001b[0m\n\u001b[0;32m      2\u001b[0m \u001b[0mprint\u001b[0m\u001b[1;33m(\u001b[0m\u001b[0mstring\u001b[0m\u001b[1;33m.\u001b[0m\u001b[0mfind\u001b[0m\u001b[1;33m(\u001b[0m\u001b[1;34m\"my\"\u001b[0m\u001b[1;33m)\u001b[0m\u001b[1;33m)\u001b[0m\u001b[1;33m\u001b[0m\u001b[1;33m\u001b[0m\u001b[0m\n\u001b[0;32m      3\u001b[0m \u001b[0mprint\u001b[0m\u001b[1;33m(\u001b[0m\u001b[0mstring\u001b[0m\u001b[1;33m.\u001b[0m\u001b[0mfind\u001b[0m\u001b[1;33m(\u001b[0m\u001b[1;34m\"my\"\u001b[0m\u001b[1;33m,\u001b[0m\u001b[1;36m5\u001b[0m\u001b[1;33m,\u001b[0m\u001b[1;36m25\u001b[0m\u001b[1;33m)\u001b[0m\u001b[1;33m)\u001b[0m\u001b[1;33m\u001b[0m\u001b[1;33m\u001b[0m\u001b[0m\n\u001b[1;32m----> 4\u001b[1;33m \u001b[0mprint\u001b[0m\u001b[1;33m(\u001b[0m\u001b[0mstring\u001b[0m\u001b[1;33m.\u001b[0m\u001b[0msplit\u001b[0m\u001b[1;33m(\u001b[0m\u001b[1;34m\" \"\u001b[0m\u001b[1;33m,\u001b[0m\u001b[1;36m0.0\u001b[0m\u001b[1;33m)\u001b[0m\u001b[1;33m)\u001b[0m\u001b[1;33m\u001b[0m\u001b[1;33m\u001b[0m\u001b[0m\n\u001b[0m",
      "\u001b[1;31mTypeError\u001b[0m: integer argument expected, got float"
     ]
    }
   ],
   "source": [
    "string=\"my name is neel\"\n",
    "print(string.find(\"my\"))\n",
    "print(string.find(\"my\",5,25))\n",
    "print(string.split(\" \",0.0))"
   ]
  },
  {
   "cell_type": "markdown",
   "metadata": {},
   "source": [
    "string=\"my name is neel\"\n",
    "print(string.replace(\"my name is neel\",\"hello\"))\n",
    "string1=\"my name is neel neel neel\"\n",
    "print(string1.replace(\"neel\",\"prakash\",2))\n",
    "print(string1.replace(\"neel\",\"prakash\",-2))\n",
    "print(string1.replace(\"neel\",\"prakash\",15))"
   ]
  },
  {
   "cell_type": "code",
   "execution_count": 7,
   "metadata": {},
   "outputs": [
    {
     "ename": "TypeError",
     "evalue": "find() takes at most 3 arguments (4 given)",
     "output_type": "error",
     "traceback": [
      "\u001b[1;31m---------------------------------------------------------------------------\u001b[0m",
      "\u001b[1;31mTypeError\u001b[0m                                 Traceback (most recent call last)",
      "\u001b[1;32m<ipython-input-7-5b6d5fa70d4c>\u001b[0m in \u001b[0;36m<module>\u001b[1;34m\u001b[0m\n\u001b[0;32m      1\u001b[0m \u001b[0mstring\u001b[0m\u001b[1;33m=\u001b[0m\u001b[1;34m\"my name is neel neel neel neel neel neel neel neel leen\"\u001b[0m\u001b[1;33m\u001b[0m\u001b[1;33m\u001b[0m\u001b[0m\n\u001b[1;32m----> 2\u001b[1;33m \u001b[0mprint\u001b[0m\u001b[1;33m(\u001b[0m\u001b[0mstring\u001b[0m\u001b[1;33m.\u001b[0m\u001b[0mfind\u001b[0m\u001b[1;33m(\u001b[0m\u001b[1;34m\"neel\"\u001b[0m\u001b[1;33m,\u001b[0m\u001b[1;33m-\u001b[0m\u001b[1;36m1\u001b[0m\u001b[1;33m,\u001b[0m\u001b[1;36m17\u001b[0m\u001b[1;33m,\u001b[0m\u001b[1;33m-\u001b[0m\u001b[1;36m1\u001b[0m\u001b[1;33m)\u001b[0m\u001b[1;33m)\u001b[0m\u001b[1;33m\u001b[0m\u001b[1;33m\u001b[0m\u001b[0m\n\u001b[0m",
      "\u001b[1;31mTypeError\u001b[0m: find() takes at most 3 arguments (4 given)"
     ]
    }
   ],
   "source": [
    "string=\"my name is neel neel neel neel neel neel neel neel leen\"\n",
    "print(string.find(\"neel\",-1,17,-1))"
   ]
  },
  {
   "cell_type": "code",
   "execution_count": 6,
   "metadata": {},
   "outputs": [
    {
     "name": "stdout",
     "output_type": "stream",
     "text": [
      "False\n",
      "True\n"
     ]
    }
   ],
   "source": [
    "string=\"hello, am neel\"\n",
    "print(string.startswith(\"hello\",2,5))\n",
    "print(string.startswith(\"hello\",-15,-5))"
   ]
  },
  {
   "cell_type": "code",
   "execution_count": 9,
   "metadata": {},
   "outputs": [
    {
     "name": "stdout",
     "output_type": "stream",
     "text": [
      "Hello1Amgood\n",
      "1Hello2Neel\n"
     ]
    }
   ],
   "source": [
    "str=\"hello1amgood\"\n",
    "print(str.title())\n",
    "str1=\"1hello2neel\"\n",
    "print(str1.title())"
   ]
  },
  {
   "cell_type": "code",
   "execution_count": 14,
   "metadata": {},
   "outputs": [
    {
     "name": "stdout",
     "output_type": "stream",
     "text": [
      "5\n",
      "0\n",
      "0\n",
      "10\n"
     ]
    }
   ],
   "source": [
    "s=\"oofoooo\"\n",
    "s.count(\"oo\",0,5)\n",
    "print(s.rfind(\"oo\"))\n",
    "print(s.find(\"oo\"))\n",
    "x=\"neel neel neel\"\n",
    "print(x.find(\"neel\"))\n",
    "print(x.rfind(\"neel\"))"
   ]
  },
  {
   "cell_type": "code",
   "execution_count": 16,
   "metadata": {},
   "outputs": [
    {
     "data": {
      "text/plain": [
       "True"
      ]
     },
     "execution_count": 16,
     "metadata": {},
     "output_type": "execute_result"
    }
   ],
   "source": [
    "from keyword import iskeyword\n",
    "iskeyword(\"and\")"
   ]
  },
  {
   "cell_type": "markdown",
   "metadata": {},
   "source": [
    "some of the functoins which are applicable on strings"
   ]
  },
  {
   "cell_type": "code",
   "execution_count": 38,
   "metadata": {},
   "outputs": [
    {
     "name": "stdout",
     "output_type": "stream",
     "text": [
      "['my', 'name', 'is', 'neel'] ['my', 'name', 'is,neel'] ['my', 'name', 'is', 'neel'] ['my', 'name', 'is', 'neel']\n",
      "1 1 1 0\n",
      "my name is prakash prakash prakash my name is prakash prakash neel my name is prakash prakash prakash my name is prakash prakash prakash\n",
      "11 11 -1\n",
      "21 16 -1 21\n",
      "11 11 11\n",
      "21 16 21\n",
      "True True False\n",
      "True True False\n",
      "MY NAME IS NEEL12 my name is neel12\n",
      "My name is neel12 1@my name is neel\n",
      "mY NAmE iS NEEl12 1@MY NaME iS nEEl\n",
      "My Name Is Neel12 1@My Name Is Neel My.Name.Is.Prakash My,Name.Is:Neel mY,nAME.iS:nEEL\n",
      "False False False False\n",
      "False True False False\n",
      "True False\n",
      "True False\n",
      "True False True\n",
      "False\n"
     ]
    }
   ],
   "source": [
    "# .split(\"delimeter\",maxsplit)\n",
    "str=\"my name is neel\"\n",
    "str1=\"my,name,is,neel\"\n",
    "a=str.split()\n",
    "b=str1.split(\",\",2)\n",
    "c=str.split(\" \",-1)\n",
    "d=str1.split(\",\",5)\n",
    "print(a,b,c,d)\n",
    "\n",
    "# .count(\"substring\",start,end)\n",
    "a=str.count(\"my\")\n",
    "b=str.count(\"neel\",9,15)\n",
    "c=str.count(\"is\",4,-5)\n",
    "d=str.count(\"hello\")\n",
    "print(a,b,c,d)\n",
    "\n",
    "# .replace(\"old\",\"new\",count)\n",
    "str2=\"my name is neel neel neel\"\n",
    "a=str2.replace(\"neel\",\"prakash\")\n",
    "b=str2.replace(\"neel\",\"prakash\",2)\n",
    "c=str2.replace(\"neel\",\"prakash\",-1)\n",
    "d=str2.replace(\"neel\",\"prakash\",5)\n",
    "print(a,b,c,d)\n",
    "\n",
    "# .find(\"substring\",start,end)\n",
    "a=str2.find(\"neel\")\n",
    "b=str2.find(\"neel\",5,-4)\n",
    "c=str2.find(\"prakash\")\n",
    "print(a,b,c)\n",
    "\n",
    "# .rfind(\"substring\",start,end)\n",
    "a=str2.rfind(\"neel\")\n",
    "b=str2.rfind(\"neel\",4,-5)\n",
    "c=str2.rfind(\"neel\",0,12)\n",
    "d=str2.rfind(\"neel\",5)\n",
    "print(a,b,c,d)\n",
    "\n",
    "# .index(\"substring\",start,end)\n",
    "a=str2.index(\"neel\")\n",
    "b=str2.index(\"neel\",4,-5)\n",
    "# c=str2.index(\"neel\",0,12) # this line will through an error substring not found\n",
    "d=str2.index(\"neel\",5)\n",
    "print(a,b,d)\n",
    "\n",
    "# .rindex(\"substring\",start,end)\n",
    "a=str2.rindex(\"neel\")\n",
    "b=str2.rindex(\"neel\",4,-5)\n",
    "# c=str2.rindex(\"neel\",0,12) # this line will through an error substring not found\n",
    "d=str2.rindex(\"neel\",5)\n",
    "print(a,b,d)\n",
    "\n",
    "# .startswith(\"substring\",start,end)\n",
    "a=str2.startswith(\"my\")\n",
    "b=str2.startswith(\"neel\",11)\n",
    "c=str2.startswith(\"is\",4,-12)\n",
    "print(a,b,c)\n",
    "\n",
    "# .endswith(\"substring\",start,end)\n",
    "a=str2.endswith(\"neel\")\n",
    "b=str2.endswith(\"is\",0,10)\n",
    "c=str2.endswith(\"prakash\")\n",
    "# d=str2.endswith(\"neel\",,5) #  this line will through an error: invalid syntax\n",
    "print(a,b,c)\n",
    "\n",
    "# .upper() and .lower()\n",
    "str3=\"My naMe Is neeL12\"\n",
    "a=str3.upper()\n",
    "b=str3.lower()\n",
    "print(a,b)\n",
    "\n",
    "# .capitalize()\n",
    "str4=\"1@my nAme Is NeeL\"\n",
    "a=str3.capitalize()\n",
    "b=str4.capitalize()\n",
    "print(a,b)\n",
    "\n",
    "# .swapcase()\n",
    "a=str3.swapcase()\n",
    "b=str4.swapcase()\n",
    "print(a,b)\n",
    "\n",
    "# .title()\n",
    "str5=\"my.name.is.prakash\"\n",
    "str6=\"my,name.is:neel\"\n",
    "a=str3.title()\n",
    "b=str4.title()\n",
    "c=str5.title()\n",
    "d=str6.title()\n",
    "e=(str6.title()).swapcase()\n",
    "print(a,b,c,d,e)\n",
    "\n",
    "# .isalpha()\n",
    "str7=\"12neel\"\n",
    "str8=\"my.name,is.NeeL@\"\n",
    "a=str7.isalpha()\n",
    "b=str8.isalpha()\n",
    "c=\" \".isalpha()\n",
    "d=\"neel \".isalpha()\n",
    "print(a,b,c,d)\n",
    "\n",
    "# .isdigit()\n",
    "a=str7.isdigit()\n",
    "b=\"123\".isdigit()\n",
    "c=\" 1\".isdigit()\n",
    "d=\"\\n12\".isdigit()\n",
    "print(a,b,c,d)\n",
    "\n",
    "# .isalnum()\n",
    "a=\"neel12\".isalnum()\n",
    "b=\" neel12\\n\".isalnum()\n",
    "print(a,b)\n",
    "\n",
    "# .istitle()\n",
    "a=\"My.Name,Is Neel\".istitle()\n",
    "b=\"NeeL\".istitle()\n",
    "print(a,b)\n",
    "\n",
    "# .isidentifier()\n",
    "a=\"_neel12\".isidentifier()\n",
    "b=\"1neel\".isidentifier()\n",
    "c=\"and\".isidentifier()\n",
    "# and=5 # invalid syntax, keywords cant be used as variable or function names in python i.e they cant be used as identifier\n",
    "print(a,b,c)\n",
    "\n",
    "# Note: as it can be clearly seen that and is not a valid identifier but still .isidentifier function gives us\n",
    "# true result which is incorrect. the reason behind this is .isidentifier function only checks whether the string passed to if folloes\n",
    "# the variable naming rules or not and if it follows then it is an valid identifier but in order to truly check whether a string is valid identifier\n",
    "# or not we have to check for the two things that is .isidentifier is true and .iskeyword is false. if both of these conditions are satisfied onlt\n",
    "# then we can say that the given string is an valid identifier. we can perform the following task as:-\n",
    "from keyword import iskeyword\n",
    "c=\"and\".isidentifier() and not(iskeyword(\"and\"))\n",
    "print(c)"
   ]
  },
  {
   "cell_type": "code",
   "execution_count": 33,
   "metadata": {},
   "outputs": [
    {
     "ename": "SyntaxError",
     "evalue": "invalid syntax (<ipython-input-33-cb84725b35eb>, line 1)",
     "output_type": "error",
     "traceback": [
      "\u001b[1;36m  File \u001b[1;32m\"<ipython-input-33-cb84725b35eb>\"\u001b[1;36m, line \u001b[1;32m1\u001b[0m\n\u001b[1;33m    and=5\u001b[0m\n\u001b[1;37m      ^\u001b[0m\n\u001b[1;31mSyntaxError\u001b[0m\u001b[1;31m:\u001b[0m invalid syntax\n"
     ]
    }
   ],
   "source": [
    "and=5"
   ]
  },
  {
   "cell_type": "code",
   "execution_count": 3,
   "metadata": {},
   "outputs": [
    {
     "name": "stdout",
     "output_type": "stream",
     "text": [
      "cabcadeca\n",
      "a x\n",
      "cxbcxdecx\n"
     ]
    }
   ],
   "source": [
    "def replace_char(str,char1,char2):\n",
    "    new_str=\"\"\n",
    "    for char in str:\n",
    "        if char!=char1:\n",
    "            new_str=new_str+char\n",
    "        else:\n",
    "            new_str=new_str+char2\n",
    "    return new_str\n",
    "string=input()\n",
    "char1,char2=input().split()\n",
    "new_str=replace_char(string,char1,char2)\n",
    "print(new_str)"
   ]
  },
  {
   "cell_type": "code",
   "execution_count": 5,
   "metadata": {},
   "outputs": [
    {
     "name": "stdout",
     "output_type": "stream",
     "text": [
      "cxbcxdecx\n",
      "x a\n",
      "cabcadeca\n"
     ]
    }
   ],
   "source": [
    "string=input()\n",
    "char1,char2=input().split()\n",
    "new_str=string.replace(char1,char2)\n",
    "print(new_str)"
   ]
  },
  {
   "cell_type": "code",
   "execution_count": 11,
   "metadata": {},
   "outputs": [
    {
     "name": "stdout",
     "output_type": "stream",
     "text": [
      "neEl2345  @#$% praKash  huree! \n",
      "4 7 9 5 6\n"
     ]
    }
   ],
   "source": [
    "string=input()\n",
    "string=string.lower()\n",
    "digi_count,vol_count,const_count,spec_count,space_count=0,0,0,0,0\n",
    "for char in string:\n",
    "    if char.isdigit():\n",
    "        digi_count=digi_count+1\n",
    "    elif char.isalpha():\n",
    "        if char==\"a\" or char==\"e\" or char==\"i\" or char==\"o\" or char==\"u\":\n",
    "            vol_count=vol_count+1\n",
    "        else:\n",
    "            const_count=const_count+1\n",
    "    elif char==\" \":\n",
    "        space_count=space_count+1\n",
    "    else:\n",
    "        spec_count=spec_count+1\n",
    "print(digi_count,vol_count,const_count,spec_count,space_count)\n",
    "# neEl2345  @#$% praKash  huree!        "
   ]
  },
  {
   "cell_type": "code",
   "execution_count": 24,
   "metadata": {},
   "outputs": [
    {
     "data": {
      "text/plain": [
       "False"
      ]
     },
     "execution_count": 24,
     "metadata": {},
     "output_type": "execute_result"
    }
   ],
   "source": [
    "str=\"\"\n",
    "\"a\" in str"
   ]
  },
  {
   "cell_type": "code",
   "execution_count": 23,
   "metadata": {},
   "outputs": [
    {
     "name": "stdout",
     "output_type": "stream",
     "text": [
      "abaa\n",
      "abba\n",
      "False\n"
     ]
    }
   ],
   "source": [
    "# check permutation\n",
    "def permutation(str1,str2):\n",
    "    if len(str1)==len(str2):\n",
    "        for char in str1:\n",
    "            if char in str2 and str1.count(char)==str2.count(char):\n",
    "                continue\n",
    "            else:\n",
    "                return False\n",
    "        return True\n",
    "    else:\n",
    "        return False\n",
    "string1=input()\n",
    "string2=input()\n",
    "result=permutation(string1,string2)\n",
    "print(result)"
   ]
  },
  {
   "cell_type": "code",
   "execution_count": 25,
   "metadata": {},
   "outputs": [
    {
     "name": "stdout",
     "output_type": "stream",
     "text": [
      "aabccbaa\n",
      "abc\n"
     ]
    }
   ],
   "source": [
    "def unique_str(str):\n",
    "    unique=\"\"\n",
    "    for char in str:\n",
    "        if char not in unique:\n",
    "            unique=unique+char\n",
    "    return unique\n",
    "string=input()\n",
    "unique_string=unique_str(string)\n",
    "print(unique_string)\n"
   ]
  },
  {
   "cell_type": "code",
   "execution_count": 29,
   "metadata": {},
   "outputs": [
    {
     "name": "stdout",
     "output_type": "stream",
     "text": [
      "aabccbaa\n",
      "abcba\n"
     ]
    }
   ],
   "source": [
    "def c_duplicate_remove(str):\n",
    "    c_unique=str[0]\n",
    "    u_index=0\n",
    "    for char in str[1:]:\n",
    "        if c_unique[u_index]!=char:\n",
    "            c_unique=c_unique+char\n",
    "            u_index=u_index+1\n",
    "    return c_unique\n",
    "string=input()\n",
    "c_unique_str=c_duplicate_remove(string)\n",
    "print(c_unique_str)"
   ]
  },
  {
   "cell_type": "code",
   "execution_count": 26,
   "metadata": {},
   "outputs": [
    {
     "data": {
      "text/plain": [
       "'2345'"
      ]
     },
     "execution_count": 26,
     "metadata": {},
     "output_type": "execute_result"
    }
   ],
   "source": [
    "str=\"!2345\"\n",
    "str[1:]"
   ]
  },
  {
   "cell_type": "code",
   "execution_count": 20,
   "metadata": {},
   "outputs": [
    {
     "name": "stdout",
     "output_type": "stream",
     "text": [
      "axhellocneelzhellhellokashpyhellsaFhellohello\n",
      "hello huree!\n",
      "3\n",
      "axhuree!cneelzhellhuree!kashpyhellsaFhuree!hello\n"
     ]
    }
   ],
   "source": [
    "# code for .replace function\n",
    "def replace(str,old,new,count=9999):\n",
    "    i,r_count,new_str=0,0,\"\"\n",
    "    while i<len(str):\n",
    "        if string[i]==old[0]:\n",
    "            status,k=True,1\n",
    "            if len(str)-(i+len(old))>=0:\n",
    "                for j in range(i+1,i+len(old)):\n",
    "                    if str[j]==old[k]:\n",
    "                        k=k+1\n",
    "                    else:\n",
    "                        status=False\n",
    "                        break\n",
    "            else:\n",
    "                while i<len(str):\n",
    "                    new_str+=str[i]\n",
    "                    i=i+1\n",
    "                    status=False\n",
    "            if status and r_count<count:\n",
    "                r_count+=1\n",
    "                for l in range(len(new)):\n",
    "                    new_str+=new[l]\n",
    "                i=j\n",
    "            else:\n",
    "                while i<j:\n",
    "                    new_str+=str[i]\n",
    "                    i=i+1\n",
    "                i=i-1\n",
    "        else:\n",
    "            new_str+=str[i]\n",
    "        i=i+1\n",
    "    return new_str\n",
    "string=input()\n",
    "old,new=input().split()\n",
    "count=int(input())\n",
    "new_str=replace(string,old,new,count)\n",
    "print(new_str)\n",
    "# axhellocneelzhellhellokashpy  \n",
    "# axhellocneelzhellhellokashpyhell\n",
    "# axhellocneelzhellhellokashpyhello"
   ]
  },
  {
   "cell_type": "code",
   "execution_count": 14,
   "metadata": {},
   "outputs": [
    {
     "ename": "SyntaxError",
     "evalue": "invalid syntax (<ipython-input-14-72ff95dfa7d2>, line 5)",
     "output_type": "error",
     "traceback": [
      "\u001b[1;36m  File \u001b[1;32m\"<ipython-input-14-72ff95dfa7d2>\"\u001b[1;36m, line \u001b[1;32m5\u001b[0m\n\u001b[1;33m    else:\u001b[0m\n\u001b[1;37m       ^\u001b[0m\n\u001b[1;31mSyntaxError\u001b[0m\u001b[1;31m:\u001b[0m invalid syntax\n"
     ]
    }
   ],
   "source": [
    "x=0\n",
    "if 1:\n",
    "    print(x)\n",
    "x=x+1\n",
    "else:\n",
    "    print(\"check\")"
   ]
  },
  {
   "cell_type": "code",
   "execution_count": 2,
   "metadata": {},
   "outputs": [
    {
     "name": "stdout",
     "output_type": "stream",
     "text": [
      "ram\n",
      "mar\n",
      "mar\n",
      "mayhs\n"
     ]
    }
   ],
   "source": [
    "list=[\"ram\",\"shyam\"]\n",
    "s=list[0]\n",
    "print(s)\n",
    "s=s[::-1]\n",
    "print(s)\n",
    "for ele in list:\n",
    "    print(ele[::-1])"
   ]
  },
  {
   "cell_type": "code",
   "execution_count": null,
   "metadata": {},
   "outputs": [],
   "source": [
    "# reverese each word in a string\n",
    "def reverse_word(str):\n",
    "    reversed_str=\"\"\n",
    "    temp_li=str.split()\n",
    "    for ele in temp_li:\n",
    "        reversed_str+=ele[::-1]\n",
    "        reversed_str+=\" \"\n",
    "    return reversed_str\n",
    "string=input()\n",
    "reversed_str=reverse_word(string)\n",
    "print(reversed_str)\n",
    "        "
   ]
  },
  {
   "cell_type": "code",
   "execution_count": 3,
   "metadata": {},
   "outputs": [
    {
     "name": "stdout",
     "output_type": "stream",
     "text": [
      "leen hsakarp \n"
     ]
    }
   ],
   "source": [
    "temp=[\"neel\",\"prakash\"]\n",
    "x=\"\"\n",
    "for i in range(len(temp)):\n",
    "    x+=(temp[i])[::-1]\n",
    "    x+=\" \"\n",
    "print(x)"
   ]
  },
  {
   "cell_type": "markdown",
   "metadata": {},
   "source": [
    "reversing each word in a string where words are seprated by any of the non alphanumeric characters"
   ]
  },
  {
   "cell_type": "code",
   "execution_count": 14,
   "metadata": {},
   "outputs": [
    {
     "name": "stdout",
     "output_type": "stream",
     "text": [
      "@@i#am/neel prakash==\n",
      "i#ma/leen hsakarp \n"
     ]
    }
   ],
   "source": [
    "def new_str(str):\n",
    "    new_str,sep,f_char_s=\"\",\"\",False\n",
    "    for ele in str:\n",
    "        if ele.isalnum() or f_char_s:\n",
    "            f_char_s=True\n",
    "            if ele.isalnum():\n",
    "                new_str+=ele\n",
    "            else:\n",
    "                new_str+=\" \"\n",
    "                sep+=ele\n",
    "    return new_str,sep\n",
    "def modified_sep(new_str,sep):\n",
    "    temp_li=new_str.split()\n",
    "    m_sep=\"\"\n",
    "    if len(sep)!=0:\n",
    "        for i in range(len(temp_li)-1):\n",
    "            m_sep+=sep[i]\n",
    "    else:\n",
    "        for j in range(len(temp_li)-1):\n",
    "            m_sep+=\" \"\n",
    "    m_sep+=\" \"\n",
    "    return temp_li,m_sep\n",
    "def reverse_E_word(temp_li,m_sep):\n",
    "    r_str=\"\"\n",
    "    for i in range(len(temp_li)):\n",
    "        r_str+=(temp_li[i])[::-1]\n",
    "        r_str+=m_sep[i]\n",
    "    return r_str\n",
    "string=input()\n",
    "new_str,sep=new_str(string)\n",
    "temp_li,m_sep=modified_sep(new_str,sep)\n",
    "r_str=reverse_E_word(temp_li,m_sep)\n",
    "print(r_str)\n",
    " \n",
    "# test inputs @@i#am/neel prakash==\n",
    "#             neel"
   ]
  },
  {
   "cell_type": "code",
   "execution_count": 10,
   "metadata": {},
   "outputs": [
    {
     "name": "stdout",
     "output_type": "stream",
     "text": [
      "neel\n",
      "neel \n"
     ]
    }
   ],
   "source": [
    "def new_str(str):\n",
    "    new_str,sep,f_char_s=\"\",\"\",False\n",
    "    for ele in str:\n",
    "        if ele.isalnum() or f_char_s:\n",
    "            f_char_s=True\n",
    "            if ele.isalnum():\n",
    "                new_str+=ele\n",
    "            else:\n",
    "                new_str+=\" \"\n",
    "                sep+=ele\n",
    "    return new_str,sep\n",
    "\n",
    "string=input()\n",
    "new_str,sep=new_str(string)\n",
    "print(new_str,sep)"
   ]
  },
  {
   "cell_type": "code",
   "execution_count": 11,
   "metadata": {},
   "outputs": [
    {
     "name": "stdout",
     "output_type": "stream",
     "text": [
      "['neel']  \n"
     ]
    }
   ],
   "source": [
    "def modified_sep(new_str,sep):\n",
    "    temp_li=new_str.split()\n",
    "    m_sep=\"\"\n",
    "    if len(sep)!=0:\n",
    "        for i in range(len(temp_li)-1):\n",
    "            m_sep+=sep[i]\n",
    "    else:\n",
    "        for j in range(len(temp_li)-1):\n",
    "            m_sep+=\" \"\n",
    "    m_sep+=\" \"\n",
    "    return temp_li,m_sep\n",
    "\n",
    "temp_li,m_sep=modified_sep(new_str,sep)\n",
    "print(temp_li,m_sep)"
   ]
  },
  {
   "cell_type": "code",
   "execution_count": 12,
   "metadata": {},
   "outputs": [
    {
     "name": "stdout",
     "output_type": "stream",
     "text": [
      "leen \n"
     ]
    }
   ],
   "source": [
    "def reverse_E_word(temp_li,m_sep):\n",
    "    r_str=\"\"\n",
    "    for i in range(len(temp_li)):\n",
    "        r_str+=(temp_li[i])[::-1]\n",
    "        r_str+=m_sep[i]\n",
    "    return r_str\n",
    "r_str=reverse_E_word(temp_li,m_sep)\n",
    "print(r_str)"
   ]
  },
  {
   "cell_type": "markdown",
   "metadata": {},
   "source": [
    "highest occuring character"
   ]
  },
  {
   "cell_type": "code",
   "execution_count": 43,
   "metadata": {},
   "outputs": [
    {
     "name": "stdout",
     "output_type": "stream",
     "text": [
      "abdefgbabfba\n",
      "b\n"
     ]
    }
   ],
   "source": [
    "def c_occurance_count(str):\n",
    "    c_str,c_list=\"\",[]\n",
    "    for i in range(len(str)):\n",
    "        if str[i] not in c_str:\n",
    "            c_str+=str[i]\n",
    "            count=1\n",
    "            for j in range(i+1,len(str)):\n",
    "                if str[i]==str[j]:\n",
    "                    count=count+1\n",
    "            c_list.append(count)\n",
    "    return c_str,c_list\n",
    "def largest(c_count):\n",
    "    largest=c_count[0]\n",
    "    for i in range(1,len(c_count)):\n",
    "        if largest<c_count[i]:\n",
    "            largest=c_count[i]\n",
    "    return largest\n",
    "def largest_indexes(largest,c_count):\n",
    "    indexes=[]\n",
    "    for i in range(len(c_count)):\n",
    "        if largest==c_count[i]:\n",
    "            indexes.append(i)\n",
    "    return indexes\n",
    "string=input()\n",
    "c_str,c_count=c_occurance_count(string)\n",
    "largest=largest(c_count)\n",
    "indexes=largest_indexes(largest,c_count)\n",
    "print(c_str[indexes[0]])\n"
   ]
  },
  {
   "cell_type": "code",
   "execution_count": 40,
   "metadata": {},
   "outputs": [
    {
     "name": "stdout",
     "output_type": "stream",
     "text": [
      "abdefgbabfba\n",
      "abdefg [3, 4, 1, 1, 2, 1]\n"
     ]
    }
   ],
   "source": [
    "def c_occurance_count(str):\n",
    "    c_str,c_list=\"\",[]\n",
    "    for i in range(len(str)):\n",
    "        if str[i] not in c_str:\n",
    "            c_str+=str[i]\n",
    "            count=1\n",
    "            for j in range(i+1,len(str)):\n",
    "                if str[i]==str[j]:\n",
    "                    count=count+1\n",
    "            c_list.append(count)\n",
    "    return c_str,c_list\n",
    "string=input()\n",
    "c_str,c_count=c_occurance_count(string)\n",
    "print(c_str,c_count)"
   ]
  },
  {
   "cell_type": "code",
   "execution_count": 27,
   "metadata": {},
   "outputs": [
    {
     "name": "stdout",
     "output_type": "stream",
     "text": [
      "4\n"
     ]
    }
   ],
   "source": [
    "def largest(c_count):\n",
    "    largest=c_count[0]\n",
    "    for i in range(1,len(c_count)):\n",
    "        if largest<c_count[i]:\n",
    "            largest=c_count[i]\n",
    "    return largest\n",
    "\n",
    "largest=largest(c_count)\n",
    "print(largest)"
   ]
  },
  {
   "cell_type": "code",
   "execution_count": 37,
   "metadata": {},
   "outputs": [
    {
     "name": "stdout",
     "output_type": "stream",
     "text": [
      "[1]\n",
      "b\n"
     ]
    }
   ],
   "source": [
    "def largest_indexes(largest,c_count):\n",
    "    indexes=[]\n",
    "    for i in range(len(c_count)):\n",
    "        if largest==c_count[i]:\n",
    "            indexes.append(i)\n",
    "    return indexes\n",
    "\n",
    "indexes=largest_indexes(largest,c_count)\n",
    "print(indexes)\n",
    "print(c_str[indexes[0]])"
   ]
  },
  {
   "cell_type": "code",
   "execution_count": 64,
   "metadata": {},
   "outputs": [
    {
     "name": "stdout",
     "output_type": "stream",
     "text": [
      "aaabbccdsa\n"
     ]
    },
    {
     "ename": "TypeError",
     "evalue": "'str' object is not callable",
     "output_type": "error",
     "traceback": [
      "\u001b[1;31m---------------------------------------------------------------------------\u001b[0m",
      "\u001b[1;31mTypeError\u001b[0m                                 Traceback (most recent call last)",
      "\u001b[1;32m<ipython-input-64-3f2ab3ce8131>\u001b[0m in \u001b[0;36m<module>\u001b[1;34m\u001b[0m\n\u001b[0;32m     16\u001b[0m \u001b[1;33m\u001b[0m\u001b[0m\n\u001b[0;32m     17\u001b[0m \u001b[0mstring\u001b[0m\u001b[1;33m=\u001b[0m\u001b[0minput\u001b[0m\u001b[1;33m(\u001b[0m\u001b[1;33m)\u001b[0m\u001b[1;33m\u001b[0m\u001b[1;33m\u001b[0m\u001b[0m\n\u001b[1;32m---> 18\u001b[1;33m \u001b[0mc_string\u001b[0m\u001b[1;33m=\u001b[0m\u001b[0mcompress\u001b[0m\u001b[1;33m(\u001b[0m\u001b[0mstring\u001b[0m\u001b[1;33m)\u001b[0m\u001b[1;33m\u001b[0m\u001b[1;33m\u001b[0m\u001b[0m\n\u001b[0m\u001b[0;32m     19\u001b[0m \u001b[0mprint\u001b[0m\u001b[1;33m(\u001b[0m\u001b[0mc_string\u001b[0m\u001b[1;33m)\u001b[0m\u001b[1;33m\u001b[0m\u001b[1;33m\u001b[0m\u001b[0m\n",
      "\u001b[1;32m<ipython-input-64-3f2ab3ce8131>\u001b[0m in \u001b[0;36mcompress\u001b[1;34m(str1)\u001b[0m\n\u001b[0;32m     11\u001b[0m         \u001b[0mc_str\u001b[0m\u001b[1;33m+=\u001b[0m\u001b[0mstr1\u001b[0m\u001b[1;33m[\u001b[0m\u001b[0mi\u001b[0m\u001b[1;33m]\u001b[0m\u001b[1;33m\u001b[0m\u001b[1;33m\u001b[0m\u001b[0m\n\u001b[0;32m     12\u001b[0m         \u001b[1;32mif\u001b[0m \u001b[0mcount\u001b[0m\u001b[1;33m!=\u001b[0m\u001b[1;36m1\u001b[0m\u001b[1;33m:\u001b[0m\u001b[1;33m\u001b[0m\u001b[1;33m\u001b[0m\u001b[0m\n\u001b[1;32m---> 13\u001b[1;33m             \u001b[0mc_str\u001b[0m\u001b[1;33m+=\u001b[0m\u001b[0mstr\u001b[0m\u001b[1;33m(\u001b[0m\u001b[0mcount\u001b[0m\u001b[1;33m)\u001b[0m\u001b[1;33m\u001b[0m\u001b[1;33m\u001b[0m\u001b[0m\n\u001b[0m\u001b[0;32m     14\u001b[0m         \u001b[0mi\u001b[0m\u001b[1;33m=\u001b[0m\u001b[0mi\u001b[0m\u001b[1;33m+\u001b[0m\u001b[1;36m1\u001b[0m\u001b[1;33m\u001b[0m\u001b[1;33m\u001b[0m\u001b[0m\n\u001b[0;32m     15\u001b[0m     \u001b[1;32mreturn\u001b[0m \u001b[0mc_str\u001b[0m\u001b[1;33m\u001b[0m\u001b[1;33m\u001b[0m\u001b[0m\n",
      "\u001b[1;31mTypeError\u001b[0m: 'str' object is not callable"
     ]
    }
   ],
   "source": [
    "# here we are getting this error becasue we already used str as a variable name many time in this notebook hence python interpreter is confusd what to do i.e interpreer\n",
    "# is not able to undrstand that str is a variable name or an inbuild function, same piece of code works well in untiled notebook.\n",
    "def compress(str1):\n",
    "    c_str,i=\"\",0\n",
    "    while i<len(str1):\n",
    "        count=1\n",
    "        for j in range(i+1,len(str1)):\n",
    "            if str1[i]==str1[j]:\n",
    "                count=count+1\n",
    "                i=j\n",
    "            else:\n",
    "                break\n",
    "        c_str+=str1[i]\n",
    "        if count!=1:\n",
    "            c_str+=str(count)\n",
    "        i=i+1\n",
    "    return c_str\n",
    "\n",
    "string=input()\n",
    "c_string=compress(string)\n",
    "print(c_string)"
   ]
  },
  {
   "cell_type": "code",
   "execution_count": 47,
   "metadata": {},
   "outputs": [
    {
     "name": "stdout",
     "output_type": "stream",
     "text": [
      "1\n"
     ]
    }
   ],
   "source": [
    "x=1\n",
    "for j in range(1,1):\n",
    "    x=2\n",
    "print(x)"
   ]
  },
  {
   "cell_type": "code",
   "execution_count": 60,
   "metadata": {},
   "outputs": [
    {
     "ename": "TypeError",
     "evalue": "'str' object is not callable",
     "output_type": "error",
     "traceback": [
      "\u001b[1;31m---------------------------------------------------------------------------\u001b[0m",
      "\u001b[1;31mTypeError\u001b[0m                                 Traceback (most recent call last)",
      "\u001b[1;32m<ipython-input-60-b1073900d802>\u001b[0m in \u001b[0;36m<module>\u001b[1;34m\u001b[0m\n\u001b[0;32m      1\u001b[0m \u001b[0mstr1\u001b[0m\u001b[1;33m=\u001b[0m\u001b[1;34m\"1223\"\u001b[0m\u001b[1;33m\u001b[0m\u001b[1;33m\u001b[0m\u001b[0m\n\u001b[0;32m      2\u001b[0m \u001b[0mx\u001b[0m\u001b[1;33m=\u001b[0m\u001b[1;36m2\u001b[0m\u001b[1;33m\u001b[0m\u001b[1;33m\u001b[0m\u001b[0m\n\u001b[1;32m----> 3\u001b[1;33m \u001b[0my\u001b[0m\u001b[1;33m=\u001b[0m\u001b[0mstr\u001b[0m\u001b[1;33m(\u001b[0m\u001b[0mx\u001b[0m\u001b[1;33m)\u001b[0m\u001b[1;33m\u001b[0m\u001b[1;33m\u001b[0m\u001b[0m\n\u001b[0m\u001b[0;32m      4\u001b[0m \u001b[0mstr1\u001b[0m\u001b[1;33m+\u001b[0m\u001b[0mx\u001b[0m\u001b[1;33m\u001b[0m\u001b[1;33m\u001b[0m\u001b[0m\n",
      "\u001b[1;31mTypeError\u001b[0m: 'str' object is not callable"
     ]
    }
   ],
   "source": [
    "str1=\"1223\"\n",
    "x=2\n",
    "y=str(x)\n",
    "str1+x"
   ]
  }
 ],
 "metadata": {
  "kernelspec": {
   "display_name": "Python 3",
   "language": "python",
   "name": "python3"
  },
  "language_info": {
   "codemirror_mode": {
    "name": "ipython",
    "version": 3
   },
   "file_extension": ".py",
   "mimetype": "text/x-python",
   "name": "python",
   "nbconvert_exporter": "python",
   "pygments_lexer": "ipython3",
   "version": "3.7.4"
  }
 },
 "nbformat": 4,
 "nbformat_minor": 2
}
