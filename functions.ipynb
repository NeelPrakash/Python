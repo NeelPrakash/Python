{
 "cells": [
  {
   "cell_type": "raw",
   "metadata": {},
   "source": [
    " n\n",
    "  c   =n!/r!*(n-r)!\n",
    "   r\n"
   ]
  },
  {
   "cell_type": "code",
   "execution_count": 3,
   "metadata": {},
   "outputs": [
    {
     "name": "stdout",
     "output_type": "stream",
     "text": [
      "enter N5\n",
      "enter R3\n",
      "n choose r is:  10.0 "
     ]
    }
   ],
   "source": [
    "N=int(input(\"enter N \"))\n",
    "R=int(input(\"enter R \"))\n",
    "factN,factR,factC=1,1,1\n",
    "for i in range(N,0,-1):\n",
    "    factN=factN*i\n",
    "for i in range(R,0,-1):\n",
    "    factR=factR*i\n",
    "for i in range(N-R,0,-1):\n",
    "    factC=factC*i\n",
    "x=factN/(factR*factC)\n",
    "print(\"n choose r is: \",x,end=\" \")"
   ]
  },
  {
   "cell_type": "code",
   "execution_count": 16,
   "metadata": {},
   "outputs": [],
   "source": [
    "# functions:\n",
    "def fact(a):\n",
    "    fact_N=1\n",
    "    for i in range(a,0,-1):\n",
    "        fact_N=fact_N*i\n",
    "    return fact_N\n",
    "# print(a) # note here ths command will show us an error saying that name a is not defined the reason behind this is the variable \n",
    "          # name a which is used to store the argument in our function s a local variable and it is no accessible outside of the function\n",
    "          # any variable which is defned inside the function is a local variable(untill unless specified) and it cannot be accessed outside of the function\n",
    "            "
   ]
  },
  {
   "cell_type": "code",
   "execution_count": 13,
   "metadata": {},
   "outputs": [
    {
     "name": "stdout",
     "output_type": "stream",
     "text": [
      "enter N 5\n",
      "enter R3\n",
      "fact_N 120\n",
      "ways of choosing R values from N is:  10.0\n"
     ]
    }
   ],
   "source": [
    "N=int(input(\"enter N \"))\n",
    "R=int(input(\"enter R \"))\n",
    "fact_N=fact(N)\n",
    "print(\"fact_N\",fact_N)\n",
    "fact_R=fact(R)\n",
    "fact_N_R=fact(N-R)\n",
    "ans=fact_N/(fact_R*fact_N_R)\n",
    "print(\"ways of choosing R values from N is: \",ans)"
   ]
  },
  {
   "cell_type": "code",
   "execution_count": 18,
   "metadata": {},
   "outputs": [],
   "source": [
    "# testing functions:\n",
    "# def fact(a):\n",
    "#     fact_N=1\n",
    "#     for i in range(a,0,-1):\n",
    "#         fact_N=fact_N*i\n",
    "#     return fact(5) # explain error ?\n",
    "\n",
    "# def hello():\n",
    "#     return \n",
    "\n",
    "# def fact(a):\n",
    "#     fact_N=1\n",
    "#     for i in range(a,0,-1):\n",
    "#         fact_N=fact_N*i\n",
    "#     return \"hello1\",fact_N\n",
    "\n",
    "# x=5\n",
    "# def function():\n",
    "#     return x"
   ]
  },
  {
   "cell_type": "code",
   "execution_count": 17,
   "metadata": {},
   "outputs": [
    {
     "ename": "RecursionError",
     "evalue": "maximum recursion depth exceeded in comparison",
     "output_type": "error",
     "traceback": [
      "\u001b[1;31m---------------------------------------------------------------------------\u001b[0m",
      "\u001b[1;31mRecursionError\u001b[0m                            Traceback (most recent call last)",
      "\u001b[1;32m<ipython-input-17-0cc1af4300ee>\u001b[0m in \u001b[0;36m<module>\u001b[1;34m\u001b[0m\n\u001b[1;32m----> 1\u001b[1;33m \u001b[0mfact\u001b[0m\u001b[1;33m(\u001b[0m\u001b[1;36m4\u001b[0m\u001b[1;33m)\u001b[0m\u001b[1;33m\u001b[0m\u001b[1;33m\u001b[0m\u001b[0m\n\u001b[0m",
      "\u001b[1;32m<ipython-input-16-301e2a7643cd>\u001b[0m in \u001b[0;36mfact\u001b[1;34m(a)\u001b[0m\n\u001b[0;32m      4\u001b[0m     \u001b[1;32mfor\u001b[0m \u001b[0mi\u001b[0m \u001b[1;32min\u001b[0m \u001b[0mrange\u001b[0m\u001b[1;33m(\u001b[0m\u001b[0ma\u001b[0m\u001b[1;33m,\u001b[0m\u001b[1;36m0\u001b[0m\u001b[1;33m,\u001b[0m\u001b[1;33m-\u001b[0m\u001b[1;36m1\u001b[0m\u001b[1;33m)\u001b[0m\u001b[1;33m:\u001b[0m\u001b[1;33m\u001b[0m\u001b[1;33m\u001b[0m\u001b[0m\n\u001b[0;32m      5\u001b[0m         \u001b[0mfact_N\u001b[0m\u001b[1;33m=\u001b[0m\u001b[0mfact_N\u001b[0m\u001b[1;33m*\u001b[0m\u001b[0mi\u001b[0m\u001b[1;33m\u001b[0m\u001b[1;33m\u001b[0m\u001b[0m\n\u001b[1;32m----> 6\u001b[1;33m     \u001b[1;32mreturn\u001b[0m \u001b[0mfact\u001b[0m\u001b[1;33m(\u001b[0m\u001b[1;36m5\u001b[0m\u001b[1;33m)\u001b[0m\u001b[1;33m\u001b[0m\u001b[1;33m\u001b[0m\u001b[0m\n\u001b[0m\u001b[0;32m      7\u001b[0m \u001b[1;33m\u001b[0m\u001b[0m\n\u001b[0;32m      8\u001b[0m \u001b[1;31m# def hello():\u001b[0m\u001b[1;33m\u001b[0m\u001b[1;33m\u001b[0m\u001b[1;33m\u001b[0m\u001b[0m\n",
      "... last 1 frames repeated, from the frame below ...\n",
      "\u001b[1;32m<ipython-input-16-301e2a7643cd>\u001b[0m in \u001b[0;36mfact\u001b[1;34m(a)\u001b[0m\n\u001b[0;32m      4\u001b[0m     \u001b[1;32mfor\u001b[0m \u001b[0mi\u001b[0m \u001b[1;32min\u001b[0m \u001b[0mrange\u001b[0m\u001b[1;33m(\u001b[0m\u001b[0ma\u001b[0m\u001b[1;33m,\u001b[0m\u001b[1;36m0\u001b[0m\u001b[1;33m,\u001b[0m\u001b[1;33m-\u001b[0m\u001b[1;36m1\u001b[0m\u001b[1;33m)\u001b[0m\u001b[1;33m:\u001b[0m\u001b[1;33m\u001b[0m\u001b[1;33m\u001b[0m\u001b[0m\n\u001b[0;32m      5\u001b[0m         \u001b[0mfact_N\u001b[0m\u001b[1;33m=\u001b[0m\u001b[0mfact_N\u001b[0m\u001b[1;33m*\u001b[0m\u001b[0mi\u001b[0m\u001b[1;33m\u001b[0m\u001b[1;33m\u001b[0m\u001b[0m\n\u001b[1;32m----> 6\u001b[1;33m     \u001b[1;32mreturn\u001b[0m \u001b[0mfact\u001b[0m\u001b[1;33m(\u001b[0m\u001b[1;36m5\u001b[0m\u001b[1;33m)\u001b[0m\u001b[1;33m\u001b[0m\u001b[1;33m\u001b[0m\u001b[0m\n\u001b[0m\u001b[0;32m      7\u001b[0m \u001b[1;33m\u001b[0m\u001b[0m\n\u001b[0;32m      8\u001b[0m \u001b[1;31m# def hello():\u001b[0m\u001b[1;33m\u001b[0m\u001b[1;33m\u001b[0m\u001b[1;33m\u001b[0m\u001b[0m\n",
      "\u001b[1;31mRecursionError\u001b[0m: maximum recursion depth exceeded in comparison"
     ]
    }
   ],
   "source": [
    "fact(4)"
   ]
  },
  {
   "cell_type": "code",
   "execution_count": 22,
   "metadata": {},
   "outputs": [],
   "source": [
    "def fact(a,b):\n",
    "    x=a+b\n",
    "    return x"
   ]
  },
  {
   "cell_type": "markdown",
   "metadata": {},
   "source": [
    "# cheking whether a no. is prime or not"
   ]
  },
  {
   "cell_type": "code",
   "execution_count": 54,
   "metadata": {},
   "outputs": [],
   "source": [
    "# defining function \n",
    "def isPrime():\n",
    "    for i in range(2,N):\n",
    "        if N%i==0:\n",
    "            print(N,\"is a prime No.\")\n",
    "            break\n",
    "    else:\n",
    "        print(N,\"is not a prime no.\")\n",
    "    return\n"
   ]
  },
  {
   "cell_type": "code",
   "execution_count": 52,
   "metadata": {},
   "outputs": [
    {
     "name": "stdout",
     "output_type": "stream",
     "text": [
      "enter a no. whose primtivity you wanna to check55\n",
      "55 is a prime No.\n"
     ]
    }
   ],
   "source": [
    "isPrime(int(input(\"enter a no. whose primtivity you wanna to check\")))"
   ]
  },
  {
   "cell_type": "code",
   "execution_count": 42,
   "metadata": {},
   "outputs": [],
   "source": [
    "# checking whether a no. is odd or even:\n",
    "def isEven(N):\n",
    "    if N%2==0:\n",
    "        print(\"even\")\n",
    "    else:\n",
    "        print(\"odd\")\n",
    "    return \"Task Completed\"\n",
    "\n"
   ]
  },
  {
   "cell_type": "code",
   "execution_count": 43,
   "metadata": {},
   "outputs": [
    {
     "name": "stdout",
     "output_type": "stream",
     "text": [
      "even\n"
     ]
    },
    {
     "data": {
      "text/plain": [
       "'Task Completed'"
      ]
     },
     "execution_count": 43,
     "metadata": {},
     "output_type": "execute_result"
    }
   ],
   "source": [
    "isEven(10)"
   ]
  },
  {
   "cell_type": "markdown",
   "metadata": {},
   "source": [
    "# printing all prime no's upto n"
   ]
  },
  {
   "cell_type": "code",
   "execution_count": 59,
   "metadata": {},
   "outputs": [],
   "source": [
    "# defining function\n",
    "def allPrime(x):\n",
    "    for i in range(2,x+1):\n",
    "        for j in range(2,i):\n",
    "            if i%j==0:\n",
    "                break\n",
    "        else:\n",
    "            print(i,end=\" \")\n",
    "    return"
   ]
  },
  {
   "cell_type": "code",
   "execution_count": 60,
   "metadata": {},
   "outputs": [
    {
     "name": "stdout",
     "output_type": "stream",
     "text": [
      "enter a no.5\n",
      "2 3 5 "
     ]
    }
   ],
   "source": [
    "allPrime(int(input(\"enter a no.\")))"
   ]
  },
  {
   "cell_type": "code",
   "execution_count": 64,
   "metadata": {},
   "outputs": [
    {
     "name": "stdout",
     "output_type": "stream",
     "text": [
      "10\n",
      "11\n"
     ]
    }
   ],
   "source": [
    "a=11\n",
    "def f():\n",
    "    a=10\n",
    "    print(a)\n",
    "    return a\n",
    "f()\n",
    "print(a) # the value of a is still 11, in order to acess the value of local variabe a we have to save it somewhere\n",
    "         # when we are calling it. (we can save this value only because we used the return keyword to return it.)\n",
    "        # x=f(), print(x)"
   ]
  },
  {
   "cell_type": "code",
   "execution_count": 70,
   "metadata": {},
   "outputs": [
    {
     "name": "stdout",
     "output_type": "stream",
     "text": [
      "a1 = 10 b1 = 20 c1 = 30\n",
      "a = 11 b = 21 c = 31\n",
      "a1 = 11 b1 = 21 c1 = 31\n"
     ]
    }
   ],
   "source": [
    "a=10\n",
    "b=20\n",
    "c=30\n",
    "print(\"a1 =\",a,\"b1 =\",b,\"c1 =\",c)\n",
    "def f():\n",
    "    global a,b,c\n",
    "    a=11\n",
    "    b=21\n",
    "    c=31\n",
    "    print(\"a =\",a,\"b =\",b,\"c =\",c)\n",
    "f()\n",
    "print(\"a1 =\",a,\"b1 =\",b,\"c1 =\",c)\n"
   ]
  },
  {
   "cell_type": "markdown",
   "metadata": {},
   "source": [
    "# non local keyword"
   ]
  },
  {
   "cell_type": "code",
   "execution_count": 74,
   "metadata": {},
   "outputs": [
    {
     "name": "stdout",
     "output_type": "stream",
     "text": [
      "100\n",
      "1-----x 10\n",
      "2----x 50\n"
     ]
    }
   ],
   "source": [
    "def f():\n",
    "    x=10\n",
    "    print(\"1-----x\",x)  # here this statement will print the value of local variable x which is created inside the f() function\n",
    "    def foo():\n",
    "        nonlocal x\n",
    "        x=50\n",
    "        print(\"2----x\",x)  # here this statement will print the value of local variable x which is created inside the foo() function\n",
    "x=100\n",
    "print(x)    # here this print statment will print the value of global x\n",
    "f()\n",
    "foo()"
   ]
  },
  {
   "cell_type": "markdown",
   "metadata": {},
   "source": [
    "# defining one function inside another one"
   ]
  },
  {
   "cell_type": "code",
   "execution_count": null,
   "metadata": {},
   "outputs": [],
   "source": [
    "# we can use the nonlocal keyword only inside the nested functions\n",
    "def f():\n",
    "    x=10\n",
    "    print(\"1-----x\",x)  # here this statement will print the value of local variable x which is created inside the f() function\n",
    "    def foo():          # here foo() function ic defined inside the function f()\n",
    "        x=50\n",
    "        print(\"2----x\",x)  # here this statement will print the value of local variable x which is created inside the foo() function\n",
    "x=100\n",
    "print(x)    # here this print statment will print the value of global x\n",
    "f()\n",
    "foo()\n",
    "\n",
    "# we can use the nonlocal keyword only inside the nested functions\n",
    "def f():\n",
    "    x=10\n",
    "    print(\"1-----x\",x)  # here this statement will print the value of local variable x which is created inside the f() function\n",
    "    def foo():  # here foo() function ic defined inside the function f()\n",
    "        nonlocal x\n",
    "        x=50 # now whenever we us the variable name x it will be refered as the variable x which is defined inside the function\n",
    "        print(\"2----x\",x)  # here this statement will print the value of local variable x which is created inside the f() function\n",
    "x=100\n",
    "print(x)    # here this print statment will print the value of global x\n",
    "f()\n",
    "foo()"
   ]
  },
  {
   "cell_type": "code",
   "execution_count": 75,
   "metadata": {},
   "outputs": [
    {
     "ename": "SyntaxError",
     "evalue": "no binding for nonlocal 'x' found (<ipython-input-75-edbc50c5d03a>, line 6)",
     "output_type": "error",
     "traceback": [
      "\u001b[1;36m  File \u001b[1;32m\"<ipython-input-75-edbc50c5d03a>\"\u001b[1;36m, line \u001b[1;32m6\u001b[0m\n\u001b[1;33m    nonlocal x # here foo() function ic defined inside the function f()\u001b[0m\n\u001b[1;37m    ^\u001b[0m\n\u001b[1;31mSyntaxError\u001b[0m\u001b[1;31m:\u001b[0m no binding for nonlocal 'x' found\n"
     ]
    }
   ],
   "source": [
    "# we can use the nonlocal keyword only inside the nested functions\n",
    "def f():\n",
    "    x=10\n",
    "    print(\"1-----x\",x)  # here this statement will print the value of local variable x which is created inside the f() function\n",
    "def foo():              # here foo() function is not defined inside the function f()  \n",
    "    nonlocal x\n",
    "    x=50\n",
    "    print(\"2----x\",x)  # here this statement will print the value of local variable x which is created inside the foo() function\n",
    "x=100\n",
    "print(x)    # here this print statment will print the value of global x\n",
    "f()\n",
    "foo()"
   ]
  },
  {
   "cell_type": "code",
   "execution_count": 79,
   "metadata": {},
   "outputs": [
    {
     "name": "stdout",
     "output_type": "stream",
     "text": [
      "(2, 3, 1)\n"
     ]
    }
   ],
   "source": [
    "def f(a,b,c):\n",
    "    return a,b,c\n",
    "x=f(2,3,1)   # what is actually happening here?\n",
    "print(x)    "
   ]
  },
  {
   "cell_type": "markdown",
   "metadata": {},
   "source": [
    "# creating the functions with default parameter"
   ]
  },
  {
   "cell_type": "code",
   "execution_count": 87,
   "metadata": {},
   "outputs": [
    {
     "name": "stdout",
     "output_type": "stream",
     "text": [
      "only two aruments are passed 10\n",
      "three arguments are passed 14\n",
      "all of the four arguments are passed 16\n",
      "1\n",
      "13\n"
     ]
    }
   ],
   "source": [
    "# lets create a function which can take 2, 3, 4 arguments and if only two arguments are provided then the rest will be considered with their default values\n",
    "\n",
    "# sum function\n",
    "def sum(a,b,c=0,d=5):\n",
    "    return a+b+c+d\n",
    "print(\"only two aruments are passed\",sum(2,3)) # here the argument variable c and d are added with their default values to the variable a and b\n",
    "print(\"three arguments are passed\",sum(2,3,4))\n",
    "print(\"all of the four arguments are passed\",sum(2,3,4,7))\n",
    "\n",
    "# explicity defining which no. has to be assigned to whch argument variable\n",
    "def sub(a,b,c=5,d=8):\n",
    "    return a+b-c+d\n",
    "print(sub(a=2,b=7,c=9,d=1))\n",
    "print(sub(a=2,b=7,d=9)) # it is possible to left any variable while explicitly definng them as here c is not assigned anything\n",
    "print(sum())"
   ]
  },
  {
   "cell_type": "code",
   "execution_count": 93,
   "metadata": {},
   "outputs": [
    {
     "ename": "SyntaxError",
     "evalue": "invalid syntax (<ipython-input-93-7382205ed35c>, line 1)",
     "output_type": "error",
     "traceback": [
      "\u001b[1;36m  File \u001b[1;32m\"<ipython-input-93-7382205ed35c>\"\u001b[1;36m, line \u001b[1;32m1\u001b[0m\n\u001b[1;33m    def 1print(a,b,c):\u001b[0m\n\u001b[1;37m        ^\u001b[0m\n\u001b[1;31mSyntaxError\u001b[0m\u001b[1;31m:\u001b[0m invalid syntax\n"
     ]
    }
   ],
   "source": [
    "def print(a,b,c):\n",
    "    return a+c-b\n",
    "print(2,3,4)        "
   ]
  },
  {
   "cell_type": "code",
   "execution_count": 2,
   "metadata": {},
   "outputs": [
    {
     "name": "stdout",
     "output_type": "stream",
     "text": [
      "ram\n",
      "great\n"
     ]
    }
   ],
   "source": [
    "def hello():\n",
    "    print   # why it is not showing me an syntax error? # python will not consider untill anything is passed to the print statement\n",
    "print(\"ram\")\n",
    "hello()\n",
    "print(\"great\")"
   ]
  },
  {
   "cell_type": "markdown",
   "metadata": {},
   "source": [
    "# Assignments"
   ]
  },
  {
   "cell_type": "code",
   "execution_count": 11,
   "metadata": {},
   "outputs": [
    {
     "name": "stdout",
     "output_type": "stream",
     "text": [
      "start value 29\n",
      "end value 221\n",
      "step width 55\n",
      "cel \t faren\n",
      "29 \t -1\n",
      "84 \t 28\n",
      "139 \t 59\n",
      "194 \t 90\n"
     ]
    }
   ],
   "source": [
    "# function for farenheit to celsius conversion table within a given specified range entered by the user\n",
    "\n",
    "def printTable(start,end,step):\n",
    "    print(\"cel \\t faren\")\n",
    "    for i in range(start,end+1,step):\n",
    "        celsius=int((i-32)*5/9)\n",
    "        print(i,\"\\t\",celsius)\n",
    "\n",
    "s = int(input(\"start value \"))\n",
    "e = int(input(\"end value \"))\n",
    "step = int(input(\"step width \"))\n",
    "printTable(s,e,step)\n"
   ]
  },
  {
   "cell_type": "code",
   "execution_count": 17,
   "metadata": {},
   "outputs": [
    {
     "name": "stdout",
     "output_type": "stream",
     "text": [
      "enter a no.55\n",
      "True\n"
     ]
    }
   ],
   "source": [
    "# defining a function to check whether a no. is a member of fibonacci sequence or not\n",
    "def check_fiboo(n):\n",
    "    x=(5*n**2+4)**0.5\n",
    "    y=(5*n**2-4)**0.5\n",
    "    if x*x==5*n**2+4 or y*y==5*n**2-4:\n",
    "        return True\n",
    "    else:\n",
    "        return False\n",
    "print(check_fiboo(int(input(\"enter a no.\"))))\n",
    "    "
   ]
  },
  {
   "cell_type": "code",
   "execution_count": 12,
   "metadata": {},
   "outputs": [
    {
     "name": "stdout",
     "output_type": "stream",
     "text": [
      "55\n",
      "55\n"
     ]
    }
   ],
   "source": [
    "print(int(input()))"
   ]
  },
  {
   "cell_type": "code",
   "execution_count": 35,
   "metadata": {},
   "outputs": [
    {
     "name": "stdout",
     "output_type": "stream",
     "text": [
      "enter a no.5\n",
      "True\n"
     ]
    }
   ],
   "source": [
    "# defining a function to check whether a no. is parlindrome or not\n",
    "# parlindrome are those no. whose rverse is equal to theself\n",
    "def isParlindrome(num):\n",
    "    rev=0\n",
    "    num=n\n",
    "    while num>0:\n",
    "        rev=(rev*10)+num%10\n",
    "        num=num//10\n",
    "        print(\"num\",num,\"reverse\",rev)\n",
    "    if rev==n:\n",
    "        return True\n",
    "    else:\n",
    "        return False\n",
    "print(isParlindrome(int(input(\"enter a no.\"))))"
   ]
  },
  {
   "cell_type": "code",
   "execution_count": 41,
   "metadata": {},
   "outputs": [
    {
     "name": "stdout",
     "output_type": "stream",
     "text": [
      "5\n",
      "1\n",
      "5\n",
      "true\n"
     ]
    }
   ],
   "source": [
    "# checking whether a no. is armstrong no. or not\n",
    "# An Armstrong number is a number (with digits n) such that the sum of its digits raised to nth power is equal to the number itself.\n",
    "# For example,\n",
    "# 371, as 3^3 + 7^3 + 1^3 = 371\n",
    "# 1634, as 1^4 + 6^4 + 3^4 + 4^4 = 1634\n",
    "def total_digit(n):\n",
    "    count=1\n",
    "    while n>0:\n",
    "        n=n//10\n",
    "        count=count+1\n",
    "    return count-1\n",
    "def isArmstrong(y):\n",
    "    num=0\n",
    "    while y>0:\n",
    "        z=y%10\n",
    "        num=num+z**x\n",
    "        y=y//10\n",
    "    return num\n",
    "N=int(input())\n",
    "x=total_digit(N)\n",
    "print(x)\n",
    "p=isArmstrong(N)\n",
    "print(p)\n",
    "if N==p:\n",
    "    print(\"true\")\n",
    "else:\n",
    "    print(\"false\")"
   ]
  },
  {
   "cell_type": "code",
   "execution_count": 1,
   "metadata": {},
   "outputs": [
    {
     "name": "stdout",
     "output_type": "stream",
     "text": [
      "enter a no.4\n",
      "x 9.16515138991168\n",
      "x1 84.0\n",
      "y 8.717797887081348\n",
      "y1 76.00000000000001\n",
      "true\n"
     ]
    }
   ],
   "source": [
    "def checkMember(n):\n",
    "    x=(5*n**2+4)**0.5\n",
    "    y=(5*n**2-4)**0.5\n",
    "    print(\"x\",x)\n",
    "    print(\"x1\",x*x)\n",
    "    print(\"y\",y)\n",
    "    print(\"y1\",y*y)\n",
    "    if x*x==5*n**2+4 or y*y==5*n**2-4:\n",
    "        return True\n",
    "    else:\n",
    "        return False\n",
    "n=int(input(\"enter a no.\"))\n",
    "if(checkMember(n)):\n",
    "    print(\"true\")\n",
    "else:\n",
    "    print(\"false\")"
   ]
  },
  {
   "cell_type": "code",
   "execution_count": 1,
   "metadata": {},
   "outputs": [
    {
     "name": "stdout",
     "output_type": "stream",
     "text": [
      "5\n",
      "3\n"
     ]
    },
    {
     "ename": "RecursionError",
     "evalue": "maximum recursion depth exceeded",
     "output_type": "error",
     "traceback": [
      "\u001b[1;31m---------------------------------------------------------------------------\u001b[0m",
      "\u001b[1;31mRecursionError\u001b[0m                            Traceback (most recent call last)",
      "\u001b[1;32m<ipython-input-1-84ad1c600ab9>\u001b[0m in \u001b[0;36m<module>\u001b[1;34m\u001b[0m\n\u001b[0;32m      4\u001b[0m     \u001b[1;32mreturn\u001b[0m \u001b[0mfunction\u001b[0m\u001b[1;33m(\u001b[0m\u001b[0ma\u001b[0m\u001b[1;33m,\u001b[0m\u001b[0mb\u001b[0m\u001b[1;33m)\u001b[0m\u001b[1;33m\u001b[0m\u001b[1;33m\u001b[0m\u001b[0m\n\u001b[0;32m      5\u001b[0m \u001b[0mN\u001b[0m\u001b[1;33m,\u001b[0m\u001b[0mN1\u001b[0m\u001b[1;33m=\u001b[0m\u001b[0mint\u001b[0m\u001b[1;33m(\u001b[0m\u001b[0minput\u001b[0m\u001b[1;33m(\u001b[0m\u001b[1;33m)\u001b[0m\u001b[1;33m)\u001b[0m\u001b[1;33m,\u001b[0m\u001b[0mint\u001b[0m\u001b[1;33m(\u001b[0m\u001b[0minput\u001b[0m\u001b[1;33m(\u001b[0m\u001b[1;33m)\u001b[0m\u001b[1;33m)\u001b[0m\u001b[1;33m\u001b[0m\u001b[1;33m\u001b[0m\u001b[0m\n\u001b[1;32m----> 6\u001b[1;33m \u001b[0mprint\u001b[0m\u001b[1;33m(\u001b[0m\u001b[0mfunction\u001b[0m\u001b[1;33m(\u001b[0m\u001b[0mN\u001b[0m\u001b[1;33m,\u001b[0m\u001b[0mN1\u001b[0m\u001b[1;33m)\u001b[0m\u001b[1;33m)\u001b[0m\u001b[1;33m\u001b[0m\u001b[1;33m\u001b[0m\u001b[0m\n\u001b[0m",
      "\u001b[1;32m<ipython-input-1-84ad1c600ab9>\u001b[0m in \u001b[0;36mfunction\u001b[1;34m(a, b)\u001b[0m\n\u001b[0;32m      2\u001b[0m     \u001b[0ma\u001b[0m\u001b[1;33m=\u001b[0m\u001b[0ma\u001b[0m\u001b[1;33m-\u001b[0m\u001b[0mb\u001b[0m\u001b[1;33m\u001b[0m\u001b[1;33m\u001b[0m\u001b[0m\n\u001b[0;32m      3\u001b[0m     \u001b[0mb\u001b[0m\u001b[1;33m=\u001b[0m\u001b[0ma\u001b[0m\u001b[1;33m+\u001b[0m\u001b[0mb\u001b[0m\u001b[1;33m\u001b[0m\u001b[1;33m\u001b[0m\u001b[0m\n\u001b[1;32m----> 4\u001b[1;33m     \u001b[1;32mreturn\u001b[0m \u001b[0mfunction\u001b[0m\u001b[1;33m(\u001b[0m\u001b[0ma\u001b[0m\u001b[1;33m,\u001b[0m\u001b[0mb\u001b[0m\u001b[1;33m)\u001b[0m\u001b[1;33m\u001b[0m\u001b[1;33m\u001b[0m\u001b[0m\n\u001b[0m\u001b[0;32m      5\u001b[0m \u001b[0mN\u001b[0m\u001b[1;33m,\u001b[0m\u001b[0mN1\u001b[0m\u001b[1;33m=\u001b[0m\u001b[0mint\u001b[0m\u001b[1;33m(\u001b[0m\u001b[0minput\u001b[0m\u001b[1;33m(\u001b[0m\u001b[1;33m)\u001b[0m\u001b[1;33m)\u001b[0m\u001b[1;33m,\u001b[0m\u001b[0mint\u001b[0m\u001b[1;33m(\u001b[0m\u001b[0minput\u001b[0m\u001b[1;33m(\u001b[0m\u001b[1;33m)\u001b[0m\u001b[1;33m)\u001b[0m\u001b[1;33m\u001b[0m\u001b[1;33m\u001b[0m\u001b[0m\n\u001b[0;32m      6\u001b[0m \u001b[0mprint\u001b[0m\u001b[1;33m(\u001b[0m\u001b[0mfunction\u001b[0m\u001b[1;33m(\u001b[0m\u001b[0mN\u001b[0m\u001b[1;33m,\u001b[0m\u001b[0mN1\u001b[0m\u001b[1;33m)\u001b[0m\u001b[1;33m)\u001b[0m\u001b[1;33m\u001b[0m\u001b[1;33m\u001b[0m\u001b[0m\n",
      "... last 1 frames repeated, from the frame below ...\n",
      "\u001b[1;32m<ipython-input-1-84ad1c600ab9>\u001b[0m in \u001b[0;36mfunction\u001b[1;34m(a, b)\u001b[0m\n\u001b[0;32m      2\u001b[0m     \u001b[0ma\u001b[0m\u001b[1;33m=\u001b[0m\u001b[0ma\u001b[0m\u001b[1;33m-\u001b[0m\u001b[0mb\u001b[0m\u001b[1;33m\u001b[0m\u001b[1;33m\u001b[0m\u001b[0m\n\u001b[0;32m      3\u001b[0m     \u001b[0mb\u001b[0m\u001b[1;33m=\u001b[0m\u001b[0ma\u001b[0m\u001b[1;33m+\u001b[0m\u001b[0mb\u001b[0m\u001b[1;33m\u001b[0m\u001b[1;33m\u001b[0m\u001b[0m\n\u001b[1;32m----> 4\u001b[1;33m     \u001b[1;32mreturn\u001b[0m \u001b[0mfunction\u001b[0m\u001b[1;33m(\u001b[0m\u001b[0ma\u001b[0m\u001b[1;33m,\u001b[0m\u001b[0mb\u001b[0m\u001b[1;33m)\u001b[0m\u001b[1;33m\u001b[0m\u001b[1;33m\u001b[0m\u001b[0m\n\u001b[0m\u001b[0;32m      5\u001b[0m \u001b[0mN\u001b[0m\u001b[1;33m,\u001b[0m\u001b[0mN1\u001b[0m\u001b[1;33m=\u001b[0m\u001b[0mint\u001b[0m\u001b[1;33m(\u001b[0m\u001b[0minput\u001b[0m\u001b[1;33m(\u001b[0m\u001b[1;33m)\u001b[0m\u001b[1;33m)\u001b[0m\u001b[1;33m,\u001b[0m\u001b[0mint\u001b[0m\u001b[1;33m(\u001b[0m\u001b[0minput\u001b[0m\u001b[1;33m(\u001b[0m\u001b[1;33m)\u001b[0m\u001b[1;33m)\u001b[0m\u001b[1;33m\u001b[0m\u001b[1;33m\u001b[0m\u001b[0m\n\u001b[0;32m      6\u001b[0m \u001b[0mprint\u001b[0m\u001b[1;33m(\u001b[0m\u001b[0mfunction\u001b[0m\u001b[1;33m(\u001b[0m\u001b[0mN\u001b[0m\u001b[1;33m,\u001b[0m\u001b[0mN1\u001b[0m\u001b[1;33m)\u001b[0m\u001b[1;33m)\u001b[0m\u001b[1;33m\u001b[0m\u001b[1;33m\u001b[0m\u001b[0m\n",
      "\u001b[1;31mRecursionError\u001b[0m: maximum recursion depth exceeded"
     ]
    }
   ],
   "source": [
    "def function(a,b):\n",
    "    a=a-b\n",
    "    b=a+b\n",
    "    return function(a,b)\n",
    "N,N1=int(input()),int(input())\n",
    "print(function(N,N1))"
   ]
  }
 ],
 "metadata": {
  "kernelspec": {
   "display_name": "Python 3",
   "language": "python",
   "name": "python3"
  },
  "language_info": {
   "codemirror_mode": {
    "name": "ipython",
    "version": 3
   },
   "file_extension": ".py",
   "mimetype": "text/x-python",
   "name": "python",
   "nbconvert_exporter": "python",
   "pygments_lexer": "ipython3",
   "version": "3.7.4"
  }
 },
 "nbformat": 4,
 "nbformat_minor": 2
}
